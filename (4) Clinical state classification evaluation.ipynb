{
 "cells": [
  {
   "cell_type": "markdown",
   "metadata": {},
   "source": [
    "# ***Who Grade Binary Classification Evaluation***\n",
    "\n",
    "This notebook shows the process of further evaluating the classification of samples into binary who grade (high grade, low grade)."
   ]
  },
  {
   "cell_type": "markdown",
   "metadata": {},
   "source": [
    "### ***Import packages***\n",
    "\n",
    "Before we begin, let's import all the necessary packages for this notebook:"
   ]
  },
  {
   "cell_type": "code",
   "execution_count": 4,
   "metadata": {},
   "outputs": [],
   "source": [
    "import random\n",
    "import pandas as pd\n",
    "import numpy as np\n",
    "import seaborn as sns\n",
    "from matplotlib import pyplot as plt\n",
    "from sklearn import metrics as s_metrics\n",
    "from sklearn.dummy import DummyClassifier\n",
    "\n",
    "# Define default font size\n",
    "plt.rcParams.update({'font.size': 12})"
   ]
  },
  {
   "cell_type": "markdown",
   "metadata": {},
   "source": [
    "### ***Consistency***\n",
    "Next, let's make sure notebook is not random:"
   ]
  },
  {
   "cell_type": "code",
   "execution_count": 5,
   "metadata": {},
   "outputs": [],
   "source": [
    "SEED = 42\n",
    "random.seed(SEED)\n",
    "np.random.seed(SEED)"
   ]
  },
  {
   "cell_type": "markdown",
   "metadata": {},
   "source": [
    "### ***Constants definitions***\n",
    "\n",
    "Next, let's define some constant variables for this notebook:"
   ]
  },
  {
   "cell_type": "code",
   "execution_count": 6,
   "metadata": {},
   "outputs": [],
   "source": [
    "# Define path that contains the dhg dataset\n",
    "DHG_PATH = \"./DHG/\"\n",
    "# Define path that contains dhg metadata\n",
    "METADATA_PATH = f\"{DHG_PATH}/metadata.csv\"\n",
    "# Define path to classification results\n",
    "CLASSIFICATION__RESULT_PATH = (\n",
    "    \"../Results/binary_who_grade_classification/\"\n",
    "    \"With scaling (min-max)/600 900\"\n",
    ")"
   ]
  },
  {
   "cell_type": "markdown",
   "id": "55c71392-9354-46f8-93d3-d1298fab3820",
   "metadata": {
    "tags": []
   },
   "source": [
    "### ***Reading MSI metadata file***\n",
    "\n",
    "Next, let's read the metadata file:"
   ]
  },
  {
   "cell_type": "code",
   "execution_count": 7,
   "id": "33f91fd0-b6c6-4965-ad0c-180fbd1c74bc",
   "metadata": {
    "tags": []
   },
   "outputs": [],
   "source": [
    "# Read meta data csv\n",
    "metadata_df = pd.read_csv(METADATA_PATH)\n",
    "\n",
    "# Define binary classification label\n",
    "metadata_df[\"label\"] = (metadata_df[\"who_grade\"] > 2).astype(int)\n",
    "\n",
    "# Separate section and replica\n",
    "s_metadata_df = metadata_df[metadata_df.sample_type == \"section\"]\n",
    "r_metadata_df = metadata_df[metadata_df.sample_type == \"replica\"]"
   ]
  },
  {
   "cell_type": "markdown",
   "metadata": {},
   "source": [
    "### ***Baseline models***\n",
    "\n",
    "Next, let's see classification results from baseline models. We start from majority/minority vote:"
   ]
  },
  {
   "cell_type": "code",
   "execution_count": 8,
   "metadata": {},
   "outputs": [
    {
     "name": "stderr",
     "output_type": "stream",
     "text": [
      "c:\\Users\\Leor\\anaconda3\\envs\\tf_gpu_jup\\lib\\site-packages\\sklearn\\metrics\\_classification.py:1334: UndefinedMetricWarning: Precision is ill-defined and being set to 0.0 due to no predicted samples. Use `zero_division` parameter to control this behavior.\n",
      "  _warn_prf(average, modifier, msg_start, len(result))\n",
      "c:\\Users\\Leor\\anaconda3\\envs\\tf_gpu_jup\\lib\\site-packages\\sklearn\\metrics\\_classification.py:1334: UndefinedMetricWarning: Precision is ill-defined and being set to 0.0 due to no predicted samples. Use `zero_division` parameter to control this behavior.\n",
      "  _warn_prf(average, modifier, msg_start, len(result))\n"
     ]
    },
    {
     "data": {
      "text/html": [
       "<div>\n",
       "<style scoped>\n",
       "    .dataframe tbody tr th:only-of-type {\n",
       "        vertical-align: middle;\n",
       "    }\n",
       "\n",
       "    .dataframe tbody tr th {\n",
       "        vertical-align: top;\n",
       "    }\n",
       "\n",
       "    .dataframe thead th {\n",
       "        text-align: right;\n",
       "    }\n",
       "</style>\n",
       "<table border=\"1\" class=\"dataframe\">\n",
       "  <thead>\n",
       "    <tr style=\"text-align: right;\">\n",
       "      <th></th>\n",
       "      <th>Accuracy</th>\n",
       "      <th>Balanced Accuracy</th>\n",
       "      <th>Precision</th>\n",
       "      <th>Recall</th>\n",
       "      <th>F1-Score</th>\n",
       "      <th>ROC-AUC</th>\n",
       "      <th>Average Precision</th>\n",
       "    </tr>\n",
       "  </thead>\n",
       "  <tbody>\n",
       "    <tr>\n",
       "      <th>Section majority Class</th>\n",
       "      <td>0.64</td>\n",
       "      <td>0.5</td>\n",
       "      <td>0.64</td>\n",
       "      <td>1.0</td>\n",
       "      <td>0.78</td>\n",
       "      <td>0.5</td>\n",
       "      <td>0.64</td>\n",
       "    </tr>\n",
       "    <tr>\n",
       "      <th>Replica majority Class</th>\n",
       "      <td>0.60</td>\n",
       "      <td>0.5</td>\n",
       "      <td>0.60</td>\n",
       "      <td>1.0</td>\n",
       "      <td>0.75</td>\n",
       "      <td>0.5</td>\n",
       "      <td>0.60</td>\n",
       "    </tr>\n",
       "    <tr>\n",
       "      <th>Section minority Class</th>\n",
       "      <td>0.36</td>\n",
       "      <td>0.5</td>\n",
       "      <td>0.00</td>\n",
       "      <td>0.0</td>\n",
       "      <td>0.00</td>\n",
       "      <td>0.5</td>\n",
       "      <td>0.64</td>\n",
       "    </tr>\n",
       "    <tr>\n",
       "      <th>replica minority Class</th>\n",
       "      <td>0.40</td>\n",
       "      <td>0.5</td>\n",
       "      <td>0.00</td>\n",
       "      <td>0.0</td>\n",
       "      <td>0.00</td>\n",
       "      <td>0.5</td>\n",
       "      <td>0.60</td>\n",
       "    </tr>\n",
       "  </tbody>\n",
       "</table>\n",
       "</div>"
      ],
      "text/plain": [
       "                        Accuracy  Balanced Accuracy  Precision  Recall  \\\n",
       "Section majority Class      0.64                0.5       0.64     1.0   \n",
       "Replica majority Class      0.60                0.5       0.60     1.0   \n",
       "Section minority Class      0.36                0.5       0.00     0.0   \n",
       "replica minority Class      0.40                0.5       0.00     0.0   \n",
       "\n",
       "                        F1-Score  ROC-AUC  Average Precision  \n",
       "Section majority Class      0.78      0.5               0.64  \n",
       "Replica majority Class      0.75      0.5               0.60  \n",
       "Section minority Class      0.00      0.5               0.64  \n",
       "replica minority Class      0.00      0.5               0.60  "
      ]
     },
     "execution_count": 8,
     "metadata": {},
     "output_type": "execute_result"
    }
   ],
   "source": [
    "# Create metric list to store values\n",
    "metrics = []\n",
    "\n",
    "# Loop over dummy strategies\n",
    "for strategy in [\"most_frequent\", \"constant\"]:\n",
    "  # Loop over section/replica\n",
    "  for loop_metadata_df in [s_metadata_df, r_metadata_df]:\n",
    "    # Dont affect original data frame\n",
    "    loop_metadata_df = loop_metadata_df.copy()\n",
    "\n",
    "    # Initialize prediction column\n",
    "    loop_metadata_df[\"prediction\"] = -1\n",
    "\n",
    "    # Leave one image out\n",
    "    for exclude_image, group in loop_metadata_df.groupby(\"file_name\"):\n",
    "      # Get all spectra's in the exclude_image to exclude them - Leave one\n",
    "      # image out\n",
    "      exclude_images = loop_metadata_df[\"file_name\"].isin(\n",
    "          group.file_name.to_list()\n",
    "      )\n",
    "\n",
    "      # Get all spectra's that are from the same patient as patients in\n",
    "      # exclude_image - Leave one patient out\n",
    "      exclude_patients = loop_metadata_df[\"sample_number\"].isin(\n",
    "          group.sample_number.to_list()\n",
    "      )\n",
    "\n",
    "      # Get train data\n",
    "      X_train = loop_metadata_df.loc[~(exclude_images | exclude_patients),\n",
    "                                     loop_metadata_df.columns != \"label\"]\n",
    "      y_train = loop_metadata_df.loc[~(exclude_images | exclude_patients),\n",
    "                                     \"label\"]\n",
    "\n",
    "      # Get test data\n",
    "      X_test = loop_metadata_df.loc[exclude_images,\n",
    "                                    loop_metadata_df.columns != \"label\"]\n",
    "      y_test = loop_metadata_df.loc[exclude_images, \"label\"]\n",
    "\n",
    "      # Get minority class\n",
    "      minority_class = 0 if (y_train == 0).sum() < (y_train == 1).sum() else 1\n",
    "\n",
    "      # Train dummy classifier on train data\n",
    "      clf = DummyClassifier(\n",
    "          strategy=strategy, random_state=SEED, constant=minority_class\n",
    "      ).fit(X_train, y_train)\n",
    "\n",
    "      # Predict on test data\n",
    "      loop_metadata_df.loc[exclude_images, \"prediction\"] = clf.predict(X_test)\n",
    "\n",
    "    # Calculate Roc Curve\n",
    "    fpr, tpr, thresholds = s_metrics.roc_curve(\n",
    "        loop_metadata_df.label, loop_metadata_df.prediction\n",
    "    )\n",
    "\n",
    "    # Append all metrics to list\n",
    "    metrics.append(\n",
    "        [\n",
    "            round(\n",
    "                s_metrics.accuracy_score(\n",
    "                    loop_metadata_df.label, loop_metadata_df.prediction\n",
    "                ), 3\n",
    "            ),\n",
    "            round(\n",
    "                s_metrics.balanced_accuracy_score(\n",
    "                    loop_metadata_df.label, loop_metadata_df.prediction\n",
    "                ), 3\n",
    "            ),\n",
    "            round(\n",
    "                s_metrics.precision_score(\n",
    "                    loop_metadata_df.label, loop_metadata_df.prediction\n",
    "                ), 3\n",
    "            ),\n",
    "            round(\n",
    "                s_metrics.recall_score(\n",
    "                    loop_metadata_df.label, loop_metadata_df.prediction\n",
    "                ), 3\n",
    "            ),\n",
    "            round(\n",
    "                s_metrics.f1_score(\n",
    "                    loop_metadata_df.label, loop_metadata_df.prediction\n",
    "                ), 3\n",
    "            ),\n",
    "            round(s_metrics.auc(fpr, tpr), 3),\n",
    "            round(\n",
    "                s_metrics.average_precision_score(\n",
    "                    loop_metadata_df.label, loop_metadata_df.prediction\n",
    "                ), 3\n",
    "            )\n",
    "        ]\n",
    "    )\n",
    "\n",
    "# Print dummy baseline metrics\n",
    "pd.DataFrame(\n",
    "    metrics, index=[\n",
    "        \"Section majority Class\", \"Replica majority Class\",\n",
    "        \"Section minority Class\", \"replica minority Class\"\n",
    "    ], columns=[\n",
    "        \"Accuracy\", \"Balanced Accuracy\", \"Precision\", \"Recall\", \"F1-Score\",\n",
    "        \"ROC-AUC\", \"Average Precision\"\n",
    "    ]\n",
    ")"
   ]
  },
  {
   "cell_type": "markdown",
   "metadata": {},
   "source": [
    "Next, let's use binomial sampling as a baseline:"
   ]
  },
  {
   "cell_type": "code",
   "execution_count": 9,
   "metadata": {},
   "outputs": [
    {
     "data": {
      "text/html": [
       "<div>\n",
       "<style scoped>\n",
       "    .dataframe tbody tr th:only-of-type {\n",
       "        vertical-align: middle;\n",
       "    }\n",
       "\n",
       "    .dataframe tbody tr th {\n",
       "        vertical-align: top;\n",
       "    }\n",
       "\n",
       "    .dataframe thead th {\n",
       "        text-align: right;\n",
       "    }\n",
       "</style>\n",
       "<table border=\"1\" class=\"dataframe\">\n",
       "  <thead>\n",
       "    <tr style=\"text-align: right;\">\n",
       "      <th></th>\n",
       "      <th>Accuracy</th>\n",
       "      <th>Balanced Accuracy</th>\n",
       "      <th>Precision</th>\n",
       "      <th>Recall</th>\n",
       "      <th>F1-Score</th>\n",
       "      <th>ROC-AUC</th>\n",
       "      <th>Average Precision</th>\n",
       "    </tr>\n",
       "  </thead>\n",
       "  <tbody>\n",
       "    <tr>\n",
       "      <th>Section equal probability</th>\n",
       "      <td>0.501 +- 0.101</td>\n",
       "      <td>0.501 +- 0.105</td>\n",
       "      <td>0.641 +- 0.103</td>\n",
       "      <td>0.502 +- 0.124</td>\n",
       "      <td>0.557 +- 0.106</td>\n",
       "      <td>0.501 +- 0.105</td>\n",
       "      <td>0.648 +- 0.05</td>\n",
       "    </tr>\n",
       "    <tr>\n",
       "      <th>Replica equal probability</th>\n",
       "      <td>0.5 +- 0.1</td>\n",
       "      <td>0.5 +- 0.102</td>\n",
       "      <td>0.6 +- 0.104</td>\n",
       "      <td>0.501 +- 0.129</td>\n",
       "      <td>0.541 +- 0.109</td>\n",
       "      <td>0.5 +- 0.102</td>\n",
       "      <td>0.608 +- 0.05</td>\n",
       "    </tr>\n",
       "    <tr>\n",
       "      <th>Section class prior probability</th>\n",
       "      <td>0.539 +- 0.095</td>\n",
       "      <td>0.499 +- 0.099</td>\n",
       "      <td>0.639 +- 0.075</td>\n",
       "      <td>0.641 +- 0.121</td>\n",
       "      <td>0.636 +- 0.088</td>\n",
       "      <td>0.499 +- 0.099</td>\n",
       "      <td>0.645 +- 0.046</td>\n",
       "    </tr>\n",
       "    <tr>\n",
       "      <th>Replica class prior probability</th>\n",
       "      <td>0.52 +- 0.097</td>\n",
       "      <td>0.501 +- 0.099</td>\n",
       "      <td>0.601 +- 0.084</td>\n",
       "      <td>0.599 +- 0.126</td>\n",
       "      <td>0.596 +- 0.095</td>\n",
       "      <td>0.501 +- 0.099</td>\n",
       "      <td>0.607 +- 0.049</td>\n",
       "    </tr>\n",
       "  </tbody>\n",
       "</table>\n",
       "</div>"
      ],
      "text/plain": [
       "                                       Accuracy Balanced Accuracy  \\\n",
       "Section equal probability        0.501 +- 0.101    0.501 +- 0.105   \n",
       "Replica equal probability            0.5 +- 0.1      0.5 +- 0.102   \n",
       "Section class prior probability  0.539 +- 0.095    0.499 +- 0.099   \n",
       "Replica class prior probability   0.52 +- 0.097    0.501 +- 0.099   \n",
       "\n",
       "                                      Precision          Recall  \\\n",
       "Section equal probability        0.641 +- 0.103  0.502 +- 0.124   \n",
       "Replica equal probability          0.6 +- 0.104  0.501 +- 0.129   \n",
       "Section class prior probability  0.639 +- 0.075  0.641 +- 0.121   \n",
       "Replica class prior probability  0.601 +- 0.084  0.599 +- 0.126   \n",
       "\n",
       "                                       F1-Score         ROC-AUC  \\\n",
       "Section equal probability        0.557 +- 0.106  0.501 +- 0.105   \n",
       "Replica equal probability        0.541 +- 0.109    0.5 +- 0.102   \n",
       "Section class prior probability  0.636 +- 0.088  0.499 +- 0.099   \n",
       "Replica class prior probability  0.596 +- 0.095  0.501 +- 0.099   \n",
       "\n",
       "                                Average Precision  \n",
       "Section equal probability           0.648 +- 0.05  \n",
       "Replica equal probability           0.608 +- 0.05  \n",
       "Section class prior probability    0.645 +- 0.046  \n",
       "Replica class prior probability    0.607 +- 0.049  "
      ]
     },
     "execution_count": 9,
     "metadata": {},
     "output_type": "execute_result"
    }
   ],
   "source": [
    "# Create metric lists to store values\n",
    "metrics_mean = []\n",
    "metrics_std = []\n",
    "\n",
    "# Loop over sampling strategies\n",
    "for strategy in [\"Equal probability\", \"Class prior probability\"]:\n",
    "  # Loop over section/replica\n",
    "  for loop_metadata_df in [s_metadata_df, r_metadata_df]:\n",
    "    # Dont affect original data frame\n",
    "    loop_metadata_df = loop_metadata_df.copy()\n",
    "\n",
    "    # Probability of class 1\n",
    "    p_1 = 0.5 if strategy == \"Equal probability\" else (\n",
    "        loop_metadata_df.label == 1\n",
    "    ).sum() / loop_metadata_df.shape[0]\n",
    "\n",
    "    # Sample from binomial using class probability\n",
    "    rand = np.random.binomial(1, p=p_1, size=(10000, loop_metadata_df.shape[0]))\n",
    "\n",
    "    # Create scores lists to store metric values for each random sample\n",
    "    scores = []\n",
    "\n",
    "    # Loop over each random sample to calculate metrics\n",
    "    for sample in rand:\n",
    "      # Calculate Roc Curve\n",
    "      fpr, tpr, thresholds = s_metrics.roc_curve(loop_metadata_df.label, sample)\n",
    "      # Append all metrics to list\n",
    "      scores.append(\n",
    "          [\n",
    "              round(\n",
    "                  s_metrics.accuracy_score(loop_metadata_df.label, sample), 3\n",
    "              ),\n",
    "              round(\n",
    "                  s_metrics.balanced_accuracy_score(\n",
    "                      loop_metadata_df.label, sample\n",
    "                  ), 3\n",
    "              ),\n",
    "              round(\n",
    "                  s_metrics.precision_score(loop_metadata_df.label, sample), 3\n",
    "              ),\n",
    "              round(s_metrics.recall_score(loop_metadata_df.label, sample), 3),\n",
    "              round(s_metrics.f1_score(loop_metadata_df.label, sample), 3),\n",
    "              round(s_metrics.auc(fpr, tpr), 3),\n",
    "              round(\n",
    "                  s_metrics.average_precision_score(\n",
    "                      loop_metadata_df.label, sample\n",
    "                  ), 3\n",
    "              )\n",
    "          ]\n",
    "      )\n",
    "\n",
    "    # Append mean and standard deviation of all random sample metrics\n",
    "    metrics_mean.append(np.round(np.mean(scores, axis=0), 3))\n",
    "    metrics_std.append(np.round(np.std(scores, axis=0), 3))\n",
    "\n",
    "# Create single metric value from mean and standard deviation\n",
    "metrics = [\n",
    "    [str(mean_i) + \" +- \" + str(std_i)\n",
    "     for mean_i, std_i in zip(mean, std)]\n",
    "    for mean, std in zip(metrics_mean, metrics_std)\n",
    "]\n",
    "\n",
    "# Print baseline metrics\n",
    "pd.DataFrame(\n",
    "    metrics, index=[\n",
    "        \"Section equal probability\", \"Replica equal probability\",\n",
    "        \"Section class prior probability\", \"Replica class prior probability\"\n",
    "    ], columns=[\n",
    "        \"Accuracy\", \"Balanced Accuracy\", \"Precision\", \"Recall\", \"F1-Score\",\n",
    "        \"ROC-AUC\", \"Average Precision\"\n",
    "    ]\n",
    ")"
   ]
  },
  {
   "cell_type": "markdown",
   "metadata": {},
   "source": [
    "### ***Section/replica classification comparison***\n",
    "\n",
    "Next, let's see classification results from section/replica in the metrics we care about (confusion matrix, ROC-AUC, balanced accuracy):"
   ]
  },
  {
   "cell_type": "code",
   "execution_count": 10,
   "metadata": {},
   "outputs": [
    {
     "data": {
      "image/png": "[encoded data removed]",
      "text/plain": [
       "<Figure size 1500x500 with 4 Axes>"
      ]
     },
     "metadata": {},
     "output_type": "display_data"
    }
   ],
   "source": [
    "# Get section real and predicted labels\n",
    "s_spectra_wise_results = pd.read_csv(\n",
    "    (\n",
    "        f\"{CLASSIFICATION__RESULT_PATH}/\"\n",
    "        \"section_section_tissue_spectra_wise_predictions.csv\"\n",
    "    )\n",
    ")\n",
    "s_img_wise_results = s_spectra_wise_results.groupby(\"file_name\"\n",
    "                                                   ).aggregate(\"mean\")\n",
    "s_real_labels = s_img_wise_results[\"label\"]\n",
    "s_pred_labels = s_img_wise_results[\"prediction\"]\n",
    "\n",
    "# Get Replica real and predicted labels\n",
    "r_spectra_wise_results = pd.read_csv(\n",
    "    (\n",
    "        f\"{CLASSIFICATION__RESULT_PATH}/\"\n",
    "        \"replica_replica_tissue_spectra_wise_predictions.csv\"\n",
    "    )\n",
    ")\n",
    "r_img_wise_results = r_spectra_wise_results.groupby(\"file_name\"\n",
    "                                                   ).aggregate(\"mean\")\n",
    "r_real_labels = r_img_wise_results[\"label\"]\n",
    "r_pred_labels = r_img_wise_results[\"prediction\"]\n",
    "\n",
    "# Create subplots\n",
    "fig, axes = plt.subplots(1, 2, figsize=(15,5))\n",
    "\n",
    "# Plot section confusion matrix\n",
    "cf_matrix = s_metrics.confusion_matrix(\n",
    "    s_real_labels, (s_pred_labels > 0.5).astype(int), normalize=\"true\"\n",
    ")\n",
    "ax = sns.heatmap(cf_matrix, annot=True, linewidths=0.5, ax=axes[0])\n",
    "ax.set_ylabel(\"True Label\")\n",
    "ax.set_xlabel(\"Predicted Label\")\n",
    "ax.set_title(\"Section\")\n",
    "\n",
    "# Plot replica confusion matrix\n",
    "cf_matrix = s_metrics.confusion_matrix(\n",
    "    r_real_labels, (r_pred_labels > 0.5).astype(int), normalize=\"true\"\n",
    ")\n",
    "ax = sns.heatmap(cf_matrix, annot=True, linewidths=0.5, ax=axes[1])\n",
    "ax.set_ylabel(\"True Label\")\n",
    "ax.set_xlabel(\"Predicted Label\")\n",
    "ax.set_title(\"replica\")\n",
    "\n",
    "# Display plot\n",
    "fig.suptitle(\"Classification confusion matrices\")\n",
    "plt.show()"
   ]
  },
  {
   "cell_type": "code",
   "execution_count": 11,
   "metadata": {},
   "outputs": [
    {
     "data": {
      "image/png": "[encoded data removed]",
      "text/plain": [
       "<Figure size 1000x1000 with 1 Axes>"
      ]
     },
     "metadata": {},
     "output_type": "display_data"
    }
   ],
   "source": [
    "# Define figure size\n",
    "plt.figure(figsize=(10, 10))\n",
    "\n",
    "# Compute Receiver operating characteristic + AUC for section\n",
    "fpr, tpr, thresholds = s_metrics.roc_curve(s_real_labels, s_pred_labels)\n",
    "roc_auc = s_metrics.auc(fpr, tpr)\n",
    "plt.plot(fpr, tpr, label=f\"Section (AUC = {roc_auc:.3f})\")\n",
    "\n",
    "# Compute Receiver operating characteristic + AUC for replica\n",
    "fpr, tpr, thresholds = s_metrics.roc_curve(r_real_labels, r_pred_labels)\n",
    "roc_auc = s_metrics.auc(fpr, tpr)\n",
    "plt.plot(fpr, tpr, label=f\"Replica (AUC = {roc_auc:.3f})\")\n",
    "\n",
    "# Plot\n",
    "plt.legend(loc=\"upper left\")\n",
    "plt.plot([0, 1], [0, 1], \"r--\")\n",
    "plt.xlim([-0.05, 1.05])\n",
    "plt.ylim([-0.05, 1.05])\n",
    "plt.ylabel(\"True Positive Rate\", labelpad=10, fontsize=16)\n",
    "plt.xlabel(\"False Positive Rate\", labelpad=10, fontsize=16)\n",
    "plt.title(\"Receiver Operating Characteristic\", pad=10, fontsize=16)\n",
    "plt.show()"
   ]
  },
  {
   "cell_type": "code",
   "execution_count": 12,
   "metadata": {},
   "outputs": [
    {
     "name": "stdout",
     "output_type": "stream",
     "text": [
      "Section balanced accuracy 0.708\n",
      "Section balanced accuracy 0.783\n"
     ]
    }
   ],
   "source": [
    "# Compute balanced accuracy for section\n",
    "s_balanced_accuracy = s_metrics.balanced_accuracy_score(\n",
    "    s_real_labels, (s_pred_labels > 0.5).astype(int)\n",
    ")\n",
    "\n",
    "# Compute balanced accuracy for replica\n",
    "r_balanced_accuracy = s_metrics.balanced_accuracy_score(\n",
    "    r_real_labels, (r_pred_labels > 0.5).astype(int)\n",
    ")\n",
    "\n",
    "# Display values\n",
    "print(f\"Section balanced accuracy {round(s_balanced_accuracy, 3)}\")\n",
    "print(f\"Section balanced accuracy {round(r_balanced_accuracy, 3)}\")"
   ]
  },
  {
   "cell_type": "code",
   "execution_count": 13,
   "metadata": {},
   "outputs": [
    {
     "name": "stdout",
     "output_type": "stream",
     "text": [
      "Section misclassified: ['HG 10-s', 'HG 15-s', 'HG 16-s', 'HG 2-s', 'HG 20-s', 'HG 21-s', 'HG 9-s']\n",
      "Replica misclassified: ['HG 19-r', 'HG 20-r', 'HG 21-r', 'HG 29-r', 'HG 3-r']\n"
     ]
    }
   ],
   "source": [
    "print(\"Section misclassified:\", s_real_labels[(s_real_labels != (s_pred_labels > 0.5).astype(int))].index.to_list())\n",
    "print(\"Replica misclassified:\", r_real_labels[(r_real_labels != (r_pred_labels > 0.5).astype(int))].index.to_list())"
   ]
  }
 ],
 "metadata": {
  "kernelspec": {
   "display_name": "Python 3.9.12 ('tf_gpu_jup')",
   "language": "python",
   "name": "python3"
  },
  "language_info": {
   "codemirror_mode": {
    "name": "ipython",
    "version": 3
   },
   "file_extension": ".py",
   "mimetype": "text/x-python",
   "name": "python",
   "nbconvert_exporter": "python",
   "pygments_lexer": "ipython3",
   "version": "3.9.12"
  },
  "orig_nbformat": 4,
  "vscode": {
   "interpreter": {
    "hash": "5c73559c04fc51cf6f25e380b3ded5183311c605494f1c18f4c2cfbf285cb958"
   }
  }
 },
 "nbformat": 4,
 "nbformat_minor": 2
}
