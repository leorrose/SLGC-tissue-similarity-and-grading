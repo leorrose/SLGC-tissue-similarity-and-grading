{
 "cells": [
  {
   "cell_type": "code",
   "execution_count": 1,
   "id": "7e065791-64cc-4304-8bba-087ad44a148e",
   "metadata": {},
   "outputs": [],
   "source": [
    "import os\n",
    "import seaborn as sns\n",
    "import numpy as np\n",
    "from matplotlib import pyplot as plt\n",
    "from pyimzml.ImzMLParser import ImzMLParser, _bisect_spectrum\n",
    "from typing import List, Callable\n",
    "\n",
    "%matplotlib inline"
   ]
  },
  {
   "cell_type": "code",
   "execution_count": 2,
   "id": "3c1cb8d9-73ee-421a-b7fa-93e3fab3fbb1",
   "metadata": {},
   "outputs": [],
   "source": [
    "# set path containing the DHG dataset\n",
    "data_p = \"/sise/assafzar-group/assafzar/Leor/DHG/Cropped/TIC-normalized/\""
   ]
  },
  {
   "cell_type": "code",
   "execution_count": 3,
   "id": "3967bed9-d50f-4b2a-8d8e-794a99b19f6e",
   "metadata": {},
   "outputs": [],
   "source": [
    "# get all mass spec images names\n",
    "img_names = np.asarray([f for f in os.listdir(data_p) if f.endswith('.imzML')])"
   ]
  },
  {
   "cell_type": "code",
   "execution_count": 4,
   "id": "544bb8ba-3900-4c35-b627-390192269edc",
   "metadata": {},
   "outputs": [],
   "source": [
    "def get_ion_image(p: ImzMLParser,\n",
    "                  mz_values: List[float],\n",
    "                  tol: float = 0.1,\n",
    "                  z: int = 1,\n",
    "                  reduce_func: Callable = sum) -> np.ndarray:\n",
    "    \"\"\"\n",
    "    Get an image representation of the intensity distribution\n",
    "    of the ion with specified m/z values.\n",
    "\n",
    "    By default, the intensity values within the tolerance region are summed.\n",
    "\n",
    "    Args:\n",
    "        p (ImzMLParser): the ImzMLParser (or anything else with similar\n",
    "        attributes) for the desired dataset.\n",
    "        mz_values (List[float]): m/z values for which the ion image\n",
    "        shall be returned\n",
    "        tol (float, optional): Absolute tolerance for the m/z value,\n",
    "        such that all ions with values mz_value-|tol| <= x <= mz_value+|tol|\n",
    "        are included. Defaults to 0.1\n",
    "        z (int, optional): z Value if spectrogram is 3-dimensional.\n",
    "        Defaults to 1.\n",
    "        reduce_func (Callable, optional): the bahaviour for reducing the\n",
    "        intensities between mz_value-|tol| and mz_value+|tol| to a single\n",
    "        value. Must be a function that takes a sequence as input and outputs\n",
    "        a number. By default, the values are summed. Defaults to sum.\n",
    "\n",
    "    Returns:\n",
    "        [np.ndarray]: numpy matrix with each element representing the\n",
    "        ion intensity in this pixel. Can be easily plotted with matplotlib\n",
    "\n",
    "    \"\"\"\n",
    "    tol = abs(tol)\n",
    "    max_y = p.imzmldict[\"max count of pixels y\"]\n",
    "    max_x = p.imzmldict[\"max count of pixels x\"]\n",
    "    ims = [np.zeros((max_y, max_x)) for _ in range(0, len(mz_values))]\n",
    "    for i, (x, y, z_) in enumerate(p.coordinates):\n",
    "      if z_ == 0:\n",
    "        UserWarning((\"z coordinate = 0 present, if you're getting blank \"\n",
    "                     \"images set getionimage(.., .., z=0)\"))\n",
    "      if z_ == z:\n",
    "        mzs, ints = map(np.asarray, p.getspectrum(i))\n",
    "        for j, mz_value in enumerate(mz_values):\n",
    "          im = ims[j]\n",
    "          min_i, max_i = _bisect_spectrum(mzs, mz_value, tol)\n",
    "          im[y - 1, x - 1] = reduce_func(ints[min_i:max_i + 1])\n",
    "    return ims"
   ]
  },
  {
   "cell_type": "code",
   "execution_count": 5,
   "id": "cc8b6cfa-8ea8-4ea7-9af4-e52f295fb2ef",
   "metadata": {},
   "outputs": [],
   "source": [
    "# define the m/z values we wish to visualize\n",
    "plot_mz = [749.5, 834.5, 888.6]\n",
    "# define the tolerance for retrieving an m/z value\n",
    "plot_tol = 0.025\n",
    "# define plot full brithness percenbtage treshould\n",
    "plot_tresh = 95"
   ]
  },
  {
   "cell_type": "code",
   "execution_count": 6,
   "id": "e6793229-97ec-4456-ad4a-330207aeb4ff",
   "metadata": {},
   "outputs": [],
   "source": [
    "# delte and create output folder\n",
    "!rm -rf Output\n",
    "!mkdir Output"
   ]
  },
  {
   "cell_type": "code",
   "execution_count": 7,
   "id": "ec0c7de6-71ca-4df3-a6b9-18b0a1dba99d",
   "metadata": {},
   "outputs": [],
   "source": [
    "# loop over each mass spec image name and plot mz ion image\n",
    "for img_name in img_names:\n",
    "  # Parse the mass spec image imzML file\n",
    "  with ImzMLParser(os.path.join(data_p, img_name)) as p_l:\n",
    "    # get ion image representation for each m/z value\n",
    "    ims_l = get_ion_image(p_l, plot_mz, tol=plot_tol)\n",
    "    # get mass spec image imzML file name without file suffix\n",
    "    img_name_l = os.path.splitext(img_name)[0]\n",
    "    \n",
    "    # loop over each ion image + sum/average and plot\n",
    "    for mz, im_l in zip(plot_mz + [\"MZ_Sum\"], ims_l + [sum(ims_l)]):  \n",
    "      # plot mz ion image\n",
    "      plt.figure(frameon=False)\n",
    "      plt.imshow(im_l, vmin=im_l.min(), vmax=np.percentile(im_l, plot_tresh),\n",
    "                 cmap='viridis')\n",
    "      plt.axis(\"off\")\n",
    "\n",
    "      # save plot\n",
    "      plt.savefig(f\"Output/{img_name_l}-{mz}.png\", transparent=True,\n",
    "                  bbox_inches=\"tight\", pad_inches=0)\n",
    "      \n",
    "      # clear plot\n",
    "      plt.close(\"all\")"
   ]
  }
 ],
 "metadata": {
  "kernelspec": {
   "display_name": "jupyter_env",
   "language": "python",
   "name": "jupyter_env"
  },
  "language_info": {
   "codemirror_mode": {
    "name": "ipython",
    "version": 3
   },
   "file_extension": ".py",
   "mimetype": "text/x-python",
   "name": "python",
   "nbconvert_exporter": "python",
   "pygments_lexer": "ipython3",
   "version": "3.9.9"
  }
 },
 "nbformat": 4,
 "nbformat_minor": 5
}
