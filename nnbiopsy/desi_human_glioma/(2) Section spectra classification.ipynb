{
 "cells": [
  {
   "cell_type": "markdown",
   "id": "856494bd-971b-4d53-92b6-a772f5934df5",
   "metadata": {},
   "source": [
    "# ***DESI Human Glioma Section Spectra Clinical State Classification***\n",
    "\n",
    "This notebook shows the process of section spectra clinical state classification of the DESI Human Glioma preprocessed dataset."
   ]
  },
  {
   "cell_type": "markdown",
   "id": "39df2682-bf3f-4242-94ce-e6bf0b6dcf3c",
   "metadata": {},
   "source": [
    "### ***Import packages***\n",
    "\n",
    "Before we begin, let\"s import all the necessary packages for this notebook.\n",
    "First we add the directory which has our python files:"
   ]
  },
  {
   "cell_type": "code",
   "execution_count": 1,
   "id": "3e2f72dc-fcd1-47d5-8c2d-fea76cfeadc3",
   "metadata": {},
   "outputs": [],
   "source": [
    "import sys\n",
    "sys.path.insert(0, \"../..\")"
   ]
  },
  {
   "cell_type": "markdown",
   "id": "84395cb7-3bb2-46f7-9d9a-794a8eecdab4",
   "metadata": {},
   "source": [
    "Next we import all the necessary packages for this notebook:"
   ]
  },
  {
   "cell_type": "code",
   "execution_count": 2,
   "id": "01b61342-ee57-4299-a9ce-a8993f8727fd",
   "metadata": {},
   "outputs": [],
   "source": [
    "import gc\n",
    "import os\n",
    "import numpy as np\n",
    "import pandas as pd\n",
    "import tensorflow as tf\n",
    "from typing import Tuple\n",
    "from matplotlib import pyplot as plt\n",
    "from tensorflow.keras import layers\n",
    "from tensorflow.keras import optimizers\n",
    "from tensorflow.keras import losses\n",
    "from tensorflow.keras import callbacks\n",
    "from tensorflow.keras import backend as K\n",
    "from sklearn import metrics\n",
    "from sklearn.model_selection import train_test_split\n",
    "from skimage import (filters)\n",
    "from tqdm import tqdm\n",
    "from pyimzml.ImzMLParser import ImzMLParser, getionimage"
   ]
  },
  {
   "cell_type": "markdown",
   "id": "87eebf16-66a7-4b26-8a4b-145d09cbe643",
   "metadata": {},
   "source": [
    "### ***Constants definitions***\n",
    "\n",
    "Next, let\"s define some constant variables for this notebook:"
   ]
  },
  {
   "cell_type": "code",
   "execution_count": 3,
   "id": "37a05c91-3223-4591-92cc-1ae0d83e8604",
   "metadata": {},
   "outputs": [],
   "source": [
    "# Define folder that contains the dhg dataset and files\n",
    "DHG_PATH = \"C:/Users/Leor/Desktop/Thesis/DHG\"\n",
    "# Define folder that contains the preprocessed dhg dataset\n",
    "DHG_IN_PATH = f\"{DHG_PATH}/Preprocessed\"\n",
    "# Define file that contains dhg clinical state annotations\n",
    "CLINICAL_STATE_ANNOTATIONS_PATH = f\"{DHG_PATH}/Clinical_state_annotations.csv\"\n",
    "# Define folder to save classification models for later use\n",
    "MODELS_PATH = \"C:/Users/Leor/Desktop/Thesis/section_classification_models\"\n",
    "# Classification model number of epochs\n",
    "EPHOCS = 50\n",
    "# Classification model batch size\n",
    "BATCH_SIZE = 256\n",
    "# Classification model learning rate\n",
    "LEARNING_RATE = 1e-3\n",
    "# MSI Spectra dimension\n",
    "SPECTRA_DIM = 92000\n",
    "# The MSI sample type for filtering\n",
    "SAMPLE_TYPE = \"s\"\n",
    "# Mz value to get in order to threshold for tissue\n",
    "TRESH_MZ = 750\n",
    "# Mz tolerance value to get in order to threshold for tissue\n",
    "TRESH_MZ_TOL = 150\n",
    "# Treshould standard deviation for Gaussian kernel\n",
    "TRESH_GAUSSIAN_SIGMA = 1.5 "
   ]
  },
  {
   "cell_type": "markdown",
   "id": "55c71392-9354-46f8-93d3-d1298fab3820",
   "metadata": {
    "tags": []
   },
   "source": [
    "### ***Reading MSI clinical state anotations***\n",
    "\n",
    "Next, lets read the clinical state anotations for each MSI:"
   ]
  },
  {
   "cell_type": "code",
   "execution_count": 4,
   "id": "33f91fd0-b6c6-4965-ad0c-180fbd1c74bc",
   "metadata": {
    "tags": []
   },
   "outputs": [],
   "source": [
    "# Read clinical state annotations csv\n",
    "clinical_state_df = pd.read_csv(CLINICAL_STATE_ANNOTATIONS_PATH)\n",
    "\n",
    "# Filter by sample_type\n",
    "clinical_state_df = clinical_state_df[clinical_state_df[\"sample_type\"] ==\n",
    "                                      SAMPLE_TYPE]"
   ]
  },
  {
   "cell_type": "markdown",
   "id": "7b293bee-e70a-456b-8a75-c703e2ee0f15",
   "metadata": {},
   "source": [
    "### ***Get all tissue spectra from all MSI:***\n",
    "\n",
    "Next, let\"s get all informations except intensities (which need a lot of memory) for each tissue spectra from all MSI:"
   ]
  },
  {
   "cell_type": "code",
   "execution_count": 5,
   "id": "6aa78851-8993-4315-9e39-0095303a8735",
   "metadata": {},
   "outputs": [
    {
     "name": "stderr",
     "output_type": "stream",
     "text": [
      "Spectra Loop: 100%|██████████| 2304/2304 [00:00<00:00, 135657.20it/s]\n",
      "Spectra Loop: 100%|██████████| 2254/2254 [00:00<00:00, 172975.23it/s]\n",
      "Spectra Loop: 100%|██████████| 2596/2596 [00:00<00:00, 153125.01it/s]\n",
      "Spectra Loop: 100%|██████████| 2772/2772 [00:00<00:00, 110400.53it/s]\n",
      "Spectra Loop: 100%|██████████| 2898/2898 [00:00<00:00, 110925.39it/s]\n",
      "Spectra Loop: 100%|██████████| 2508/2508 [00:00<00:00, 114244.76it/s]\n",
      "Spectra Loop: 100%|██████████| 3871/3871 [00:00<00:00, 104902.99it/s]\n",
      "Spectra Loop: 100%|██████████| 2928/2928 [00:00<00:00, 117435.38it/s]\n",
      "Spectra Loop: 100%|██████████| 3604/3604 [00:00<00:00, 144549.57it/s]\n",
      "Spectra Loop: 100%|██████████| 1584/1584 [00:00<00:00, 79408.33it/s]\n",
      "Spectra Loop: 100%|██████████| 1620/1620 [00:00<00:00, 124947.55it/s]\n",
      "Spectra Loop: 100%|██████████| 1377/1377 [00:00<00:00, 98580.86it/s]\n",
      "Spectra Loop: 100%|██████████| 3484/3484 [00:00<00:00, 143533.04it/s]\n",
      "Spectra Loop: 100%|██████████| 2916/2916 [00:00<00:00, 94235.87it/s]\n",
      "Spectra Loop: 100%|██████████| 2852/2852 [00:00<00:00, 95317.50it/s]\n",
      "Spectra Loop: 100%|██████████| 2583/2583 [00:00<00:00, 112604.32it/s]\n",
      "Spectra Loop: 100%|██████████| 4400/4400 [00:00<00:00, 114745.96it/s]\n",
      "Spectra Loop: 100%|██████████| 2184/2184 [00:00<00:00, 134188.24it/s]\n",
      "Spectra Loop: 100%|██████████| 1850/1850 [00:00<00:00, 122801.56it/s]\n",
      "Spectra Loop: 100%|██████████| 1710/1710 [00:00<00:00, 187314.18it/s]\n",
      "Spectra Loop: 100%|██████████| 1395/1395 [00:00<00:00, 138068.20it/s]\n",
      "Spectra Loop: 100%|██████████| 1470/1470 [00:00<00:00, 145336.89it/s]\n",
      "Spectra Loop: 100%|██████████| 4896/4896 [00:00<00:00, 131476.49it/s]\n",
      "Spectra Loop: 100%|██████████| 1886/1886 [00:00<00:00, 169755.95it/s]\n",
      "MSI Loop: 100%|██████████| 24/24 [02:03<00:00,  5.15s/it]\n"
     ]
    }
   ],
   "source": [
    "# Create lists to store each spectra's info\n",
    "file_names = []\n",
    "sample_numbers = []\n",
    "histologies = []\n",
    "who_grades = []\n",
    "x_coordinates = []\n",
    "y_coordinates = []\n",
    "idxs = []\n",
    "\n",
    "# Loop over each MSI\n",
    "for index, msi_row in tqdm(clinical_state_df.iterrows(),\n",
    "                           total=clinical_state_df.shape[0],\n",
    "                           desc=\"MSI Loop\"):\n",
    "  # Parse the MSI file\n",
    "  with ImzMLParser(os.path.join(DHG_IN_PATH,\n",
    "                                f\"{msi_row.file_name}.imzML\")) as reader:\n",
    "    # Get local TIC image of msi in mz region [600, 900]\n",
    "    local_tic_img = getionimage(reader, TRESH_MZ, tol=TRESH_MZ_TOL)\n",
    "\n",
    "    # Threshold image to separate tissue spectra from background\n",
    "    smooth = filters.gaussian(local_tic_img, sigma=TRESH_GAUSSIAN_SIGMA)\n",
    "    thresh_mean = filters.threshold_mean(smooth)\n",
    "    thresh_img = local_tic_img > thresh_mean\n",
    "\n",
    "    # Loop over each spectra\n",
    "    for idx, (x, y, z) in tqdm(enumerate(reader.coordinates),\n",
    "                               total=len(reader.coordinates),\n",
    "                               desc=\"Spectra Loop\"):\n",
    "      # Check if spectra is tissue\n",
    "      if thresh_img[y - 1, x - 1]:\n",
    "        # Keep sample file name of spectra\n",
    "        file_names.append(msi_row.file_name)\n",
    "        # Keep sample number of spectra\n",
    "        sample_numbers.append(msi_row.sample_number)\n",
    "        # Keep sample histology of spectra\n",
    "        histologies.append(msi_row.histology)\n",
    "        # Keep sample who grade of spectra\n",
    "        who_grades.append(msi_row.who_grade)\n",
    "        # Keep x coordinate of spectra\n",
    "        x_coordinates.append(x)\n",
    "        # Keep y coordinate of spectra\n",
    "        y_coordinates.append(y)\n",
    "        # Keep  of spectra\n",
    "        idxs.append(idx)\n",
    "\n",
    "# Convert to numpy array\n",
    "file_names = np.array(file_names)\n",
    "sample_numbers = np.array(sample_numbers)\n",
    "histologies = np.array(histologies)\n",
    "who_grades = np.array(who_grades)\n",
    "x_coordinates = np.array(x_coordinates)\n",
    "y_coordinates = np.array(y_coordinates)\n",
    "idxs = np.array(idxs)\n",
    "labels = (who_grades > 2).astype(int)"
   ]
  },
  {
   "cell_type": "markdown",
   "id": "61b5a70b",
   "metadata": {},
   "source": [
    "### ***MSI parsers opening:***\n",
    "\n",
    "Next, let\"s create parser for each MSI in order to read spectra's for the model:"
   ]
  },
  {
   "cell_type": "code",
   "execution_count": 6,
   "id": "b5b50d38-2238-455d-93a5-202c995c9f0f",
   "metadata": {},
   "outputs": [],
   "source": [
    "# Opening parsers\n",
    "parsers = {\n",
    "    file_name: ImzMLParser(os.path.join(DHG_IN_PATH, f\"{file_name}.imzML\"))\n",
    "    for file_name in clinical_state_df.file_name.unique()\n",
    "}"
   ]
  },
  {
   "cell_type": "markdown",
   "id": "10da83a3-78b5-48c9-a29f-8aa4ae06876a",
   "metadata": {},
   "source": [
    "### ***Dataset generator:***\n",
    "\n",
    "Next, let\"s create a dataset generator for the model:"
   ]
  },
  {
   "cell_type": "code",
   "execution_count": 7,
   "id": "d344c443-1d92-4e78-9330-90c25489e35f",
   "metadata": {},
   "outputs": [],
   "source": [
    "def map_index(index: tf.Tensor) -> Tuple[np.ndarray, int]:\n",
    "  \"\"\"Function to map index to model input (spectra) and output (label).\n",
    "\n",
    "  Args:\n",
    "      index (tf.Tensor): index to map to corresponding values.\n",
    "\n",
    "  Returns:\n",
    "      Tuple[np.ndarray, int]: input (spectra) and output (label).\n",
    "  \n",
    "  \"\"\"\n",
    "  # Decoding index from the EagerTensor object\n",
    "  index = index.numpy()\n",
    "  # Reading spectra from parser\n",
    "  file_name = file_names[index]\n",
    "  idx = idxs[index]\n",
    "  _, spectra = parsers[file_name].getspectrum(idx)\n",
    "  # Return spectra and label\n",
    "  return (spectra, labels[index])\n",
    "\n",
    "\n",
    "def _fixup_shape(x: tf.Tensor, y: tf.Tensor):\n",
    "  \"\"\" Function to Fix the implicit inferring of the shapes of the\n",
    "  output Tensors.\n",
    "\n",
    "  Args:\n",
    "      x (tf.Tensor): input (spectra)\n",
    "      y (tf.Tensor): output (label)\n",
    "\n",
    "  Returns:\n",
    "      Tuple[np.ndarray, np.ndarray]: input (spectra) and output (label) with\n",
    "        correct shape.\n",
    "  \n",
    "  \"\"\"\n",
    "  x.set_shape([SPECTRA_DIM])\n",
    "  y.set_shape([])\n",
    "  return x, y\n",
    "\n",
    "\n",
    "def create_ds(indexes: np.ndarray, batch_size: int) -> tf.data.Dataset:\n",
    "  \"\"\"Function to create a dataset for model\n",
    "\n",
    "  Args:\n",
    "      indexes (np.ndarray): indexes of thh dataset\n",
    "      batch_size (int): batch size\n",
    "\n",
    "  Returns:\n",
    "      tf.data.Dataset: dataset\n",
    "  \"\"\"\n",
    "  # Create dataset from indexes\n",
    "  ds = tf.data.Dataset.from_tensor_slices(indexes)\n",
    "  # Shuffle the data\n",
    "  ds = ds.shuffle(len(indexes))\n",
    "  # Map index to spectra\n",
    "  ds = ds.map(lambda i: tf.py_function(\n",
    "      func=map_index, inp=[i], Tout=[tf.float32, tf.float32]))\n",
    "  # Fix the implicit inferring of the shapes of the\n",
    "  # output Tensors\n",
    "  ds = ds.map(_fixup_shape)\n",
    "  # Batch the spectra's\n",
    "  ds = ds.batch(batch_size)\n",
    "  # Prefetch batchs to make sure that a batch is ready to\n",
    "  # be served at all time\n",
    "  ds = ds.prefetch(tf.data.AUTOTUNE)\n",
    "  return ds"
   ]
  },
  {
   "cell_type": "markdown",
   "id": "fb64e399",
   "metadata": {},
   "source": [
    "### ***Classification model:***\n",
    "\n",
    "Next, let\"s create a classification dense neural network model:"
   ]
  },
  {
   "cell_type": "code",
   "execution_count": 8,
   "id": "a06243a6",
   "metadata": {},
   "outputs": [],
   "source": [
    "def get_model() -> tf.keras.Model:\n",
    "  \"\"\"Function to generate classification model.\n",
    "\n",
    "  Returns:\n",
    "      tf.keras.Model: classification model.\n",
    "  \n",
    "  \"\"\"\n",
    "  return tf.keras.Sequential(\n",
    "    [\n",
    "      layers.InputLayer(input_shape=(SPECTRA_DIM,)),\n",
    "      layers.Dense(512, activation='relu'),\n",
    "      layers.Dense(512, activation='relu'),\n",
    "      layers.Dense(256, activation='relu'),\n",
    "      layers.Dense(256, activation='relu'),\n",
    "      layers.Dense(128, activation='relu'),\n",
    "      layers.Dense(1, activation='sigmoid')\n",
    "    ]\n",
    "  )"
   ]
  },
  {
   "cell_type": "markdown",
   "id": "b1fe68ee",
   "metadata": {},
   "source": [
    "### ***LOOCV Classification:***\n",
    "\n",
    "Next, let\"s apply classification using LOOCV for best evaluation:"
   ]
  },
  {
   "cell_type": "code",
   "execution_count": 9,
   "id": "2c3a2175-3091-4045-ab39-5fb746b3f484",
   "metadata": {},
   "outputs": [
    {
     "name": "stderr",
     "output_type": "stream",
     "text": [
      "  0%|          | 0/22 [00:00<?, ?it/s]"
     ]
    },
    {
     "name": "stdout",
     "output_type": "stream",
     "text": [
      "Epoch 1/50\n",
      "84/84 [==============================] - 19s 212ms/step - loss: 0.4842 - accuracy: 0.7522 - val_loss: 0.1255 - val_accuracy: 0.9755\n",
      "INFO:tensorflow:Assets written to: C:/Users/Leor/Desktop/Thesis/section_classification_models\\excluded_2\\assets\n",
      "Epoch 2/50\n",
      "84/84 [==============================] - 20s 241ms/step - loss: 0.0345 - accuracy: 0.9907 - val_loss: 0.0153 - val_accuracy: 0.9942\n",
      "INFO:tensorflow:Assets written to: C:/Users/Leor/Desktop/Thesis/section_classification_models\\excluded_2\\assets\n",
      "Epoch 3/50\n",
      "84/84 [==============================] - 19s 219ms/step - loss: 0.0984 - accuracy: 0.9712 - val_loss: 0.0780 - val_accuracy: 0.9766\n",
      "Epoch 4/50\n",
      "84/84 [==============================] - 18s 211ms/step - loss: 0.0350 - accuracy: 0.9893 - val_loss: 0.0110 - val_accuracy: 0.9964\n",
      "INFO:tensorflow:Assets written to: C:/Users/Leor/Desktop/Thesis/section_classification_models\\excluded_2\\assets\n",
      "Epoch 5/50\n",
      "84/84 [==============================] - 18s 218ms/step - loss: 0.0028 - accuracy: 0.9995 - val_loss: 0.0109 - val_accuracy: 0.9963\n",
      "Epoch 6/50\n",
      "84/84 [==============================] - 19s 222ms/step - loss: 0.0017 - accuracy: 0.9996 - val_loss: 0.0085 - val_accuracy: 0.9972\n",
      "INFO:tensorflow:Assets written to: C:/Users/Leor/Desktop/Thesis/section_classification_models\\excluded_2\\assets\n",
      "Epoch 7/50\n",
      "84/84 [==============================] - 20s 237ms/step - loss: 0.0013 - accuracy: 0.9998 - val_loss: 0.0081 - val_accuracy: 0.9974\n",
      "INFO:tensorflow:Assets written to: C:/Users/Leor/Desktop/Thesis/section_classification_models\\excluded_2\\assets\n",
      "Epoch 8/50\n",
      "84/84 [==============================] - 18s 218ms/step - loss: 8.8771e-04 - accuracy: 0.9999 - val_loss: 0.0089 - val_accuracy: 0.9970\n",
      "Epoch 9/50\n",
      "84/84 [==============================] - 18s 217ms/step - loss: 7.9256e-04 - accuracy: 0.9999 - val_loss: 0.0117 - val_accuracy: 0.9966\n",
      "Epoch 10/50\n",
      "84/84 [==============================] - 19s 223ms/step - loss: 7.8684e-04 - accuracy: 0.9999 - val_loss: 0.0093 - val_accuracy: 0.9964\n",
      "Epoch 11/50\n",
      "84/84 [==============================] - 20s 232ms/step - loss: 4.5630e-04 - accuracy: 1.0000 - val_loss: 0.0075 - val_accuracy: 0.9978\n",
      "INFO:tensorflow:Assets written to: C:/Users/Leor/Desktop/Thesis/section_classification_models\\excluded_2\\assets\n",
      "Epoch 12/50\n",
      "84/84 [==============================] - 18s 216ms/step - loss: 4.1248e-04 - accuracy: 0.9999 - val_loss: 0.0072 - val_accuracy: 0.9978\n",
      "Epoch 13/50\n",
      "84/84 [==============================] - 18s 215ms/step - loss: 1.7992e-04 - accuracy: 1.0000 - val_loss: 0.0077 - val_accuracy: 0.9978\n",
      "Epoch 14/50\n",
      "84/84 [==============================] - 19s 226ms/step - loss: 5.5099e-05 - accuracy: 1.0000 - val_loss: 0.0071 - val_accuracy: 0.9979\n",
      "INFO:tensorflow:Assets written to: C:/Users/Leor/Desktop/Thesis/section_classification_models\\excluded_2\\assets\n",
      "Epoch 15/50\n",
      "84/84 [==============================] - 20s 236ms/step - loss: 4.0930e-05 - accuracy: 1.0000 - val_loss: 0.0078 - val_accuracy: 0.9978\n",
      "Epoch 16/50\n",
      "84/84 [==============================] - 20s 238ms/step - loss: 3.5378e-05 - accuracy: 1.0000 - val_loss: 0.0073 - val_accuracy: 0.9979\n",
      "Epoch 17/50\n",
      "84/84 [==============================] - 19s 224ms/step - loss: 3.0076e-05 - accuracy: 1.0000 - val_loss: 0.0074 - val_accuracy: 0.9978\n",
      "Epoch 18/50\n",
      "84/84 [==============================] - 20s 242ms/step - loss: 2.5436e-05 - accuracy: 1.0000 - val_loss: 0.0076 - val_accuracy: 0.9978\n",
      "Epoch 19/50\n",
      "84/84 [==============================] - 20s 240ms/step - loss: 2.2189e-05 - accuracy: 1.0000 - val_loss: 0.0077 - val_accuracy: 0.9978\n",
      "Epoch 00019: early stopping\n",
      "3/3 [==============================] - 1s 166ms/step - loss: 15.1979 - accuracy: 0.0000e+00\n"
     ]
    },
    {
     "name": "stderr",
     "output_type": "stream",
     "text": [
      "  5%|▍         | 1/22 [06:18<2:12:32, 378.67s/it]"
     ]
    },
    {
     "name": "stdout",
     "output_type": "stream",
     "text": [
      "Epoch 1/50\n",
      "83/83 [==============================] - 19s 221ms/step - loss: 0.5115 - accuracy: 0.7249 - val_loss: 0.2134 - val_accuracy: 0.9217\n",
      "INFO:tensorflow:Assets written to: C:/Users/Leor/Desktop/Thesis/section_classification_models\\excluded_3\\assets\n",
      "Epoch 2/50\n",
      "83/83 [==============================] - 18s 219ms/step - loss: 0.0999 - accuracy: 0.9652 - val_loss: 0.0186 - val_accuracy: 0.9938\n",
      "INFO:tensorflow:Assets written to: C:/Users/Leor/Desktop/Thesis/section_classification_models\\excluded_3\\assets\n",
      "Epoch 3/50\n",
      "83/83 [==============================] - 19s 227ms/step - loss: 0.0082 - accuracy: 0.9974 - val_loss: 0.0058 - val_accuracy: 0.9979\n",
      "INFO:tensorflow:Assets written to: C:/Users/Leor/Desktop/Thesis/section_classification_models\\excluded_3\\assets\n",
      "Epoch 4/50\n",
      "83/83 [==============================] - 19s 225ms/step - loss: 0.0012 - accuracy: 0.9997 - val_loss: 0.0367 - val_accuracy: 0.9875\n",
      "Epoch 5/50\n",
      "83/83 [==============================] - 18s 219ms/step - loss: 9.2077e-04 - accuracy: 0.9998 - val_loss: 0.0032 - val_accuracy: 0.9987\n",
      "INFO:tensorflow:Assets written to: C:/Users/Leor/Desktop/Thesis/section_classification_models\\excluded_3\\assets\n",
      "Epoch 6/50\n",
      "83/83 [==============================] - 19s 231ms/step - loss: 6.4403e-05 - accuracy: 1.0000 - val_loss: 0.0029 - val_accuracy: 0.9989\n",
      "INFO:tensorflow:Assets written to: C:/Users/Leor/Desktop/Thesis/section_classification_models\\excluded_3\\assets\n",
      "Epoch 7/50\n",
      "83/83 [==============================] - 19s 220ms/step - loss: 1.9955e-05 - accuracy: 1.0000 - val_loss: 0.0034 - val_accuracy: 0.9989\n",
      "Epoch 8/50\n",
      "83/83 [==============================] - 19s 233ms/step - loss: 8.2812e-06 - accuracy: 1.0000 - val_loss: 0.0032 - val_accuracy: 0.9985\n",
      "Epoch 9/50\n",
      "83/83 [==============================] - 19s 228ms/step - loss: 4.9406e-06 - accuracy: 1.0000 - val_loss: 0.0040 - val_accuracy: 0.9987\n",
      "Epoch 10/50\n",
      "83/83 [==============================] - 20s 236ms/step - loss: 3.3601e-06 - accuracy: 1.0000 - val_loss: 0.0038 - val_accuracy: 0.9987\n",
      "Epoch 11/50\n",
      "83/83 [==============================] - 19s 223ms/step - loss: 2.4903e-06 - accuracy: 1.0000 - val_loss: 0.0037 - val_accuracy: 0.9987\n",
      "Epoch 00011: early stopping\n",
      "4/4 [==============================] - 1s 208ms/step - loss: 0.0408 - accuracy: 0.9863\n"
     ]
    },
    {
     "name": "stderr",
     "output_type": "stream",
     "text": [
      "  9%|▉         | 2/22 [09:57<1:34:55, 284.80s/it]"
     ]
    },
    {
     "name": "stdout",
     "output_type": "stream",
     "text": [
      "Epoch 1/50\n",
      "83/83 [==============================] - 19s 229ms/step - loss: 0.4757 - accuracy: 0.7532 - val_loss: 0.2159 - val_accuracy: 0.9199\n",
      "INFO:tensorflow:Assets written to: C:/Users/Leor/Desktop/Thesis/section_classification_models\\excluded_4\\assets\n",
      "Epoch 2/50\n",
      "83/83 [==============================] - 18s 221ms/step - loss: 0.1164 - accuracy: 0.9602 - val_loss: 0.0498 - val_accuracy: 0.9864\n",
      "INFO:tensorflow:Assets written to: C:/Users/Leor/Desktop/Thesis/section_classification_models\\excluded_4\\assets\n",
      "Epoch 3/50\n",
      "83/83 [==============================] - 19s 225ms/step - loss: 0.0193 - accuracy: 0.9934 - val_loss: 0.3730 - val_accuracy: 0.8743\n",
      "Epoch 4/50\n",
      "83/83 [==============================] - 19s 228ms/step - loss: 0.0195 - accuracy: 0.9929 - val_loss: 0.0098 - val_accuracy: 0.9960\n",
      "INFO:tensorflow:Assets written to: C:/Users/Leor/Desktop/Thesis/section_classification_models\\excluded_4\\assets\n",
      "Epoch 5/50\n",
      "83/83 [==============================] - 19s 230ms/step - loss: 0.0011 - accuracy: 0.9998 - val_loss: 0.0058 - val_accuracy: 0.9985\n",
      "INFO:tensorflow:Assets written to: C:/Users/Leor/Desktop/Thesis/section_classification_models\\excluded_4\\assets\n",
      "Epoch 6/50\n",
      "83/83 [==============================] - 19s 228ms/step - loss: 7.8270e-04 - accuracy: 0.9998 - val_loss: 0.0051 - val_accuracy: 0.9977\n",
      "Epoch 7/50\n",
      "83/83 [==============================] - 21s 249ms/step - loss: 8.0024e-05 - accuracy: 1.0000 - val_loss: 0.0048 - val_accuracy: 0.9979\n",
      "Epoch 8/50\n",
      "83/83 [==============================] - 21s 251ms/step - loss: 3.3925e-05 - accuracy: 1.0000 - val_loss: 0.0052 - val_accuracy: 0.9979\n",
      "Epoch 9/50\n",
      "83/83 [==============================] - 18s 216ms/step - loss: 1.9171e-05 - accuracy: 1.0000 - val_loss: 0.0054 - val_accuracy: 0.9979\n",
      "Epoch 10/50\n",
      "83/83 [==============================] - 18s 220ms/step - loss: 1.3423e-05 - accuracy: 1.0000 - val_loss: 0.0055 - val_accuracy: 0.9979\n",
      "Epoch 11/50\n",
      "83/83 [==============================] - 19s 233ms/step - loss: 9.8061e-06 - accuracy: 1.0000 - val_loss: 0.0057 - val_accuracy: 0.9979\n",
      "Epoch 12/50\n",
      "83/83 [==============================] - 19s 228ms/step - loss: 7.3595e-06 - accuracy: 1.0000 - val_loss: 0.0056 - val_accuracy: 0.9979\n",
      "Epoch 00012: early stopping\n",
      "4/4 [==============================] - 1s 188ms/step - loss: 2.0532e-04 - accuracy: 1.0000\n"
     ]
    },
    {
     "name": "stderr",
     "output_type": "stream",
     "text": [
      " 14%|█▎        | 3/22 [13:57<1:23:41, 264.26s/it]"
     ]
    },
    {
     "name": "stdout",
     "output_type": "stream",
     "text": [
      "Epoch 1/50\n",
      "84/84 [==============================] - 22s 258ms/step - loss: 0.4836 - accuracy: 0.7484 - val_loss: 0.2220 - val_accuracy: 0.9190\n",
      "INFO:tensorflow:Assets written to: C:/Users/Leor/Desktop/Thesis/section_classification_models\\excluded_5\\assets\n",
      "Epoch 2/50\n",
      "84/84 [==============================] - 20s 233ms/step - loss: 0.1385 - accuracy: 0.9528 - val_loss: 0.0972 - val_accuracy: 0.9697\n",
      "INFO:tensorflow:Assets written to: C:/Users/Leor/Desktop/Thesis/section_classification_models\\excluded_5\\assets\n",
      "Epoch 3/50\n",
      "84/84 [==============================] - 19s 231ms/step - loss: 0.0179 - accuracy: 0.9935 - val_loss: 0.0124 - val_accuracy: 0.9944\n",
      "INFO:tensorflow:Assets written to: C:/Users/Leor/Desktop/Thesis/section_classification_models\\excluded_5\\assets\n",
      "Epoch 4/50\n",
      "84/84 [==============================] - 19s 231ms/step - loss: 0.0021 - accuracy: 0.9995 - val_loss: 0.0026 - val_accuracy: 0.9993\n",
      "INFO:tensorflow:Assets written to: C:/Users/Leor/Desktop/Thesis/section_classification_models\\excluded_5\\assets\n",
      "Epoch 5/50\n",
      "84/84 [==============================] - 20s 232ms/step - loss: 4.6258e-04 - accuracy: 1.0000 - val_loss: 0.0036 - val_accuracy: 0.9983\n",
      "Epoch 6/50\n",
      "84/84 [==============================] - 21s 255ms/step - loss: 6.2435e-05 - accuracy: 1.0000 - val_loss: 0.0026 - val_accuracy: 0.9987\n",
      "Epoch 7/50\n",
      "84/84 [==============================] - 21s 248ms/step - loss: 2.5169e-05 - accuracy: 1.0000 - val_loss: 0.0030 - val_accuracy: 0.9985\n",
      "Epoch 8/50\n",
      "84/84 [==============================] - 20s 237ms/step - loss: 1.2910e-05 - accuracy: 1.0000 - val_loss: 0.0027 - val_accuracy: 0.9985\n",
      "Epoch 9/50\n",
      "84/84 [==============================] - 20s 241ms/step - loss: 8.7819e-06 - accuracy: 1.0000 - val_loss: 0.0027 - val_accuracy: 0.9985\n",
      "Epoch 00009: early stopping\n",
      "3/3 [==============================] - 1s 108ms/step - loss: 3.0559e-06 - accuracy: 1.0000\n"
     ]
    },
    {
     "name": "stderr",
     "output_type": "stream",
     "text": [
      " 18%|█▊        | 4/22 [17:09<1:10:40, 235.60s/it]"
     ]
    },
    {
     "name": "stdout",
     "output_type": "stream",
     "text": [
      "Epoch 1/50\n",
      "84/84 [==============================] - 19s 224ms/step - loss: 0.4739 - accuracy: 0.7552 - val_loss: 0.1996 - val_accuracy: 0.9296\n",
      "INFO:tensorflow:Assets written to: C:/Users/Leor/Desktop/Thesis/section_classification_models\\excluded_6\\assets\n",
      "Epoch 2/50\n",
      "84/84 [==============================] - 18s 216ms/step - loss: 0.1134 - accuracy: 0.9627 - val_loss: 0.0211 - val_accuracy: 0.9916\n",
      "INFO:tensorflow:Assets written to: C:/Users/Leor/Desktop/Thesis/section_classification_models\\excluded_6\\assets\n",
      "Epoch 3/50\n",
      "84/84 [==============================] - 19s 225ms/step - loss: 0.0115 - accuracy: 0.9964 - val_loss: 0.0123 - val_accuracy: 0.9951\n",
      "INFO:tensorflow:Assets written to: C:/Users/Leor/Desktop/Thesis/section_classification_models\\excluded_6\\assets\n",
      "Epoch 4/50\n",
      "84/84 [==============================] - 18s 217ms/step - loss: 0.0020 - accuracy: 0.9994 - val_loss: 0.0031 - val_accuracy: 0.9991\n",
      "INFO:tensorflow:Assets written to: C:/Users/Leor/Desktop/Thesis/section_classification_models\\excluded_6\\assets\n",
      "Epoch 5/50\n",
      "84/84 [==============================] - 20s 233ms/step - loss: 0.0013 - accuracy: 0.9996 - val_loss: 0.0072 - val_accuracy: 0.9974\n",
      "Epoch 6/50\n",
      "84/84 [==============================] - 20s 233ms/step - loss: 0.0855 - accuracy: 0.9803 - val_loss: 0.0415 - val_accuracy: 0.9894\n",
      "Epoch 7/50\n",
      "84/84 [==============================] - 19s 228ms/step - loss: 0.0042 - accuracy: 0.9995 - val_loss: 0.0121 - val_accuracy: 0.9957\n",
      "Epoch 8/50\n",
      "84/84 [==============================] - 21s 249ms/step - loss: 1.8543e-04 - accuracy: 1.0000 - val_loss: 0.0113 - val_accuracy: 0.9965\n",
      "Epoch 9/50\n",
      "84/84 [==============================] - 19s 227ms/step - loss: 8.9798e-05 - accuracy: 1.0000 - val_loss: 0.0113 - val_accuracy: 0.9965\n",
      "Epoch 00009: early stopping\n",
      "3/3 [==============================] - 1s 183ms/step - loss: 1.1182e-11 - accuracy: 1.0000\n"
     ]
    },
    {
     "name": "stderr",
     "output_type": "stream",
     "text": [
      " 23%|██▎       | 5/22 [20:12<1:01:22, 216.61s/it]"
     ]
    },
    {
     "name": "stdout",
     "output_type": "stream",
     "text": [
      "Epoch 1/50\n",
      "84/84 [==============================] - 19s 226ms/step - loss: 0.5092 - accuracy: 0.7316 - val_loss: 0.2244 - val_accuracy: 0.9166\n",
      "INFO:tensorflow:Assets written to: C:/Users/Leor/Desktop/Thesis/section_classification_models\\excluded_7\\assets\n",
      "Epoch 2/50\n",
      "84/84 [==============================] - 21s 243ms/step - loss: 0.1512 - accuracy: 0.9483 - val_loss: 0.0797 - val_accuracy: 0.9656\n",
      "INFO:tensorflow:Assets written to: C:/Users/Leor/Desktop/Thesis/section_classification_models\\excluded_7\\assets\n",
      "Epoch 3/50\n",
      "84/84 [==============================] - 21s 247ms/step - loss: 0.0130 - accuracy: 0.9955 - val_loss: 0.0062 - val_accuracy: 0.9972\n",
      "INFO:tensorflow:Assets written to: C:/Users/Leor/Desktop/Thesis/section_classification_models\\excluded_7\\assets\n",
      "Epoch 4/50\n",
      "84/84 [==============================] - 19s 222ms/step - loss: 0.0015 - accuracy: 0.9997 - val_loss: 0.0042 - val_accuracy: 0.9983\n",
      "INFO:tensorflow:Assets written to: C:/Users/Leor/Desktop/Thesis/section_classification_models\\excluded_7\\assets\n",
      "Epoch 5/50\n",
      "84/84 [==============================] - 21s 244ms/step - loss: 6.3070e-04 - accuracy: 0.9999 - val_loss: 0.0096 - val_accuracy: 0.9970\n",
      "Epoch 6/50\n",
      "84/84 [==============================] - 21s 246ms/step - loss: 7.0598e-05 - accuracy: 1.0000 - val_loss: 0.0037 - val_accuracy: 0.9983\n",
      "Epoch 7/50\n",
      "84/84 [==============================] - 20s 237ms/step - loss: 2.3960e-05 - accuracy: 1.0000 - val_loss: 0.0037 - val_accuracy: 0.9983\n",
      "Epoch 8/50\n",
      "84/84 [==============================] - 19s 224ms/step - loss: 1.3279e-05 - accuracy: 1.0000 - val_loss: 0.0043 - val_accuracy: 0.9983\n",
      "Epoch 9/50\n",
      "84/84 [==============================] - 19s 231ms/step - loss: 8.2062e-06 - accuracy: 1.0000 - val_loss: 0.0045 - val_accuracy: 0.9981\n",
      "Epoch 10/50\n",
      "84/84 [==============================] - 21s 246ms/step - loss: 5.2326e-06 - accuracy: 1.0000 - val_loss: 0.0044 - val_accuracy: 0.9981\n",
      "Epoch 11/50\n",
      "84/84 [==============================] - 20s 233ms/step - loss: 3.6621e-06 - accuracy: 1.0000 - val_loss: 0.0045 - val_accuracy: 0.9981\n",
      "Epoch 00011: early stopping\n",
      "3/3 [==============================] - 1s 203ms/step - loss: 9.0675e-10 - accuracy: 1.0000\n"
     ]
    },
    {
     "name": "stderr",
     "output_type": "stream",
     "text": [
      " 27%|██▋       | 6/22 [24:01<58:55, 220.97s/it]  "
     ]
    },
    {
     "name": "stdout",
     "output_type": "stream",
     "text": [
      "Epoch 1/50\n",
      "79/79 [==============================] - 19s 239ms/step - loss: 0.5033 - accuracy: 0.7416 - val_loss: 0.1865 - val_accuracy: 0.9444\n",
      "INFO:tensorflow:Assets written to: C:/Users/Leor/Desktop/Thesis/section_classification_models\\excluded_8\\assets\n",
      "Epoch 2/50\n",
      "79/79 [==============================] - 19s 239ms/step - loss: 0.0457 - accuracy: 0.9855 - val_loss: 0.0126 - val_accuracy: 0.9956\n",
      "INFO:tensorflow:Assets written to: C:/Users/Leor/Desktop/Thesis/section_classification_models\\excluded_8\\assets\n",
      "Epoch 3/50\n",
      "79/79 [==============================] - 20s 252ms/step - loss: 0.0055 - accuracy: 0.9983 - val_loss: 0.0102 - val_accuracy: 0.9964\n",
      "INFO:tensorflow:Assets written to: C:/Users/Leor/Desktop/Thesis/section_classification_models\\excluded_8\\assets\n",
      "Epoch 4/50\n",
      "79/79 [==============================] - 18s 229ms/step - loss: 0.0012 - accuracy: 0.9998 - val_loss: 0.0126 - val_accuracy: 0.9956\n",
      "Epoch 5/50\n",
      "79/79 [==============================] - 19s 241ms/step - loss: 0.0023 - accuracy: 0.9993 - val_loss: 0.0207 - val_accuracy: 0.9943\n",
      "Epoch 6/50\n",
      "79/79 [==============================] - 18s 222ms/step - loss: 0.0017 - accuracy: 0.9996 - val_loss: 0.0030 - val_accuracy: 0.9986\n",
      "INFO:tensorflow:Assets written to: C:/Users/Leor/Desktop/Thesis/section_classification_models\\excluded_8\\assets\n",
      "Epoch 7/50\n",
      "79/79 [==============================] - 19s 235ms/step - loss: 4.3292e-05 - accuracy: 1.0000 - val_loss: 0.0035 - val_accuracy: 0.9980\n",
      "Epoch 8/50\n",
      "79/79 [==============================] - 19s 239ms/step - loss: 3.1176e-05 - accuracy: 1.0000 - val_loss: 0.0031 - val_accuracy: 0.9984\n",
      "Epoch 9/50\n",
      "79/79 [==============================] - 18s 227ms/step - loss: 2.3354e-05 - accuracy: 1.0000 - val_loss: 0.0039 - val_accuracy: 0.9980\n",
      "Epoch 10/50\n",
      "79/79 [==============================] - 19s 236ms/step - loss: 1.8557e-05 - accuracy: 1.0000 - val_loss: 0.0036 - val_accuracy: 0.9982\n",
      "Epoch 11/50\n",
      "79/79 [==============================] - 19s 235ms/step - loss: 1.5120e-05 - accuracy: 1.0000 - val_loss: 0.0035 - val_accuracy: 0.9982\n",
      "Epoch 00011: early stopping\n",
      "9/9 [==============================] - 2s 183ms/step - loss: 1.7209 - accuracy: 0.4838\n"
     ]
    },
    {
     "name": "stderr",
     "output_type": "stream",
     "text": [
      " 32%|███▏      | 7/22 [27:38<54:56, 219.76s/it]"
     ]
    },
    {
     "name": "stdout",
     "output_type": "stream",
     "text": [
      "Epoch 1/50\n",
      "84/84 [==============================] - 21s 239ms/step - loss: 0.5196 - accuracy: 0.7166 - val_loss: 0.2394 - val_accuracy: 0.9189\n",
      "INFO:tensorflow:Assets written to: C:/Users/Leor/Desktop/Thesis/section_classification_models\\excluded_9\\assets\n",
      "Epoch 2/50\n",
      "84/84 [==============================] - 20s 233ms/step - loss: 0.1812 - accuracy: 0.9364 - val_loss: 0.1108 - val_accuracy: 0.9600\n",
      "INFO:tensorflow:Assets written to: C:/Users/Leor/Desktop/Thesis/section_classification_models\\excluded_9\\assets\n",
      "Epoch 3/50\n",
      "84/84 [==============================] - 21s 252ms/step - loss: 0.0245 - accuracy: 0.9931 - val_loss: 0.0152 - val_accuracy: 0.9946\n",
      "INFO:tensorflow:Assets written to: C:/Users/Leor/Desktop/Thesis/section_classification_models\\excluded_9\\assets\n",
      "Epoch 4/50\n",
      "84/84 [==============================] - 20s 236ms/step - loss: 0.0032 - accuracy: 0.9992 - val_loss: 0.0097 - val_accuracy: 0.9968\n",
      "INFO:tensorflow:Assets written to: C:/Users/Leor/Desktop/Thesis/section_classification_models\\excluded_9\\assets\n",
      "Epoch 5/50\n",
      "84/84 [==============================] - 20s 233ms/step - loss: 0.0011 - accuracy: 0.9998 - val_loss: 0.0056 - val_accuracy: 0.9978\n",
      "INFO:tensorflow:Assets written to: C:/Users/Leor/Desktop/Thesis/section_classification_models\\excluded_9\\assets\n",
      "Epoch 6/50\n",
      "84/84 [==============================] - 20s 234ms/step - loss: 0.0012 - accuracy: 0.9997 - val_loss: 0.0124 - val_accuracy: 0.9946\n",
      "Epoch 7/50\n",
      "84/84 [==============================] - 20s 236ms/step - loss: 2.5283e-04 - accuracy: 0.9999 - val_loss: 0.0025 - val_accuracy: 0.9989\n",
      "INFO:tensorflow:Assets written to: C:/Users/Leor/Desktop/Thesis/section_classification_models\\excluded_9\\assets\n",
      "Epoch 8/50\n",
      "84/84 [==============================] - 20s 234ms/step - loss: 3.4656e-05 - accuracy: 1.0000 - val_loss: 0.0029 - val_accuracy: 0.9987\n",
      "Epoch 9/50\n",
      "84/84 [==============================] - 19s 230ms/step - loss: 2.6047e-05 - accuracy: 1.0000 - val_loss: 0.0034 - val_accuracy: 0.9985\n",
      "Epoch 10/50\n",
      "84/84 [==============================] - 20s 242ms/step - loss: 1.9191e-05 - accuracy: 1.0000 - val_loss: 0.0033 - val_accuracy: 0.9985\n",
      "Epoch 11/50\n",
      "84/84 [==============================] - 19s 232ms/step - loss: 1.1973e-05 - accuracy: 1.0000 - val_loss: 0.0030 - val_accuracy: 0.9985\n",
      "Epoch 12/50\n",
      "84/84 [==============================] - 19s 228ms/step - loss: 8.1689e-06 - accuracy: 1.0000 - val_loss: 0.0032 - val_accuracy: 0.9987\n",
      "Epoch 00012: early stopping\n",
      "3/3 [==============================] - 1s 180ms/step - loss: 9.2819e-04 - accuracy: 1.0000\n"
     ]
    },
    {
     "name": "stderr",
     "output_type": "stream",
     "text": [
      " 36%|███▋      | 8/22 [31:51<53:42, 230.20s/it]"
     ]
    },
    {
     "name": "stdout",
     "output_type": "stream",
     "text": [
      "Epoch 1/50\n",
      "83/83 [==============================] - 21s 255ms/step - loss: 0.4917 - accuracy: 0.7381 - val_loss: 0.2072 - val_accuracy: 0.9234\n",
      "INFO:tensorflow:Assets written to: C:/Users/Leor/Desktop/Thesis/section_classification_models\\excluded_10\\assets\n",
      "Epoch 2/50\n",
      "83/83 [==============================] - 22s 257ms/step - loss: 0.1017 - accuracy: 0.9660 - val_loss: 0.0113 - val_accuracy: 0.9964\n",
      "INFO:tensorflow:Assets written to: C:/Users/Leor/Desktop/Thesis/section_classification_models\\excluded_10\\assets\n",
      "Epoch 3/50\n",
      "83/83 [==============================] - 19s 228ms/step - loss: 0.0076 - accuracy: 0.9975 - val_loss: 0.0064 - val_accuracy: 0.9975\n",
      "INFO:tensorflow:Assets written to: C:/Users/Leor/Desktop/Thesis/section_classification_models\\excluded_10\\assets\n",
      "Epoch 4/50\n",
      "83/83 [==============================] - 19s 228ms/step - loss: 0.0030 - accuracy: 0.9992 - val_loss: 0.0044 - val_accuracy: 0.9985\n",
      "INFO:tensorflow:Assets written to: C:/Users/Leor/Desktop/Thesis/section_classification_models\\excluded_10\\assets\n",
      "Epoch 5/50\n",
      "83/83 [==============================] - 20s 236ms/step - loss: 0.0020 - accuracy: 0.9994 - val_loss: 0.0016 - val_accuracy: 0.9996\n",
      "INFO:tensorflow:Assets written to: C:/Users/Leor/Desktop/Thesis/section_classification_models\\excluded_10\\assets\n",
      "Epoch 6/50\n",
      "83/83 [==============================] - 19s 230ms/step - loss: 9.5910e-05 - accuracy: 1.0000 - val_loss: 0.0019 - val_accuracy: 0.9994\n",
      "Epoch 7/50\n",
      "83/83 [==============================] - 20s 237ms/step - loss: 3.2349e-05 - accuracy: 1.0000 - val_loss: 0.0013 - val_accuracy: 0.9992\n",
      "Epoch 8/50\n",
      "83/83 [==============================] - 19s 233ms/step - loss: 1.9682e-05 - accuracy: 1.0000 - val_loss: 0.0014 - val_accuracy: 0.9996\n",
      "Epoch 9/50\n",
      "83/83 [==============================] - 19s 234ms/step - loss: 1.0164e-05 - accuracy: 1.0000 - val_loss: 0.0014 - val_accuracy: 0.9996\n",
      "Epoch 10/50\n",
      "83/83 [==============================] - 19s 232ms/step - loss: 5.2968e-06 - accuracy: 1.0000 - val_loss: 0.0014 - val_accuracy: 0.9992\n",
      "Epoch 11/50\n",
      "83/83 [==============================] - 19s 233ms/step - loss: 3.5038e-06 - accuracy: 1.0000 - val_loss: 0.0014 - val_accuracy: 0.9992\n",
      "Epoch 12/50\n",
      "83/83 [==============================] - 21s 250ms/step - loss: 2.3669e-06 - accuracy: 1.0000 - val_loss: 0.0014 - val_accuracy: 0.9992\n",
      "Epoch 00012: early stopping\n",
      "4/4 [==============================] - 1s 194ms/step - loss: 0.1081 - accuracy: 0.9741\n"
     ]
    },
    {
     "name": "stderr",
     "output_type": "stream",
     "text": [
      " 41%|████      | 9/22 [36:01<51:12, 236.31s/it]"
     ]
    },
    {
     "name": "stdout",
     "output_type": "stream",
     "text": [
      "Epoch 1/50\n",
      "81/81 [==============================] - 19s 231ms/step - loss: 0.5149 - accuracy: 0.7244 - val_loss: 0.2745 - val_accuracy: 0.9052\n",
      "INFO:tensorflow:Assets written to: C:/Users/Leor/Desktop/Thesis/section_classification_models\\excluded_11\\assets\n",
      "Epoch 2/50\n",
      "81/81 [==============================] - 18s 227ms/step - loss: 0.1573 - accuracy: 0.9451 - val_loss: 0.0266 - val_accuracy: 0.9918\n",
      "INFO:tensorflow:Assets written to: C:/Users/Leor/Desktop/Thesis/section_classification_models\\excluded_11\\assets\n",
      "Epoch 3/50\n",
      "81/81 [==============================] - 20s 240ms/step - loss: 0.0587 - accuracy: 0.9813 - val_loss: 0.0430 - val_accuracy: 0.9865\n",
      "Epoch 4/50\n",
      "81/81 [==============================] - 19s 235ms/step - loss: 0.0075 - accuracy: 0.9978 - val_loss: 0.0069 - val_accuracy: 0.9975\n",
      "INFO:tensorflow:Assets written to: C:/Users/Leor/Desktop/Thesis/section_classification_models\\excluded_11\\assets\n",
      "Epoch 5/50\n",
      "81/81 [==============================] - 20s 241ms/step - loss: 0.0021 - accuracy: 0.9996 - val_loss: 0.0041 - val_accuracy: 0.9986\n",
      "INFO:tensorflow:Assets written to: C:/Users/Leor/Desktop/Thesis/section_classification_models\\excluded_11\\assets\n",
      "Epoch 6/50\n",
      "81/81 [==============================] - 18s 229ms/step - loss: 9.8944e-04 - accuracy: 0.9999 - val_loss: 0.0041 - val_accuracy: 0.9986\n",
      "Epoch 7/50\n",
      "81/81 [==============================] - 20s 242ms/step - loss: 4.0905e-04 - accuracy: 1.0000 - val_loss: 0.0033 - val_accuracy: 0.9988\n",
      "INFO:tensorflow:Assets written to: C:/Users/Leor/Desktop/Thesis/section_classification_models\\excluded_11\\assets\n",
      "Epoch 8/50\n",
      "81/81 [==============================] - 20s 250ms/step - loss: 1.8083e-04 - accuracy: 1.0000 - val_loss: 0.0033 - val_accuracy: 0.9982\n",
      "Epoch 9/50\n",
      "81/81 [==============================] - 19s 234ms/step - loss: 1.1926e-04 - accuracy: 1.0000 - val_loss: 0.0031 - val_accuracy: 0.9990\n",
      "INFO:tensorflow:Assets written to: C:/Users/Leor/Desktop/Thesis/section_classification_models\\excluded_11\\assets\n",
      "Epoch 10/50\n",
      "81/81 [==============================] - 19s 234ms/step - loss: 8.4943e-05 - accuracy: 1.0000 - val_loss: 0.0030 - val_accuracy: 0.9990\n",
      "Epoch 11/50\n",
      "81/81 [==============================] - 19s 231ms/step - loss: 6.1904e-05 - accuracy: 1.0000 - val_loss: 0.0031 - val_accuracy: 0.9990\n",
      "Epoch 12/50\n",
      "81/81 [==============================] - 18s 223ms/step - loss: 1.5452e-05 - accuracy: 1.0000 - val_loss: 0.0032 - val_accuracy: 0.9988\n",
      "Epoch 13/50\n",
      "81/81 [==============================] - 19s 232ms/step - loss: 5.1464e-06 - accuracy: 1.0000 - val_loss: 0.0034 - val_accuracy: 0.9986\n",
      "Epoch 14/50\n",
      "81/81 [==============================] - 18s 224ms/step - loss: 3.5369e-06 - accuracy: 1.0000 - val_loss: 0.0034 - val_accuracy: 0.9986\n",
      "Epoch 00014: early stopping\n",
      "7/7 [==============================] - 2s 206ms/step - loss: 4.1207e-08 - accuracy: 1.0000\n"
     ]
    },
    {
     "name": "stderr",
     "output_type": "stream",
     "text": [
      " 45%|████▌     | 10/22 [40:42<50:02, 250.21s/it]"
     ]
    },
    {
     "name": "stdout",
     "output_type": "stream",
     "text": [
      "Epoch 1/50\n",
      "78/78 [==============================] - 20s 252ms/step - loss: 0.5676 - accuracy: 0.6899 - val_loss: 0.3265 - val_accuracy: 0.9149\n",
      "INFO:tensorflow:Assets written to: C:/Users/Leor/Desktop/Thesis/section_classification_models\\excluded_12\\assets\n",
      "Epoch 2/50\n",
      "78/78 [==============================] - 18s 234ms/step - loss: 0.1530 - accuracy: 0.9559 - val_loss: 0.0490 - val_accuracy: 0.9865\n",
      "INFO:tensorflow:Assets written to: C:/Users/Leor/Desktop/Thesis/section_classification_models\\excluded_12\\assets\n",
      "Epoch 3/50\n",
      "78/78 [==============================] - 18s 227ms/step - loss: 0.0180 - accuracy: 0.9952 - val_loss: 0.0110 - val_accuracy: 0.9962\n",
      "INFO:tensorflow:Assets written to: C:/Users/Leor/Desktop/Thesis/section_classification_models\\excluded_12\\assets\n",
      "Epoch 4/50\n",
      "78/78 [==============================] - 18s 226ms/step - loss: 0.0052 - accuracy: 0.9986 - val_loss: 0.0067 - val_accuracy: 0.9978\n",
      "INFO:tensorflow:Assets written to: C:/Users/Leor/Desktop/Thesis/section_classification_models\\excluded_12\\assets\n",
      "Epoch 5/50\n",
      "78/78 [==============================] - 18s 233ms/step - loss: 0.0023 - accuracy: 0.9995 - val_loss: 0.0057 - val_accuracy: 0.9984\n",
      "INFO:tensorflow:Assets written to: C:/Users/Leor/Desktop/Thesis/section_classification_models\\excluded_12\\assets\n",
      "Epoch 6/50\n",
      "78/78 [==============================] - 20s 249ms/step - loss: 7.1689e-04 - accuracy: 0.9999 - val_loss: 0.0053 - val_accuracy: 0.9984\n",
      "Epoch 7/50\n",
      "78/78 [==============================] - 18s 233ms/step - loss: 3.5671e-04 - accuracy: 1.0000 - val_loss: 0.0044 - val_accuracy: 0.9984\n",
      "Epoch 8/50\n",
      "78/78 [==============================] - 19s 240ms/step - loss: 2.3844e-04 - accuracy: 1.0000 - val_loss: 0.0045 - val_accuracy: 0.9988\n",
      "INFO:tensorflow:Assets written to: C:/Users/Leor/Desktop/Thesis/section_classification_models\\excluded_12\\assets\n",
      "Epoch 9/50\n",
      "78/78 [==============================] - 18s 232ms/step - loss: 1.7872e-04 - accuracy: 1.0000 - val_loss: 0.0042 - val_accuracy: 0.9986\n",
      "Epoch 10/50\n",
      "78/78 [==============================] - 18s 234ms/step - loss: 1.3216e-04 - accuracy: 1.0000 - val_loss: 0.0043 - val_accuracy: 0.9984\n",
      "Epoch 11/50\n",
      "78/78 [==============================] - 19s 238ms/step - loss: 1.0295e-04 - accuracy: 1.0000 - val_loss: 0.0042 - val_accuracy: 0.9986\n",
      "Epoch 12/50\n",
      "78/78 [==============================] - 19s 240ms/step - loss: 6.7681e-05 - accuracy: 1.0000 - val_loss: 0.0044 - val_accuracy: 0.9988\n",
      "Epoch 13/50\n",
      "78/78 [==============================] - 18s 229ms/step - loss: 2.1708e-05 - accuracy: 1.0000 - val_loss: 0.0044 - val_accuracy: 0.9986\n",
      "Epoch 14/50\n",
      "78/78 [==============================] - 20s 253ms/step - loss: 1.0137e-05 - accuracy: 1.0000 - val_loss: 0.0045 - val_accuracy: 0.9986\n",
      "Epoch 00014: early stopping\n",
      "11/11 [==============================] - 2s 204ms/step - loss: 9.7051e-06 - accuracy: 1.0000\n"
     ]
    },
    {
     "name": "stderr",
     "output_type": "stream",
     "text": [
      " 50%|█████     | 11/22 [45:18<47:17, 257.99s/it]"
     ]
    },
    {
     "name": "stdout",
     "output_type": "stream",
     "text": [
      "Epoch 1/50\n",
      "82/82 [==============================] - 21s 248ms/step - loss: 0.4960 - accuracy: 0.7484 - val_loss: 0.2452 - val_accuracy: 0.9212\n",
      "INFO:tensorflow:Assets written to: C:/Users/Leor/Desktop/Thesis/section_classification_models\\excluded_13\\assets\n",
      "Epoch 2/50\n",
      "82/82 [==============================] - 20s 247ms/step - loss: 0.0501 - accuracy: 0.9858 - val_loss: 0.0085 - val_accuracy: 0.9966\n",
      "INFO:tensorflow:Assets written to: C:/Users/Leor/Desktop/Thesis/section_classification_models\\excluded_13\\assets\n",
      "Epoch 3/50\n",
      "82/82 [==============================] - 21s 249ms/step - loss: 0.0054 - accuracy: 0.9984 - val_loss: 0.0038 - val_accuracy: 0.9994\n",
      "INFO:tensorflow:Assets written to: C:/Users/Leor/Desktop/Thesis/section_classification_models\\excluded_13\\assets\n",
      "Epoch 4/50\n",
      "82/82 [==============================] - 21s 254ms/step - loss: 0.0013 - accuracy: 0.9998 - val_loss: 0.0022 - val_accuracy: 0.9989\n",
      "Epoch 5/50\n",
      "82/82 [==============================] - 19s 237ms/step - loss: 3.9839e-04 - accuracy: 0.9999 - val_loss: 0.0024 - val_accuracy: 0.9989\n",
      "Epoch 6/50\n",
      "82/82 [==============================] - 19s 237ms/step - loss: 6.4034e-05 - accuracy: 1.0000 - val_loss: 0.0027 - val_accuracy: 0.9992\n",
      "Epoch 7/50\n",
      "82/82 [==============================] - 19s 232ms/step - loss: 3.5974e-05 - accuracy: 1.0000 - val_loss: 0.0021 - val_accuracy: 0.9987\n",
      "Epoch 8/50\n",
      "82/82 [==============================] - 21s 259ms/step - loss: 2.1836e-05 - accuracy: 1.0000 - val_loss: 0.0020 - val_accuracy: 0.9987\n",
      "Epoch 9/50\n",
      "82/82 [==============================] - 19s 236ms/step - loss: 1.5023e-05 - accuracy: 1.0000 - val_loss: 0.0020 - val_accuracy: 0.9990\n",
      "Epoch 10/50\n",
      "82/82 [==============================] - 21s 259ms/step - loss: 8.8376e-06 - accuracy: 1.0000 - val_loss: 0.0020 - val_accuracy: 0.9992\n",
      "Epoch 11/50\n",
      "82/82 [==============================] - 20s 242ms/step - loss: 5.2457e-06 - accuracy: 1.0000 - val_loss: 0.0021 - val_accuracy: 0.9992\n",
      "Epoch 12/50\n",
      "82/82 [==============================] - 19s 234ms/step - loss: 3.5854e-06 - accuracy: 1.0000 - val_loss: 0.0021 - val_accuracy: 0.9990\n",
      "Epoch 00012: early stopping\n",
      "5/5 [==============================] - 1s 195ms/step - loss: 2.3110e-04 - accuracy: 1.0000\n"
     ]
    },
    {
     "name": "stderr",
     "output_type": "stream",
     "text": [
      " 55%|█████▍    | 12/22 [49:28<42:35, 255.55s/it]"
     ]
    },
    {
     "name": "stdout",
     "output_type": "stream",
     "text": [
      "Epoch 1/50\n",
      "80/80 [==============================] - 21s 253ms/step - loss: 0.5542 - accuracy: 0.6852 - val_loss: 0.3119 - val_accuracy: 0.9180\n",
      "INFO:tensorflow:Assets written to: C:/Users/Leor/Desktop/Thesis/section_classification_models\\excluded_14\\assets\n",
      "Epoch 2/50\n",
      "80/80 [==============================] - 20s 253ms/step - loss: 0.2230 - accuracy: 0.9267 - val_loss: 0.1404 - val_accuracy: 0.9479\n",
      "INFO:tensorflow:Assets written to: C:/Users/Leor/Desktop/Thesis/section_classification_models\\excluded_14\\assets\n",
      "Epoch 3/50\n",
      "80/80 [==============================] - 19s 233ms/step - loss: 0.0365 - accuracy: 0.9884 - val_loss: 0.0135 - val_accuracy: 0.9959\n",
      "INFO:tensorflow:Assets written to: C:/Users/Leor/Desktop/Thesis/section_classification_models\\excluded_14\\assets\n",
      "Epoch 4/50\n",
      "80/80 [==============================] - 20s 246ms/step - loss: 0.0043 - accuracy: 0.9990 - val_loss: 0.0158 - val_accuracy: 0.9939\n",
      "Epoch 5/50\n",
      "80/80 [==============================] - 19s 241ms/step - loss: 0.0028 - accuracy: 0.9988 - val_loss: 0.0119 - val_accuracy: 0.9967\n",
      "INFO:tensorflow:Assets written to: C:/Users/Leor/Desktop/Thesis/section_classification_models\\excluded_14\\assets\n",
      "Epoch 6/50\n",
      "80/80 [==============================] - 18s 231ms/step - loss: 1.0152e-04 - accuracy: 1.0000 - val_loss: 0.0046 - val_accuracy: 0.9990\n",
      "INFO:tensorflow:Assets written to: C:/Users/Leor/Desktop/Thesis/section_classification_models\\excluded_14\\assets\n",
      "Epoch 7/50\n",
      "80/80 [==============================] - 18s 231ms/step - loss: 4.8936e-05 - accuracy: 1.0000 - val_loss: 0.0052 - val_accuracy: 0.9982\n",
      "Epoch 8/50\n",
      "80/80 [==============================] - 18s 228ms/step - loss: 2.4064e-05 - accuracy: 1.0000 - val_loss: 0.0060 - val_accuracy: 0.9980\n",
      "Epoch 9/50\n",
      "80/80 [==============================] - 19s 233ms/step - loss: 1.2158e-05 - accuracy: 1.0000 - val_loss: 0.0059 - val_accuracy: 0.9982\n",
      "Epoch 10/50\n",
      "80/80 [==============================] - 18s 228ms/step - loss: 5.9955e-06 - accuracy: 1.0000 - val_loss: 0.0069 - val_accuracy: 0.9982\n",
      "Epoch 11/50\n",
      "80/80 [==============================] - 18s 224ms/step - loss: 3.4967e-06 - accuracy: 1.0000 - val_loss: 0.0066 - val_accuracy: 0.9982\n",
      "Epoch 00011: early stopping\n",
      "8/8 [==============================] - 2s 190ms/step - loss: 0.0040 - accuracy: 0.9985\n"
     ]
    },
    {
     "name": "stderr",
     "output_type": "stream",
     "text": [
      " 59%|█████▉    | 13/22 [53:10<36:48, 245.35s/it]"
     ]
    },
    {
     "name": "stdout",
     "output_type": "stream",
     "text": [
      "Epoch 1/50\n",
      "82/82 [==============================] - 20s 238ms/step - loss: 0.5082 - accuracy: 0.7264 - val_loss: 0.2297 - val_accuracy: 0.9306\n",
      "INFO:tensorflow:Assets written to: C:/Users/Leor/Desktop/Thesis/section_classification_models\\excluded_15\\assets\n",
      "Epoch 2/50\n",
      "82/82 [==============================] - 20s 242ms/step - loss: 0.1877 - accuracy: 0.9349 - val_loss: 0.1778 - val_accuracy: 0.9353\n",
      "INFO:tensorflow:Assets written to: C:/Users/Leor/Desktop/Thesis/section_classification_models\\excluded_15\\assets\n",
      "Epoch 3/50\n",
      "82/82 [==============================] - 19s 224ms/step - loss: 0.1176 - accuracy: 0.9401 - val_loss: 0.0646 - val_accuracy: 0.9349\n",
      "Epoch 4/50\n",
      "82/82 [==============================] - 19s 234ms/step - loss: 0.0369 - accuracy: 0.9882 - val_loss: 0.0096 - val_accuracy: 0.9977\n",
      "INFO:tensorflow:Assets written to: C:/Users/Leor/Desktop/Thesis/section_classification_models\\excluded_15\\assets\n",
      "Epoch 5/50\n",
      "82/82 [==============================] - 20s 237ms/step - loss: 0.0030 - accuracy: 0.9992 - val_loss: 0.0025 - val_accuracy: 0.9990\n",
      "INFO:tensorflow:Assets written to: C:/Users/Leor/Desktop/Thesis/section_classification_models\\excluded_15\\assets\n",
      "Epoch 6/50\n",
      "82/82 [==============================] - 20s 245ms/step - loss: 0.0013 - accuracy: 0.9997 - val_loss: 0.0104 - val_accuracy: 0.9960\n",
      "Epoch 7/50\n",
      "82/82 [==============================] - 20s 241ms/step - loss: 0.0010 - accuracy: 0.9997 - val_loss: 0.0040 - val_accuracy: 0.9987\n",
      "Epoch 8/50\n",
      "82/82 [==============================] - 19s 236ms/step - loss: 8.6937e-04 - accuracy: 0.9996 - val_loss: 9.1090e-04 - val_accuracy: 0.9998\n",
      "INFO:tensorflow:Assets written to: C:/Users/Leor/Desktop/Thesis/section_classification_models\\excluded_15\\assets\n",
      "Epoch 9/50\n",
      "82/82 [==============================] - 20s 244ms/step - loss: 2.8290e-05 - accuracy: 1.0000 - val_loss: 0.0014 - val_accuracy: 0.9992\n",
      "Epoch 10/50\n",
      "82/82 [==============================] - 21s 252ms/step - loss: 1.8612e-05 - accuracy: 1.0000 - val_loss: 0.0012 - val_accuracy: 0.9994\n",
      "Epoch 11/50\n",
      "82/82 [==============================] - 20s 242ms/step - loss: 1.3565e-05 - accuracy: 1.0000 - val_loss: 0.0011 - val_accuracy: 0.9994\n",
      "Epoch 12/50\n",
      "82/82 [==============================] - 20s 244ms/step - loss: 8.9656e-06 - accuracy: 1.0000 - val_loss: 0.0010 - val_accuracy: 0.9996\n",
      "Epoch 13/50\n",
      "82/82 [==============================] - 20s 243ms/step - loss: 4.7706e-06 - accuracy: 1.0000 - val_loss: 0.0010 - val_accuracy: 0.9996\n",
      "Epoch 00013: early stopping\n",
      "5/5 [==============================] - 1s 187ms/step - loss: 7.2122 - accuracy: 0.2690\n"
     ]
    },
    {
     "name": "stderr",
     "output_type": "stream",
     "text": [
      " 64%|██████▎   | 14/22 [57:39<33:41, 252.65s/it]"
     ]
    },
    {
     "name": "stdout",
     "output_type": "stream",
     "text": [
      "Epoch 1/50\n",
      "82/82 [==============================] - 19s 233ms/step - loss: 0.5160 - accuracy: 0.7265 - val_loss: 0.2344 - val_accuracy: 0.9170\n",
      "INFO:tensorflow:Assets written to: C:/Users/Leor/Desktop/Thesis/section_classification_models\\excluded_16\\assets\n",
      "Epoch 2/50\n",
      "82/82 [==============================] - 19s 224ms/step - loss: 0.1658 - accuracy: 0.9403 - val_loss: 0.0815 - val_accuracy: 0.9664\n",
      "INFO:tensorflow:Assets written to: C:/Users/Leor/Desktop/Thesis/section_classification_models\\excluded_16\\assets\n",
      "Epoch 3/50\n",
      "82/82 [==============================] - 18s 222ms/step - loss: 0.0230 - accuracy: 0.9925 - val_loss: 0.0138 - val_accuracy: 0.9956\n",
      "INFO:tensorflow:Assets written to: C:/Users/Leor/Desktop/Thesis/section_classification_models\\excluded_16\\assets\n",
      "Epoch 4/50\n",
      "82/82 [==============================] - 20s 242ms/step - loss: 0.0031 - accuracy: 0.9992 - val_loss: 0.0343 - val_accuracy: 0.9889\n",
      "Epoch 5/50\n",
      "82/82 [==============================] - 20s 245ms/step - loss: 7.4006e-04 - accuracy: 0.9998 - val_loss: 0.0081 - val_accuracy: 0.9973\n",
      "INFO:tensorflow:Assets written to: C:/Users/Leor/Desktop/Thesis/section_classification_models\\excluded_16\\assets\n",
      "Epoch 6/50\n",
      "82/82 [==============================] - 20s 237ms/step - loss: 1.0519e-04 - accuracy: 1.0000 - val_loss: 0.0104 - val_accuracy: 0.9977\n",
      "INFO:tensorflow:Assets written to: C:/Users/Leor/Desktop/Thesis/section_classification_models\\excluded_16\\assets\n",
      "Epoch 7/50\n",
      "82/82 [==============================] - 20s 240ms/step - loss: 4.5953e-05 - accuracy: 1.0000 - val_loss: 0.0078 - val_accuracy: 0.9975\n",
      "Epoch 8/50\n",
      "82/82 [==============================] - 20s 247ms/step - loss: 1.4949e-05 - accuracy: 1.0000 - val_loss: 0.0081 - val_accuracy: 0.9975\n",
      "Epoch 9/50\n",
      "82/82 [==============================] - 19s 237ms/step - loss: 9.2085e-06 - accuracy: 1.0000 - val_loss: 0.0084 - val_accuracy: 0.9975\n",
      "Epoch 10/50\n",
      "82/82 [==============================] - 20s 240ms/step - loss: 6.6231e-06 - accuracy: 1.0000 - val_loss: 0.0084 - val_accuracy: 0.9977\n",
      "Epoch 11/50\n",
      "82/82 [==============================] - 20s 246ms/step - loss: 5.2191e-06 - accuracy: 1.0000 - val_loss: 0.0086 - val_accuracy: 0.9979\n",
      "INFO:tensorflow:Assets written to: C:/Users/Leor/Desktop/Thesis/section_classification_models\\excluded_16\\assets\n",
      "Epoch 12/50\n",
      "82/82 [==============================] - 19s 236ms/step - loss: 4.1229e-06 - accuracy: 1.0000 - val_loss: 0.0089 - val_accuracy: 0.9977\n",
      "Epoch 00012: early stopping\n",
      "6/6 [==============================] - 1s 122ms/step - loss: 1.7254 - accuracy: 0.7446\n"
     ]
    },
    {
     "name": "stderr",
     "output_type": "stream",
     "text": [
      " 68%|██████▊   | 15/22 [1:01:48<29:20, 251.47s/it]"
     ]
    },
    {
     "name": "stdout",
     "output_type": "stream",
     "text": [
      "Epoch 1/50\n",
      "83/83 [==============================] - 21s 250ms/step - loss: 0.5119 - accuracy: 0.7273 - val_loss: 0.2171 - val_accuracy: 0.9176\n",
      "INFO:tensorflow:Assets written to: C:/Users/Leor/Desktop/Thesis/section_classification_models\\excluded_18\\assets\n",
      "Epoch 2/50\n",
      "83/83 [==============================] - 20s 241ms/step - loss: 0.1294 - accuracy: 0.9554 - val_loss: 0.0284 - val_accuracy: 0.9907\n",
      "INFO:tensorflow:Assets written to: C:/Users/Leor/Desktop/Thesis/section_classification_models\\excluded_18\\assets\n",
      "Epoch 3/50\n",
      "83/83 [==============================] - 20s 238ms/step - loss: 0.0110 - accuracy: 0.9966 - val_loss: 0.0305 - val_accuracy: 0.9886\n",
      "Epoch 4/50\n",
      "83/83 [==============================] - 19s 232ms/step - loss: 0.0101 - accuracy: 0.9964 - val_loss: 0.0135 - val_accuracy: 0.9966\n",
      "INFO:tensorflow:Assets written to: C:/Users/Leor/Desktop/Thesis/section_classification_models\\excluded_18\\assets\n",
      "Epoch 5/50\n",
      "83/83 [==============================] - 20s 240ms/step - loss: 9.8681e-04 - accuracy: 0.9997 - val_loss: 0.0085 - val_accuracy: 0.9981\n",
      "INFO:tensorflow:Assets written to: C:/Users/Leor/Desktop/Thesis/section_classification_models\\excluded_18\\assets\n",
      "Epoch 6/50\n",
      "83/83 [==============================] - 20s 236ms/step - loss: 1.1439e-04 - accuracy: 1.0000 - val_loss: 0.0065 - val_accuracy: 0.9985\n",
      "INFO:tensorflow:Assets written to: C:/Users/Leor/Desktop/Thesis/section_classification_models\\excluded_18\\assets\n",
      "Epoch 7/50\n",
      "83/83 [==============================] - 20s 237ms/step - loss: 3.2478e-05 - accuracy: 1.0000 - val_loss: 0.0069 - val_accuracy: 0.9985\n",
      "Epoch 8/50\n",
      "83/83 [==============================] - 20s 246ms/step - loss: 1.0781e-05 - accuracy: 1.0000 - val_loss: 0.0069 - val_accuracy: 0.9989\n",
      "INFO:tensorflow:Assets written to: C:/Users/Leor/Desktop/Thesis/section_classification_models\\excluded_18\\assets\n",
      "Epoch 9/50\n",
      "83/83 [==============================] - 21s 254ms/step - loss: 6.5657e-06 - accuracy: 1.0000 - val_loss: 0.0072 - val_accuracy: 0.9989\n",
      "Epoch 10/50\n",
      "83/83 [==============================] - 20s 246ms/step - loss: 4.6934e-06 - accuracy: 1.0000 - val_loss: 0.0072 - val_accuracy: 0.9987\n",
      "Epoch 11/50\n",
      "83/83 [==============================] - 20s 235ms/step - loss: 3.5790e-06 - accuracy: 1.0000 - val_loss: 0.0074 - val_accuracy: 0.9989\n",
      "Epoch 00011: early stopping\n",
      "4/4 [==============================] - 1s 217ms/step - loss: 0.0093 - accuracy: 0.9969\n"
     ]
    },
    {
     "name": "stderr",
     "output_type": "stream",
     "text": [
      " 73%|███████▎  | 16/22 [1:05:43<24:40, 246.73s/it]"
     ]
    },
    {
     "name": "stdout",
     "output_type": "stream",
     "text": [
      "Epoch 1/50\n",
      "84/84 [==============================] - 21s 246ms/step - loss: 0.5051 - accuracy: 0.7361 - val_loss: 0.2785 - val_accuracy: 0.8979\n",
      "INFO:tensorflow:Assets written to: C:/Users/Leor/Desktop/Thesis/section_classification_models\\excluded_19\\assets\n",
      "Epoch 2/50\n",
      "84/84 [==============================] - 20s 234ms/step - loss: 0.1819 - accuracy: 0.9357 - val_loss: 0.0719 - val_accuracy: 0.9792\n",
      "INFO:tensorflow:Assets written to: C:/Users/Leor/Desktop/Thesis/section_classification_models\\excluded_19\\assets\n",
      "Epoch 3/50\n",
      "84/84 [==============================] - 20s 241ms/step - loss: 0.0217 - accuracy: 0.9935 - val_loss: 0.0081 - val_accuracy: 0.9964\n",
      "INFO:tensorflow:Assets written to: C:/Users/Leor/Desktop/Thesis/section_classification_models\\excluded_19\\assets\n",
      "Epoch 4/50\n",
      "84/84 [==============================] - 21s 245ms/step - loss: 0.0033 - accuracy: 0.9991 - val_loss: 0.0070 - val_accuracy: 0.9972\n",
      "INFO:tensorflow:Assets written to: C:/Users/Leor/Desktop/Thesis/section_classification_models\\excluded_19\\assets\n",
      "Epoch 5/50\n",
      "84/84 [==============================] - 19s 228ms/step - loss: 9.8233e-04 - accuracy: 0.9998 - val_loss: 0.0051 - val_accuracy: 0.9978\n",
      "INFO:tensorflow:Assets written to: C:/Users/Leor/Desktop/Thesis/section_classification_models\\excluded_19\\assets\n",
      "Epoch 6/50\n",
      "84/84 [==============================] - 19s 226ms/step - loss: 1.0236e-04 - accuracy: 1.0000 - val_loss: 0.0054 - val_accuracy: 0.9979\n",
      "INFO:tensorflow:Assets written to: C:/Users/Leor/Desktop/Thesis/section_classification_models\\excluded_19\\assets\n",
      "Epoch 7/50\n",
      "84/84 [==============================] - 19s 221ms/step - loss: 4.0579e-05 - accuracy: 1.0000 - val_loss: 0.0057 - val_accuracy: 0.9979\n",
      "Epoch 8/50\n",
      "84/84 [==============================] - 19s 227ms/step - loss: 1.7281e-05 - accuracy: 1.0000 - val_loss: 0.0064 - val_accuracy: 0.9978\n",
      "Epoch 9/50\n",
      "84/84 [==============================] - 21s 246ms/step - loss: 9.6547e-06 - accuracy: 1.0000 - val_loss: 0.0060 - val_accuracy: 0.9979\n",
      "Epoch 10/50\n",
      "84/84 [==============================] - 20s 239ms/step - loss: 5.8967e-06 - accuracy: 1.0000 - val_loss: 0.0064 - val_accuracy: 0.9978\n",
      "Epoch 00010: early stopping\n",
      "3/3 [==============================] - 1s 167ms/step - loss: 0.0233 - accuracy: 0.9897\n"
     ]
    },
    {
     "name": "stderr",
     "output_type": "stream",
     "text": [
      " 77%|███████▋  | 17/22 [1:09:16<19:42, 236.43s/it]"
     ]
    },
    {
     "name": "stdout",
     "output_type": "stream",
     "text": [
      "Epoch 1/50\n",
      "82/82 [==============================] - 21s 248ms/step - loss: 0.4989 - accuracy: 0.7427 - val_loss: 0.1954 - val_accuracy: 0.9264\n",
      "INFO:tensorflow:Assets written to: C:/Users/Leor/Desktop/Thesis/section_classification_models\\excluded_20\\assets\n",
      "Epoch 2/50\n",
      "82/82 [==============================] - 21s 249ms/step - loss: 0.0755 - accuracy: 0.9742 - val_loss: 0.0239 - val_accuracy: 0.9914\n",
      "INFO:tensorflow:Assets written to: C:/Users/Leor/Desktop/Thesis/section_classification_models\\excluded_20\\assets\n",
      "Epoch 3/50\n",
      "82/82 [==============================] - 20s 242ms/step - loss: 0.0040 - accuracy: 0.9987 - val_loss: 0.0047 - val_accuracy: 0.9983\n",
      "INFO:tensorflow:Assets written to: C:/Users/Leor/Desktop/Thesis/section_classification_models\\excluded_20\\assets\n",
      "Epoch 4/50\n",
      "82/82 [==============================] - 21s 258ms/step - loss: 0.0472 - accuracy: 0.9866 - val_loss: 0.0107 - val_accuracy: 0.9962\n",
      "Epoch 5/50\n",
      "82/82 [==============================] - 19s 236ms/step - loss: 0.0014 - accuracy: 0.9999 - val_loss: 0.0032 - val_accuracy: 0.9992\n",
      "INFO:tensorflow:Assets written to: C:/Users/Leor/Desktop/Thesis/section_classification_models\\excluded_20\\assets\n",
      "Epoch 6/50\n",
      "82/82 [==============================] - 19s 231ms/step - loss: 5.7668e-04 - accuracy: 1.0000 - val_loss: 0.0026 - val_accuracy: 0.9992\n",
      "Epoch 7/50\n",
      "82/82 [==============================] - 21s 252ms/step - loss: 3.0970e-04 - accuracy: 1.0000 - val_loss: 0.0022 - val_accuracy: 0.9994\n",
      "INFO:tensorflow:Assets written to: C:/Users/Leor/Desktop/Thesis/section_classification_models\\excluded_20\\assets\n",
      "Epoch 8/50\n",
      "82/82 [==============================] - 19s 230ms/step - loss: 1.8090e-04 - accuracy: 1.0000 - val_loss: 0.0018 - val_accuracy: 0.9994\n",
      "Epoch 9/50\n",
      "82/82 [==============================] - 20s 241ms/step - loss: 1.2769e-04 - accuracy: 1.0000 - val_loss: 0.0016 - val_accuracy: 0.9994\n",
      "Epoch 10/50\n",
      "82/82 [==============================] - 20s 248ms/step - loss: 9.2165e-05 - accuracy: 1.0000 - val_loss: 0.0016 - val_accuracy: 0.9994\n",
      "Epoch 11/50\n",
      "82/82 [==============================] - 20s 246ms/step - loss: 7.1416e-05 - accuracy: 1.0000 - val_loss: 0.0015 - val_accuracy: 0.9994\n",
      "Epoch 12/50\n",
      "82/82 [==============================] - 19s 232ms/step - loss: 5.8000e-05 - accuracy: 1.0000 - val_loss: 0.0016 - val_accuracy: 0.9992\n",
      "Epoch 13/50\n",
      "82/82 [==============================] - 23s 283ms/step - loss: 4.7062e-05 - accuracy: 1.0000 - val_loss: 0.0015 - val_accuracy: 0.9994\n",
      "Epoch 14/50\n",
      "82/82 [==============================] - 19s 235ms/step - loss: 3.8788e-05 - accuracy: 1.0000 - val_loss: 0.0014 - val_accuracy: 0.9994\n",
      "Epoch 15/50\n",
      "82/82 [==============================] - 20s 239ms/step - loss: 3.2906e-05 - accuracy: 1.0000 - val_loss: 0.0014 - val_accuracy: 0.9994\n",
      "Epoch 16/50\n",
      "82/82 [==============================] - 20s 246ms/step - loss: 2.8030e-05 - accuracy: 1.0000 - val_loss: 0.0014 - val_accuracy: 0.9994\n",
      "Epoch 17/50\n",
      "82/82 [==============================] - 19s 232ms/step - loss: 2.4322e-05 - accuracy: 1.0000 - val_loss: 0.0013 - val_accuracy: 0.9994\n",
      "Epoch 18/50\n",
      "82/82 [==============================] - 19s 238ms/step - loss: 2.1208e-05 - accuracy: 1.0000 - val_loss: 0.0013 - val_accuracy: 0.9994\n",
      "Epoch 19/50\n",
      "82/82 [==============================] - 20s 246ms/step - loss: 1.8581e-05 - accuracy: 1.0000 - val_loss: 0.0013 - val_accuracy: 0.9994\n",
      "Epoch 20/50\n",
      "82/82 [==============================] - 19s 229ms/step - loss: 1.6444e-05 - accuracy: 1.0000 - val_loss: 0.0012 - val_accuracy: 0.9994\n",
      "Epoch 21/50\n",
      "82/82 [==============================] - 19s 230ms/step - loss: 1.4650e-05 - accuracy: 1.0000 - val_loss: 0.0013 - val_accuracy: 0.9994\n",
      "Epoch 22/50\n",
      "82/82 [==============================] - 19s 230ms/step - loss: 1.3059e-05 - accuracy: 1.0000 - val_loss: 0.0012 - val_accuracy: 0.9994\n",
      "Epoch 23/50\n",
      "82/82 [==============================] - 20s 246ms/step - loss: 1.1776e-05 - accuracy: 1.0000 - val_loss: 0.0012 - val_accuracy: 0.9994\n",
      "Epoch 00023: early stopping\n",
      "6/6 [==============================] - 1s 188ms/step - loss: 1.8536 - accuracy: 0.5568\n"
     ]
    },
    {
     "name": "stderr",
     "output_type": "stream",
     "text": [
      " 82%|████████▏ | 18/22 [1:17:07<20:27, 306.80s/it]"
     ]
    },
    {
     "name": "stdout",
     "output_type": "stream",
     "text": [
      "Epoch 1/50\n",
      "81/81 [==============================] - 21s 250ms/step - loss: 0.4556 - accuracy: 0.7668 - val_loss: 0.1583 - val_accuracy: 0.9496\n",
      "INFO:tensorflow:Assets written to: C:/Users/Leor/Desktop/Thesis/section_classification_models\\excluded_21\\assets\n",
      "Epoch 2/50\n",
      "81/81 [==============================] - 19s 231ms/step - loss: 0.0649 - accuracy: 0.9806 - val_loss: 0.0059 - val_accuracy: 0.9979\n",
      "INFO:tensorflow:Assets written to: C:/Users/Leor/Desktop/Thesis/section_classification_models\\excluded_21\\assets\n",
      "Epoch 3/50\n",
      "81/81 [==============================] - 19s 231ms/step - loss: 0.0067 - accuracy: 0.9983 - val_loss: 0.0021 - val_accuracy: 0.9994\n",
      "INFO:tensorflow:Assets written to: C:/Users/Leor/Desktop/Thesis/section_classification_models\\excluded_21\\assets\n",
      "Epoch 4/50\n",
      "81/81 [==============================] - 20s 244ms/step - loss: 5.6272e-04 - accuracy: 1.0000 - val_loss: 0.0019 - val_accuracy: 0.9992\n",
      "Epoch 5/50\n",
      "81/81 [==============================] - 18s 220ms/step - loss: 7.3329e-05 - accuracy: 1.0000 - val_loss: 0.0020 - val_accuracy: 0.9990\n",
      "Epoch 6/50\n",
      "81/81 [==============================] - 20s 246ms/step - loss: 3.2703e-05 - accuracy: 1.0000 - val_loss: 0.0018 - val_accuracy: 0.9992\n",
      "Epoch 7/50\n",
      "81/81 [==============================] - 19s 235ms/step - loss: 1.6284e-05 - accuracy: 1.0000 - val_loss: 0.0022 - val_accuracy: 0.9990\n",
      "Epoch 8/50\n",
      "81/81 [==============================] - 19s 236ms/step - loss: 8.6455e-06 - accuracy: 1.0000 - val_loss: 0.0022 - val_accuracy: 0.9990\n",
      "Epoch 9/50\n",
      "81/81 [==============================] - 18s 226ms/step - loss: 5.1968e-06 - accuracy: 1.0000 - val_loss: 0.0021 - val_accuracy: 0.9990\n",
      "Epoch 00009: early stopping\n",
      "7/7 [==============================] - 2s 205ms/step - loss: 7.6226 - accuracy: 0.0000e+00\n"
     ]
    },
    {
     "name": "stderr",
     "output_type": "stream",
     "text": [
      " 86%|████████▋ | 19/22 [1:20:08<13:27, 269.27s/it]"
     ]
    },
    {
     "name": "stdout",
     "output_type": "stream",
     "text": [
      "Epoch 1/50\n",
      "81/81 [==============================] - 21s 250ms/step - loss: 0.5258 - accuracy: 0.7326 - val_loss: 0.2764 - val_accuracy: 0.9448\n",
      "INFO:tensorflow:Assets written to: C:/Users/Leor/Desktop/Thesis/section_classification_models\\excluded_23\\assets\n",
      "Epoch 2/50\n",
      "81/81 [==============================] - 21s 255ms/step - loss: 0.0858 - accuracy: 0.9768 - val_loss: 0.0221 - val_accuracy: 0.9917\n",
      "INFO:tensorflow:Assets written to: C:/Users/Leor/Desktop/Thesis/section_classification_models\\excluded_23\\assets\n",
      "Epoch 3/50\n",
      "81/81 [==============================] - 19s 227ms/step - loss: 0.0069 - accuracy: 0.9978 - val_loss: 0.0052 - val_accuracy: 0.9983\n",
      "INFO:tensorflow:Assets written to: C:/Users/Leor/Desktop/Thesis/section_classification_models\\excluded_23\\assets\n",
      "Epoch 4/50\n",
      "81/81 [==============================] - 19s 228ms/step - loss: 0.0016 - accuracy: 0.9997 - val_loss: 0.0038 - val_accuracy: 0.9983\n",
      "Epoch 5/50\n",
      "81/81 [==============================] - 20s 243ms/step - loss: 4.6780e-04 - accuracy: 0.9999 - val_loss: 0.0031 - val_accuracy: 0.9986\n",
      "INFO:tensorflow:Assets written to: C:/Users/Leor/Desktop/Thesis/section_classification_models\\excluded_23\\assets\n",
      "Epoch 6/50\n",
      "81/81 [==============================] - 21s 259ms/step - loss: 1.4171e-04 - accuracy: 1.0000 - val_loss: 0.0032 - val_accuracy: 0.9984\n",
      "Epoch 7/50\n",
      "81/81 [==============================] - 18s 222ms/step - loss: 9.7680e-05 - accuracy: 1.0000 - val_loss: 0.0026 - val_accuracy: 0.9988\n",
      "INFO:tensorflow:Assets written to: C:/Users/Leor/Desktop/Thesis/section_classification_models\\excluded_23\\assets\n",
      "Epoch 8/50\n",
      "81/81 [==============================] - 19s 238ms/step - loss: 4.9928e-05 - accuracy: 1.0000 - val_loss: 0.0031 - val_accuracy: 0.9984\n",
      "Epoch 9/50\n",
      "81/81 [==============================] - 19s 240ms/step - loss: 3.5388e-05 - accuracy: 1.0000 - val_loss: 0.0025 - val_accuracy: 0.9990\n",
      "INFO:tensorflow:Assets written to: C:/Users/Leor/Desktop/Thesis/section_classification_models\\excluded_23\\assets\n",
      "Epoch 10/50\n",
      "81/81 [==============================] - 20s 242ms/step - loss: 2.7004e-05 - accuracy: 1.0000 - val_loss: 0.0034 - val_accuracy: 0.9983\n",
      "Epoch 11/50\n",
      "81/81 [==============================] - 19s 229ms/step - loss: 2.1705e-05 - accuracy: 1.0000 - val_loss: 0.0026 - val_accuracy: 0.9988\n",
      "Epoch 12/50\n",
      "81/81 [==============================] - 19s 229ms/step - loss: 1.7313e-05 - accuracy: 1.0000 - val_loss: 0.0029 - val_accuracy: 0.9986\n",
      "Epoch 13/50\n",
      "81/81 [==============================] - 19s 238ms/step - loss: 1.4130e-05 - accuracy: 1.0000 - val_loss: 0.0029 - val_accuracy: 0.9986\n",
      "Epoch 14/50\n",
      "81/81 [==============================] - 19s 237ms/step - loss: 1.1882e-05 - accuracy: 1.0000 - val_loss: 0.0031 - val_accuracy: 0.9986\n",
      "Epoch 00014: early stopping\n",
      "7/7 [==============================] - 1s 175ms/step - loss: 0.2137 - accuracy: 0.9581\n"
     ]
    },
    {
     "name": "stderr",
     "output_type": "stream",
     "text": [
      " 91%|█████████ | 20/22 [1:24:55<09:08, 274.44s/it]"
     ]
    },
    {
     "name": "stdout",
     "output_type": "stream",
     "text": [
      "Epoch 1/50\n",
      "82/82 [==============================] - 20s 241ms/step - loss: 0.5100 - accuracy: 0.7315 - val_loss: 0.2395 - val_accuracy: 0.9085\n",
      "INFO:tensorflow:Assets written to: C:/Users/Leor/Desktop/Thesis/section_classification_models\\excluded_25\\assets\n",
      "Epoch 2/50\n",
      "82/82 [==============================] - 19s 237ms/step - loss: 0.1737 - accuracy: 0.9374 - val_loss: 0.0616 - val_accuracy: 0.9834\n",
      "INFO:tensorflow:Assets written to: C:/Users/Leor/Desktop/Thesis/section_classification_models\\excluded_25\\assets\n",
      "Epoch 3/50\n",
      "82/82 [==============================] - 19s 235ms/step - loss: 0.0209 - accuracy: 0.9933 - val_loss: 0.0066 - val_accuracy: 0.9977\n",
      "INFO:tensorflow:Assets written to: C:/Users/Leor/Desktop/Thesis/section_classification_models\\excluded_25\\assets\n",
      "Epoch 4/50\n",
      "82/82 [==============================] - 21s 252ms/step - loss: 0.0034 - accuracy: 0.9988 - val_loss: 0.0091 - val_accuracy: 0.9969\n",
      "Epoch 5/50\n",
      "82/82 [==============================] - 20s 246ms/step - loss: 3.7195e-04 - accuracy: 0.9999 - val_loss: 0.0029 - val_accuracy: 0.9987\n",
      "INFO:tensorflow:Assets written to: C:/Users/Leor/Desktop/Thesis/section_classification_models\\excluded_25\\assets\n",
      "Epoch 6/50\n",
      "82/82 [==============================] - 20s 245ms/step - loss: 2.8606e-04 - accuracy: 0.9999 - val_loss: 0.0208 - val_accuracy: 0.9948\n",
      "Epoch 7/50\n",
      "82/82 [==============================] - 20s 246ms/step - loss: 6.4521e-04 - accuracy: 0.9999 - val_loss: 0.0050 - val_accuracy: 0.9987\n",
      "Epoch 8/50\n",
      "82/82 [==============================] - 19s 233ms/step - loss: 1.9996e-05 - accuracy: 1.0000 - val_loss: 0.0029 - val_accuracy: 0.9989\n",
      "INFO:tensorflow:Assets written to: C:/Users/Leor/Desktop/Thesis/section_classification_models\\excluded_25\\assets\n",
      "Epoch 9/50\n",
      "82/82 [==============================] - 19s 236ms/step - loss: 1.3833e-05 - accuracy: 1.0000 - val_loss: 0.0030 - val_accuracy: 0.9989\n",
      "Epoch 10/50\n",
      "82/82 [==============================] - 20s 237ms/step - loss: 1.1699e-05 - accuracy: 1.0000 - val_loss: 0.0032 - val_accuracy: 0.9989\n",
      "Epoch 00010: early stopping\n",
      "5/5 [==============================] - 1s 199ms/step - loss: 1.4112e-04 - accuracy: 1.0000\n"
     ]
    },
    {
     "name": "stderr",
     "output_type": "stream",
     "text": [
      " 95%|█████████▌| 21/22 [1:28:26<04:15, 255.41s/it]"
     ]
    },
    {
     "name": "stdout",
     "output_type": "stream",
     "text": [
      "Epoch 1/50\n",
      "79/79 [==============================] - 19s 240ms/step - loss: 0.5007 - accuracy: 0.7376 - val_loss: 0.2570 - val_accuracy: 0.9208\n",
      "INFO:tensorflow:Assets written to: C:/Users/Leor/Desktop/Thesis/section_classification_models\\excluded_29\\assets\n",
      "Epoch 2/50\n",
      "79/79 [==============================] - 19s 235ms/step - loss: 0.1041 - accuracy: 0.9658 - val_loss: 0.0111 - val_accuracy: 0.9958\n",
      "INFO:tensorflow:Assets written to: C:/Users/Leor/Desktop/Thesis/section_classification_models\\excluded_29\\assets\n",
      "Epoch 3/50\n",
      "79/79 [==============================] - 19s 235ms/step - loss: 0.0090 - accuracy: 0.9970 - val_loss: 0.0070 - val_accuracy: 0.9978\n",
      "INFO:tensorflow:Assets written to: C:/Users/Leor/Desktop/Thesis/section_classification_models\\excluded_29\\assets\n",
      "Epoch 4/50\n",
      "79/79 [==============================] - 19s 240ms/step - loss: 0.0020 - accuracy: 0.9994 - val_loss: 0.0054 - val_accuracy: 0.9982\n",
      "INFO:tensorflow:Assets written to: C:/Users/Leor/Desktop/Thesis/section_classification_models\\excluded_29\\assets\n",
      "Epoch 5/50\n",
      "79/79 [==============================] - 18s 230ms/step - loss: 1.7519e-04 - accuracy: 1.0000 - val_loss: 0.0035 - val_accuracy: 0.9994\n",
      "INFO:tensorflow:Assets written to: C:/Users/Leor/Desktop/Thesis/section_classification_models\\excluded_29\\assets\n",
      "Epoch 6/50\n",
      "79/79 [==============================] - 19s 236ms/step - loss: 8.0352e-05 - accuracy: 1.0000 - val_loss: 0.0039 - val_accuracy: 0.9994\n",
      "Epoch 7/50\n",
      "79/79 [==============================] - 19s 236ms/step - loss: 3.1013e-05 - accuracy: 1.0000 - val_loss: 0.0039 - val_accuracy: 0.9994\n",
      "Epoch 8/50\n",
      "79/79 [==============================] - 19s 242ms/step - loss: 1.9400e-05 - accuracy: 1.0000 - val_loss: 0.0040 - val_accuracy: 0.9994\n",
      "Epoch 9/50\n",
      "79/79 [==============================] - 19s 246ms/step - loss: 1.3619e-05 - accuracy: 1.0000 - val_loss: 0.0040 - val_accuracy: 0.9994\n",
      "Epoch 10/50\n",
      "79/79 [==============================] - 20s 258ms/step - loss: 9.6568e-06 - accuracy: 1.0000 - val_loss: 0.0041 - val_accuracy: 0.9994\n",
      "Epoch 00010: early stopping\n",
      "9/9 [==============================] - 2s 216ms/step - loss: 0.0159 - accuracy: 0.9964\n"
     ]
    },
    {
     "name": "stderr",
     "output_type": "stream",
     "text": [
      "100%|██████████| 22/22 [1:31:50<00:00, 250.46s/it]\n"
     ]
    }
   ],
   "source": [
    "# Loop over each sample number\n",
    "for exclude_sample in tqdm(np.unique(sample_numbers)):\n",
    "  # Clear graph\n",
    "  K.clear_session()\n",
    "  gc.collect()\n",
    "\n",
    "  # Create filter for training data\n",
    "  train_filter = (sample_numbers != exclude_sample)\n",
    "\n",
    "  # Get indexes of all data\n",
    "  indexes = np.arange(len(sample_numbers))\n",
    "\n",
    "  # Get indexes of training data\n",
    "  train_indexes = indexes[train_filter]\n",
    "\n",
    "  # Get indexes of training and validation data\n",
    "  train_indexes, val_indexes = train_test_split(train_indexes,\n",
    "                                                test_size=0.2,\n",
    "                                                random_state=0,\n",
    "                                                stratify=labels[train_filter])\n",
    "\n",
    "  # Create data generators\n",
    "  training_generator = create_ds(train_indexes, BATCH_SIZE)\n",
    "  validation_generator = create_ds(val_indexes, BATCH_SIZE)\n",
    "  test_generator = create_ds(indexes[~train_filter], BATCH_SIZE)\n",
    "\n",
    "  # Create Callback to save the best model\n",
    "  checkpoint_filepath = os.path.join(MODELS_PATH, f\"excluded_{exclude_sample}/\")\n",
    "  model_checkpoint_callback = callbacks.ModelCheckpoint(\n",
    "      filepath=checkpoint_filepath,\n",
    "      save_weights_only=False,\n",
    "      monitor=\"val_accuracy\",\n",
    "      mode=\"max\",\n",
    "      save_best_only=True)\n",
    "  \n",
    "  # Create Callback for model early stopping\n",
    "  model_es_callback = callbacks.EarlyStopping(\n",
    "      monitor='val_loss', mode='min', verbose=1, patience=5, min_delta=0.0001)\n",
    "\n",
    "  # Create classification model\n",
    "  classification_model = get_model()\n",
    "\n",
    "  # Compile the classification model\n",
    "  optimizer = optimizers.Adam(learning_rate=LEARNING_RATE)\n",
    "  classification_model.compile(\n",
    "      optimizer, loss=losses.BinaryCrossentropy(), metrics=[\"accuracy\"])\n",
    "\n",
    "  # Train the classification model\n",
    "  history = classification_model.fit(\n",
    "      x=training_generator,\n",
    "      validation_data=validation_generator,\n",
    "      epochs=EPHOCS,\n",
    "      callbacks=[model_checkpoint_callback, model_es_callback])\n",
    "\n",
    "  # Load the best saved \n",
    "  classification_model = tf.keras.models.load_model(checkpoint_filepath)\n",
    "\n",
    "  # Evalute the classification model on test set\n",
    "  test_eval = classification_model.evaluate(x=test_generator)\n",
    "\n",
    "  # Clean model for next iteration\n",
    "  classification_model = None"
   ]
  },
  {
   "cell_type": "markdown",
   "id": "8526fece",
   "metadata": {},
   "source": [
    "### ***LOOCV predictions:***\n",
    "\n",
    "Next, let\"s get predictions for each LOOCV for evaluation:"
   ]
  },
  {
   "cell_type": "code",
   "execution_count": 10,
   "id": "eafba22d",
   "metadata": {},
   "outputs": [
    {
     "name": "stderr",
     "output_type": "stream",
     "text": [
      " 27%|██▋       | 6/22 [00:15<00:39,  2.47s/it]"
     ]
    },
    {
     "name": "stdout",
     "output_type": "stream",
     "text": [
      "WARNING:tensorflow:5 out of the last 14 calls to <function Model.make_predict_function.<locals>.predict_function at 0x00000230CA11F430> triggered tf.function retracing. Tracing is expensive and the excessive number of tracings could be due to (1) creating @tf.function repeatedly in a loop, (2) passing tensors with different shapes, (3) passing Python objects instead of tensors. For (1), please define your @tf.function outside of the loop. For (2), @tf.function has experimental_relax_shapes=True option that relaxes argument shapes that can avoid unnecessary retracing. For (3), please refer to https://www.tensorflow.org/guide/function#controlling_retracing and https://www.tensorflow.org/api_docs/python/tf/function for  more details.\n"
     ]
    },
    {
     "name": "stderr",
     "output_type": "stream",
     "text": [
      "100%|██████████| 22/22 [01:07<00:00,  3.05s/it]\n"
     ]
    }
   ],
   "source": [
    "# Define dict for saving predictions and true labels\n",
    "predictions = {}\n",
    "true_labels = {}\n",
    "\n",
    "# Loop over each sample number\n",
    "for exclude_sample in tqdm(np.unique(sample_numbers)):\n",
    "  # Clear graph\n",
    "  K.clear_session()\n",
    "  gc.collect()\n",
    "  \n",
    "  # Create filter for training data\n",
    "  train_filter = (sample_numbers != exclude_sample)\n",
    "\n",
    "  # Get indexes of all data\n",
    "  indexes = np.arange(len(sample_numbers))\n",
    "\n",
    "  # Create test data generator\n",
    "  test_generator = create_ds(indexes[~train_filter], BATCH_SIZE)\n",
    "\n",
    "  # Get saved model path\n",
    "  model_path = os.path.join(MODELS_PATH, f\"excluded_{exclude_sample}/\")\n",
    "\n",
    "  # Load model\n",
    "  classification_model = tf.keras.models.load_model(model_path)\n",
    "\n",
    "  # Get predictions\n",
    "  predictions[exclude_sample] = classification_model.predict(x=test_generator)\n",
    "  \n",
    "  # Get corresponding true labels\n",
    "  true_labels[exclude_sample] = (who_grades[~train_filter] > 2).astype(int)\n",
    "\n",
    "  # Clean model for next iteration\n",
    "  classification_model = None"
   ]
  },
  {
   "cell_type": "markdown",
   "id": "7e1f24c1",
   "metadata": {},
   "source": [
    "### ***Roc curve:***\n",
    "\n",
    "Next, let\"s plot LOOCV roc curve:"
   ]
  },
  {
   "cell_type": "code",
   "execution_count": 11,
   "id": "2e714ba7",
   "metadata": {},
   "outputs": [
    {
     "data": {
      "image/png": "[encoded data removed]",
      "text/plain": [
       "<Figure size 720x720 with 1 Axes>"
      ]
     },
     "metadata": {
      "needs_background": "light"
     },
     "output_type": "display_data"
    }
   ],
   "source": [
    "fpr, tpr, thresholds = metrics.roc_curve(\n",
    "  np.concatenate(list(true_labels.values())),\n",
    "  np.concatenate(list(predictions.values())))\n",
    "roc_auc = metrics.auc(fpr, tpr)\n",
    "\n",
    "plt.figure(figsize=(10,10))\n",
    "plt.plot(fpr, tpr, \"b\", label = f\"AUC = {roc_auc:.3f}\")\n",
    "plt.legend(loc = \"lower right\")\n",
    "plt.plot([0, 1], [0, 1],\"r--\")\n",
    "plt.xlim([-0.05, 1.05])\n",
    "plt.ylim([-0.05, 1.05])\n",
    "plt.ylabel(\"True Positive Rate\")\n",
    "plt.xlabel(\"False Positive Rate\")\n",
    "plt.title(\"Receiver Operating Characteristic\")\n",
    "plt.show()"
   ]
  },
  {
   "cell_type": "markdown",
   "id": "0d7b822b",
   "metadata": {},
   "source": [
    "### ***MSI parsers closing:***\n",
    "\n",
    "Next, let\"s close MSI parsers:"
   ]
  },
  {
   "cell_type": "code",
   "execution_count": 12,
   "id": "5c5bdfc8-4b31-4968-ae11-f271467cbec3",
   "metadata": {},
   "outputs": [],
   "source": [
    "# Closing parsers\n",
    "for reader in parsers.values():\n",
    "  if reader.m:\n",
    "    reader.m.close()"
   ]
  }
 ],
 "metadata": {
  "interpreter": {
   "hash": "5c73559c04fc51cf6f25e380b3ded5183311c605494f1c18f4c2cfbf285cb958"
  },
  "kernelspec": {
   "display_name": "Python 3.9.12 ('tf_gpu_jup')",
   "language": "python",
   "name": "python3"
  },
  "language_info": {
   "codemirror_mode": {
    "name": "ipython",
    "version": 3
   },
   "file_extension": ".py",
   "mimetype": "text/x-python",
   "name": "python",
   "nbconvert_exporter": "python",
   "pygments_lexer": "ipython3",
   "version": "3.9.12"
  },
  "widgets": {
   "application/vnd.jupyter.widget-state+json": {
    "state": {},
    "version_major": 2,
    "version_minor": 0
   }
  }
 },
 "nbformat": 4,
 "nbformat_minor": 5
}
