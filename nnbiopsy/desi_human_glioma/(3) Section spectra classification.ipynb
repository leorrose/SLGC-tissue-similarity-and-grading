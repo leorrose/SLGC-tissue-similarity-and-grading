{
 "cells": [
  {
   "cell_type": "code",
   "execution_count": 2,
   "id": "43f7422d-b624-4457-8d43-7ef3e252696c",
   "metadata": {},
   "outputs": [],
   "source": [
    "import os\n",
    "import numpy as np\n",
    "import pandas as pd\n",
    "from pyimzml.ImzMLParser import ImzMLParser\n",
    "from tqdm.notebook import tqdm"
   ]
  },
  {
   "cell_type": "code",
   "execution_count": 3,
   "id": "e0530da0-8fd5-43d0-8dbd-01dacc2a3c63",
   "metadata": {},
   "outputs": [],
   "source": [
    "# Define folder that contains the preprocessed dhg dataset\n",
    "DHG_IN_PATH = \"/sise/assafzar-group/assafzar/Leor/DHG/Preprocessed\"\n",
    "# Define file to export\n",
    "META_DATA_PATH = \"/sise/assafzar-group/assafzar/Leor/DHG/Preprocessed/Metadata.csv\"\n",
    "meta_data = pd.read_csv(META_DATA_PATH)"
   ]
  },
  {
   "cell_type": "code",
   "execution_count": 4,
   "id": "65157aeb-2b57-40a6-9fcf-95a583299673",
   "metadata": {},
   "outputs": [],
   "source": [
    "meta_data_s = meta_data[meta_data.file_name.str.contains('s')]"
   ]
  },
  {
   "cell_type": "code",
   "execution_count": 5,
   "id": "029d1c7e-0db2-4552-ac10-286e8d46ea23",
   "metadata": {},
   "outputs": [
    {
     "data": {
      "text/plain": [
       "file_name\n",
       "HG 5-s        519\n",
       "HG 6-s        608\n",
       "HG 9-s        623\n",
       "HG 7-s        628\n",
       "HG 2-s        673\n",
       "HG 19-s       680\n",
       "HG 11_1-s     755\n",
       "HG 4-s        832\n",
       "HG 10-s       887\n",
       "HG 3-s        947\n",
       "HG 18-s       972\n",
       "HG 11_2-s     974\n",
       "HG 15-s      1160\n",
       "HG 13-s      1177\n",
       "HG 25-s      1199\n",
       "HG 12-s      1278\n",
       "HG 16-s      1300\n",
       "HG 20-s      1347\n",
       "HG 12_1-s    1355\n",
       "HG 23-s      1576\n",
       "HG 21-s      1586\n",
       "HG 14-s      1946\n",
       "HG 8-s       2096\n",
       "HG 29-s      2252\n",
       "dtype: int64"
      ]
     },
     "execution_count": 5,
     "metadata": {},
     "output_type": "execute_result"
    }
   ],
   "source": [
    "meta_data_s.groupby(['file_name']).size().sort_values()"
   ]
  },
  {
   "cell_type": "code",
   "execution_count": 6,
   "id": "c0577f31-3096-464b-9511-ab04858265ea",
   "metadata": {},
   "outputs": [
    {
     "data": {
      "text/plain": [
       "27370"
      ]
     },
     "execution_count": 6,
     "metadata": {},
     "output_type": "execute_result"
    }
   ],
   "source": [
    "meta_data_s.groupby(['file_name']).size().sum()"
   ]
  },
  {
   "cell_type": "code",
   "execution_count": 7,
   "id": "db935be9-af73-41ff-83b6-1f1ddaef2d2f",
   "metadata": {},
   "outputs": [
    {
     "data": {
      "text/plain": [
       "'HG 10-s'"
      ]
     },
     "execution_count": 7,
     "metadata": {},
     "output_type": "execute_result"
    }
   ],
   "source": [
    "exclude_sample = meta_data_s.file_name[0]\n",
    "exclude_sample"
   ]
  },
  {
   "cell_type": "code",
   "execution_count": 7,
   "id": "d33276b6-b858-4465-93d0-1b3ff958b792",
   "metadata": {},
   "outputs": [
    {
     "data": {
      "text/plain": [
       "(26483, 11)"
      ]
     },
     "execution_count": 7,
     "metadata": {},
     "output_type": "execute_result"
    }
   ],
   "source": [
    "meta_data_s_train = meta_data_s[meta_data_s.file_name != exclude_sample]\n",
    "meta_data_s_train.shape"
   ]
  },
  {
   "cell_type": "code",
   "execution_count": 8,
   "id": "1bae5291-0df6-4ccf-8d0f-8c24fd0fc99d",
   "metadata": {},
   "outputs": [
    {
     "data": {
      "text/plain": [
       "(887, 11)"
      ]
     },
     "execution_count": 8,
     "metadata": {},
     "output_type": "execute_result"
    }
   ],
   "source": [
    "meta_data_s_test = meta_data_s[meta_data_s.file_name == exclude_sample]\n",
    "meta_data_s_test.shape"
   ]
  },
  {
   "cell_type": "code",
   "execution_count": 8,
   "id": "e29cda3f-4434-4b40-a494-c6d37e22e619",
   "metadata": {},
   "outputs": [],
   "source": [
    "parsers = { file_name: ImzMLParser(os.path.join(DHG_IN_PATH, f\"{file_name}.imzML\")) for file_name in meta_data_s.file_name.unique()}"
   ]
  },
  {
   "cell_type": "code",
   "execution_count": 10,
   "id": "00c98318-82f7-469a-9987-c5fe0a6652bb",
   "metadata": {},
   "outputs": [],
   "source": [
    "intensities_train = meta_data_s_train.apply(lambda row: parsers[row.file_name].getspectrum(row.idx)[1], axis=1)"
   ]
  },
  {
   "cell_type": "code",
   "execution_count": 9,
   "id": "a2f27d8e-7726-44f3-a2d5-556ac7d90c88",
   "metadata": {},
   "outputs": [
    {
     "name": "stderr",
     "output_type": "stream",
     "text": [
      "2022-04-21 16:21:24.416023: W tensorflow/stream_executor/platform/default/dso_loader.cc:64] Could not load dynamic library 'libcudart.so.11.0'; dlerror: libcudart.so.11.0: cannot open shared object file: No such file or directory\n",
      "2022-04-21 16:21:24.416064: I tensorflow/stream_executor/cuda/cudart_stub.cc:29] Ignore above cudart dlerror if you do not have a GPU set up on your machine.\n",
      "2022-04-21 16:21:33.763614: W tensorflow/stream_executor/platform/default/dso_loader.cc:64] Could not load dynamic library 'libcuda.so.1'; dlerror: libcuda.so.1: cannot open shared object file: No such file or directory\n",
      "2022-04-21 16:21:33.763649: W tensorflow/stream_executor/cuda/cuda_driver.cc:269] failed call to cuInit: UNKNOWN ERROR (303)\n",
      "2022-04-21 16:21:33.763674: I tensorflow/stream_executor/cuda/cuda_diagnostics.cc:156] kernel driver does not appear to be running on this host (dt-cpu-02): /proc/driver/nvidia/version does not exist\n",
      "2022-04-21 16:21:33.764021: I tensorflow/core/platform/cpu_feature_guard.cc:151] This TensorFlow binary is optimized with oneAPI Deep Neural Network Library (oneDNN) to use the following CPU instructions in performance-critical operations:  AVX2 FMA\n",
      "To enable them in other operations, rebuild TensorFlow with the appropriate compiler flags.\n"
     ]
    },
    {
     "ename": "NameError",
     "evalue": "name 'intensities' is not defined",
     "output_type": "error",
     "traceback": [
      "\u001b[0;31m---------------------------------------------------------------------------\u001b[0m",
      "\u001b[0;31mNameError\u001b[0m                                 Traceback (most recent call last)",
      "Input \u001b[0;32mIn [9]\u001b[0m, in \u001b[0;36m<cell line: 17>\u001b[0;34m()\u001b[0m\n\u001b[1;32m      5\u001b[0m model \u001b[38;5;241m=\u001b[39m keras\u001b[38;5;241m.\u001b[39mSequential(\n\u001b[1;32m      6\u001b[0m     [\n\u001b[1;32m      7\u001b[0m         layers\u001b[38;5;241m.\u001b[39mDense(\u001b[38;5;241m512\u001b[39m, activation\u001b[38;5;241m=\u001b[39m\u001b[38;5;124m\"\u001b[39m\u001b[38;5;124mrelu\u001b[39m\u001b[38;5;124m\"\u001b[39m, input_shape\u001b[38;5;241m=\u001b[39m(\u001b[38;5;241m92000\u001b[39m,)),\n\u001b[0;32m   (...)\u001b[0m\n\u001b[1;32m     12\u001b[0m     ]\n\u001b[1;32m     13\u001b[0m )\n\u001b[1;32m     15\u001b[0m model\u001b[38;5;241m.\u001b[39mcompile(loss\u001b[38;5;241m=\u001b[39m\u001b[38;5;124m\"\u001b[39m\u001b[38;5;124mcategorical_crossentropy\u001b[39m\u001b[38;5;124m\"\u001b[39m, optimizer\u001b[38;5;241m=\u001b[39m\u001b[38;5;124m\"\u001b[39m\u001b[38;5;124madam\u001b[39m\u001b[38;5;124m\"\u001b[39m,metrics\u001b[38;5;241m=\u001b[39m[\u001b[38;5;124m\"\u001b[39m\u001b[38;5;124maccuracy\u001b[39m\u001b[38;5;124m\"\u001b[39m])\n\u001b[0;32m---> 17\u001b[0m model\u001b[38;5;241m.\u001b[39mfit(np\u001b[38;5;241m.\u001b[39marray(\u001b[43mintensities\u001b[49m\u001b[38;5;241m.\u001b[39mtolist()), meta_data_s_train[[\u001b[38;5;124m\"\u001b[39m\u001b[38;5;124mwho_grade_1\u001b[39m\u001b[38;5;124m\"\u001b[39m, \u001b[38;5;124m\"\u001b[39m\u001b[38;5;124mwho_grade_2\u001b[39m\u001b[38;5;124m\"\u001b[39m, \u001b[38;5;124m\"\u001b[39m\u001b[38;5;124mwho_grade_3\u001b[39m\u001b[38;5;124m\"\u001b[39m,\u001b[38;5;124m\"\u001b[39m\u001b[38;5;124mwho_grade_4\u001b[39m\u001b[38;5;124m\"\u001b[39m]]\u001b[38;5;241m.\u001b[39mto_numpy(), epochs\u001b[38;5;241m=\u001b[39m\u001b[38;5;241m10\u001b[39m)\n",
      "\u001b[0;31mNameError\u001b[0m: name 'intensities' is not defined"
     ]
    }
   ],
   "source": [
    "from tensorflow import keras\n",
    "from tensorflow.keras.models import Sequential\n",
    "from tensorflow.keras import layers\n",
    "\n",
    "model = keras.Sequential(\n",
    "    [\n",
    "        layers.Dense(512, activation=\"relu\", input_shape=(92000,)),\n",
    "        layers.Dense(512, activation=\"relu\"),\n",
    "        layers.Dense(256, activation=\"relu\"),\n",
    "        layers.Dense(256, activation=\"relu\"),\n",
    "        layers.Dense(4, activation='softmax'),\n",
    "    ]\n",
    ")\n",
    "\n",
    "model.compile(loss=\"categorical_crossentropy\", optimizer=\"adam\",metrics=[\"accuracy\"])\n",
    "\n",
    "model.fit(np.array(intensities.tolist()), meta_data_s_train[[\"who_grade_1\", \"who_grade_2\", \"who_grade_3\",\"who_grade_4\"]].to_numpy(), epochs=10)"
   ]
  },
  {
   "cell_type": "code",
   "execution_count": 45,
   "id": "f71c9412-abb5-401d-b23e-e1928ea70454",
   "metadata": {},
   "outputs": [
    {
     "data": {
      "text/plain": [
       "1540"
      ]
     },
     "execution_count": 45,
     "metadata": {},
     "output_type": "execute_result"
    }
   ],
   "source": [
    "import gc\n",
    "gc.collect()"
   ]
  },
  {
   "cell_type": "code",
   "execution_count": 14,
   "id": "21a8ed5e-1104-416b-a522-b616bddf07e0",
   "metadata": {},
   "outputs": [],
   "source": [
    "intensities_test = meta_data_s_test.apply(lambda row: parsers[row.file_name].getspectrum(row.idx)[1], axis=1)"
   ]
  },
  {
   "cell_type": "code",
   "execution_count": 37,
   "id": "05be813b-be45-4f03-9ab2-2629d6b0d4cb",
   "metadata": {},
   "outputs": [
    {
     "name": "stdout",
     "output_type": "stream",
     "text": [
      "828/828 [==============================] - 40s 48ms/step - loss: 0.0012 - accuracy: 0.9997\n"
     ]
    },
    {
     "data": {
      "text/plain": [
       "[0.001191059942357242, 0.9996601343154907]"
      ]
     },
     "execution_count": 37,
     "metadata": {},
     "output_type": "execute_result"
    }
   ],
   "source": [
    "model.evaluate(np.array(intensities.tolist()), meta_data_s_train[[\"who_grade_1\", \"who_grade_2\", \"who_grade_3\",\"who_grade_4\"]].to_numpy())"
   ]
  },
  {
   "cell_type": "code",
   "execution_count": 36,
   "id": "0501342a-5385-47a9-b22a-3e18cf34c98f",
   "metadata": {},
   "outputs": [
    {
     "ename": "NameError",
     "evalue": "name 'plt' is not defined",
     "output_type": "error",
     "traceback": [
      "\u001b[0;31m---------------------------------------------------------------------------\u001b[0m",
      "\u001b[0;31mNameError\u001b[0m                                 Traceback (most recent call last)",
      "Input \u001b[0;32mIn [36]\u001b[0m, in \u001b[0;36m<cell line: 2>\u001b[0;34m()\u001b[0m\n\u001b[1;32m      1\u001b[0m meta_data_s_train[[\u001b[38;5;124m\"\u001b[39m\u001b[38;5;124mwho_grade_1\u001b[39m\u001b[38;5;124m\"\u001b[39m, \u001b[38;5;124m\"\u001b[39m\u001b[38;5;124mwho_grade_2\u001b[39m\u001b[38;5;124m\"\u001b[39m, \u001b[38;5;124m\"\u001b[39m\u001b[38;5;124mwho_grade_3\u001b[39m\u001b[38;5;124m\"\u001b[39m,\u001b[38;5;124m\"\u001b[39m\u001b[38;5;124mwho_grade_4\u001b[39m\u001b[38;5;124m\"\u001b[39m]]\u001b[38;5;241m.\u001b[39msum()\u001b[38;5;241m.\u001b[39mplot(kind\u001b[38;5;241m=\u001b[39m\u001b[38;5;124m\"\u001b[39m\u001b[38;5;124mbar\u001b[39m\u001b[38;5;124m\"\u001b[39m)\n\u001b[0;32m----> 2\u001b[0m \u001b[43mplt\u001b[49m\u001b[38;5;241m.\u001b[39mshow()\n",
      "\u001b[0;31mNameError\u001b[0m: name 'plt' is not defined"
     ]
    },
    {
     "data": {
      "image/png": "[encoded data removed]",
      "text/plain": [
       "<Figure size 432x288 with 1 Axes>"
      ]
     },
     "metadata": {
      "needs_background": "light"
     },
     "output_type": "display_data"
    }
   ],
   "source": [
    "meta_data_s_train[[\"who_grade_1\", \"who_grade_2\", \"who_grade_3\",\"who_grade_4\"]].sum().plot(kind=\"bar\")"
   ]
  },
  {
   "cell_type": "code",
   "execution_count": 27,
   "id": "7af88d78-0430-46cc-b4cd-1d88da51d15a",
   "metadata": {},
   "outputs": [
    {
     "data": {
      "text/plain": [
       "2876"
      ]
     },
     "execution_count": 27,
     "metadata": {},
     "output_type": "execute_result"
    }
   ],
   "source": [
    "meta_data_s_train.who_grade_1.sum()"
   ]
  },
  {
   "cell_type": "code",
   "execution_count": 28,
   "id": "8bf2afd8-d21d-43fe-9064-542a32bc1f71",
   "metadata": {},
   "outputs": [
    {
     "data": {
      "text/plain": [
       "7123"
      ]
     },
     "execution_count": 28,
     "metadata": {},
     "output_type": "execute_result"
    }
   ],
   "source": [
    "meta_data_s_train.who_grade_2.sum()"
   ]
  },
  {
   "cell_type": "code",
   "execution_count": 30,
   "id": "d0ba7702-39b0-4ec6-bad4-4059eb909d87",
   "metadata": {},
   "outputs": [
    {
     "data": {
      "text/plain": [
       "6034"
      ]
     },
     "execution_count": 30,
     "metadata": {},
     "output_type": "execute_result"
    }
   ],
   "source": [
    "meta_data_s_train.who_grade_3.sum()"
   ]
  },
  {
   "cell_type": "code",
   "execution_count": 31,
   "id": "259f8670-7860-4d38-a482-1acd82594030",
   "metadata": {},
   "outputs": [
    {
     "data": {
      "text/plain": [
       "10450"
      ]
     },
     "execution_count": 31,
     "metadata": {},
     "output_type": "execute_result"
    }
   ],
   "source": [
    "meta_data_s_train.who_grade_4.sum()"
   ]
  },
  {
   "cell_type": "code",
   "execution_count": 10,
   "id": "2d75531a-6f36-400e-8bf1-512f5ac4f234",
   "metadata": {},
   "outputs": [],
   "source": [
    "from keras.models import Model\n",
    "\n",
    "# this is the size of our encoded representations\n",
    "encoding_dim = 32  # 32 floats -> compression of factor 24.5, assuming the input is 784 floats\n",
    "\n",
    "# this is our input placeholder\n",
    "input_img = layers.Input(shape=(92000,))\n",
    "\n",
    "# \"encoded\" is the encoded representation of the input\n",
    "encoded = layers.Dense(encoding_dim, activation='relu')(input_img)\n",
    "\n",
    "# \"decoded\" is the lossy reconstruction of the input\n",
    "decoded = layers.Dense(92000, activation='sigmoid')(encoded)\n",
    "\n",
    "# this model maps an input to its reconstruction\n",
    "autoencoder = Model(input_img, decoded)\n",
    "\n",
    "# intermediate result\n",
    "# this model maps an input to its encoded representation\n",
    "encoder = Model(input_img, encoded)\n",
    "\n",
    "autoencoder.compile(optimizer='adadelta', loss='binary_crossentropy')"
   ]
  },
  {
   "cell_type": "code",
   "execution_count": 11,
   "id": "342cf3a6-3692-41b4-86bf-69ab15107b44",
   "metadata": {},
   "outputs": [],
   "source": [
    "intensities = meta_data_s.apply(lambda row: parsers[row.file_name].getspectrum(row.idx)[1], axis=1)"
   ]
  },
  {
   "cell_type": "code",
   "execution_count": null,
   "id": "1e78fa41-0261-4fbe-99e7-34804b7218c8",
   "metadata": {},
   "outputs": [
    {
     "name": "stdout",
     "output_type": "stream",
     "text": [
      "Epoch 1/50\n",
      "86/86 [==============================] - ETA: 0s - loss: 0.6931"
     ]
    }
   ],
   "source": [
    "autoencoder.fit(np.array(intensities.tolist()), np.array(intensities.tolist()),\n",
    "                epochs=50,\n",
    "                batch_size=256,\n",
    "                shuffle=True,\n",
    "                validation_split=0.2)"
   ]
  }
 ],
 "metadata": {
  "kernelspec": {
   "display_name": "jupyter_env",
   "language": "python",
   "name": "jupyter_env"
  },
  "language_info": {
   "codemirror_mode": {
    "name": "ipython",
    "version": 3
   },
   "file_extension": ".py",
   "mimetype": "text/x-python",
   "name": "python",
   "nbconvert_exporter": "python",
   "pygments_lexer": "ipython3",
   "version": "3.8.13"
  }
 },
 "nbformat": 4,
 "nbformat_minor": 5
}
