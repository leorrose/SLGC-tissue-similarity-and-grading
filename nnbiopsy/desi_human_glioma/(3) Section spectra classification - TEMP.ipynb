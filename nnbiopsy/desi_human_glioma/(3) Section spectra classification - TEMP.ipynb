{
 "cells": [
  {
   "cell_type": "code",
   "execution_count": 1,
   "id": "43f7422d-b624-4457-8d43-7ef3e252696c",
   "metadata": {},
   "outputs": [],
   "source": [
    "import os\n",
    "import numpy as np\n",
    "import pandas as pd\n",
    "from matplotlib import pyplot as plt\n",
    "from pyimzml.ImzMLParser import ImzMLParser\n",
    "from tqdm import tqdm\n",
    "from tensorflow import keras\n",
    "from tensorflow.keras import layers\n",
    "from sklearn.model_selection import train_test_split\n",
    "from datetime import datetime\n",
    "import gc"
   ]
  },
  {
   "cell_type": "code",
   "execution_count": 2,
   "id": "e0530da0-8fd5-43d0-8dbd-01dacc2a3c63",
   "metadata": {},
   "outputs": [],
   "source": [
    "# Define folder that contains the preprocessed dhg dataset\n",
    "DHG_IN_PATH = \"/sise/assafzar-group/assafzar/Leor/DHG/Preprocessed\"\n",
    "# Define file to export\n",
    "META_DATA_PATH = \"/sise/assafzar-group/assafzar/Leor/DHG/Preprocessed/Metadata.csv\""
   ]
  },
  {
   "cell_type": "code",
   "execution_count": 3,
   "id": "cad1d0b1-702e-4cec-b87d-034e47347178",
   "metadata": {},
   "outputs": [],
   "source": [
    "# \n",
    "meta_data = pd.read_csv(META_DATA_PATH)\n",
    "# \n",
    "meta_data = meta_data[meta_data.file_name.str.contains('s')]\n",
    "# \n",
    "meta_data[\"label\"] = (meta_data.who_grade > 2).astype(int)"
   ]
  },
  {
   "cell_type": "code",
   "execution_count": 4,
   "id": "733693d6-ce7b-459c-ba3d-ef4a58d17a80",
   "metadata": {},
   "outputs": [],
   "source": [
    "#\n",
    "parsers = { file_name: ImzMLParser(os.path.join(DHG_IN_PATH, f\"{file_name}.imzML\")) for file_name in meta_data.file_name.unique()}"
   ]
  },
  {
   "cell_type": "code",
   "execution_count": 5,
   "id": "2d75531a-6f36-400e-8bf1-512f5ac4f234",
   "metadata": {},
   "outputs": [],
   "source": [
    "class DataGenerator(keras.utils.Sequence):\n",
    "  'Generates data for Keras'\n",
    "  def __init__(self, df, parsers, batch_size=32,\n",
    "               dim=(92000,), shuffle=True):\n",
    "    'Initialization'\n",
    "    self.dim = dim\n",
    "    self.batch_size = batch_size\n",
    "    self.df = df\n",
    "    self.parsers = parsers\n",
    "    self.shuffle = shuffle\n",
    "    self.on_epoch_end()\n",
    "\n",
    "  def __len__(self):\n",
    "    'Denotes the number of batches per epoch'\n",
    "    return int(np.floor(len(self.df) / self.batch_size))\n",
    "\n",
    "  def __getitem__(self, index):\n",
    "    'Generate one batch of data'\n",
    "    # Generate indexes of the batch\n",
    "    batch_df = self.df[index*self.batch_size:(index+1)*self.batch_size]\n",
    "    # Generate data\n",
    "    X, y = self.__data_generation(batch_df)\n",
    "    return X, y\n",
    "\n",
    "  def on_epoch_end(self):\n",
    "    'Updates indexes after each epoch'\n",
    "    if self.shuffle == True:\n",
    "        self.df = self.df.sample(frac=1).reset_index(drop=True)\n",
    "\n",
    "  def __data_generation(self, batch_df):\n",
    "    'Generates data containing batch_size samples' # X : (n_samples, *dim, n_channels)\n",
    "    # Initialization\n",
    "    X = np.empty((self.batch_size, *self.dim))\n",
    "    y = np.empty((self.batch_size), dtype=int)\n",
    "    # Generate data\n",
    "    for i, (_, row) in enumerate(batch_df.iterrows()):\n",
    "      # get spectra\n",
    "      _, spectra = self.parsers[row.file_name].getspectrum(row.idx)\n",
    "      # Store sample\n",
    "      X[i,] = spectra\n",
    "      # Store class\n",
    "      y[i] = row.label\n",
    "    return X, y"
   ]
  },
  {
   "cell_type": "code",
   "execution_count": null,
   "id": "5737a386-394d-4d26-9613-b928c525618b",
   "metadata": {},
   "outputs": [
    {
     "name": "stderr",
     "output_type": "stream",
     "text": [
      "  0%|          | 0/24 [00:00<?, ?it/s]2022-04-23 18:26:55.608590: W tensorflow/stream_executor/platform/default/dso_loader.cc:64] Could not load dynamic library 'libcuda.so.1'; dlerror: libcuda.so.1: cannot open shared object file: No such file or directory\n",
      "2022-04-23 18:26:55.608674: W tensorflow/stream_executor/cuda/cuda_driver.cc:269] failed call to cuInit: UNKNOWN ERROR (303)\n",
      "2022-04-23 18:26:55.608722: I tensorflow/stream_executor/cuda/cuda_diagnostics.cc:156] kernel driver does not appear to be running on this host (cs-cpu-22): /proc/driver/nvidia/version does not exist\n",
      "2022-04-23 18:26:55.611911: I tensorflow/core/platform/cpu_feature_guard.cc:142] This TensorFlow binary is optimized with oneAPI Deep Neural Network Library (oneDNN) to use the following CPU instructions in performance-critical operations:  SSE4.1 SSE4.2 AVX\n",
      "To enable them in other operations, rebuild TensorFlow with the appropriate compiler flags.\n",
      "2022-04-23 18:27:06.715414: I tensorflow/compiler/mlir/mlir_graph_optimization_pass.cc:185] None of the MLIR Optimization Passes are enabled (registered 2)\n"
     ]
    },
    {
     "name": "stdout",
     "output_type": "stream",
     "text": [
      "Epoch 1/10\n",
      "41/41 [==============================] - 284s 7s/step - loss: 0.6537 - accuracy: 0.6174 - val_loss: 0.5669 - val_accuracy: 0.6113\n",
      "Epoch 2/10\n",
      "41/41 [==============================] - 183s 4s/step - loss: 0.3596 - accuracy: 0.8321 - val_loss: 0.2178 - val_accuracy: 0.9248\n",
      "Epoch 3/10\n",
      "41/41 [==============================] - 180s 4s/step - loss: 0.1514 - accuracy: 0.9491 - val_loss: 0.0611 - val_accuracy: 0.9791\n",
      "Epoch 4/10\n",
      "41/41 [==============================] - 174s 4s/step - loss: 0.0183 - accuracy: 0.9940 - val_loss: 0.0110 - val_accuracy: 0.9965\n",
      "Epoch 5/10\n",
      "41/41 [==============================] - 174s 4s/step - loss: 0.0016 - accuracy: 0.9998 - val_loss: 0.0110 - val_accuracy: 0.9965\n",
      "Epoch 6/10\n",
      "41/41 [==============================] - 173s 4s/step - loss: 7.2963e-04 - accuracy: 0.9999 - val_loss: 0.0078 - val_accuracy: 0.9975\n",
      "Epoch 7/10\n",
      "41/41 [==============================] - 182s 4s/step - loss: 1.5200e-04 - accuracy: 1.0000 - val_loss: 0.0083 - val_accuracy: 0.9979\n",
      "Epoch 8/10\n",
      "41/41 [==============================] - 174s 4s/step - loss: 8.1865e-05 - accuracy: 1.0000 - val_loss: 0.0090 - val_accuracy: 0.9975\n",
      "Epoch 9/10\n",
      "41/41 [==============================] - 178s 4s/step - loss: 6.0291e-05 - accuracy: 1.0000 - val_loss: 0.0093 - val_accuracy: 0.9973\n",
      "Epoch 10/10\n",
      "41/41 [==============================] - 179s 4s/step - loss: 4.0405e-05 - accuracy: 1.0000 - val_loss: 0.0095 - val_accuracy: 0.9973\n",
      "1/1 [==============================] - 2s 2s/step - loss: 0.0194 - accuracy: 0.9922\n"
     ]
    },
    {
     "name": "stderr",
     "output_type": "stream",
     "text": [
      "  4%|▍         | 1/24 [31:37<12:07:19, 1897.35s/it]"
     ]
    },
    {
     "name": "stdout",
     "output_type": "stream",
     "text": [
      "Epoch 1/10\n",
      "41/41 [==============================] - 177s 4s/step - loss: 0.6331 - accuracy: 0.6270 - val_loss: 0.4780 - val_accuracy: 0.6164\n",
      "Epoch 2/10\n",
      "41/41 [==============================] - 178s 4s/step - loss: 0.3254 - accuracy: 0.8777 - val_loss: 0.2244 - val_accuracy: 0.9303\n",
      "Epoch 3/10\n",
      "41/41 [==============================] - 185s 4s/step - loss: 0.1802 - accuracy: 0.9383 - val_loss: 0.2076 - val_accuracy: 0.9410\n",
      "Epoch 4/10\n",
      "41/41 [==============================] - 193s 5s/step - loss: 0.0480 - accuracy: 0.9855 - val_loss: 0.0171 - val_accuracy: 0.9934\n",
      "Epoch 5/10\n",
      "41/41 [==============================] - 181s 4s/step - loss: 0.0059 - accuracy: 0.9980 - val_loss: 0.0072 - val_accuracy: 0.9967\n",
      "Epoch 6/10\n",
      "41/41 [==============================] - 179s 4s/step - loss: 0.0019 - accuracy: 0.9996 - val_loss: 0.0050 - val_accuracy: 0.9980\n",
      "Epoch 7/10\n",
      "41/41 [==============================] - 184s 4s/step - loss: 0.0014 - accuracy: 0.9995 - val_loss: 0.0099 - val_accuracy: 0.9963\n",
      "Epoch 8/10\n",
      "41/41 [==============================] - 178s 4s/step - loss: 1.4832e-04 - accuracy: 1.0000 - val_loss: 0.0074 - val_accuracy: 0.9973\n",
      "Epoch 9/10\n",
      "41/41 [==============================] - 177s 4s/step - loss: 7.8983e-05 - accuracy: 1.0000 - val_loss: 0.0035 - val_accuracy: 0.9986\n",
      "Epoch 10/10\n",
      "41/41 [==============================] - 178s 4s/step - loss: 3.2553e-05 - accuracy: 1.0000 - val_loss: 0.0034 - val_accuracy: 0.9986\n",
      "1/1 [==============================] - 2s 2s/step - loss: 2.1068e-11 - accuracy: 1.0000\n"
     ]
    },
    {
     "name": "stderr",
     "output_type": "stream",
     "text": [
      "  8%|▊         | 2/24 [1:01:57<11:27:11, 1874.17s/it]"
     ]
    },
    {
     "name": "stdout",
     "output_type": "stream",
     "text": [
      "Epoch 1/10\n",
      "41/41 [==============================] - 179s 4s/step - loss: 0.6519 - accuracy: 0.6180 - val_loss: 0.5575 - val_accuracy: 0.6139\n",
      "Epoch 2/10\n",
      "41/41 [==============================] - 179s 4s/step - loss: 0.3664 - accuracy: 0.8432 - val_loss: 0.2633 - val_accuracy: 0.9234\n",
      "Epoch 3/10\n",
      "41/41 [==============================] - 191s 5s/step - loss: 0.2153 - accuracy: 0.9291 - val_loss: 0.2041 - val_accuracy: 0.9338\n",
      "Epoch 4/10\n",
      "41/41 [==============================] - 174s 4s/step - loss: 0.0798 - accuracy: 0.9751 - val_loss: 0.0341 - val_accuracy: 0.9904\n",
      "Epoch 5/10\n",
      "41/41 [==============================] - 174s 4s/step - loss: 0.0173 - accuracy: 0.9944 - val_loss: 0.0340 - val_accuracy: 0.9879\n",
      "Epoch 6/10\n",
      "41/41 [==============================] - 175s 4s/step - loss: 0.0064 - accuracy: 0.9977 - val_loss: 0.0173 - val_accuracy: 0.9934\n",
      "Epoch 7/10\n",
      "41/41 [==============================] - 179s 4s/step - loss: 0.0021 - accuracy: 0.9994 - val_loss: 0.0116 - val_accuracy: 0.9963\n",
      "Epoch 8/10\n",
      "41/41 [==============================] - 177s 4s/step - loss: 0.0010 - accuracy: 0.9999 - val_loss: 0.0101 - val_accuracy: 0.9965\n",
      "Epoch 9/10\n",
      "41/41 [==============================] - 177s 4s/step - loss: 4.0398e-04 - accuracy: 1.0000 - val_loss: 0.0099 - val_accuracy: 0.9963\n",
      "Epoch 10/10\n",
      "41/41 [==============================] - 174s 4s/step - loss: 1.4920e-04 - accuracy: 1.0000 - val_loss: 0.0097 - val_accuracy: 0.9963\n",
      "1/1 [==============================] - 2s 2s/step - loss: 8.8907e-09 - accuracy: 1.0000\n"
     ]
    },
    {
     "name": "stderr",
     "output_type": "stream",
     "text": [
      " 12%|█▎        | 3/24 [1:31:49<10:47:22, 1849.66s/it]"
     ]
    },
    {
     "name": "stdout",
     "output_type": "stream",
     "text": [
      "Epoch 1/10\n",
      "40/40 [==============================] - 171s 4s/step - loss: 0.6576 - accuracy: 0.6093 - val_loss: 0.5686 - val_accuracy: 0.6172\n",
      "Epoch 2/10\n",
      "40/40 [==============================] - 173s 4s/step - loss: 0.3852 - accuracy: 0.8271 - val_loss: 0.2735 - val_accuracy: 0.9090\n",
      "Epoch 3/10\n",
      "40/40 [==============================] - 175s 4s/step - loss: 0.1663 - accuracy: 0.9471 - val_loss: 0.0636 - val_accuracy: 0.9859\n",
      "Epoch 4/10\n",
      "40/40 [==============================] - 174s 4s/step - loss: 0.0235 - accuracy: 0.9935 - val_loss: 0.0158 - val_accuracy: 0.9959\n",
      "Epoch 5/10\n",
      "40/40 [==============================] - 174s 4s/step - loss: 0.0035 - accuracy: 0.9993 - val_loss: 0.0090 - val_accuracy: 0.9973\n",
      "Epoch 6/10\n",
      "40/40 [==============================] - 172s 4s/step - loss: 0.0018 - accuracy: 0.9995 - val_loss: 0.0085 - val_accuracy: 0.9977\n",
      "Epoch 7/10\n",
      "40/40 [==============================] - 173s 4s/step - loss: 0.5088 - accuracy: 0.9001 - val_loss: 0.2147 - val_accuracy: 0.9383\n",
      "Epoch 8/10\n",
      "40/40 [==============================] - 173s 4s/step - loss: 0.1589 - accuracy: 0.9495 - val_loss: 0.1010 - val_accuracy: 0.9664\n",
      "Epoch 9/10\n",
      "40/40 [==============================] - 192s 5s/step - loss: 0.0355 - accuracy: 0.9895 - val_loss: 0.0295 - val_accuracy: 0.9902\n",
      "Epoch 10/10\n",
      "40/40 [==============================] - 170s 4s/step - loss: 0.0033 - accuracy: 0.9990 - val_loss: 0.0239 - val_accuracy: 0.9926\n",
      "2/2 [==============================] - 5s 3s/step - loss: 1.0598e-07 - accuracy: 1.0000\n"
     ]
    },
    {
     "name": "stderr",
     "output_type": "stream",
     "text": [
      " 17%|█▋        | 4/24 [2:01:09<10:07:34, 1822.73s/it]"
     ]
    },
    {
     "name": "stdout",
     "output_type": "stream",
     "text": [
      "Epoch 1/10\n",
      "40/40 [==============================] - 173s 4s/step - loss: 0.6568 - accuracy: 0.6132 - val_loss: 0.5745 - val_accuracy: 0.6080\n",
      "Epoch 2/10\n",
      "40/40 [==============================] - 171s 4s/step - loss: 0.3662 - accuracy: 0.8532 - val_loss: 0.1374 - val_accuracy: 0.9719\n",
      "Epoch 3/10\n",
      "40/40 [==============================] - 171s 4s/step - loss: 0.0415 - accuracy: 0.9883 - val_loss: 0.0141 - val_accuracy: 0.9939\n",
      "Epoch 4/10\n",
      "40/40 [==============================] - 171s 4s/step - loss: 0.0045 - accuracy: 0.9987 - val_loss: 0.0062 - val_accuracy: 0.9975\n",
      "Epoch 5/10\n",
      "40/40 [==============================] - 170s 4s/step - loss: 0.0011 - accuracy: 0.9999 - val_loss: 0.0051 - val_accuracy: 0.9979\n",
      "Epoch 6/10\n",
      "40/40 [==============================] - 172s 4s/step - loss: 2.6115e-04 - accuracy: 1.0000 - val_loss: 0.0038 - val_accuracy: 0.9982\n",
      "Epoch 7/10\n",
      "40/40 [==============================] - 169s 4s/step - loss: 1.2554e-04 - accuracy: 1.0000 - val_loss: 0.0037 - val_accuracy: 0.9984\n",
      "Epoch 8/10\n",
      "40/40 [==============================] - 170s 4s/step - loss: 7.5746e-05 - accuracy: 1.0000 - val_loss: 0.0036 - val_accuracy: 0.9984\n",
      "Epoch 9/10\n",
      "40/40 [==============================] - 171s 4s/step - loss: 5.5985e-05 - accuracy: 1.0000 - val_loss: 0.0038 - val_accuracy: 0.9982\n",
      "Epoch 10/10\n",
      "40/40 [==============================] - 171s 4s/step - loss: 4.0882e-05 - accuracy: 1.0000 - val_loss: 0.0035 - val_accuracy: 0.9986\n",
      "2/2 [==============================] - 5s 3s/step - loss: 1.2801e-06 - accuracy: 1.0000\n"
     ]
    },
    {
     "name": "stderr",
     "output_type": "stream",
     "text": [
      " 21%|██        | 5/24 [2:29:52<9:27:38, 1792.57s/it] "
     ]
    },
    {
     "name": "stdout",
     "output_type": "stream",
     "text": [
      "Epoch 1/10\n",
      "40/40 [==============================] - 171s 4s/step - loss: 0.6572 - accuracy: 0.6182 - val_loss: 0.5709 - val_accuracy: 0.6195\n",
      "Epoch 2/10\n",
      "40/40 [==============================] - 171s 4s/step - loss: 0.3785 - accuracy: 0.8243 - val_loss: 0.1970 - val_accuracy: 0.9373\n",
      "Epoch 3/10\n",
      "40/40 [==============================] - 171s 4s/step - loss: 0.1189 - accuracy: 0.9604 - val_loss: 0.0232 - val_accuracy: 0.9951\n",
      "Epoch 4/10\n",
      "40/40 [==============================] - 171s 4s/step - loss: 0.0172 - accuracy: 0.9950 - val_loss: 0.0072 - val_accuracy: 0.9979\n",
      "Epoch 5/10\n",
      "40/40 [==============================] - 174s 4s/step - loss: 0.0077 - accuracy: 0.9975 - val_loss: 0.0058 - val_accuracy: 0.9984\n",
      "Epoch 6/10\n",
      "40/40 [==============================] - 172s 4s/step - loss: 0.0010 - accuracy: 0.9999 - val_loss: 0.0032 - val_accuracy: 0.9988\n",
      "Epoch 7/10\n",
      "40/40 [==============================] - 170s 4s/step - loss: 6.3092e-04 - accuracy: 1.0000 - val_loss: 0.0034 - val_accuracy: 0.9988\n",
      "Epoch 8/10\n",
      "40/40 [==============================] - 172s 4s/step - loss: 2.4077e-04 - accuracy: 1.0000 - val_loss: 0.0040 - val_accuracy: 0.9986\n",
      "Epoch 9/10\n",
      "40/40 [==============================] - 173s 4s/step - loss: 1.1890e-04 - accuracy: 1.0000 - val_loss: 0.0025 - val_accuracy: 0.9990\n",
      "Epoch 10/10\n",
      "40/40 [==============================] - 171s 4s/step - loss: 7.2783e-05 - accuracy: 1.0000 - val_loss: 0.0034 - val_accuracy: 0.9988\n",
      "2/2 [==============================] - 5s 2s/step - loss: 1.0936e-06 - accuracy: 1.0000\n"
     ]
    },
    {
     "name": "stderr",
     "output_type": "stream",
     "text": [
      " 25%|██▌       | 6/24 [2:58:41<8:52:05, 1773.64s/it]"
     ]
    },
    {
     "name": "stdout",
     "output_type": "stream",
     "text": [
      "Epoch 1/10\n",
      "39/39 [==============================] - 161s 4s/step - loss: 0.6560 - accuracy: 0.6021 - val_loss: 0.5491 - val_accuracy: 0.6111\n",
      "Epoch 2/10\n",
      "39/39 [==============================] - 160s 4s/step - loss: 0.3559 - accuracy: 0.8433 - val_loss: 0.2269 - val_accuracy: 0.9184\n",
      "Epoch 3/10\n",
      "39/39 [==============================] - 162s 4s/step - loss: 0.1785 - accuracy: 0.9393 - val_loss: 0.1318 - val_accuracy: 0.9544\n",
      "Epoch 4/10\n",
      "39/39 [==============================] - 164s 4s/step - loss: 0.0458 - accuracy: 0.9866 - val_loss: 0.1341 - val_accuracy: 0.9579\n",
      "Epoch 5/10\n",
      "39/39 [==============================] - 161s 4s/step - loss: 0.0971 - accuracy: 0.9670 - val_loss: 0.0238 - val_accuracy: 0.9907\n",
      "Epoch 6/10\n",
      "39/39 [==============================] - 161s 4s/step - loss: 0.0092 - accuracy: 0.9979 - val_loss: 0.0155 - val_accuracy: 0.9944\n",
      "Epoch 7/10\n",
      "39/39 [==============================] - 161s 4s/step - loss: 0.0046 - accuracy: 0.9993 - val_loss: 0.0114 - val_accuracy: 0.9959\n",
      "Epoch 8/10\n",
      "39/39 [==============================] - 163s 4s/step - loss: 0.0031 - accuracy: 0.9997 - val_loss: 0.0106 - val_accuracy: 0.9957\n",
      "Epoch 9/10\n",
      "39/39 [==============================] - 163s 4s/step - loss: 0.0021 - accuracy: 0.9997 - val_loss: 0.0101 - val_accuracy: 0.9957\n",
      "Epoch 10/10\n",
      "39/39 [==============================] - 171s 4s/step - loss: 0.0017 - accuracy: 0.9998 - val_loss: 0.0089 - val_accuracy: 0.9963\n",
      "3/3 [==============================] - 8s 3s/step - loss: 0.0378 - accuracy: 0.9896\n"
     ]
    },
    {
     "name": "stderr",
     "output_type": "stream",
     "text": [
      " 29%|██▉       | 7/24 [3:26:07<8:11:38, 1735.22s/it]"
     ]
    },
    {
     "name": "stdout",
     "output_type": "stream",
     "text": [
      "Epoch 1/10\n",
      "40/40 [==============================] - 169s 4s/step - loss: 0.6472 - accuracy: 0.6167 - val_loss: 0.5083 - val_accuracy: 0.6221\n",
      "Epoch 2/10\n",
      "40/40 [==============================] - 168s 4s/step - loss: 0.3263 - accuracy: 0.8699 - val_loss: 0.1972 - val_accuracy: 0.9309\n",
      "Epoch 3/10\n",
      "40/40 [==============================] - 175s 4s/step - loss: 0.1799 - accuracy: 0.9385 - val_loss: 0.1745 - val_accuracy: 0.9385\n",
      "Epoch 4/10\n",
      "40/40 [==============================] - 172s 4s/step - loss: 0.1421 - accuracy: 0.9392 - val_loss: 0.0805 - val_accuracy: 0.9385\n",
      "Epoch 5/10\n",
      "40/40 [==============================] - 173s 4s/step - loss: 0.0537 - accuracy: 0.9729 - val_loss: 0.0380 - val_accuracy: 0.9930\n",
      "Epoch 6/10\n",
      "40/40 [==============================] - 172s 4s/step - loss: 0.0179 - accuracy: 0.9952 - val_loss: 0.0068 - val_accuracy: 0.9984\n",
      "Epoch 7/10\n",
      "40/40 [==============================] - 174s 4s/step - loss: 0.0018 - accuracy: 0.9995 - val_loss: 0.0063 - val_accuracy: 0.9979\n",
      "Epoch 8/10\n",
      "40/40 [==============================] - 171s 4s/step - loss: 3.6665e-04 - accuracy: 1.0000 - val_loss: 0.0042 - val_accuracy: 0.9986\n",
      "Epoch 9/10\n",
      "40/40 [==============================] - 171s 4s/step - loss: 1.3280e-04 - accuracy: 1.0000 - val_loss: 0.0055 - val_accuracy: 0.9986\n",
      "Epoch 10/10\n",
      "40/40 [==============================] - 172s 4s/step - loss: 5.8117e-05 - accuracy: 1.0000 - val_loss: 0.0050 - val_accuracy: 0.9986\n",
      "2/2 [==============================] - 5s 2s/step - loss: 7.4459 - accuracy: 0.1406\n"
     ]
    },
    {
     "name": "stderr",
     "output_type": "stream",
     "text": [
      " 33%|███▎      | 8/24 [3:54:57<7:42:19, 1733.75s/it]"
     ]
    },
    {
     "name": "stdout",
     "output_type": "stream",
     "text": [
      "Epoch 1/10\n",
      "40/40 [==============================] - 171s 4s/step - loss: 0.6327 - accuracy: 0.6665 - val_loss: 0.5618 - val_accuracy: 0.6654\n",
      "Epoch 2/10\n",
      "40/40 [==============================] - 175s 4s/step - loss: 0.3639 - accuracy: 0.8093 - val_loss: 0.2494 - val_accuracy: 0.9254\n",
      "Epoch 3/10\n",
      "40/40 [==============================] - 170s 4s/step - loss: 0.1969 - accuracy: 0.9283 - val_loss: 0.1664 - val_accuracy: 0.9424\n",
      "Epoch 4/10\n",
      "40/40 [==============================] - 172s 4s/step - loss: 0.1089 - accuracy: 0.9640 - val_loss: 0.1322 - val_accuracy: 0.9463\n",
      "Epoch 5/10\n",
      "40/40 [==============================] - 171s 4s/step - loss: 0.1041 - accuracy: 0.9649 - val_loss: 0.0333 - val_accuracy: 0.9900\n",
      "Epoch 6/10\n",
      "40/40 [==============================] - 170s 4s/step - loss: 0.0127 - accuracy: 0.9970 - val_loss: 0.0136 - val_accuracy: 0.9955\n",
      "Epoch 7/10\n",
      "40/40 [==============================] - 177s 4s/step - loss: 0.0055 - accuracy: 0.9982 - val_loss: 0.0148 - val_accuracy: 0.9953\n",
      "Epoch 8/10\n",
      "40/40 [==============================] - 171s 4s/step - loss: 0.0027 - accuracy: 0.9995 - val_loss: 0.0118 - val_accuracy: 0.9963\n",
      "Epoch 9/10\n",
      "40/40 [==============================] - 170s 4s/step - loss: 0.0012 - accuracy: 0.9998 - val_loss: 0.0100 - val_accuracy: 0.9965\n",
      "Epoch 10/10\n",
      "40/40 [==============================] - 171s 4s/step - loss: 6.6700e-04 - accuracy: 1.0000 - val_loss: 0.0104 - val_accuracy: 0.9969\n",
      "2/2 [==============================] - 5s 3s/step - loss: 1.0570 - accuracy: 0.8037\n"
     ]
    },
    {
     "name": "stderr",
     "output_type": "stream",
     "text": [
      " 38%|███▊      | 9/24 [4:23:47<7:13:08, 1732.58s/it]"
     ]
    },
    {
     "name": "stdout",
     "output_type": "stream",
     "text": [
      "Epoch 1/10\n",
      "41/41 [==============================] - 176s 4s/step - loss: 0.6133 - accuracy: 0.6575 - val_loss: 0.4625 - val_accuracy: 0.6621\n",
      "Epoch 2/10\n",
      "41/41 [==============================] - 252s 6s/step - loss: 0.3521 - accuracy: 0.8538 - val_loss: 0.2399 - val_accuracy: 0.9250\n",
      "Epoch 3/10\n",
      "41/41 [==============================] - 180s 4s/step - loss: 0.1939 - accuracy: 0.9315 - val_loss: 0.1539 - val_accuracy: 0.9488\n",
      "Epoch 4/10\n",
      "41/41 [==============================] - 171s 4s/step - loss: 0.1306 - accuracy: 0.9545 - val_loss: 0.0416 - val_accuracy: 0.9902\n",
      "Epoch 5/10\n",
      "41/41 [==============================] - 175s 4s/step - loss: 0.0286 - accuracy: 0.9907 - val_loss: 0.0145 - val_accuracy: 0.9941\n",
      "Epoch 6/10\n",
      "41/41 [==============================] - 176s 4s/step - loss: 0.0044 - accuracy: 0.9987 - val_loss: 0.0182 - val_accuracy: 0.9945\n",
      "Epoch 7/10\n",
      "41/41 [==============================] - 184s 4s/step - loss: 0.0011 - accuracy: 0.9999 - val_loss: 0.0079 - val_accuracy: 0.9973\n",
      "Epoch 8/10\n",
      "41/41 [==============================] - 180s 4s/step - loss: 3.3169e-04 - accuracy: 0.9999 - val_loss: 0.0136 - val_accuracy: 0.9961\n",
      "Epoch 9/10\n",
      "41/41 [==============================] - 173s 4s/step - loss: 2.8779e-04 - accuracy: 1.0000 - val_loss: 0.0095 - val_accuracy: 0.9979\n",
      "Epoch 10/10\n",
      "41/41 [==============================] - 176s 4s/step - loss: 6.3135e-05 - accuracy: 1.0000 - val_loss: 0.0084 - val_accuracy: 0.9982\n",
      "1/1 [==============================] - 2s 2s/step - loss: 0.0057 - accuracy: 0.9980\n"
     ]
    },
    {
     "name": "stderr",
     "output_type": "stream",
     "text": [
      " 42%|████▏     | 10/24 [4:54:41<6:52:45, 1768.98s/it]"
     ]
    },
    {
     "name": "stdout",
     "output_type": "stream",
     "text": [
      "Epoch 1/10\n",
      "41/41 [==============================] - 175s 4s/step - loss: 0.6335 - accuracy: 0.6494 - val_loss: 0.5045 - val_accuracy: 0.6525\n",
      "Epoch 2/10\n",
      "41/41 [==============================] - 178s 4s/step - loss: 0.3538 - accuracy: 0.8393 - val_loss: 0.2113 - val_accuracy: 0.9242\n",
      "Epoch 3/10\n",
      "41/41 [==============================] - 173s 4s/step - loss: 0.1646 - accuracy: 0.9417 - val_loss: 0.0895 - val_accuracy: 0.9666\n",
      "Epoch 4/10\n",
      "41/41 [==============================] - 176s 4s/step - loss: 0.0311 - accuracy: 0.9895 - val_loss: 0.0156 - val_accuracy: 0.9943\n",
      "Epoch 5/10\n",
      "41/41 [==============================] - 176s 4s/step - loss: 0.0040 - accuracy: 0.9990 - val_loss: 0.0147 - val_accuracy: 0.9957\n",
      "Epoch 6/10\n",
      "41/41 [==============================] - 174s 4s/step - loss: 0.0010 - accuracy: 0.9999 - val_loss: 0.0112 - val_accuracy: 0.9971\n",
      "Epoch 7/10\n",
      "41/41 [==============================] - 176s 4s/step - loss: 4.6807e-04 - accuracy: 1.0000 - val_loss: 0.0108 - val_accuracy: 0.9973\n",
      "Epoch 8/10\n",
      "41/41 [==============================] - 176s 4s/step - loss: 2.7733e-04 - accuracy: 1.0000 - val_loss: 0.0098 - val_accuracy: 0.9969\n",
      "Epoch 9/10\n",
      "41/41 [==============================] - 176s 4s/step - loss: 7.0871e-05 - accuracy: 1.0000 - val_loss: 0.0103 - val_accuracy: 0.9967\n",
      "Epoch 10/10\n",
      "41/41 [==============================] - 179s 4s/step - loss: 3.9786e-05 - accuracy: 1.0000 - val_loss: 0.0096 - val_accuracy: 0.9971\n",
      "1/1 [==============================] - 2s 2s/step - loss: 0.0431 - accuracy: 0.9863\n"
     ]
    },
    {
     "name": "stderr",
     "output_type": "stream",
     "text": [
      " 46%|████▌     | 11/24 [5:24:10<6:23:18, 1769.09s/it]"
     ]
    },
    {
     "name": "stdout",
     "output_type": "stream",
     "text": [
      "Epoch 1/10\n",
      "41/41 [==============================] - 179s 4s/step - loss: 0.6330 - accuracy: 0.6482 - val_loss: 0.4995 - val_accuracy: 0.6494\n",
      "Epoch 2/10\n",
      "41/41 [==============================] - 176s 4s/step - loss: 0.2890 - accuracy: 0.8868 - val_loss: 0.1462 - val_accuracy: 0.9873\n",
      "Epoch 3/10\n",
      "41/41 [==============================] - 182s 4s/step - loss: 0.0755 - accuracy: 0.9823 - val_loss: 0.0324 - val_accuracy: 0.9883\n",
      "Epoch 4/10\n",
      "41/41 [==============================] - 188s 5s/step - loss: 0.0468 - accuracy: 0.9858 - val_loss: 0.0226 - val_accuracy: 0.9918\n",
      "Epoch 5/10\n",
      "41/41 [==============================] - 183s 4s/step - loss: 0.0076 - accuracy: 0.9982 - val_loss: 0.0085 - val_accuracy: 0.9975\n",
      "Epoch 6/10\n",
      "41/41 [==============================] - 195s 5s/step - loss: 0.0040 - accuracy: 0.9990 - val_loss: 0.0065 - val_accuracy: 0.9980\n",
      "Epoch 7/10\n",
      "41/41 [==============================] - 197s 5s/step - loss: 0.0028 - accuracy: 0.9994 - val_loss: 0.0055 - val_accuracy: 0.9980\n",
      "Epoch 8/10\n",
      "41/41 [==============================] - 194s 5s/step - loss: 0.0019 - accuracy: 0.9998 - val_loss: 0.0041 - val_accuracy: 0.9986\n",
      "Epoch 9/10\n",
      "41/41 [==============================] - 199s 5s/step - loss: 0.0014 - accuracy: 0.9998 - val_loss: 0.0062 - val_accuracy: 0.9977\n",
      "Epoch 10/10\n",
      "41/41 [==============================] - 202s 5s/step - loss: 0.0011 - accuracy: 0.9999 - val_loss: 0.0040 - val_accuracy: 0.9986\n",
      "1/1 [==============================] - 2s 2s/step - loss: 18.3190 - accuracy: 0.0000e+00\n"
     ]
    },
    {
     "name": "stderr",
     "output_type": "stream",
     "text": [
      " 50%|█████     | 12/24 [5:55:55<6:01:58, 1809.88s/it]"
     ]
    },
    {
     "name": "stdout",
     "output_type": "stream",
     "text": [
      "Epoch 1/10\n",
      "40/40 [==============================] - 191s 5s/step - loss: 0.6360 - accuracy: 0.6596 - val_loss: 0.5797 - val_accuracy: 0.6619\n",
      "Epoch 2/10\n",
      "40/40 [==============================] - 178s 4s/step - loss: 0.3786 - accuracy: 0.8074 - val_loss: 0.2502 - val_accuracy: 0.9383\n",
      "Epoch 3/10\n",
      "40/40 [==============================] - 178s 4s/step - loss: 0.1313 - accuracy: 0.9589 - val_loss: 0.0849 - val_accuracy: 0.9666\n",
      "Epoch 4/10\n",
      "40/40 [==============================] - 181s 4s/step - loss: 0.0116 - accuracy: 0.9960 - val_loss: 0.0052 - val_accuracy: 0.9982\n",
      "Epoch 5/10\n",
      "40/40 [==============================] - 184s 5s/step - loss: 0.0020 - accuracy: 0.9995 - val_loss: 0.0041 - val_accuracy: 0.9984\n",
      "Epoch 6/10\n",
      "40/40 [==============================] - 175s 4s/step - loss: 4.3857e-04 - accuracy: 0.9999 - val_loss: 0.0075 - val_accuracy: 0.9969\n",
      "Epoch 7/10\n",
      "40/40 [==============================] - 178s 4s/step - loss: 2.0290e-04 - accuracy: 1.0000 - val_loss: 0.0032 - val_accuracy: 0.9986\n",
      "Epoch 8/10\n",
      "40/40 [==============================] - 176s 4s/step - loss: 8.3227e-05 - accuracy: 1.0000 - val_loss: 0.0031 - val_accuracy: 0.9988\n",
      "Epoch 9/10\n",
      "40/40 [==============================] - 175s 4s/step - loss: 5.8033e-05 - accuracy: 1.0000 - val_loss: 0.0030 - val_accuracy: 0.9988\n",
      "Epoch 10/10\n",
      "40/40 [==============================] - 188s 5s/step - loss: 4.5219e-05 - accuracy: 1.0000 - val_loss: 0.0039 - val_accuracy: 0.9984\n",
      "2/2 [==============================] - 5s 3s/step - loss: 3.6688 - accuracy: 0.4336\n"
     ]
    },
    {
     "name": "stderr",
     "output_type": "stream",
     "text": [
      " 54%|█████▍    | 13/24 [6:26:15<5:32:21, 1812.88s/it]"
     ]
    },
    {
     "name": "stdout",
     "output_type": "stream",
     "text": [
      "Epoch 1/10\n",
      "40/40 [==============================] - 203s 5s/step - loss: 0.6364 - accuracy: 0.6142 - val_loss: 0.4689 - val_accuracy: 0.6020\n",
      "Epoch 2/10\n",
      "40/40 [==============================] - 184s 5s/step - loss: 0.2975 - accuracy: 0.9083 - val_loss: 0.1585 - val_accuracy: 0.9545\n",
      "Epoch 3/10\n",
      "40/40 [==============================] - 184s 5s/step - loss: 0.1834 - accuracy: 0.9394 - val_loss: 0.0966 - val_accuracy: 0.9768\n",
      "Epoch 4/10\n",
      "40/40 [==============================] - 183s 5s/step - loss: 0.0455 - accuracy: 0.9885 - val_loss: 0.0162 - val_accuracy: 0.9961\n",
      "Epoch 5/10\n",
      "40/40 [==============================] - 186s 5s/step - loss: 0.0098 - accuracy: 0.9973 - val_loss: 0.0063 - val_accuracy: 0.9979\n",
      "Epoch 6/10\n",
      "40/40 [==============================] - 174s 4s/step - loss: 0.0021 - accuracy: 0.9996 - val_loss: 0.0049 - val_accuracy: 0.9984\n",
      "Epoch 7/10\n",
      "40/40 [==============================] - 178s 4s/step - loss: 5.3766e-04 - accuracy: 1.0000 - val_loss: 0.0043 - val_accuracy: 0.9984\n",
      "Epoch 8/10\n",
      "40/40 [==============================] - 174s 4s/step - loss: 2.2540e-04 - accuracy: 1.0000 - val_loss: 0.0040 - val_accuracy: 0.9984\n",
      "Epoch 9/10\n",
      "40/40 [==============================] - 181s 5s/step - loss: 1.2846e-04 - accuracy: 1.0000 - val_loss: 0.0043 - val_accuracy: 0.9984\n",
      "Epoch 10/10\n",
      "40/40 [==============================] - 175s 4s/step - loss: 7.7703e-05 - accuracy: 1.0000 - val_loss: 0.0042 - val_accuracy: 0.9984\n",
      "3/3 [==============================] - 7s 3s/step - loss: 12.7255 - accuracy: 0.0000e+00\n"
     ]
    },
    {
     "name": "stderr",
     "output_type": "stream",
     "text": [
      " 58%|█████▊    | 14/24 [6:56:55<5:03:31, 1821.17s/it]"
     ]
    },
    {
     "name": "stdout",
     "output_type": "stream",
     "text": [
      "Epoch 1/10\n",
      "40/40 [==============================] - 175s 4s/step - loss: 0.6212 - accuracy: 0.6695 - val_loss: 0.4895 - val_accuracy: 0.6775\n",
      "Epoch 2/10\n",
      "40/40 [==============================] - 178s 4s/step - loss: 0.3506 - accuracy: 0.8670 - val_loss: 0.2090 - val_accuracy: 0.9662\n",
      "Epoch 3/10\n",
      "40/40 [==============================] - 177s 4s/step - loss: 0.0707 - accuracy: 0.9854 - val_loss: 0.0300 - val_accuracy: 0.9910\n",
      "Epoch 4/10\n",
      "40/40 [==============================] - 176s 4s/step - loss: 0.0063 - accuracy: 0.9979 - val_loss: 0.0047 - val_accuracy: 0.9986\n",
      "Epoch 5/10\n",
      "40/40 [==============================] - 176s 4s/step - loss: 0.0011 - accuracy: 0.9999 - val_loss: 0.0090 - val_accuracy: 0.9973\n",
      "Epoch 6/10\n",
      "40/40 [==============================] - 175s 4s/step - loss: 3.1309e-04 - accuracy: 1.0000 - val_loss: 0.0036 - val_accuracy: 0.9988\n",
      "Epoch 7/10\n",
      "40/40 [==============================] - 176s 4s/step - loss: 1.1830e-04 - accuracy: 1.0000 - val_loss: 0.0035 - val_accuracy: 0.9988\n",
      "Epoch 8/10\n",
      "40/40 [==============================] - 177s 4s/step - loss: 8.0977e-05 - accuracy: 1.0000 - val_loss: 0.0037 - val_accuracy: 0.9988\n",
      "Epoch 9/10\n",
      "40/40 [==============================] - 173s 4s/step - loss: 4.1914e-05 - accuracy: 1.0000 - val_loss: 0.0036 - val_accuracy: 0.9988\n",
      "Epoch 10/10\n",
      "40/40 [==============================] - 175s 4s/step - loss: 2.2781e-05 - accuracy: 1.0000 - val_loss: 0.0037 - val_accuracy: 0.9988\n",
      "3/3 [==============================] - 7s 2s/step - loss: 0.2337 - accuracy: 0.9577\n"
     ]
    },
    {
     "name": "stderr",
     "output_type": "stream",
     "text": [
      " 62%|██████▎   | 15/24 [7:26:31<4:31:07, 1807.50s/it]"
     ]
    },
    {
     "name": "stdout",
     "output_type": "stream",
     "text": [
      "Epoch 1/10\n",
      "40/40 [==============================] - 174s 4s/step - loss: 0.6407 - accuracy: 0.6590 - val_loss: 0.6139 - val_accuracy: 0.6516\n",
      "Epoch 2/10\n",
      "40/40 [==============================] - 174s 4s/step - loss: 0.4248 - accuracy: 0.7652 - val_loss: 0.2731 - val_accuracy: 0.9088\n",
      "Epoch 3/10\n",
      "40/40 [==============================] - 173s 4s/step - loss: 0.1901 - accuracy: 0.9334 - val_loss: 0.1007 - val_accuracy: 0.9680\n",
      "Epoch 4/10\n",
      "40/40 [==============================] - 178s 4s/step - loss: 0.0390 - accuracy: 0.9897 - val_loss: 0.0205 - val_accuracy: 0.9936\n",
      "Epoch 5/10\n",
      "40/40 [==============================] - 176s 4s/step - loss: 0.0060 - accuracy: 0.9978 - val_loss: 0.0126 - val_accuracy: 0.9963\n",
      "Epoch 6/10\n",
      "40/40 [==============================] - 176s 4s/step - loss: 0.0015 - accuracy: 0.9997 - val_loss: 0.0072 - val_accuracy: 0.9975\n",
      "Epoch 7/10\n",
      "40/40 [==============================] - 176s 4s/step - loss: 7.0726e-04 - accuracy: 1.0000 - val_loss: 0.0076 - val_accuracy: 0.9971\n",
      "Epoch 8/10\n",
      "40/40 [==============================] - 174s 4s/step - loss: 1.9814e-04 - accuracy: 1.0000 - val_loss: 0.0073 - val_accuracy: 0.9977\n",
      "Epoch 9/10\n",
      "40/40 [==============================] - 171s 4s/step - loss: 1.0181e-04 - accuracy: 1.0000 - val_loss: 0.0095 - val_accuracy: 0.9973\n",
      "Epoch 10/10\n",
      "40/40 [==============================] - 175s 4s/step - loss: 7.9794e-05 - accuracy: 1.0000 - val_loss: 0.0075 - val_accuracy: 0.9973\n",
      "2/2 [==============================] - 5s 3s/step - loss: 1.6391e-04 - accuracy: 1.0000\n"
     ]
    },
    {
     "name": "stderr",
     "output_type": "stream",
     "text": [
      " 67%|██████▋   | 16/24 [7:55:53<3:59:09, 1793.74s/it]"
     ]
    },
    {
     "name": "stdout",
     "output_type": "stream",
     "text": [
      "Epoch 1/10\n",
      "39/39 [==============================] - 168s 4s/step - loss: 0.6239 - accuracy: 0.6820 - val_loss: 0.5794 - val_accuracy: 0.6890\n",
      "Epoch 2/10\n",
      "39/39 [==============================] - 168s 4s/step - loss: 0.3852 - accuracy: 0.7764 - val_loss: 0.2632 - val_accuracy: 0.9214\n",
      "Epoch 3/10\n",
      "39/39 [==============================] - 173s 4s/step - loss: 0.1913 - accuracy: 0.9448 - val_loss: 0.0689 - val_accuracy: 0.9798\n",
      "Epoch 4/10\n",
      "39/39 [==============================] - 167s 4s/step - loss: 0.0234 - accuracy: 0.9935 - val_loss: 0.0217 - val_accuracy: 0.9939\n",
      "Epoch 5/10\n",
      "39/39 [==============================] - 163s 4s/step - loss: 0.0029 - accuracy: 0.9995 - val_loss: 0.0196 - val_accuracy: 0.9941\n",
      "Epoch 6/10\n",
      "39/39 [==============================] - 160s 4s/step - loss: 5.6166e-04 - accuracy: 0.9998 - val_loss: 0.0119 - val_accuracy: 0.9970\n",
      "Epoch 7/10\n",
      "39/39 [==============================] - 163s 4s/step - loss: 1.8662e-04 - accuracy: 1.0000 - val_loss: 0.0118 - val_accuracy: 0.9974\n",
      "Epoch 8/10\n",
      "39/39 [==============================] - 163s 4s/step - loss: 6.7729e-05 - accuracy: 1.0000 - val_loss: 0.0121 - val_accuracy: 0.9976\n",
      "Epoch 9/10\n",
      "39/39 [==============================] - 164s 4s/step - loss: 3.3570e-05 - accuracy: 1.0000 - val_loss: 0.0124 - val_accuracy: 0.9976\n",
      "Epoch 10/10\n",
      "39/39 [==============================] - 164s 4s/step - loss: 2.1934e-05 - accuracy: 1.0000 - val_loss: 0.0128 - val_accuracy: 0.9976\n",
      "4/4 [==============================] - 11s 3s/step - loss: 0.0279 - accuracy: 0.9941\n"
     ]
    },
    {
     "name": "stderr",
     "output_type": "stream",
     "text": [
      " 71%|███████   | 17/24 [8:23:45<3:25:01, 1757.40s/it]"
     ]
    },
    {
     "name": "stdout",
     "output_type": "stream",
     "text": [
      "Epoch 1/10\n",
      "41/41 [==============================] - 179s 4s/step - loss: 0.6603 - accuracy: 0.6181 - val_loss: 0.6143 - val_accuracy: 0.6164\n",
      "Epoch 2/10\n",
      "41/41 [==============================] - 181s 4s/step - loss: 0.3983 - accuracy: 0.8005 - val_loss: 0.2179 - val_accuracy: 0.9311\n",
      "Epoch 3/10\n",
      "41/41 [==============================] - 179s 4s/step - loss: 0.1422 - accuracy: 0.9517 - val_loss: 0.0445 - val_accuracy: 0.9869\n",
      "Epoch 4/10\n",
      "41/41 [==============================] - 179s 4s/step - loss: 0.0212 - accuracy: 0.9933 - val_loss: 0.0099 - val_accuracy: 0.9973\n",
      "Epoch 5/10\n",
      "41/41 [==============================] - 178s 4s/step - loss: 0.0041 - accuracy: 0.9987 - val_loss: 0.0070 - val_accuracy: 0.9986\n",
      "Epoch 6/10\n",
      "41/41 [==============================] - 196s 5s/step - loss: 0.0017 - accuracy: 0.9998 - val_loss: 0.0064 - val_accuracy: 0.9984\n",
      "Epoch 7/10\n",
      "41/41 [==============================] - 184s 4s/step - loss: 6.3975e-04 - accuracy: 1.0000 - val_loss: 0.0055 - val_accuracy: 0.9984\n",
      "Epoch 8/10\n",
      "41/41 [==============================] - 180s 4s/step - loss: 4.6934e-04 - accuracy: 1.0000 - val_loss: 0.0058 - val_accuracy: 0.9986\n",
      "Epoch 9/10\n",
      "41/41 [==============================] - 181s 4s/step - loss: 1.4493e-04 - accuracy: 1.0000 - val_loss: 0.0060 - val_accuracy: 0.9988\n",
      "Epoch 10/10\n",
      "41/41 [==============================] - 180s 4s/step - loss: 5.4361e-05 - accuracy: 1.0000 - val_loss: 0.0058 - val_accuracy: 0.9986\n",
      "1/1 [==============================] - 2s 2s/step - loss: 0.1306 - accuracy: 0.9629\n"
     ]
    },
    {
     "name": "stderr",
     "output_type": "stream",
     "text": [
      " 75%|███████▌  | 18/24 [8:54:14<2:57:52, 1778.72s/it]"
     ]
    },
    {
     "name": "stdout",
     "output_type": "stream",
     "text": [
      "Epoch 1/10\n",
      "41/41 [==============================] - 182s 4s/step - loss: 0.6372 - accuracy: 0.6214 - val_loss: 0.4796 - val_accuracy: 0.6307\n",
      "Epoch 2/10\n",
      "41/41 [==============================] - 180s 4s/step - loss: 0.3484 - accuracy: 0.8692 - val_loss: 0.2257 - val_accuracy: 0.9273\n",
      "Epoch 3/10\n",
      "41/41 [==============================] - 181s 4s/step - loss: 0.1356 - accuracy: 0.9561 - val_loss: 0.0500 - val_accuracy: 0.9867\n",
      "Epoch 4/10\n",
      "41/41 [==============================] - 181s 4s/step - loss: 0.0186 - accuracy: 0.9941 - val_loss: 0.0161 - val_accuracy: 0.9951\n",
      "Epoch 5/10\n",
      "41/41 [==============================] - 180s 4s/step - loss: 0.0021 - accuracy: 0.9994 - val_loss: 0.0113 - val_accuracy: 0.9961\n",
      "Epoch 6/10\n",
      "41/41 [==============================] - 182s 4s/step - loss: 4.3536e-04 - accuracy: 1.0000 - val_loss: 0.0099 - val_accuracy: 0.9973\n",
      "Epoch 7/10\n",
      "41/41 [==============================] - 182s 4s/step - loss: 1.6906e-04 - accuracy: 1.0000 - val_loss: 0.0090 - val_accuracy: 0.9973\n",
      "Epoch 8/10\n",
      "41/41 [==============================] - 181s 4s/step - loss: 8.5515e-05 - accuracy: 1.0000 - val_loss: 0.0092 - val_accuracy: 0.9975\n",
      "Epoch 9/10\n",
      "41/41 [==============================] - 180s 4s/step - loss: 4.2723e-05 - accuracy: 1.0000 - val_loss: 0.0088 - val_accuracy: 0.9977\n",
      "Epoch 10/10\n",
      "41/41 [==============================] - 182s 4s/step - loss: 2.4480e-05 - accuracy: 1.0000 - val_loss: 0.0099 - val_accuracy: 0.9975\n",
      "1/1 [==============================] - 2s 2s/step - loss: 2.0919e-04 - accuracy: 1.0000\n"
     ]
    },
    {
     "name": "stderr",
     "output_type": "stream",
     "text": [
      " 79%|███████▉  | 19/24 [9:24:37<2:29:20, 1792.06s/it]"
     ]
    },
    {
     "name": "stdout",
     "output_type": "stream",
     "text": [
      "Epoch 1/10\n",
      "41/41 [==============================] - 180s 4s/step - loss: 0.6469 - accuracy: 0.6247 - val_loss: 0.5213 - val_accuracy: 0.6264\n",
      "Epoch 2/10\n",
      "41/41 [==============================] - 180s 4s/step - loss: 0.3506 - accuracy: 0.8412 - val_loss: 0.2027 - val_accuracy: 0.9322\n",
      "Epoch 3/10\n",
      "41/41 [==============================] - 179s 4s/step - loss: 0.1906 - accuracy: 0.9347 - val_loss: 0.1461 - val_accuracy: 0.9520\n",
      "Epoch 4/10\n",
      "41/41 [==============================] - 178s 4s/step - loss: 0.0513 - accuracy: 0.9847 - val_loss: 0.0175 - val_accuracy: 0.9941\n",
      "Epoch 5/10\n",
      "41/41 [==============================] - 180s 4s/step - loss: 0.0081 - accuracy: 0.9971 - val_loss: 0.0205 - val_accuracy: 0.9937\n",
      "Epoch 6/10\n",
      "41/41 [==============================] - 185s 4s/step - loss: 0.0060 - accuracy: 0.9984 - val_loss: 0.0260 - val_accuracy: 0.9924\n",
      "Epoch 7/10\n",
      "41/41 [==============================] - 183s 4s/step - loss: 9.7081e-04 - accuracy: 0.9998 - val_loss: 0.0056 - val_accuracy: 0.9982\n",
      "Epoch 8/10\n",
      "41/41 [==============================] - 179s 4s/step - loss: 5.2095e-04 - accuracy: 1.0000 - val_loss: 0.0055 - val_accuracy: 0.9984\n",
      "Epoch 9/10\n",
      "41/41 [==============================] - 179s 4s/step - loss: 1.8302e-04 - accuracy: 1.0000 - val_loss: 0.0058 - val_accuracy: 0.9984\n",
      "Epoch 10/10\n",
      "41/41 [==============================] - 182s 4s/step - loss: 7.8136e-05 - accuracy: 1.0000 - val_loss: 0.0055 - val_accuracy: 0.9984\n",
      "1/1 [==============================] - 2s 2s/step - loss: 1.3911e-06 - accuracy: 1.0000\n"
     ]
    },
    {
     "name": "stderr",
     "output_type": "stream",
     "text": [
      " 83%|████████▎ | 20/24 [9:54:52<1:59:55, 1798.92s/it]"
     ]
    },
    {
     "name": "stdout",
     "output_type": "stream",
     "text": [
      "Epoch 1/10\n",
      "40/41 [============================>.] - ETA: 3s - loss: 0.6445 - accuracy: 0.6280"
     ]
    }
   ],
   "source": [
    "#\n",
    "now = datetime.now()\n",
    "#\n",
    "with open(f\"/sise/assafzar-group/assafzar/Leor/log {now.strftime('%d-%m-%Y-%H-%M-%S')}.txt\", \"w\") as file:\n",
    "  #\n",
    "  for exclude_sample in tqdm(meta_data.file_name.unique()):\n",
    "    #\n",
    "    gc.collect()\n",
    "    # \n",
    "    meta_data_train, meta_data_val = train_test_split(\n",
    "      meta_data[meta_data.file_name != exclude_sample], test_size=0.2)\n",
    "    # \n",
    "    meta_data_test = meta_data[meta_data.file_name == exclude_sample]\n",
    "\n",
    "    # Parameters\n",
    "    params = {\"dim\": (92000,), \"batch_size\": 512,\n",
    "              \"shuffle\": True, \"parsers\": parsers}\n",
    "\n",
    "    # Generators\n",
    "    training_generator = DataGenerator(meta_data_train, **params)\n",
    "    validation_generator = DataGenerator(meta_data_val, **params)\n",
    "    testing_generator = DataGenerator(meta_data_test, **params)\n",
    "\n",
    "    #\n",
    "    model = keras.Sequential(\n",
    "        [\n",
    "          keras.Input(shape=(92000,)),\n",
    "          layers.Dense(512, activation='relu'),\n",
    "          layers.Dense(512, activation='relu'),\n",
    "          layers.Dense(256, activation='relu'),\n",
    "          layers.Dense(256, activation='relu'),\n",
    "          layers.Dense(128, activation='relu'),\n",
    "          layers.Dense(1, activation='sigmoid')\n",
    "        ]\n",
    "    )\n",
    "    # \n",
    "    model.compile(optimizer='adam', loss='binary_crossentropy', metrics=['accuracy'])\n",
    "    # \n",
    "    history = model.fit(x=training_generator, validation_data=validation_generator, epochs=10)\n",
    "    # \n",
    "    test_eval = model.evaluate(testing_generator)\n",
    "    \n",
    "    #\n",
    "    file.write(f\"Excluded: {exclude_sample}\\n\")\n",
    "    file.write(f\"Train loss: {history.history['loss']}\\n\")\n",
    "    file.write(f\"Train accuracy: {history.history['accuracy']}\\n\")\n",
    "    file.write(f\"Validation loss: {history.history['val_loss']}\\n\")\n",
    "    file.write(f\"Validation accuracy: {history.history['val_accuracy']}\\n\")\n",
    "    file.write(f\"Test loss: {test_eval[0]}\\n\")\n",
    "    file.write(f\"Test accuracy: {test_eval[1]}\\n\\n\")"
   ]
  },
  {
   "cell_type": "code",
   "execution_count": 33,
   "id": "9a464310-3e92-4a88-86be-61ac26eb903d",
   "metadata": {},
   "outputs": [
    {
     "name": "stderr",
     "output_type": "stream",
     "text": [
      "100%|██████████| 24/24 [00:00<00:00, 15185.29it/s]\n"
     ]
    }
   ],
   "source": [
    "output = []\n",
    "\n",
    "with open(f\"/sise/assafzar-group/assafzar/Leor/log {now.strftime('%d-%m-%Y-%H-%M-%S')}.txt\", \"r\") as file:\n",
    "  for _ in tqdm(meta_data.file_name.unique()):\n",
    "    exclude_sample = file.readline().replace(\"Excluded: \", \"\").replace(\"\\n\",\"\")\n",
    "    train_loss = list(file.readline().replace(\"Train loss: \", \"\").replace(\"[\", \"\").replace(\"]\", \"\").replace(\"\\n\",\"\").split(\",\"))[-1]\n",
    "    train_accuracy = list(file.readline().replace(\"Train accuracy: \", \"\").replace(\"[\", \"\").replace(\"]\", \"\").replace(\"\\n\",\"\").split(\",\"))[-1]\n",
    "    val_loss = list(file.readline().replace(\"Validation  loss: \", \"\").replace(\"[\", \"\").replace(\"]\", \"\").replace(\"\\n\",\"\").split(\",\"))[-1]\n",
    "    val_accuracy = list(file.readline().replace(\"Validation accuracy: \", \"\").replace(\"[\", \"\").replace(\"]\", \"\").replace(\"\\n\",\"\").split(\",\"))[-1]\n",
    "    test_loss = file.readline().replace(\"Test loss: \", \"\").replace(\"\\n\",\"\")\n",
    "    test_accuracy = file.readline().replace(\"Test accuracy: \", \"\").replace(\"\\n\",\"\")\n",
    "    _ = file.readline()\n",
    "    output.append([exclude_sample, float(train_loss), float(train_accuracy), float(val_loss), float(val_accuracy), float(test_loss), float(test_accuracy)])\n",
    "    \n",
    "new_df = pd.DataFrame(columns=[\"exclude_sample\", \"train_loss\", \"train_accuracy\", \"val_loss\", \"val_accuracy\", \"test_loss\", \"test_accuracy\"], data=output)"
   ]
  },
  {
   "cell_type": "code",
   "execution_count": 52,
   "id": "353d6e83-155b-4c2e-895c-3f099502c1d1",
   "metadata": {},
   "outputs": [
    {
     "data": {
      "text/plain": [
       "train_accuracy    99.993682\n",
       "val_accuracy      99.766077\n",
       "test_accuracy     83.034261\n",
       "dtype: float64"
      ]
     },
     "execution_count": 52,
     "metadata": {},
     "output_type": "execute_result"
    }
   ],
   "source": [
    "new_df[[\"train_accuracy\", \"val_accuracy\", \"test_accuracy\"]].mean() * 100"
   ]
  },
  {
   "cell_type": "code",
   "execution_count": 53,
   "id": "1f08be5b-523e-408c-baa4-b8e52924c6b5",
   "metadata": {},
   "outputs": [
    {
     "data": {
      "text/plain": [
       "train_loss       0.015288\n",
       "val_loss         0.089735\n",
       "test_accuracy    6.756506\n",
       "dtype: float64"
      ]
     },
     "execution_count": 53,
     "metadata": {},
     "output_type": "execute_result"
    }
   ],
   "source": [
    "new_df[[\"train_loss\", \"val_loss\", \"test_accuracy\"]].sem() * 100"
   ]
  },
  {
   "cell_type": "code",
   "execution_count": 83,
   "id": "50ef3d3a-cd06-4127-851d-ea897b3e5e28",
   "metadata": {},
   "outputs": [
    {
     "name": "stderr",
     "output_type": "stream",
     "text": [
      "100%|██████████| 24/24 [00:06<00:00,  3.49it/s]\n"
     ]
    }
   ],
   "source": [
    "from sklearn.dummy import DummyClassifier\n",
    "\n",
    "output2 = []\n",
    "\n",
    "for exclude_sample in tqdm(meta_data.file_name.unique()):\n",
    "    #\n",
    "    gc.collect()\n",
    "    # \n",
    "    meta_data_train, meta_data_val = train_test_split(\n",
    "      meta_data[meta_data.file_name != exclude_sample], test_size=0.2)\n",
    "    # \n",
    "    meta_data_test = meta_data[meta_data.file_name == exclude_sample]\n",
    "    \n",
    "    #\n",
    "    X_train = meta_data_train.drop([\"label\", \"histology\", \"who_grade\"], axis=1)\n",
    "    Y_train = meta_data_train[\"label\"]\n",
    "    \n",
    "    #\n",
    "    X_test = meta_data_test.drop([\"label\", \"histology\", \"who_grade\"], axis=1)\n",
    "    Y_test = meta_data_test[\"label\"]\n",
    "    \n",
    "    # \n",
    "    dummy_clf = DummyClassifier(strategy=\"most_frequent\")\n",
    "    \n",
    "    # \n",
    "    dummy_clf.fit(X_train, Y_train)\n",
    "    \n",
    "    #\n",
    "    output2.append([dummy_clf.score(X_train, Y_train), dummy_clf.score(X_test, Y_test)])"
   ]
  },
  {
   "cell_type": "code",
   "execution_count": 86,
   "id": "a4753229-151c-420f-8078-a7f603c051f4",
   "metadata": {},
   "outputs": [],
   "source": [
    "new_df_2 = pd.DataFrame(columns=[\"dummy_train_accuracy\", \"dummy_test_accuracy\"], data=output2)"
   ]
  },
  {
   "cell_type": "code",
   "execution_count": 88,
   "id": "745caa65-9efe-4b6b-8a8d-444b0db6a759",
   "metadata": {},
   "outputs": [
    {
     "data": {
      "text/plain": [
       "dummy_train_accuracy    63.467914\n",
       "dummy_test_accuracy     66.666667\n",
       "dtype: float64"
      ]
     },
     "execution_count": 88,
     "metadata": {},
     "output_type": "execute_result"
    }
   ],
   "source": [
    "new_df_2[[\"dummy_train_accuracy\", \"dummy_test_accuracy\"]].mean() * 100"
   ]
  },
  {
   "cell_type": "code",
   "execution_count": 89,
   "id": "018d98f8-c412-4306-a45a-9c03b9bb9abd",
   "metadata": {},
   "outputs": [
    {
     "data": {
      "text/plain": [
       "dummy_train_accuracy    0.496154\n",
       "dummy_test_accuracy     9.829464\n",
       "dtype: float64"
      ]
     },
     "execution_count": 89,
     "metadata": {},
     "output_type": "execute_result"
    }
   ],
   "source": [
    "new_df_2[[\"dummy_train_accuracy\", \"dummy_test_accuracy\"]].sem() * 100"
   ]
  }
 ],
 "metadata": {
  "kernelspec": {
   "display_name": "tf-gpu-jupyter",
   "language": "python",
   "name": "tf-gpu-jupyter"
  },
  "language_info": {
   "codemirror_mode": {
    "name": "ipython",
    "version": 3
   },
   "file_extension": ".py",
   "mimetype": "text/x-python",
   "name": "python",
   "nbconvert_exporter": "python",
   "pygments_lexer": "ipython3",
   "version": "3.9.12"
  }
 },
 "nbformat": 4,
 "nbformat_minor": 5
}
