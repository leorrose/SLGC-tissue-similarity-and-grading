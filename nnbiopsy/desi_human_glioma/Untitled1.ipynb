{
 "cells": [
  {
   "cell_type": "code",
   "execution_count": 1,
   "id": "956aa7a4-75fc-4521-b2ac-2e88a9f0568d",
   "metadata": {},
   "outputs": [],
   "source": [
    "import os\n",
    "import numpy as np\n",
    "import pandas as pd\n",
    "from matplotlib import pyplot as plt\n",
    "from pyimzml.ImzMLParser import ImzMLParser\n",
    "from tqdm import tqdm\n",
    "import gc"
   ]
  },
  {
   "cell_type": "code",
   "execution_count": 2,
   "id": "12d6693a-9242-43f0-a490-0aeef251b441",
   "metadata": {},
   "outputs": [],
   "source": [
    "# Define folder that contains the preprocessed dhg dataset\n",
    "DHG_IN_PATH = \"/sise/assafzar-group/assafzar/Leor/DHG/Preprocessed\"\n",
    "# Define file to export\n",
    "META_DATA_PATH = \"/sise/assafzar-group/assafzar/Leor/DHG/Preprocessed/Metadata.csv\""
   ]
  },
  {
   "cell_type": "code",
   "execution_count": 3,
   "id": "cc49149f-9654-4f48-a6dd-c78fe888fc91",
   "metadata": {},
   "outputs": [],
   "source": [
    "# \n",
    "meta_data = pd.read_csv(META_DATA_PATH)\n",
    "# \n",
    "meta_data = meta_data[meta_data.file_name.str.contains('s')]\n",
    "# \n",
    "meta_data[\"label\"] = (meta_data.who_grade > 2).astype(int)"
   ]
  },
  {
   "cell_type": "code",
   "execution_count": 4,
   "id": "aa96785d-4107-4192-8fc3-de4550201bfb",
   "metadata": {},
   "outputs": [],
   "source": [
    "intensities = np.empty((len(meta_data), 92000))\n",
    "samples = np.empty((len(meta_data)))\n",
    "labels = np.empty((len(meta_data)))"
   ]
  },
  {
   "cell_type": "code",
   "execution_count": 5,
   "id": "7fee2be7-d32b-46c9-8847-38572648e8dc",
   "metadata": {},
   "outputs": [],
   "source": [
    "#\n",
    "parsers = { file_name: ImzMLParser(os.path.join(DHG_IN_PATH, f\"{file_name}.imzML\")) for file_name in meta_data.file_name.unique()}"
   ]
  },
  {
   "cell_type": "code",
   "execution_count": null,
   "id": "650ea553-4add-4f8e-8273-afdc457b3476",
   "metadata": {},
   "outputs": [],
   "source": [
    "for idx, row in meta_data.iterrows():\n",
    "  mzs, intensities[idx] = parsers[row.file_name].getspectrum(row.idx)\n",
    "  samples[idx] = row.file_name.replace('HG ', \"\").replace(\"_\", \"-\").split('-')[0]\n",
    "  labels[idx] = 0 if row.who_grade <= 2 else 1"
   ]
  },
  {
   "cell_type": "code",
   "execution_count": null,
   "id": "11318277-b086-45ea-bf4d-8cb2a6d35990",
   "metadata": {},
   "outputs": [],
   "source": [
    "import numpy as np\n",
    "from tensorflow.keras.layers import Lambda, Input, Dense, ReLU, BatchNormalization, Dropout\n",
    "from tensorflow.keras.constraints import max_norm\n",
    "from tensorflow.keras.models import Model\n",
    "from tensorflow.keras import backend as K\n",
    "\n",
    "\n",
    "class MultiClass_Classifier(object):\n",
    "    \n",
    "    def __init__ (self, nSpecFeatures, nClasses,  nHidden):\n",
    "        self.nClasses = nClasses\n",
    "        self.nHidden = nHidden\n",
    "        self.nSpecFeatures = nSpecFeatures\n",
    "        \n",
    "    def fc(self):\n",
    "        input_shape = (self.nSpecFeatures, )\n",
    "        inputs = Input(shape=input_shape, name='encoder_input')\n",
    "        den_1 = Dense(self.nHidden,activation='relu', kernel_constraint=max_norm(3))(inputs)\n",
    "        den_1 = Dropout(0.2)(den_1)\n",
    "        den_1 = BatchNormalization()(den_1)\n",
    "        \n",
    "        den_2 = Dense(self.nHidden,activation='relu', kernel_constraint=max_norm(3))(den_1)\n",
    "        den_2 = Dropout(0.2)(den_2)\n",
    "        den_2 = BatchNormalization()(den_2)\n",
    "        \n",
    "        out = Dense(self.nClasses, activation='softmax')(den_2)\n",
    "        fc_model = Model(inputs, out)\n",
    "        return fc_model"
   ]
  },
  {
   "cell_type": "code",
   "execution_count": null,
   "id": "b9719e56-b97d-4f78-8eb1-33a6af965225",
   "metadata": {},
   "outputs": [],
   "source": [
    "DL_CLassifier = MultiClass_Classifier(92, 2 , 512)\n",
    "DL_CLassifier.summary()"
   ]
  },
  {
   "cell_type": "code",
   "execution_count": null,
   "id": "52a4a838-5f8f-4ab8-b436-517f5755836f",
   "metadata": {},
   "outputs": [],
   "source": [
    "from sklearn.linear_model import LogisticRegression\n",
    "from sklearn.metrics import roc_curve\n",
    "from sklearn.metrics import roc_auc_score\n",
    "\n",
    "train_rocs = []\n",
    "train_aucs = []\n",
    "test_rocs = []\n",
    "test_aucs = []\n",
    "for exclude_sample in tqdm(np.unique(samples)):\n",
    "  clf = LogisticRegression(random_state=0, penalty=\"l2\").fit(intensities[samples != exclude_sample], labels[samples != exclude_sample])\n",
    "  gc.collect()\n",
    "  train_score = val = clf.score(intensities[samples != exclude_sample], labels[samples != exclude_sample])\n",
    "  gc.collect()\n",
    "  test_score = clf.score(intensities[samples == exclude_sample], labels[samples == exclude_sample])\n",
    "  train_scores.append(train_score)\n",
    "  test_scores.append(test_score)\n",
    "  print(train_score, test_score)\n",
    "  gc.collect()"
   ]
  },
  {
   "cell_type": "code",
   "execution_count": null,
   "id": "601c6d40-27f8-4333-9862-7bf865af4593",
   "metadata": {},
   "outputs": [],
   "source": []
  }
 ],
 "metadata": {
  "kernelspec": {
   "display_name": "tf-gpu-jupyter",
   "language": "python",
   "name": "tf-gpu-jupyter"
  },
  "language_info": {
   "codemirror_mode": {
    "name": "ipython",
    "version": 3
   },
   "file_extension": ".py",
   "mimetype": "text/x-python",
   "name": "python",
   "nbconvert_exporter": "python",
   "pygments_lexer": "ipython3",
   "version": "3.9.12"
  },
  "widgets": {
   "application/vnd.jupyter.widget-state+json": {
    "state": {},
    "version_major": 2,
    "version_minor": 0
   }
  }
 },
 "nbformat": 4,
 "nbformat_minor": 5
}
