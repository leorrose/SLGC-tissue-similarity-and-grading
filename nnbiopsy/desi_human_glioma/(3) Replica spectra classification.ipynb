{
 "cells": [
  {
   "cell_type": "markdown",
   "id": "856494bd-971b-4d53-92b6-a772f5934df5",
   "metadata": {},
   "source": [
    "# ***DESI Human Glioma Section Spectra Clinical State Classification***\n",
    "\n",
    "This notebook shows the process of section spectra clinical state classification of the DESI Human Glioma preprocessed dataset."
   ]
  },
  {
   "cell_type": "markdown",
   "id": "39df2682-bf3f-4242-94ce-e6bf0b6dcf3c",
   "metadata": {},
   "source": [
    "### ***Import packages***\n",
    "\n",
    "Before we begin, let\"s import all the necessary packages for this notebook.\n",
    "First we add the directory which has our python files:"
   ]
  },
  {
   "cell_type": "code",
   "execution_count": 2,
   "id": "3e2f72dc-fcd1-47d5-8c2d-fea76cfeadc3",
   "metadata": {},
   "outputs": [],
   "source": [
    "import sys\n",
    "sys.path.insert(0, \"../..\")"
   ]
  },
  {
   "cell_type": "markdown",
   "id": "84395cb7-3bb2-46f7-9d9a-794a8eecdab4",
   "metadata": {},
   "source": [
    "Next we import all the necessary packages for this notebook:"
   ]
  },
  {
   "cell_type": "code",
   "execution_count": 3,
   "id": "01b61342-ee57-4299-a9ce-a8993f8727fd",
   "metadata": {},
   "outputs": [],
   "source": [
    "import gc\n",
    "import os\n",
    "import numpy as np\n",
    "import pandas as pd\n",
    "import tensorflow as tf\n",
    "from typing import Tuple\n",
    "from matplotlib import pyplot as plt\n",
    "from tensorflow.keras import layers\n",
    "from tensorflow.keras import optimizers\n",
    "from tensorflow.keras import losses\n",
    "from tensorflow.keras import callbacks\n",
    "from tensorflow.keras import backend as K\n",
    "from sklearn import metrics\n",
    "from sklearn.model_selection import train_test_split\n",
    "from skimage import (filters)\n",
    "from tqdm import tqdm\n",
    "from pyimzml.ImzMLParser import ImzMLParser, getionimage"
   ]
  },
  {
   "cell_type": "markdown",
   "id": "87eebf16-66a7-4b26-8a4b-145d09cbe643",
   "metadata": {},
   "source": [
    "### ***Constants definitions***\n",
    "\n",
    "Next, let\"s define some constant variables for this notebook:"
   ]
  },
  {
   "cell_type": "code",
   "execution_count": 4,
   "id": "37a05c91-3223-4591-92cc-1ae0d83e8604",
   "metadata": {},
   "outputs": [],
   "source": [
    "# Define folder that contains the dhg dataset and files\n",
    "DHG_PATH = \"C:/Users/Leor/Desktop/Thesis/DHG\"\n",
    "# Define folder that contains the preprocessed dhg dataset\n",
    "DHG_IN_PATH = f\"{DHG_PATH}/Preprocessed\"\n",
    "# Define file that contains dhg clinical state annotations\n",
    "CLINICAL_STATE_ANNOTATIONS_PATH = f\"{DHG_PATH}/Clinical_state_annotations.csv\"\n",
    "# Define folder to save classification models for later use\n",
    "MODELS_PATH = \"C:/Users/Leor/Desktop/Thesis/replica_classification_models\"\n",
    "# Classification model number of epochs\n",
    "EPHOCS = 50\n",
    "# Classification model batch size\n",
    "BATCH_SIZE = 256\n",
    "# Classification model learning rate\n",
    "LEARNING_RATE = 1e-3\n",
    "# MSI Spectra dimension\n",
    "SPECTRA_DIM = 92000\n",
    "# The MSI sample type for filtering\n",
    "SAMPLE_TYPE = \"r\"\n",
    "# Mz value to get in order to threshold for tissue\n",
    "TRESH_MZ = 750\n",
    "# Mz tolerance value to get in order to threshold for tissue\n",
    "TRESH_MZ_TOL = 150\n",
    "# Treshould standard deviation for Gaussian kernel\n",
    "TRESH_GAUSSIAN_SIGMA = 1.5 "
   ]
  },
  {
   "cell_type": "markdown",
   "id": "55c71392-9354-46f8-93d3-d1298fab3820",
   "metadata": {
    "tags": []
   },
   "source": [
    "### ***Reading MSI clinical state anotations***\n",
    "\n",
    "Next, lets read the clinical state anotations for each MSI:"
   ]
  },
  {
   "cell_type": "code",
   "execution_count": 5,
   "id": "33f91fd0-b6c6-4965-ad0c-180fbd1c74bc",
   "metadata": {
    "tags": []
   },
   "outputs": [],
   "source": [
    "# Read clinical state annotations csv\n",
    "clinical_state_df = pd.read_csv(CLINICAL_STATE_ANNOTATIONS_PATH)\n",
    "\n",
    "# Filter by sample_type\n",
    "clinical_state_df = clinical_state_df[clinical_state_df[\"sample_type\"] ==\n",
    "                                      SAMPLE_TYPE]"
   ]
  },
  {
   "cell_type": "markdown",
   "id": "7b293bee-e70a-456b-8a75-c703e2ee0f15",
   "metadata": {},
   "source": [
    "### ***Get all tissue spectra from all MSI:***\n",
    "\n",
    "Next, let\"s get all informations except intensities (which need a lot of memory) for each tissue spectra from all MSI:"
   ]
  },
  {
   "cell_type": "code",
   "execution_count": 6,
   "id": "6aa78851-8993-4315-9e39-0095303a8735",
   "metadata": {},
   "outputs": [
    {
     "name": "stderr",
     "output_type": "stream",
     "text": [
      "Spectra Loop: 100%|██████████| 4026/4026 [00:00<00:00, 96109.07it/s]\n",
      "Spectra Loop: 100%|██████████| 1856/1856 [00:00<00:00, 109072.71it/s]\n",
      "Spectra Loop: 100%|██████████| 2412/2412 [00:00<00:00, 114785.97it/s]\n",
      "Spectra Loop: 100%|██████████| 4875/4875 [00:00<00:00, 88872.41it/s]\n",
      "Spectra Loop: 100%|██████████| 4368/4368 [00:00<00:00, 91119.30it/s]\n",
      "Spectra Loop: 100%|██████████| 3074/3074 [00:00<00:00, 128242.96it/s]\n",
      "Spectra Loop: 100%|██████████| 3465/3465 [00:00<00:00, 123727.36it/s]\n",
      "Spectra Loop: 100%|██████████| 4422/4422 [00:00<00:00, 98529.60it/s]\n",
      "Spectra Loop: 100%|██████████| 4488/4488 [00:00<00:00, 99951.34it/s]\n",
      "Spectra Loop: 100%|██████████| 3111/3111 [00:00<00:00, 135624.98it/s]\n",
      "Spectra Loop: 100%|██████████| 5934/5934 [00:00<00:00, 123899.22it/s]\n",
      "Spectra Loop: 100%|██████████| 3658/3658 [00:00<00:00, 104654.47it/s]\n",
      "Spectra Loop: 100%|██████████| 4500/4500 [00:00<00:00, 112540.35it/s]\n",
      "Spectra Loop: 100%|██████████| 3835/3835 [00:00<00:00, 132455.70it/s]\n",
      "Spectra Loop: 100%|██████████| 4256/4256 [00:00<00:00, 118310.72it/s]\n",
      "Spectra Loop: 100%|██████████| 3477/3477 [00:00<00:00, 75741.62it/s]\n",
      "Spectra Loop: 100%|██████████| 5135/5135 [00:00<00:00, 95274.07it/s]\n",
      "Spectra Loop: 100%|██████████| 2562/2562 [00:00<00:00, 197598.60it/s]\n",
      "Spectra Loop: 100%|██████████| 3111/3111 [00:00<00:00, 148072.90it/s]\n",
      "Spectra Loop: 100%|██████████| 1496/1496 [00:00<00:00, 114660.46it/s]\n",
      "Spectra Loop: 100%|██████████| 1452/1452 [00:00<00:00, 145439.40it/s]\n",
      "Spectra Loop: 100%|██████████| 2184/2184 [00:00<00:00, 109107.76it/s]\n",
      "Spectra Loop: 100%|██████████| 4420/4420 [00:00<00:00, 88586.79it/s]\n",
      "Spectra Loop: 100%|██████████| 3192/3192 [00:00<00:00, 114170.63it/s]\n",
      "MSI Loop: 100%|██████████| 24/24 [02:52<00:00,  7.20s/it]\n"
     ]
    }
   ],
   "source": [
    "# Create lists to store each spectra's info\n",
    "file_names = []\n",
    "sample_numbers = []\n",
    "histologies = []\n",
    "who_grades = []\n",
    "x_coordinates = []\n",
    "y_coordinates = []\n",
    "idxs = []\n",
    "\n",
    "# Loop over each MSI\n",
    "for index, msi_row in tqdm(clinical_state_df.iterrows(),\n",
    "                           total=clinical_state_df.shape[0],\n",
    "                           desc=\"MSI Loop\"):\n",
    "  # Parse the MSI file\n",
    "  with ImzMLParser(os.path.join(DHG_IN_PATH,\n",
    "                                f\"{msi_row.file_name}.imzML\")) as reader:\n",
    "    # Get local TIC image of msi in mz region [600, 900]\n",
    "    local_tic_img = getionimage(reader, TRESH_MZ, tol=TRESH_MZ_TOL)\n",
    "\n",
    "    # Threshold image to separate tissue spectra from background\n",
    "    smooth = filters.gaussian(local_tic_img, sigma=TRESH_GAUSSIAN_SIGMA)\n",
    "    thresh_mean = filters.threshold_mean(smooth)\n",
    "    thresh_img = local_tic_img > thresh_mean\n",
    "\n",
    "    # Loop over each spectra\n",
    "    for idx, (x, y, z) in tqdm(enumerate(reader.coordinates),\n",
    "                               total=len(reader.coordinates),\n",
    "                               desc=\"Spectra Loop\"):\n",
    "      # Check if spectra is tissue\n",
    "      if thresh_img[y - 1, x - 1]:\n",
    "        # Keep sample file name of spectra\n",
    "        file_names.append(msi_row.file_name)\n",
    "        # Keep sample number of spectra\n",
    "        sample_numbers.append(msi_row.sample_number)\n",
    "        # Keep sample histology of spectra\n",
    "        histologies.append(msi_row.histology)\n",
    "        # Keep sample who grade of spectra\n",
    "        who_grades.append(msi_row.who_grade)\n",
    "        # Keep x coordinate of spectra\n",
    "        x_coordinates.append(x)\n",
    "        # Keep y coordinate of spectra\n",
    "        y_coordinates.append(y)\n",
    "        # Keep  of spectra\n",
    "        idxs.append(idx)\n",
    "\n",
    "# Convert to numpy array\n",
    "file_names = np.array(file_names)\n",
    "sample_numbers = np.array(sample_numbers)\n",
    "histologies = np.array(histologies)\n",
    "who_grades = np.array(who_grades)\n",
    "x_coordinates = np.array(x_coordinates)\n",
    "y_coordinates = np.array(y_coordinates)\n",
    "idxs = np.array(idxs)\n",
    "labels = (who_grades > 2).astype(int)"
   ]
  },
  {
   "cell_type": "markdown",
   "id": "61b5a70b",
   "metadata": {},
   "source": [
    "### ***MSI parsers opening:***\n",
    "\n",
    "Next, let\"s create parser for each MSI in order to read spectra's for the model:"
   ]
  },
  {
   "cell_type": "code",
   "execution_count": 7,
   "id": "b5b50d38-2238-455d-93a5-202c995c9f0f",
   "metadata": {},
   "outputs": [],
   "source": [
    "# Opening parsers\n",
    "parsers = {\n",
    "    file_name: ImzMLParser(os.path.join(DHG_IN_PATH, f\"{file_name}.imzML\"))\n",
    "    for file_name in clinical_state_df.file_name.unique()\n",
    "}"
   ]
  },
  {
   "cell_type": "markdown",
   "id": "10da83a3-78b5-48c9-a29f-8aa4ae06876a",
   "metadata": {},
   "source": [
    "### ***Dataset generator:***\n",
    "\n",
    "Next, let\"s create a dataset generator for the model:"
   ]
  },
  {
   "cell_type": "code",
   "execution_count": 8,
   "id": "d344c443-1d92-4e78-9330-90c25489e35f",
   "metadata": {},
   "outputs": [],
   "source": [
    "def map_index(index: tf.Tensor) -> Tuple[np.ndarray, int]:\n",
    "  \"\"\"Function to map index to model input (spectra) and output (label).\n",
    "\n",
    "  Args:\n",
    "      index (tf.Tensor): index to map to corresponding values.\n",
    "\n",
    "  Returns:\n",
    "      Tuple[np.ndarray, int]: input (spectra) and output (label).\n",
    "  \n",
    "  \"\"\"\n",
    "  # Decoding index from the EagerTensor object\n",
    "  index = index.numpy()\n",
    "  # Reading spectra from parser\n",
    "  file_name = file_names[index]\n",
    "  idx = idxs[index]\n",
    "  _, spectra = parsers[file_name].getspectrum(idx)\n",
    "  # Return spectra and label\n",
    "  return (spectra, labels[index])\n",
    "\n",
    "\n",
    "def _fixup_shape(x: tf.Tensor, y: tf.Tensor):\n",
    "  \"\"\" Function to Fix the implicit inferring of the shapes of the\n",
    "  output Tensors.\n",
    "\n",
    "  Args:\n",
    "      x (tf.Tensor): input (spectra)\n",
    "      y (tf.Tensor): output (label)\n",
    "\n",
    "  Returns:\n",
    "      Tuple[np.ndarray, np.ndarray]: input (spectra) and output (label) with\n",
    "        correct shape.\n",
    "  \n",
    "  \"\"\"\n",
    "  x.set_shape([SPECTRA_DIM])\n",
    "  y.set_shape([])\n",
    "  return x, y\n",
    "\n",
    "\n",
    "def create_ds(indexes: np.ndarray, batch_size: int) -> tf.data.Dataset:\n",
    "  \"\"\"Function to create a dataset for model\n",
    "\n",
    "  Args:\n",
    "      indexes (np.ndarray): indexes of thh dataset\n",
    "      batch_size (int): batch size\n",
    "\n",
    "  Returns:\n",
    "      tf.data.Dataset: dataset\n",
    "  \"\"\"\n",
    "  # Create dataset from indexes\n",
    "  ds = tf.data.Dataset.from_tensor_slices(indexes)\n",
    "  # Shuffle the data\n",
    "  ds = ds.shuffle(len(indexes))\n",
    "  # Map index to spectra\n",
    "  ds = ds.map(lambda i: tf.py_function(\n",
    "      func=map_index, inp=[i], Tout=[tf.float32, tf.float32]))\n",
    "  # Fix the implicit inferring of the shapes of the\n",
    "  # output Tensors\n",
    "  ds = ds.map(_fixup_shape)\n",
    "  # Batch the spectra's\n",
    "  ds = ds.batch(batch_size)\n",
    "  # Prefetch batchs to make sure that a batch is ready to\n",
    "  # be served at all time\n",
    "  ds = ds.prefetch(tf.data.AUTOTUNE)\n",
    "  return ds"
   ]
  },
  {
   "cell_type": "markdown",
   "id": "fb64e399",
   "metadata": {},
   "source": [
    "### ***Classification model:***\n",
    "\n",
    "Next, let\"s create a classification dense neural network model:"
   ]
  },
  {
   "cell_type": "code",
   "execution_count": 9,
   "id": "a06243a6",
   "metadata": {},
   "outputs": [],
   "source": [
    "def get_model() -> tf.keras.Model:\n",
    "  \"\"\"Function to generate classification model.\n",
    "\n",
    "  Returns:\n",
    "      tf.keras.Model: classification model.\n",
    "  \n",
    "  \"\"\"\n",
    "  return tf.keras.Sequential(\n",
    "    [\n",
    "      layers.InputLayer(input_shape=(SPECTRA_DIM,)),\n",
    "      layers.Dense(512, activation='relu'),\n",
    "      layers.Dense(512, activation='relu'),\n",
    "      layers.Dense(256, activation='relu'),\n",
    "      layers.Dense(256, activation='relu'),\n",
    "      layers.Dense(128, activation='relu'),\n",
    "      layers.Dense(1, activation='sigmoid')\n",
    "    ]\n",
    "  )"
   ]
  },
  {
   "cell_type": "markdown",
   "id": "b1fe68ee",
   "metadata": {},
   "source": [
    "### ***LOOCV Classification:***\n",
    "\n",
    "Next, let\"s apply classification using LOOCV for best evaluation:"
   ]
  },
  {
   "cell_type": "code",
   "execution_count": 10,
   "id": "2c3a2175-3091-4045-ab39-5fb746b3f484",
   "metadata": {},
   "outputs": [
    {
     "name": "stderr",
     "output_type": "stream",
     "text": [
      "  0%|          | 0/22 [00:00<?, ?it/s]"
     ]
    },
    {
     "name": "stdout",
     "output_type": "stream",
     "text": [
      "Epoch 1/50\n",
      "127/127 [==============================] - 39s 297ms/step - loss: 0.3502 - accuracy: 0.8339 - val_loss: 0.1959 - val_accuracy: 0.9339\n",
      "INFO:tensorflow:Assets written to: C:/Users/Leor/Desktop/Thesis/replica_classification_models\\excluded_2\\assets\n",
      "Epoch 2/50\n",
      "127/127 [==============================] - 29s 230ms/step - loss: 0.0380 - accuracy: 0.9884 - val_loss: 0.0085 - val_accuracy: 0.9980\n",
      "INFO:tensorflow:Assets written to: C:/Users/Leor/Desktop/Thesis/replica_classification_models\\excluded_2\\assets\n",
      "Epoch 3/50\n",
      "127/127 [==============================] - 30s 234ms/step - loss: 0.0047 - accuracy: 0.9988 - val_loss: 0.0075 - val_accuracy: 0.9980\n",
      "Epoch 4/50\n",
      "127/127 [==============================] - 30s 233ms/step - loss: 0.0020 - accuracy: 0.9995 - val_loss: 0.0093 - val_accuracy: 0.9972\n",
      "Epoch 5/50\n",
      "127/127 [==============================] - 30s 240ms/step - loss: 0.0011 - accuracy: 0.9999 - val_loss: 0.0057 - val_accuracy: 0.9990\n",
      "INFO:tensorflow:Assets written to: C:/Users/Leor/Desktop/Thesis/replica_classification_models\\excluded_2\\assets\n",
      "Epoch 6/50\n",
      "127/127 [==============================] - 29s 229ms/step - loss: 7.5194e-04 - accuracy: 0.9999 - val_loss: 0.0057 - val_accuracy: 0.9989\n",
      "Epoch 7/50\n",
      "127/127 [==============================] - 30s 233ms/step - loss: 6.9176e-04 - accuracy: 0.9999 - val_loss: 0.0059 - val_accuracy: 0.9985\n",
      "Epoch 8/50\n",
      "127/127 [==============================] - 30s 234ms/step - loss: 6.6934e-04 - accuracy: 0.9999 - val_loss: 0.0058 - val_accuracy: 0.9989\n",
      "Epoch 9/50\n",
      "127/127 [==============================] - 31s 242ms/step - loss: 6.4933e-04 - accuracy: 0.9999 - val_loss: 0.0058 - val_accuracy: 0.9989\n",
      "Epoch 10/50\n",
      "127/127 [==============================] - 31s 242ms/step - loss: 6.4008e-04 - accuracy: 0.9999 - val_loss: 0.0058 - val_accuracy: 0.9989\n",
      "Epoch 00010: early stopping\n",
      "11/11 [==============================] - 3s 282ms/step - loss: 13.0594 - accuracy: 0.0000e+00\n"
     ]
    },
    {
     "name": "stderr",
     "output_type": "stream",
     "text": [
      "  5%|▍         | 1/22 [05:20<1:52:13, 320.66s/it]"
     ]
    },
    {
     "name": "stdout",
     "output_type": "stream",
     "text": [
      "Epoch 1/50\n",
      "126/126 [==============================] - 30s 234ms/step - loss: 0.4064 - accuracy: 0.7865 - val_loss: 0.1856 - val_accuracy: 0.9407\n",
      "INFO:tensorflow:Assets written to: C:/Users/Leor/Desktop/Thesis/replica_classification_models\\excluded_3\\assets\n",
      "Epoch 2/50\n",
      "126/126 [==============================] - 29s 233ms/step - loss: 0.1339 - accuracy: 0.9511 - val_loss: 0.0242 - val_accuracy: 0.9922\n",
      "INFO:tensorflow:Assets written to: C:/Users/Leor/Desktop/Thesis/replica_classification_models\\excluded_3\\assets\n",
      "Epoch 3/50\n",
      "126/126 [==============================] - 30s 238ms/step - loss: 0.0085 - accuracy: 0.9971 - val_loss: 0.0107 - val_accuracy: 0.9970\n",
      "INFO:tensorflow:Assets written to: C:/Users/Leor/Desktop/Thesis/replica_classification_models\\excluded_3\\assets\n",
      "Epoch 4/50\n",
      "126/126 [==============================] - 30s 238ms/step - loss: 0.1753 - accuracy: 0.9648 - val_loss: 0.0064 - val_accuracy: 0.9991\n",
      "INFO:tensorflow:Assets written to: C:/Users/Leor/Desktop/Thesis/replica_classification_models\\excluded_3\\assets\n",
      "Epoch 5/50\n",
      "126/126 [==============================] - 29s 228ms/step - loss: 0.0011 - accuracy: 0.9999 - val_loss: 0.0043 - val_accuracy: 0.9993\n",
      "INFO:tensorflow:Assets written to: C:/Users/Leor/Desktop/Thesis/replica_classification_models\\excluded_3\\assets\n",
      "Epoch 6/50\n",
      "126/126 [==============================] - 30s 237ms/step - loss: 2.5260e-04 - accuracy: 1.0000 - val_loss: 0.0045 - val_accuracy: 0.9991\n",
      "Epoch 7/50\n",
      "126/126 [==============================] - 30s 236ms/step - loss: 1.2777e-04 - accuracy: 1.0000 - val_loss: 0.0046 - val_accuracy: 0.9991\n",
      "Epoch 8/50\n",
      "126/126 [==============================] - 30s 242ms/step - loss: 5.6865e-05 - accuracy: 1.0000 - val_loss: 0.0047 - val_accuracy: 0.9993\n",
      "Epoch 9/50\n",
      "126/126 [==============================] - 30s 239ms/step - loss: 3.4302e-05 - accuracy: 1.0000 - val_loss: 0.0048 - val_accuracy: 0.9993\n",
      "Epoch 10/50\n",
      "126/126 [==============================] - 31s 248ms/step - loss: 2.1571e-05 - accuracy: 1.0000 - val_loss: 0.0050 - val_accuracy: 0.9993\n",
      "Epoch 00010: early stopping\n",
      "12/12 [==============================] - 2s 155ms/step - loss: 3.0949 - accuracy: 0.1847\n"
     ]
    },
    {
     "name": "stderr",
     "output_type": "stream",
     "text": [
      "  9%|▉         | 2/22 [10:33<1:45:15, 315.77s/it]"
     ]
    },
    {
     "name": "stdout",
     "output_type": "stream",
     "text": [
      "Epoch 1/50\n",
      "133/133 [==============================] - 33s 249ms/step - loss: 0.4184 - accuracy: 0.7787 - val_loss: 0.1730 - val_accuracy: 0.9430\n",
      "INFO:tensorflow:Assets written to: C:/Users/Leor/Desktop/Thesis/replica_classification_models\\excluded_4\\assets\n",
      "Epoch 2/50\n",
      "133/133 [==============================] - 31s 234ms/step - loss: 0.0895 - accuracy: 0.9630 - val_loss: 0.0317 - val_accuracy: 0.9948\n",
      "INFO:tensorflow:Assets written to: C:/Users/Leor/Desktop/Thesis/replica_classification_models\\excluded_4\\assets\n",
      "Epoch 3/50\n",
      "133/133 [==============================] - 32s 238ms/step - loss: 0.0051 - accuracy: 0.9991 - val_loss: 0.0037 - val_accuracy: 0.9991\n",
      "INFO:tensorflow:Assets written to: C:/Users/Leor/Desktop/Thesis/replica_classification_models\\excluded_4\\assets\n",
      "Epoch 4/50\n",
      "133/133 [==============================] - 32s 242ms/step - loss: 3.6178e-04 - accuracy: 1.0000 - val_loss: 0.0032 - val_accuracy: 0.9994\n",
      "INFO:tensorflow:Assets written to: C:/Users/Leor/Desktop/Thesis/replica_classification_models\\excluded_4\\assets\n",
      "Epoch 5/50\n",
      "133/133 [==============================] - 31s 232ms/step - loss: 4.3944e-05 - accuracy: 1.0000 - val_loss: 0.0032 - val_accuracy: 0.9993\n",
      "Epoch 6/50\n",
      "133/133 [==============================] - 32s 238ms/step - loss: 2.4042e-05 - accuracy: 1.0000 - val_loss: 0.0032 - val_accuracy: 0.9994\n",
      "Epoch 7/50\n",
      "133/133 [==============================] - 31s 232ms/step - loss: 1.4687e-05 - accuracy: 1.0000 - val_loss: 0.0032 - val_accuracy: 0.9994\n",
      "Epoch 8/50\n",
      "133/133 [==============================] - 31s 229ms/step - loss: 1.0040e-05 - accuracy: 1.0000 - val_loss: 0.0033 - val_accuracy: 0.9994\n",
      "Epoch 9/50\n",
      "133/133 [==============================] - 30s 227ms/step - loss: 7.1620e-06 - accuracy: 1.0000 - val_loss: 0.0033 - val_accuracy: 0.9993\n",
      "Epoch 00009: early stopping\n",
      "3/3 [==============================] - 1s 206ms/step - loss: 4.4371e-08 - accuracy: 1.0000\n"
     ]
    },
    {
     "name": "stderr",
     "output_type": "stream",
     "text": [
      " 14%|█▎        | 3/22 [15:25<1:36:41, 305.32s/it]"
     ]
    },
    {
     "name": "stdout",
     "output_type": "stream",
     "text": [
      "Epoch 1/50\n",
      "132/132 [==============================] - 31s 234ms/step - loss: 0.4411 - accuracy: 0.7646 - val_loss: 0.1794 - val_accuracy: 0.9420\n",
      "INFO:tensorflow:Assets written to: C:/Users/Leor/Desktop/Thesis/replica_classification_models\\excluded_5\\assets\n",
      "Epoch 2/50\n",
      "132/132 [==============================] - 30s 228ms/step - loss: 0.0938 - accuracy: 0.9659 - val_loss: 0.0228 - val_accuracy: 0.9925\n",
      "INFO:tensorflow:Assets written to: C:/Users/Leor/Desktop/Thesis/replica_classification_models\\excluded_5\\assets\n",
      "Epoch 3/50\n",
      "132/132 [==============================] - 31s 237ms/step - loss: 0.0036 - accuracy: 0.9990 - val_loss: 0.0046 - val_accuracy: 0.9987\n",
      "INFO:tensorflow:Assets written to: C:/Users/Leor/Desktop/Thesis/replica_classification_models\\excluded_5\\assets\n",
      "Epoch 4/50\n",
      "132/132 [==============================] - 30s 227ms/step - loss: 2.1611e-04 - accuracy: 1.0000 - val_loss: 0.0025 - val_accuracy: 0.9994\n",
      "INFO:tensorflow:Assets written to: C:/Users/Leor/Desktop/Thesis/replica_classification_models\\excluded_5\\assets\n",
      "Epoch 5/50\n",
      "132/132 [==============================] - 30s 231ms/step - loss: 3.8723e-05 - accuracy: 1.0000 - val_loss: 0.0026 - val_accuracy: 0.9994\n",
      "Epoch 6/50\n",
      "132/132 [==============================] - 33s 249ms/step - loss: 1.7897e-05 - accuracy: 1.0000 - val_loss: 0.0025 - val_accuracy: 0.9994\n",
      "Epoch 7/50\n",
      "132/132 [==============================] - 30s 226ms/step - loss: 1.1737e-05 - accuracy: 1.0000 - val_loss: 0.0024 - val_accuracy: 0.9994\n",
      "Epoch 8/50\n",
      "132/132 [==============================] - 34s 258ms/step - loss: 8.3341e-06 - accuracy: 1.0000 - val_loss: 0.0026 - val_accuracy: 0.9994\n",
      "Epoch 9/50\n",
      "132/132 [==============================] - 32s 244ms/step - loss: 6.4261e-06 - accuracy: 1.0000 - val_loss: 0.0025 - val_accuracy: 0.9994\n",
      "Epoch 00009: early stopping\n",
      "5/5 [==============================] - 1s 189ms/step - loss: 9.4083e-09 - accuracy: 1.0000\n"
     ]
    },
    {
     "name": "stderr",
     "output_type": "stream",
     "text": [
      " 18%|█▊        | 4/22 [20:18<1:30:06, 300.35s/it]"
     ]
    },
    {
     "name": "stdout",
     "output_type": "stream",
     "text": [
      "Epoch 1/50\n",
      "131/131 [==============================] - 31s 233ms/step - loss: 0.4681 - accuracy: 0.7463 - val_loss: 0.1922 - val_accuracy: 0.9386\n",
      "INFO:tensorflow:Assets written to: C:/Users/Leor/Desktop/Thesis/replica_classification_models\\excluded_6\\assets\n",
      "Epoch 2/50\n",
      "131/131 [==============================] - 31s 234ms/step - loss: 0.1388 - accuracy: 0.9487 - val_loss: 0.0448 - val_accuracy: 0.9912\n",
      "INFO:tensorflow:Assets written to: C:/Users/Leor/Desktop/Thesis/replica_classification_models\\excluded_6\\assets\n",
      "Epoch 3/50\n",
      "131/131 [==============================] - 30s 225ms/step - loss: 0.0131 - accuracy: 0.9961 - val_loss: 0.0053 - val_accuracy: 0.9990\n",
      "INFO:tensorflow:Assets written to: C:/Users/Leor/Desktop/Thesis/replica_classification_models\\excluded_6\\assets\n",
      "Epoch 4/50\n",
      "131/131 [==============================] - 31s 233ms/step - loss: 4.6251e-04 - accuracy: 1.0000 - val_loss: 0.0037 - val_accuracy: 0.9992\n",
      "INFO:tensorflow:Assets written to: C:/Users/Leor/Desktop/Thesis/replica_classification_models\\excluded_6\\assets\n",
      "Epoch 5/50\n",
      "131/131 [==============================] - 29s 225ms/step - loss: 8.3272e-05 - accuracy: 1.0000 - val_loss: 0.0040 - val_accuracy: 0.9993\n",
      "INFO:tensorflow:Assets written to: C:/Users/Leor/Desktop/Thesis/replica_classification_models\\excluded_6\\assets\n",
      "Epoch 6/50\n",
      "131/131 [==============================] - 31s 236ms/step - loss: 2.3825e-05 - accuracy: 1.0000 - val_loss: 0.0041 - val_accuracy: 0.9993\n",
      "Epoch 7/50\n",
      "131/131 [==============================] - 30s 227ms/step - loss: 1.1152e-05 - accuracy: 1.0000 - val_loss: 0.0040 - val_accuracy: 0.9993\n",
      "Epoch 8/50\n",
      "131/131 [==============================] - 30s 228ms/step - loss: 6.2920e-06 - accuracy: 1.0000 - val_loss: 0.0043 - val_accuracy: 0.9993\n",
      "Epoch 9/50\n",
      "131/131 [==============================] - 31s 235ms/step - loss: 4.0381e-06 - accuracy: 1.0000 - val_loss: 0.0044 - val_accuracy: 0.9992\n",
      "Epoch 00009: early stopping\n",
      "6/6 [==============================] - 1s 167ms/step - loss: 1.0192e-12 - accuracy: 1.0000\n"
     ]
    },
    {
     "name": "stderr",
     "output_type": "stream",
     "text": [
      " 23%|██▎       | 5/22 [25:03<1:23:32, 294.86s/it]"
     ]
    },
    {
     "name": "stdout",
     "output_type": "stream",
     "text": [
      "Epoch 1/50\n",
      "132/132 [==============================] - 31s 231ms/step - loss: 0.4359 - accuracy: 0.7757 - val_loss: 0.1820 - val_accuracy: 0.9418\n",
      "INFO:tensorflow:Assets written to: C:/Users/Leor/Desktop/Thesis/replica_classification_models\\excluded_7\\assets\n",
      "Epoch 2/50\n",
      "132/132 [==============================] - 31s 232ms/step - loss: 0.1552 - accuracy: 0.9459 - val_loss: 0.0960 - val_accuracy: 0.9419\n",
      "INFO:tensorflow:Assets written to: C:/Users/Leor/Desktop/Thesis/replica_classification_models\\excluded_7\\assets\n",
      "Epoch 3/50\n",
      "132/132 [==============================] - 29s 222ms/step - loss: 0.0377 - accuracy: 0.9810 - val_loss: 0.0078 - val_accuracy: 0.9983\n",
      "INFO:tensorflow:Assets written to: C:/Users/Leor/Desktop/Thesis/replica_classification_models\\excluded_7\\assets\n",
      "Epoch 4/50\n",
      "132/132 [==============================] - 31s 234ms/step - loss: 0.0022 - accuracy: 0.9995 - val_loss: 0.0035 - val_accuracy: 0.9994\n",
      "INFO:tensorflow:Assets written to: C:/Users/Leor/Desktop/Thesis/replica_classification_models\\excluded_7\\assets\n",
      "Epoch 5/50\n",
      "132/132 [==============================] - 31s 235ms/step - loss: 1.5164e-04 - accuracy: 1.0000 - val_loss: 0.0033 - val_accuracy: 0.9995\n",
      "INFO:tensorflow:Assets written to: C:/Users/Leor/Desktop/Thesis/replica_classification_models\\excluded_7\\assets\n",
      "Epoch 6/50\n",
      "132/132 [==============================] - 32s 243ms/step - loss: 5.2931e-05 - accuracy: 1.0000 - val_loss: 0.0037 - val_accuracy: 0.9993\n",
      "Epoch 7/50\n",
      "132/132 [==============================] - 31s 236ms/step - loss: 1.5412e-05 - accuracy: 1.0000 - val_loss: 0.0036 - val_accuracy: 0.9993\n",
      "Epoch 8/50\n",
      "132/132 [==============================] - 30s 230ms/step - loss: 7.7484e-06 - accuracy: 1.0000 - val_loss: 0.0036 - val_accuracy: 0.9994\n",
      "Epoch 9/50\n",
      "132/132 [==============================] - 29s 219ms/step - loss: 4.5379e-06 - accuracy: 1.0000 - val_loss: 0.0039 - val_accuracy: 0.9993\n",
      "Epoch 10/50\n",
      "132/132 [==============================] - 31s 234ms/step - loss: 2.9667e-06 - accuracy: 1.0000 - val_loss: 0.0038 - val_accuracy: 0.9994\n",
      "Epoch 00010: early stopping\n",
      "5/5 [==============================] - 1s 163ms/step - loss: 8.4818e-04 - accuracy: 1.0000\n"
     ]
    },
    {
     "name": "stderr",
     "output_type": "stream",
     "text": [
      " 27%|██▋       | 6/22 [30:22<1:20:48, 303.03s/it]"
     ]
    },
    {
     "name": "stdout",
     "output_type": "stream",
     "text": [
      "Epoch 1/50\n",
      "127/127 [==============================] - 30s 232ms/step - loss: 0.4232 - accuracy: 0.7686 - val_loss: 0.1827 - val_accuracy: 0.9397\n",
      "INFO:tensorflow:Assets written to: C:/Users/Leor/Desktop/Thesis/replica_classification_models\\excluded_8\\assets\n",
      "Epoch 2/50\n",
      "127/127 [==============================] - 31s 244ms/step - loss: 0.0924 - accuracy: 0.9626 - val_loss: 0.1938 - val_accuracy: 0.9314\n",
      "Epoch 3/50\n",
      "127/127 [==============================] - 30s 240ms/step - loss: 0.0117 - accuracy: 0.9964 - val_loss: 0.0029 - val_accuracy: 0.9994\n",
      "INFO:tensorflow:Assets written to: C:/Users/Leor/Desktop/Thesis/replica_classification_models\\excluded_8\\assets\n",
      "Epoch 4/50\n",
      "127/127 [==============================] - 30s 236ms/step - loss: 0.0011 - accuracy: 0.9998 - val_loss: 0.0025 - val_accuracy: 0.9994\n",
      "Epoch 5/50\n",
      "127/127 [==============================] - 30s 238ms/step - loss: 1.2655e-04 - accuracy: 1.0000 - val_loss: 0.0023 - val_accuracy: 0.9994\n",
      "Epoch 6/50\n",
      "127/127 [==============================] - 30s 237ms/step - loss: 4.9526e-05 - accuracy: 1.0000 - val_loss: 0.0023 - val_accuracy: 0.9995\n",
      "INFO:tensorflow:Assets written to: C:/Users/Leor/Desktop/Thesis/replica_classification_models\\excluded_8\\assets\n",
      "Epoch 7/50\n",
      "127/127 [==============================] - 29s 230ms/step - loss: 3.0671e-05 - accuracy: 1.0000 - val_loss: 0.0024 - val_accuracy: 0.9995\n",
      "Epoch 8/50\n",
      "127/127 [==============================] - 31s 244ms/step - loss: 2.1880e-05 - accuracy: 1.0000 - val_loss: 0.0024 - val_accuracy: 0.9994\n",
      "Epoch 9/50\n",
      "127/127 [==============================] - 30s 237ms/step - loss: 1.6051e-05 - accuracy: 1.0000 - val_loss: 0.0025 - val_accuracy: 0.9994\n",
      "Epoch 10/50\n",
      "127/127 [==============================] - 31s 244ms/step - loss: 1.2427e-05 - accuracy: 1.0000 - val_loss: 0.0025 - val_accuracy: 0.9994\n",
      "Epoch 00010: early stopping\n",
      "12/12 [==============================] - 2s 156ms/step - loss: 0.6318 - accuracy: 0.7247\n"
     ]
    },
    {
     "name": "stderr",
     "output_type": "stream",
     "text": [
      " 32%|███▏      | 7/22 [35:34<1:16:29, 305.98s/it]"
     ]
    },
    {
     "name": "stdout",
     "output_type": "stream",
     "text": [
      "Epoch 1/50\n",
      "131/131 [==============================] - 32s 242ms/step - loss: 0.4419 - accuracy: 0.7616 - val_loss: 0.1813 - val_accuracy: 0.9408\n",
      "INFO:tensorflow:Assets written to: C:/Users/Leor/Desktop/Thesis/replica_classification_models\\excluded_9\\assets\n",
      "Epoch 2/50\n",
      "131/131 [==============================] - 31s 236ms/step - loss: 0.0698 - accuracy: 0.9736 - val_loss: 0.0110 - val_accuracy: 0.9982\n",
      "INFO:tensorflow:Assets written to: C:/Users/Leor/Desktop/Thesis/replica_classification_models\\excluded_9\\assets\n",
      "Epoch 3/50\n",
      "131/131 [==============================] - 32s 242ms/step - loss: 0.0033 - accuracy: 0.9993 - val_loss: 0.0179 - val_accuracy: 0.9935\n",
      "Epoch 4/50\n",
      "131/131 [==============================] - 31s 239ms/step - loss: 9.1209e-04 - accuracy: 0.9999 - val_loss: 0.0021 - val_accuracy: 0.9993\n",
      "INFO:tensorflow:Assets written to: C:/Users/Leor/Desktop/Thesis/replica_classification_models\\excluded_9\\assets\n",
      "Epoch 5/50\n",
      "131/131 [==============================] - 32s 241ms/step - loss: 3.2790e-04 - accuracy: 1.0000 - val_loss: 0.0017 - val_accuracy: 0.9994\n",
      "INFO:tensorflow:Assets written to: C:/Users/Leor/Desktop/Thesis/replica_classification_models\\excluded_9\\assets\n",
      "Epoch 6/50\n",
      "131/131 [==============================] - 32s 243ms/step - loss: 3.3363e-04 - accuracy: 1.0000 - val_loss: 0.0019 - val_accuracy: 0.9993\n",
      "Epoch 7/50\n",
      "131/131 [==============================] - 31s 240ms/step - loss: 3.0586e-04 - accuracy: 1.0000 - val_loss: 0.0017 - val_accuracy: 0.9994\n",
      "Epoch 8/50\n",
      "131/131 [==============================] - 30s 232ms/step - loss: 2.8533e-04 - accuracy: 1.0000 - val_loss: 0.0020 - val_accuracy: 0.9994\n",
      "Epoch 9/50\n",
      "131/131 [==============================] - 29s 225ms/step - loss: 3.2841e-04 - accuracy: 1.0000 - val_loss: 0.0020 - val_accuracy: 0.9994\n",
      "Epoch 10/50\n",
      "131/131 [==============================] - 32s 242ms/step - loss: 2.7022e-04 - accuracy: 1.0000 - val_loss: 0.0019 - val_accuracy: 0.9994\n",
      "Epoch 00010: early stopping\n",
      "6/6 [==============================] - 1s 203ms/step - loss: 8.7586e-10 - accuracy: 1.0000\n"
     ]
    },
    {
     "name": "stderr",
     "output_type": "stream",
     "text": [
      " 36%|███▋      | 8/22 [40:58<1:12:42, 311.60s/it]"
     ]
    },
    {
     "name": "stdout",
     "output_type": "stream",
     "text": [
      "Epoch 1/50\n",
      "129/129 [==============================] - 30s 228ms/step - loss: 0.4209 - accuracy: 0.7839 - val_loss: 0.1819 - val_accuracy: 0.9423\n",
      "INFO:tensorflow:Assets written to: C:/Users/Leor/Desktop/Thesis/replica_classification_models\\excluded_10\\assets\n",
      "Epoch 2/50\n",
      "129/129 [==============================] - 31s 236ms/step - loss: 0.1030 - accuracy: 0.9618 - val_loss: 0.0127 - val_accuracy: 0.9972\n",
      "INFO:tensorflow:Assets written to: C:/Users/Leor/Desktop/Thesis/replica_classification_models\\excluded_10\\assets\n",
      "Epoch 3/50\n",
      "129/129 [==============================] - 31s 239ms/step - loss: 0.1321 - accuracy: 0.9654 - val_loss: 0.1445 - val_accuracy: 0.9423\n",
      "Epoch 4/50\n",
      "129/129 [==============================] - 30s 233ms/step - loss: 0.0246 - accuracy: 0.9926 - val_loss: 0.0047 - val_accuracy: 0.9993\n",
      "INFO:tensorflow:Assets written to: C:/Users/Leor/Desktop/Thesis/replica_classification_models\\excluded_10\\assets\n",
      "Epoch 5/50\n",
      "129/129 [==============================] - 30s 233ms/step - loss: 0.0014 - accuracy: 0.9999 - val_loss: 0.0029 - val_accuracy: 0.9993\n",
      "Epoch 6/50\n",
      "129/129 [==============================] - 29s 227ms/step - loss: 4.6290e-04 - accuracy: 1.0000 - val_loss: 0.0028 - val_accuracy: 0.9993\n",
      "Epoch 7/50\n",
      "129/129 [==============================] - 31s 240ms/step - loss: 2.3043e-04 - accuracy: 1.0000 - val_loss: 0.0033 - val_accuracy: 0.9993\n",
      "Epoch 8/50\n",
      "129/129 [==============================] - 33s 257ms/step - loss: 1.2037e-04 - accuracy: 1.0000 - val_loss: 0.0028 - val_accuracy: 0.9993\n",
      "Epoch 9/50\n",
      "129/129 [==============================] - 31s 238ms/step - loss: 7.5211e-05 - accuracy: 1.0000 - val_loss: 0.0029 - val_accuracy: 0.9993\n",
      "Epoch 10/50\n",
      "129/129 [==============================] - 31s 239ms/step - loss: 4.8309e-05 - accuracy: 1.0000 - val_loss: 0.0027 - val_accuracy: 0.9993\n",
      "Epoch 11/50\n",
      "129/129 [==============================] - 30s 235ms/step - loss: 2.2303e-05 - accuracy: 1.0000 - val_loss: 0.0030 - val_accuracy: 0.9993\n",
      "Epoch 12/50\n",
      "129/129 [==============================] - 31s 242ms/step - loss: 1.2844e-05 - accuracy: 1.0000 - val_loss: 0.0030 - val_accuracy: 0.9993\n",
      "Epoch 13/50\n",
      "129/129 [==============================] - 31s 243ms/step - loss: 8.2521e-06 - accuracy: 1.0000 - val_loss: 0.0035 - val_accuracy: 0.9993\n",
      "Epoch 14/50\n",
      "129/129 [==============================] - 32s 248ms/step - loss: 5.5241e-06 - accuracy: 1.0000 - val_loss: 0.0037 - val_accuracy: 0.9993\n",
      "Epoch 15/50\n",
      "129/129 [==============================] - 30s 235ms/step - loss: 4.1406e-06 - accuracy: 1.0000 - val_loss: 0.0034 - val_accuracy: 0.9993\n",
      "Epoch 00015: early stopping\n",
      "9/9 [==============================] - 2s 186ms/step - loss: 2.5156e-07 - accuracy: 1.0000\n"
     ]
    },
    {
     "name": "stderr",
     "output_type": "stream",
     "text": [
      " 41%|████      | 9/22 [48:49<1:18:20, 361.56s/it]"
     ]
    },
    {
     "name": "stdout",
     "output_type": "stream",
     "text": [
      "Epoch 1/50\n",
      "133/133 [==============================] - 32s 241ms/step - loss: 0.3965 - accuracy: 0.7963 - val_loss: 0.1790 - val_accuracy: 0.9432\n",
      "INFO:tensorflow:Assets written to: C:/Users/Leor/Desktop/Thesis/replica_classification_models\\excluded_11\\assets\n",
      "Epoch 2/50\n",
      "133/133 [==============================] - 32s 237ms/step - loss: 0.1000 - accuracy: 0.9611 - val_loss: 0.0128 - val_accuracy: 0.9965\n",
      "INFO:tensorflow:Assets written to: C:/Users/Leor/Desktop/Thesis/replica_classification_models\\excluded_11\\assets\n",
      "Epoch 3/50\n",
      "133/133 [==============================] - 33s 247ms/step - loss: 0.1416 - accuracy: 0.9721 - val_loss: 0.0127 - val_accuracy: 0.9983\n",
      "INFO:tensorflow:Assets written to: C:/Users/Leor/Desktop/Thesis/replica_classification_models\\excluded_11\\assets\n",
      "Epoch 4/50\n",
      "133/133 [==============================] - 35s 260ms/step - loss: 0.0045 - accuracy: 0.9994 - val_loss: 0.0055 - val_accuracy: 0.9986\n",
      "INFO:tensorflow:Assets written to: C:/Users/Leor/Desktop/Thesis/replica_classification_models\\excluded_11\\assets\n",
      "Epoch 5/50\n",
      "133/133 [==============================] - 32s 241ms/step - loss: 0.0011 - accuracy: 0.9999 - val_loss: 0.0047 - val_accuracy: 0.9988\n",
      "INFO:tensorflow:Assets written to: C:/Users/Leor/Desktop/Thesis/replica_classification_models\\excluded_11\\assets\n",
      "Epoch 6/50\n",
      "133/133 [==============================] - 33s 246ms/step - loss: 5.3339e-04 - accuracy: 1.0000 - val_loss: 0.0046 - val_accuracy: 0.9988\n",
      "Epoch 7/50\n",
      "133/133 [==============================] - 32s 241ms/step - loss: 1.3354e-04 - accuracy: 1.0000 - val_loss: 0.0050 - val_accuracy: 0.9988\n",
      "Epoch 8/50\n",
      "133/133 [==============================] - 33s 248ms/step - loss: 5.8568e-05 - accuracy: 1.0000 - val_loss: 0.0055 - val_accuracy: 0.9989\n",
      "INFO:tensorflow:Assets written to: C:/Users/Leor/Desktop/Thesis/replica_classification_models\\excluded_11\\assets\n",
      "Epoch 9/50\n",
      "133/133 [==============================] - 30s 228ms/step - loss: 2.5646e-05 - accuracy: 1.0000 - val_loss: 0.0057 - val_accuracy: 0.9988\n",
      "Epoch 10/50\n",
      "133/133 [==============================] - 30s 228ms/step - loss: 1.3381e-05 - accuracy: 1.0000 - val_loss: 0.0062 - val_accuracy: 0.9988\n",
      "Epoch 00010: early stopping\n",
      "4/4 [==============================] - 1s 188ms/step - loss: 3.6919 - accuracy: 0.5332\n"
     ]
    },
    {
     "name": "stderr",
     "output_type": "stream",
     "text": [
      " 45%|████▌     | 10/22 [54:26<1:10:45, 353.80s/it]"
     ]
    },
    {
     "name": "stdout",
     "output_type": "stream",
     "text": [
      "Epoch 1/50\n",
      "132/132 [==============================] - 31s 233ms/step - loss: 0.4364 - accuracy: 0.7660 - val_loss: 0.2042 - val_accuracy: 0.9294\n",
      "INFO:tensorflow:Assets written to: C:/Users/Leor/Desktop/Thesis/replica_classification_models\\excluded_12\\assets\n",
      "Epoch 2/50\n",
      "132/132 [==============================] - 30s 227ms/step - loss: 0.1351 - accuracy: 0.9511 - val_loss: 0.0304 - val_accuracy: 0.9908\n",
      "INFO:tensorflow:Assets written to: C:/Users/Leor/Desktop/Thesis/replica_classification_models\\excluded_12\\assets\n",
      "Epoch 3/50\n",
      "132/132 [==============================] - 33s 251ms/step - loss: 0.0073 - accuracy: 0.9975 - val_loss: 0.0048 - val_accuracy: 0.9989\n",
      "INFO:tensorflow:Assets written to: C:/Users/Leor/Desktop/Thesis/replica_classification_models\\excluded_12\\assets\n",
      "Epoch 4/50\n",
      "132/132 [==============================] - 32s 242ms/step - loss: 2.9708e-04 - accuracy: 1.0000 - val_loss: 0.0042 - val_accuracy: 0.9990\n",
      "INFO:tensorflow:Assets written to: C:/Users/Leor/Desktop/Thesis/replica_classification_models\\excluded_12\\assets\n",
      "Epoch 5/50\n",
      "132/132 [==============================] - 32s 243ms/step - loss: 8.6758e-05 - accuracy: 1.0000 - val_loss: 0.0044 - val_accuracy: 0.9992\n",
      "INFO:tensorflow:Assets written to: C:/Users/Leor/Desktop/Thesis/replica_classification_models\\excluded_12\\assets\n",
      "Epoch 6/50\n",
      "132/132 [==============================] - 33s 246ms/step - loss: 3.2835e-05 - accuracy: 1.0000 - val_loss: 0.0046 - val_accuracy: 0.9992\n",
      "Epoch 7/50\n",
      "132/132 [==============================] - 33s 247ms/step - loss: 2.2307e-05 - accuracy: 1.0000 - val_loss: 0.0046 - val_accuracy: 0.9992\n",
      "Epoch 8/50\n",
      "132/132 [==============================] - 30s 231ms/step - loss: 1.6584e-05 - accuracy: 1.0000 - val_loss: 0.0047 - val_accuracy: 0.9990\n",
      "Epoch 9/50\n",
      "132/132 [==============================] - 32s 239ms/step - loss: 1.2742e-05 - accuracy: 1.0000 - val_loss: 0.0047 - val_accuracy: 0.9992\n",
      "Epoch 00009: early stopping\n",
      "5/5 [==============================] - 1s 160ms/step - loss: 1.1396e-17 - accuracy: 1.0000\n"
     ]
    },
    {
     "name": "stderr",
     "output_type": "stream",
     "text": [
      " 50%|█████     | 11/22 [59:23<1:01:42, 336.63s/it]"
     ]
    },
    {
     "name": "stdout",
     "output_type": "stream",
     "text": [
      "Epoch 1/50\n",
      "127/127 [==============================] - 31s 241ms/step - loss: 0.4334 - accuracy: 0.7673 - val_loss: 0.1804 - val_accuracy: 0.9421\n",
      "INFO:tensorflow:Assets written to: C:/Users/Leor/Desktop/Thesis/replica_classification_models\\excluded_13\\assets\n",
      "Epoch 2/50\n",
      "127/127 [==============================] - 31s 243ms/step - loss: 0.1459 - accuracy: 0.9552 - val_loss: 0.3648 - val_accuracy: 0.8254\n",
      "Epoch 3/50\n",
      "127/127 [==============================] - 32s 248ms/step - loss: 0.2179 - accuracy: 0.9247 - val_loss: 0.0141 - val_accuracy: 0.9975\n",
      "INFO:tensorflow:Assets written to: C:/Users/Leor/Desktop/Thesis/replica_classification_models\\excluded_13\\assets\n",
      "Epoch 4/50\n",
      "127/127 [==============================] - 30s 231ms/step - loss: 0.0057 - accuracy: 0.9989 - val_loss: 0.0149 - val_accuracy: 0.9963\n",
      "Epoch 5/50\n",
      "127/127 [==============================] - 31s 245ms/step - loss: 0.0013 - accuracy: 0.9998 - val_loss: 0.0044 - val_accuracy: 0.9989\n",
      "INFO:tensorflow:Assets written to: C:/Users/Leor/Desktop/Thesis/replica_classification_models\\excluded_13\\assets\n",
      "Epoch 6/50\n",
      "127/127 [==============================] - 32s 252ms/step - loss: 5.9549e-04 - accuracy: 1.0000 - val_loss: 0.0044 - val_accuracy: 0.9989\n",
      "Epoch 7/50\n",
      "127/127 [==============================] - 31s 243ms/step - loss: 4.2499e-04 - accuracy: 1.0000 - val_loss: 0.0047 - val_accuracy: 0.9990\n",
      "INFO:tensorflow:Assets written to: C:/Users/Leor/Desktop/Thesis/replica_classification_models\\excluded_13\\assets\n",
      "Epoch 8/50\n",
      "127/127 [==============================] - 30s 236ms/step - loss: 3.5684e-04 - accuracy: 1.0000 - val_loss: 0.0043 - val_accuracy: 0.9989\n",
      "Epoch 9/50\n",
      "127/127 [==============================] - 30s 239ms/step - loss: 3.2376e-04 - accuracy: 1.0000 - val_loss: 0.0047 - val_accuracy: 0.9990\n",
      "Epoch 10/50\n",
      "127/127 [==============================] - 30s 233ms/step - loss: 3.0271e-04 - accuracy: 1.0000 - val_loss: 0.0048 - val_accuracy: 0.9990\n",
      "Epoch 00010: early stopping\n",
      "12/12 [==============================] - 3s 200ms/step - loss: 0.2686 - accuracy: 0.9405\n"
     ]
    },
    {
     "name": "stderr",
     "output_type": "stream",
     "text": [
      " 55%|█████▍    | 12/22 [1:04:43<55:13, 331.34s/it]"
     ]
    },
    {
     "name": "stdout",
     "output_type": "stream",
     "text": [
      "Epoch 1/50\n",
      "128/128 [==============================] - 32s 250ms/step - loss: 0.4572 - accuracy: 0.7475 - val_loss: 0.1856 - val_accuracy: 0.9398\n",
      "INFO:tensorflow:Assets written to: C:/Users/Leor/Desktop/Thesis/replica_classification_models\\excluded_14\\assets\n",
      "Epoch 2/50\n",
      "128/128 [==============================] - 32s 253ms/step - loss: 0.1162 - accuracy: 0.9571 - val_loss: 0.0238 - val_accuracy: 0.9925\n",
      "INFO:tensorflow:Assets written to: C:/Users/Leor/Desktop/Thesis/replica_classification_models\\excluded_14\\assets\n",
      "Epoch 3/50\n",
      "128/128 [==============================] - 32s 248ms/step - loss: 0.0435 - accuracy: 0.9880 - val_loss: 0.0082 - val_accuracy: 0.9980\n",
      "INFO:tensorflow:Assets written to: C:/Users/Leor/Desktop/Thesis/replica_classification_models\\excluded_14\\assets\n",
      "Epoch 4/50\n",
      "128/128 [==============================] - 31s 244ms/step - loss: 0.0025 - accuracy: 0.9996 - val_loss: 0.0083 - val_accuracy: 0.9980\n",
      "Epoch 5/50\n",
      "128/128 [==============================] - 32s 249ms/step - loss: 6.1549e-04 - accuracy: 0.9999 - val_loss: 0.0032 - val_accuracy: 0.9994\n",
      "INFO:tensorflow:Assets written to: C:/Users/Leor/Desktop/Thesis/replica_classification_models\\excluded_14\\assets\n",
      "Epoch 6/50\n",
      "128/128 [==============================] - 31s 244ms/step - loss: 1.6788e-04 - accuracy: 1.0000 - val_loss: 0.0030 - val_accuracy: 0.9994\n",
      "Epoch 7/50\n",
      "128/128 [==============================] - 31s 239ms/step - loss: 5.6931e-05 - accuracy: 1.0000 - val_loss: 0.0032 - val_accuracy: 0.9995\n",
      "INFO:tensorflow:Assets written to: C:/Users/Leor/Desktop/Thesis/replica_classification_models\\excluded_14\\assets\n",
      "Epoch 8/50\n",
      "128/128 [==============================] - 32s 247ms/step - loss: 2.7633e-05 - accuracy: 1.0000 - val_loss: 0.0031 - val_accuracy: 0.9995\n",
      "Epoch 9/50\n",
      "128/128 [==============================] - 31s 244ms/step - loss: 1.1629e-05 - accuracy: 1.0000 - val_loss: 0.0032 - val_accuracy: 0.9994\n",
      "Epoch 10/50\n",
      "128/128 [==============================] - 32s 247ms/step - loss: 7.6044e-06 - accuracy: 1.0000 - val_loss: 0.0031 - val_accuracy: 0.9995\n",
      "Epoch 11/50\n",
      "128/128 [==============================] - 30s 235ms/step - loss: 4.8285e-06 - accuracy: 1.0000 - val_loss: 0.0033 - val_accuracy: 0.9995\n",
      "Epoch 00011: early stopping\n",
      "10/10 [==============================] - 2s 197ms/step - loss: 0.5345 - accuracy: 0.8607\n"
     ]
    },
    {
     "name": "stderr",
     "output_type": "stream",
     "text": [
      " 59%|█████▉    | 13/22 [1:10:42<50:59, 339.98s/it]"
     ]
    },
    {
     "name": "stdout",
     "output_type": "stream",
     "text": [
      "Epoch 1/50\n",
      "131/131 [==============================] - 32s 239ms/step - loss: 0.4350 - accuracy: 0.7666 - val_loss: 0.1757 - val_accuracy: 0.9454\n",
      "INFO:tensorflow:Assets written to: C:/Users/Leor/Desktop/Thesis/replica_classification_models\\excluded_15\\assets\n",
      "Epoch 2/50\n",
      "131/131 [==============================] - 30s 226ms/step - loss: 0.1682 - accuracy: 0.9458 - val_loss: 0.1490 - val_accuracy: 0.9462\n",
      "INFO:tensorflow:Assets written to: C:/Users/Leor/Desktop/Thesis/replica_classification_models\\excluded_15\\assets\n",
      "Epoch 3/50\n",
      "131/131 [==============================] - 31s 235ms/step - loss: 0.0513 - accuracy: 0.9756 - val_loss: 0.0056 - val_accuracy: 0.9984\n",
      "INFO:tensorflow:Assets written to: C:/Users/Leor/Desktop/Thesis/replica_classification_models\\excluded_15\\assets\n",
      "Epoch 4/50\n",
      "131/131 [==============================] - 31s 237ms/step - loss: 0.0019 - accuracy: 0.9994 - val_loss: 0.0031 - val_accuracy: 0.9987\n",
      "INFO:tensorflow:Assets written to: C:/Users/Leor/Desktop/Thesis/replica_classification_models\\excluded_15\\assets\n",
      "Epoch 5/50\n",
      "131/131 [==============================] - 31s 233ms/step - loss: 3.0345e-04 - accuracy: 0.9999 - val_loss: 0.0023 - val_accuracy: 0.9992\n",
      "INFO:tensorflow:Assets written to: C:/Users/Leor/Desktop/Thesis/replica_classification_models\\excluded_15\\assets\n",
      "Epoch 6/50\n",
      "131/131 [==============================] - 31s 237ms/step - loss: 4.5010e-05 - accuracy: 1.0000 - val_loss: 0.0017 - val_accuracy: 0.9990\n",
      "Epoch 7/50\n",
      "131/131 [==============================] - 31s 236ms/step - loss: 2.6126e-05 - accuracy: 1.0000 - val_loss: 0.0019 - val_accuracy: 0.9992\n",
      "Epoch 8/50\n",
      "131/131 [==============================] - 32s 243ms/step - loss: 1.2740e-05 - accuracy: 1.0000 - val_loss: 0.0020 - val_accuracy: 0.9993\n",
      "INFO:tensorflow:Assets written to: C:/Users/Leor/Desktop/Thesis/replica_classification_models\\excluded_15\\assets\n",
      "Epoch 9/50\n",
      "131/131 [==============================] - 31s 237ms/step - loss: 6.2112e-06 - accuracy: 1.0000 - val_loss: 0.0020 - val_accuracy: 0.9993\n",
      "Epoch 10/50\n",
      "131/131 [==============================] - 32s 243ms/step - loss: 3.8693e-06 - accuracy: 1.0000 - val_loss: 0.0020 - val_accuracy: 0.9993\n",
      "Epoch 11/50\n",
      "131/131 [==============================] - 31s 235ms/step - loss: 2.6363e-06 - accuracy: 1.0000 - val_loss: 0.0021 - val_accuracy: 0.9993\n",
      "Epoch 00011: early stopping\n",
      "6/6 [==============================] - 1s 134ms/step - loss: 4.7321 - accuracy: 0.1583\n"
     ]
    },
    {
     "name": "stderr",
     "output_type": "stream",
     "text": [
      " 64%|██████▎   | 14/22 [1:16:38<45:58, 344.81s/it]"
     ]
    },
    {
     "name": "stdout",
     "output_type": "stream",
     "text": [
      "Epoch 1/50\n",
      "131/131 [==============================] - 31s 238ms/step - loss: 0.4282 - accuracy: 0.7759 - val_loss: 0.1761 - val_accuracy: 0.9408\n",
      "INFO:tensorflow:Assets written to: C:/Users/Leor/Desktop/Thesis/replica_classification_models\\excluded_16\\assets\n",
      "Epoch 2/50\n",
      "131/131 [==============================] - 31s 235ms/step - loss: 0.0843 - accuracy: 0.9679 - val_loss: 0.0091 - val_accuracy: 0.9980\n",
      "INFO:tensorflow:Assets written to: C:/Users/Leor/Desktop/Thesis/replica_classification_models\\excluded_16\\assets\n",
      "Epoch 3/50\n",
      "131/131 [==============================] - 31s 238ms/step - loss: 0.0027 - accuracy: 0.9993 - val_loss: 0.0080 - val_accuracy: 0.9983\n",
      "INFO:tensorflow:Assets written to: C:/Users/Leor/Desktop/Thesis/replica_classification_models\\excluded_16\\assets\n",
      "Epoch 4/50\n",
      "131/131 [==============================] - 32s 244ms/step - loss: 0.0023 - accuracy: 0.9998 - val_loss: 0.0055 - val_accuracy: 0.9992\n",
      "INFO:tensorflow:Assets written to: C:/Users/Leor/Desktop/Thesis/replica_classification_models\\excluded_16\\assets\n",
      "Epoch 5/50\n",
      "131/131 [==============================] - 32s 240ms/step - loss: 8.9469e-05 - accuracy: 1.0000 - val_loss: 0.0051 - val_accuracy: 0.9993\n",
      "INFO:tensorflow:Assets written to: C:/Users/Leor/Desktop/Thesis/replica_classification_models\\excluded_16\\assets\n",
      "Epoch 6/50\n",
      "131/131 [==============================] - 33s 248ms/step - loss: 3.1441e-05 - accuracy: 1.0000 - val_loss: 0.0051 - val_accuracy: 0.9995\n",
      "INFO:tensorflow:Assets written to: C:/Users/Leor/Desktop/Thesis/replica_classification_models\\excluded_16\\assets\n",
      "Epoch 7/50\n",
      "131/131 [==============================] - 33s 251ms/step - loss: 1.8824e-05 - accuracy: 1.0000 - val_loss: 0.0052 - val_accuracy: 0.9995\n",
      "Epoch 8/50\n",
      "131/131 [==============================] - 31s 234ms/step - loss: 1.2082e-05 - accuracy: 1.0000 - val_loss: 0.0053 - val_accuracy: 0.9995\n",
      "Epoch 9/50\n",
      "131/131 [==============================] - 30s 229ms/step - loss: 7.2997e-06 - accuracy: 1.0000 - val_loss: 0.0054 - val_accuracy: 0.9995\n",
      "Epoch 10/50\n",
      "131/131 [==============================] - 33s 253ms/step - loss: 4.3481e-06 - accuracy: 1.0000 - val_loss: 0.0059 - val_accuracy: 0.9993\n",
      "Epoch 00010: early stopping\n",
      "6/6 [==============================] - 2s 230ms/step - loss: 14.9398 - accuracy: 0.0159\n"
     ]
    },
    {
     "name": "stderr",
     "output_type": "stream",
     "text": [
      " 68%|██████▊   | 15/22 [1:22:10<39:45, 340.72s/it]"
     ]
    },
    {
     "name": "stdout",
     "output_type": "stream",
     "text": [
      "Epoch 1/50\n",
      "121/121 [==============================] - 29s 240ms/step - loss: 0.4547 - accuracy: 0.7648 - val_loss: 0.1829 - val_accuracy: 0.9354\n",
      "INFO:tensorflow:Assets written to: C:/Users/Leor/Desktop/Thesis/replica_classification_models\\excluded_18\\assets\n",
      "Epoch 2/50\n",
      "121/121 [==============================] - 29s 235ms/step - loss: 0.1333 - accuracy: 0.9429 - val_loss: 0.0573 - val_accuracy: 0.9904\n",
      "INFO:tensorflow:Assets written to: C:/Users/Leor/Desktop/Thesis/replica_classification_models\\excluded_18\\assets\n",
      "Epoch 3/50\n",
      "121/121 [==============================] - 29s 239ms/step - loss: 0.2072 - accuracy: 0.9565 - val_loss: 0.0262 - val_accuracy: 0.9945\n",
      "INFO:tensorflow:Assets written to: C:/Users/Leor/Desktop/Thesis/replica_classification_models\\excluded_18\\assets\n",
      "Epoch 4/50\n",
      "121/121 [==============================] - 29s 240ms/step - loss: 0.0097 - accuracy: 0.9990 - val_loss: 0.0086 - val_accuracy: 0.9988\n",
      "INFO:tensorflow:Assets written to: C:/Users/Leor/Desktop/Thesis/replica_classification_models\\excluded_18\\assets\n",
      "Epoch 5/50\n",
      "121/121 [==============================] - 29s 243ms/step - loss: 0.0036 - accuracy: 0.9997 - val_loss: 0.0054 - val_accuracy: 0.9988\n",
      "Epoch 6/50\n",
      "121/121 [==============================] - 28s 234ms/step - loss: 0.0018 - accuracy: 0.9999 - val_loss: 0.0048 - val_accuracy: 0.9990\n",
      "INFO:tensorflow:Assets written to: C:/Users/Leor/Desktop/Thesis/replica_classification_models\\excluded_18\\assets\n",
      "Epoch 7/50\n",
      "121/121 [==============================] - 29s 236ms/step - loss: 0.0012 - accuracy: 0.9999 - val_loss: 0.0040 - val_accuracy: 0.9990\n",
      "Epoch 8/50\n",
      "121/121 [==============================] - 29s 243ms/step - loss: 8.0505e-04 - accuracy: 1.0000 - val_loss: 0.0036 - val_accuracy: 0.9990\n",
      "Epoch 9/50\n",
      "121/121 [==============================] - 30s 244ms/step - loss: 5.9911e-04 - accuracy: 1.0000 - val_loss: 0.0037 - val_accuracy: 0.9990\n",
      "Epoch 10/50\n",
      "121/121 [==============================] - 30s 248ms/step - loss: 5.1968e-04 - accuracy: 1.0000 - val_loss: 0.0033 - val_accuracy: 0.9990\n",
      "Epoch 11/50\n",
      "121/121 [==============================] - 28s 230ms/step - loss: 4.6976e-04 - accuracy: 1.0000 - val_loss: 0.0033 - val_accuracy: 0.9990\n",
      "Epoch 12/50\n",
      "121/121 [==============================] - 30s 249ms/step - loss: 4.3929e-04 - accuracy: 1.0000 - val_loss: 0.0033 - val_accuracy: 0.9990\n",
      "Epoch 13/50\n",
      "121/121 [==============================] - 31s 252ms/step - loss: 4.1680e-04 - accuracy: 1.0000 - val_loss: 0.0033 - val_accuracy: 0.9990\n",
      "Epoch 14/50\n",
      "121/121 [==============================] - 30s 244ms/step - loss: 3.9834e-04 - accuracy: 1.0000 - val_loss: 0.0033 - val_accuracy: 0.9990\n",
      "Epoch 15/50\n",
      "121/121 [==============================] - 30s 248ms/step - loss: 3.8271e-04 - accuracy: 1.0000 - val_loss: 0.0033 - val_accuracy: 0.9990\n",
      "Epoch 00015: early stopping\n",
      "19/19 [==============================] - 3s 159ms/step - loss: 0.2983 - accuracy: 0.9466\n"
     ]
    },
    {
     "name": "stderr",
     "output_type": "stream",
     "text": [
      " 73%|███████▎  | 16/22 [1:29:43<37:28, 374.70s/it]"
     ]
    },
    {
     "name": "stdout",
     "output_type": "stream",
     "text": [
      "Epoch 1/50\n",
      "132/132 [==============================] - 34s 252ms/step - loss: 0.4101 - accuracy: 0.7931 - val_loss: 0.1840 - val_accuracy: 0.9399\n",
      "INFO:tensorflow:Assets written to: C:/Users/Leor/Desktop/Thesis/replica_classification_models\\excluded_19\\assets\n",
      "Epoch 2/50\n",
      "132/132 [==============================] - 33s 248ms/step - loss: 0.1644 - accuracy: 0.9470 - val_loss: 0.1660 - val_accuracy: 0.9415\n",
      "INFO:tensorflow:Assets written to: C:/Users/Leor/Desktop/Thesis/replica_classification_models\\excluded_19\\assets\n",
      "Epoch 3/50\n",
      "132/132 [==============================] - 32s 241ms/step - loss: 0.1977 - accuracy: 0.9601 - val_loss: 1.3144 - val_accuracy: 0.5934\n",
      "Epoch 4/50\n",
      "132/132 [==============================] - 32s 245ms/step - loss: 0.6978 - accuracy: 0.5934 - val_loss: 0.6759 - val_accuracy: 0.5934\n",
      "Epoch 5/50\n",
      "132/132 [==============================] - 32s 245ms/step - loss: 0.6751 - accuracy: 0.5934 - val_loss: 0.6727 - val_accuracy: 0.5934\n",
      "Epoch 6/50\n",
      "132/132 [==============================] - 32s 244ms/step - loss: 0.5469 - accuracy: 0.6886 - val_loss: 0.1158 - val_accuracy: 0.9715\n",
      "INFO:tensorflow:Assets written to: C:/Users/Leor/Desktop/Thesis/replica_classification_models\\excluded_19\\assets\n",
      "Epoch 7/50\n",
      "132/132 [==============================] - 32s 241ms/step - loss: 0.0443 - accuracy: 0.9867 - val_loss: 0.0131 - val_accuracy: 0.9973\n",
      "INFO:tensorflow:Assets written to: C:/Users/Leor/Desktop/Thesis/replica_classification_models\\excluded_19\\assets\n",
      "Epoch 8/50\n",
      "132/132 [==============================] - 32s 242ms/step - loss: 0.0036 - accuracy: 0.9998 - val_loss: 0.0149 - val_accuracy: 0.9955\n",
      "Epoch 9/50\n",
      "132/132 [==============================] - 33s 247ms/step - loss: 0.0010 - accuracy: 0.9999 - val_loss: 0.0088 - val_accuracy: 0.9980\n",
      "INFO:tensorflow:Assets written to: C:/Users/Leor/Desktop/Thesis/replica_classification_models\\excluded_19\\assets\n",
      "Epoch 10/50\n",
      "132/132 [==============================] - 31s 238ms/step - loss: 4.4035e-04 - accuracy: 1.0000 - val_loss: 0.0092 - val_accuracy: 0.9973\n",
      "Epoch 11/50\n",
      "132/132 [==============================] - 32s 239ms/step - loss: 2.1626e-04 - accuracy: 1.0000 - val_loss: 0.0093 - val_accuracy: 0.9979\n",
      "Epoch 12/50\n",
      "132/132 [==============================] - 32s 246ms/step - loss: 1.2767e-04 - accuracy: 1.0000 - val_loss: 0.0099 - val_accuracy: 0.9977\n",
      "Epoch 13/50\n",
      "132/132 [==============================] - 33s 247ms/step - loss: 8.4771e-05 - accuracy: 1.0000 - val_loss: 0.0102 - val_accuracy: 0.9979\n",
      "Epoch 14/50\n",
      "132/132 [==============================] - 33s 251ms/step - loss: 6.0164e-05 - accuracy: 1.0000 - val_loss: 0.0107 - val_accuracy: 0.9977\n",
      "Epoch 00014: early stopping\n",
      "6/6 [==============================] - 1s 152ms/step - loss: 2.8095e-06 - accuracy: 1.0000\n"
     ]
    },
    {
     "name": "stderr",
     "output_type": "stream",
     "text": [
      " 77%|███████▋  | 17/22 [1:37:28<33:28, 401.80s/it]"
     ]
    },
    {
     "name": "stdout",
     "output_type": "stream",
     "text": [
      "Epoch 1/50\n",
      "129/129 [==============================] - 32s 245ms/step - loss: 0.4644 - accuracy: 0.7578 - val_loss: 0.1846 - val_accuracy: 0.9378\n",
      "INFO:tensorflow:Assets written to: C:/Users/Leor/Desktop/Thesis/replica_classification_models\\excluded_20\\assets\n",
      "Epoch 2/50\n",
      "129/129 [==============================] - 32s 250ms/step - loss: 0.1583 - accuracy: 0.9460 - val_loss: 0.1033 - val_accuracy: 0.9400\n",
      "INFO:tensorflow:Assets written to: C:/Users/Leor/Desktop/Thesis/replica_classification_models\\excluded_20\\assets\n",
      "Epoch 3/50\n",
      "129/129 [==============================] - 32s 244ms/step - loss: 0.0175 - accuracy: 0.9924 - val_loss: 0.0060 - val_accuracy: 0.9990\n",
      "INFO:tensorflow:Assets written to: C:/Users/Leor/Desktop/Thesis/replica_classification_models\\excluded_20\\assets\n",
      "Epoch 4/50\n",
      "129/129 [==============================] - 32s 247ms/step - loss: 7.5900e-04 - accuracy: 0.9998 - val_loss: 0.0056 - val_accuracy: 0.9992\n",
      "INFO:tensorflow:Assets written to: C:/Users/Leor/Desktop/Thesis/replica_classification_models\\excluded_20\\assets\n",
      "Epoch 5/50\n",
      "129/129 [==============================] - 31s 236ms/step - loss: 2.7790e-04 - accuracy: 1.0000 - val_loss: 0.0056 - val_accuracy: 0.9992\n",
      "Epoch 6/50\n",
      "129/129 [==============================] - 31s 241ms/step - loss: 2.5322e-04 - accuracy: 1.0000 - val_loss: 0.0057 - val_accuracy: 0.9990\n",
      "Epoch 7/50\n",
      "129/129 [==============================] - 31s 238ms/step - loss: 1.5703e-04 - accuracy: 1.0000 - val_loss: 0.0060 - val_accuracy: 0.9989\n",
      "Epoch 8/50\n",
      "129/129 [==============================] - 31s 240ms/step - loss: 1.4996e-05 - accuracy: 1.0000 - val_loss: 0.0061 - val_accuracy: 0.9989\n",
      "Epoch 9/50\n",
      "129/129 [==============================] - 30s 231ms/step - loss: 4.6096e-06 - accuracy: 1.0000 - val_loss: 0.0065 - val_accuracy: 0.9993\n",
      "INFO:tensorflow:Assets written to: C:/Users/Leor/Desktop/Thesis/replica_classification_models\\excluded_20\\assets\n",
      "Epoch 00009: early stopping\n",
      "8/8 [==============================] - 1s 159ms/step - loss: 0.1268 - accuracy: 0.9515\n"
     ]
    },
    {
     "name": "stderr",
     "output_type": "stream",
     "text": [
      " 82%|████████▏ | 18/22 [1:42:21<24:36, 369.10s/it]"
     ]
    },
    {
     "name": "stdout",
     "output_type": "stream",
     "text": [
      "Epoch 1/50\n",
      "129/129 [==============================] - 30s 229ms/step - loss: 0.3475 - accuracy: 0.8149 - val_loss: 0.0177 - val_accuracy: 0.9963\n",
      "INFO:tensorflow:Assets written to: C:/Users/Leor/Desktop/Thesis/replica_classification_models\\excluded_21\\assets\n",
      "Epoch 2/50\n",
      "129/129 [==============================] - 31s 242ms/step - loss: 0.0060 - accuracy: 0.9987 - val_loss: 0.0055 - val_accuracy: 0.9989\n",
      "INFO:tensorflow:Assets written to: C:/Users/Leor/Desktop/Thesis/replica_classification_models\\excluded_21\\assets\n",
      "Epoch 3/50\n",
      "129/129 [==============================] - 30s 232ms/step - loss: 8.2569e-04 - accuracy: 0.9998 - val_loss: 0.0054 - val_accuracy: 0.9990\n",
      "INFO:tensorflow:Assets written to: C:/Users/Leor/Desktop/Thesis/replica_classification_models\\excluded_21\\assets\n",
      "Epoch 4/50\n",
      "129/129 [==============================] - 31s 241ms/step - loss: 1.8153e-04 - accuracy: 1.0000 - val_loss: 0.0051 - val_accuracy: 0.9990\n",
      "Epoch 5/50\n",
      "129/129 [==============================] - 31s 243ms/step - loss: 2.9814e-05 - accuracy: 1.0000 - val_loss: 0.0055 - val_accuracy: 0.9990\n",
      "Epoch 6/50\n",
      "129/129 [==============================] - 31s 244ms/step - loss: 1.1849e-05 - accuracy: 1.0000 - val_loss: 0.0060 - val_accuracy: 0.9990\n",
      "Epoch 7/50\n",
      "129/129 [==============================] - 31s 244ms/step - loss: 6.2291e-06 - accuracy: 1.0000 - val_loss: 0.0063 - val_accuracy: 0.9990\n",
      "Epoch 8/50\n",
      "129/129 [==============================] - 32s 247ms/step - loss: 3.8216e-06 - accuracy: 1.0000 - val_loss: 0.0066 - val_accuracy: 0.9990\n",
      "Epoch 9/50\n",
      "129/129 [==============================] - 31s 241ms/step - loss: 2.5844e-06 - accuracy: 1.0000 - val_loss: 0.0068 - val_accuracy: 0.9990\n",
      "Epoch 00009: early stopping\n",
      "9/9 [==============================] - 2s 158ms/step - loss: 10.1475 - accuracy: 0.0000e+00\n"
     ]
    },
    {
     "name": "stderr",
     "output_type": "stream",
     "text": [
      " 86%|████████▋ | 19/22 [1:47:09<17:13, 344.66s/it]"
     ]
    },
    {
     "name": "stdout",
     "output_type": "stream",
     "text": [
      "Epoch 1/50\n",
      "131/131 [==============================] - 32s 243ms/step - loss: 0.4450 - accuracy: 0.7709 - val_loss: 0.1807 - val_accuracy: 0.9402\n",
      "INFO:tensorflow:Assets written to: C:/Users/Leor/Desktop/Thesis/replica_classification_models\\excluded_23\\assets\n",
      "Epoch 2/50\n",
      "131/131 [==============================] - 30s 229ms/step - loss: 0.1306 - accuracy: 0.9532 - val_loss: 0.0283 - val_accuracy: 0.9941\n",
      "INFO:tensorflow:Assets written to: C:/Users/Leor/Desktop/Thesis/replica_classification_models\\excluded_23\\assets\n",
      "Epoch 3/50\n",
      "131/131 [==============================] - 32s 247ms/step - loss: 0.1828 - accuracy: 0.9609 - val_loss: 0.0221 - val_accuracy: 0.9956\n",
      "INFO:tensorflow:Assets written to: C:/Users/Leor/Desktop/Thesis/replica_classification_models\\excluded_23\\assets\n",
      "Epoch 4/50\n",
      "131/131 [==============================] - 30s 231ms/step - loss: 0.0059 - accuracy: 0.9993 - val_loss: 0.0081 - val_accuracy: 0.9978\n",
      "INFO:tensorflow:Assets written to: C:/Users/Leor/Desktop/Thesis/replica_classification_models\\excluded_23\\assets\n",
      "Epoch 5/50\n",
      "131/131 [==============================] - 30s 231ms/step - loss: 0.0021 - accuracy: 0.9996 - val_loss: 0.0072 - val_accuracy: 0.9981\n",
      "INFO:tensorflow:Assets written to: C:/Users/Leor/Desktop/Thesis/replica_classification_models\\excluded_23\\assets\n",
      "Epoch 6/50\n",
      "131/131 [==============================] - 31s 239ms/step - loss: 0.0011 - accuracy: 0.9997 - val_loss: 0.0069 - val_accuracy: 0.9982\n",
      "INFO:tensorflow:Assets written to: C:/Users/Leor/Desktop/Thesis/replica_classification_models\\excluded_23\\assets\n",
      "Epoch 7/50\n",
      "131/131 [==============================] - 32s 241ms/step - loss: 6.2848e-04 - accuracy: 0.9999 - val_loss: 0.0066 - val_accuracy: 0.9983\n",
      "INFO:tensorflow:Assets written to: C:/Users/Leor/Desktop/Thesis/replica_classification_models\\excluded_23\\assets\n",
      "Epoch 8/50\n",
      "131/131 [==============================] - 32s 241ms/step - loss: 2.9170e-04 - accuracy: 1.0000 - val_loss: 0.0066 - val_accuracy: 0.9986\n",
      "INFO:tensorflow:Assets written to: C:/Users/Leor/Desktop/Thesis/replica_classification_models\\excluded_23\\assets\n",
      "Epoch 9/50\n",
      "131/131 [==============================] - 32s 243ms/step - loss: 1.0659e-04 - accuracy: 1.0000 - val_loss: 0.0069 - val_accuracy: 0.9983\n",
      "Epoch 10/50\n",
      "131/131 [==============================] - 33s 250ms/step - loss: 7.0736e-05 - accuracy: 1.0000 - val_loss: 0.0069 - val_accuracy: 0.9986\n",
      "Epoch 11/50\n",
      "131/131 [==============================] - 32s 243ms/step - loss: 4.7179e-05 - accuracy: 1.0000 - val_loss: 0.0073 - val_accuracy: 0.9986\n",
      "Epoch 12/50\n",
      "131/131 [==============================] - 31s 234ms/step - loss: 3.1248e-05 - accuracy: 1.0000 - val_loss: 0.0076 - val_accuracy: 0.9986\n",
      "Epoch 00012: early stopping\n",
      "6/6 [==============================] - 1s 168ms/step - loss: 0.4548 - accuracy: 0.8886\n"
     ]
    },
    {
     "name": "stderr",
     "output_type": "stream",
     "text": [
      " 91%|█████████ | 20/22 [1:53:43<11:58, 359.46s/it]"
     ]
    },
    {
     "name": "stdout",
     "output_type": "stream",
     "text": [
      "Epoch 1/50\n",
      "129/129 [==============================] - 31s 242ms/step - loss: 0.4286 - accuracy: 0.7783 - val_loss: 0.1833 - val_accuracy: 0.9383\n",
      "INFO:tensorflow:Assets written to: C:/Users/Leor/Desktop/Thesis/replica_classification_models\\excluded_25\\assets\n",
      "Epoch 2/50\n",
      "129/129 [==============================] - 30s 234ms/step - loss: 0.1628 - accuracy: 0.9458 - val_loss: 0.1409 - val_accuracy: 0.9406\n",
      "INFO:tensorflow:Assets written to: C:/Users/Leor/Desktop/Thesis/replica_classification_models\\excluded_25\\assets\n",
      "Epoch 3/50\n",
      "129/129 [==============================] - 31s 243ms/step - loss: 0.1888 - accuracy: 0.9500 - val_loss: 0.0303 - val_accuracy: 0.9949\n",
      "INFO:tensorflow:Assets written to: C:/Users/Leor/Desktop/Thesis/replica_classification_models\\excluded_25\\assets\n",
      "Epoch 4/50\n",
      "129/129 [==============================] - 32s 243ms/step - loss: 0.0117 - accuracy: 0.9983 - val_loss: 0.0101 - val_accuracy: 0.9984\n",
      "INFO:tensorflow:Assets written to: C:/Users/Leor/Desktop/Thesis/replica_classification_models\\excluded_25\\assets\n",
      "Epoch 5/50\n",
      "129/129 [==============================] - 32s 245ms/step - loss: 0.0031 - accuracy: 0.9997 - val_loss: 0.0067 - val_accuracy: 0.9985\n",
      "INFO:tensorflow:Assets written to: C:/Users/Leor/Desktop/Thesis/replica_classification_models\\excluded_25\\assets\n",
      "Epoch 6/50\n",
      "129/129 [==============================] - 31s 239ms/step - loss: 0.0012 - accuracy: 0.9999 - val_loss: 0.0059 - val_accuracy: 0.9989\n",
      "INFO:tensorflow:Assets written to: C:/Users/Leor/Desktop/Thesis/replica_classification_models\\excluded_25\\assets\n",
      "Epoch 7/50\n",
      "129/129 [==============================] - 32s 245ms/step - loss: 5.0803e-04 - accuracy: 1.0000 - val_loss: 0.0056 - val_accuracy: 0.9989\n",
      "Epoch 8/50\n",
      "129/129 [==============================] - 31s 242ms/step - loss: 3.7144e-04 - accuracy: 1.0000 - val_loss: 0.0059 - val_accuracy: 0.9988\n",
      "Epoch 9/50\n",
      "129/129 [==============================] - 32s 247ms/step - loss: 2.6247e-04 - accuracy: 1.0000 - val_loss: 0.0063 - val_accuracy: 0.9988\n",
      "Epoch 10/50\n",
      "129/129 [==============================] - 31s 240ms/step - loss: 1.0417e-04 - accuracy: 1.0000 - val_loss: 0.0067 - val_accuracy: 0.9989\n",
      "Epoch 11/50\n",
      "129/129 [==============================] - 31s 237ms/step - loss: 1.8168e-05 - accuracy: 1.0000 - val_loss: 0.0071 - val_accuracy: 0.9988\n",
      "Epoch 12/50\n",
      "129/129 [==============================] - 32s 248ms/step - loss: 8.6301e-06 - accuracy: 1.0000 - val_loss: 0.0075 - val_accuracy: 0.9989\n",
      "Epoch 00012: early stopping\n",
      "8/8 [==============================] - 1s 161ms/step - loss: 0.0104 - accuracy: 0.9985\n"
     ]
    },
    {
     "name": "stderr",
     "output_type": "stream",
     "text": [
      " 95%|█████████▌| 21/22 [2:00:12<06:08, 368.45s/it]"
     ]
    },
    {
     "name": "stdout",
     "output_type": "stream",
     "text": [
      "Epoch 1/50\n",
      "127/127 [==============================] - 32s 246ms/step - loss: 0.4513 - accuracy: 0.7646 - val_loss: 0.1905 - val_accuracy: 0.9317\n",
      "INFO:tensorflow:Assets written to: C:/Users/Leor/Desktop/Thesis/replica_classification_models\\excluded_29\\assets\n",
      "Epoch 2/50\n",
      "127/127 [==============================] - 30s 238ms/step - loss: 0.2164 - accuracy: 0.9215 - val_loss: 0.3488 - val_accuracy: 0.8513\n",
      "Epoch 3/50\n",
      "127/127 [==============================] - 31s 245ms/step - loss: 0.1890 - accuracy: 0.9425 - val_loss: 0.1779 - val_accuracy: 0.9398\n",
      "INFO:tensorflow:Assets written to: C:/Users/Leor/Desktop/Thesis/replica_classification_models\\excluded_29\\assets\n",
      "Epoch 4/50\n",
      "127/127 [==============================] - 31s 245ms/step - loss: 0.1640 - accuracy: 0.9462 - val_loss: 0.1776 - val_accuracy: 0.9398\n",
      "Epoch 5/50\n",
      "127/127 [==============================] - 31s 245ms/step - loss: 0.1637 - accuracy: 0.9463 - val_loss: 0.1767 - val_accuracy: 0.9398\n",
      "Epoch 6/50\n",
      "127/127 [==============================] - 30s 239ms/step - loss: 0.1634 - accuracy: 0.9463 - val_loss: 0.1785 - val_accuracy: 0.9397\n",
      "Epoch 7/50\n",
      "127/127 [==============================] - 31s 244ms/step - loss: 0.1604 - accuracy: 0.9463 - val_loss: 0.1596 - val_accuracy: 0.9392\n",
      "Epoch 8/50\n",
      "127/127 [==============================] - 31s 243ms/step - loss: 0.0439 - accuracy: 0.9815 - val_loss: 0.0065 - val_accuracy: 0.9983\n",
      "INFO:tensorflow:Assets written to: C:/Users/Leor/Desktop/Thesis/replica_classification_models\\excluded_29\\assets\n",
      "Epoch 9/50\n",
      "127/127 [==============================] - 31s 243ms/step - loss: 0.0014 - accuracy: 0.9997 - val_loss: 0.0050 - val_accuracy: 0.9984\n",
      "INFO:tensorflow:Assets written to: C:/Users/Leor/Desktop/Thesis/replica_classification_models\\excluded_29\\assets\n",
      "Epoch 10/50\n",
      "127/127 [==============================] - 30s 238ms/step - loss: 1.5603e-04 - accuracy: 1.0000 - val_loss: 0.0046 - val_accuracy: 0.9989\n",
      "INFO:tensorflow:Assets written to: C:/Users/Leor/Desktop/Thesis/replica_classification_models\\excluded_29\\assets\n",
      "Epoch 11/50\n",
      "127/127 [==============================] - 31s 245ms/step - loss: 3.9687e-05 - accuracy: 1.0000 - val_loss: 0.0045 - val_accuracy: 0.9989\n",
      "Epoch 12/50\n",
      "127/127 [==============================] - 31s 244ms/step - loss: 2.5226e-05 - accuracy: 1.0000 - val_loss: 0.0046 - val_accuracy: 0.9988\n",
      "Epoch 13/50\n",
      "127/127 [==============================] - 30s 236ms/step - loss: 1.8895e-05 - accuracy: 1.0000 - val_loss: 0.0046 - val_accuracy: 0.9989\n",
      "Epoch 14/50\n",
      "127/127 [==============================] - 36s 280ms/step - loss: 1.4019e-05 - accuracy: 1.0000 - val_loss: 0.0046 - val_accuracy: 0.9989\n",
      "Epoch 15/50\n",
      "127/127 [==============================] - 33s 259ms/step - loss: 1.0596e-05 - accuracy: 1.0000 - val_loss: 0.0047 - val_accuracy: 0.9989\n",
      "Epoch 00015: early stopping\n",
      "11/11 [==============================] - 2s 149ms/step - loss: 0.0036 - accuracy: 0.9992\n"
     ]
    },
    {
     "name": "stderr",
     "output_type": "stream",
     "text": [
      "100%|██████████| 22/22 [2:08:14<00:00, 349.76s/it]\n"
     ]
    }
   ],
   "source": [
    "# Loop over each sample number\n",
    "for exclude_sample in tqdm(np.unique(sample_numbers)):\n",
    "  # Clear graph\n",
    "  K.clear_session()\n",
    "  gc.collect()\n",
    "\n",
    "  # Create filter for training data\n",
    "  train_filter = (sample_numbers != exclude_sample)\n",
    "\n",
    "  # Get indexes of all data\n",
    "  indexes = np.arange(len(sample_numbers))\n",
    "\n",
    "  # Get indexes of training data\n",
    "  train_indexes = indexes[train_filter]\n",
    "\n",
    "  # Get indexes of training and validation data\n",
    "  train_indexes, val_indexes = train_test_split(train_indexes,\n",
    "                                                test_size=0.2,\n",
    "                                                random_state=0,\n",
    "                                                stratify=labels[train_filter])\n",
    "\n",
    "  # Create data generators\n",
    "  training_generator = create_ds(train_indexes, BATCH_SIZE)\n",
    "  validation_generator = create_ds(val_indexes, BATCH_SIZE)\n",
    "  test_generator = create_ds(indexes[~train_filter], BATCH_SIZE)\n",
    "\n",
    "  # Create Callback to save the best model\n",
    "  checkpoint_filepath = os.path.join(MODELS_PATH, f\"excluded_{exclude_sample}/\")\n",
    "  model_checkpoint_callback = callbacks.ModelCheckpoint(\n",
    "      filepath=checkpoint_filepath,\n",
    "      save_weights_only=False,\n",
    "      monitor=\"val_accuracy\",\n",
    "      mode=\"max\",\n",
    "      save_best_only=True)\n",
    "  \n",
    "  # Create Callback for model early stopping\n",
    "  model_es_callback = callbacks.EarlyStopping(\n",
    "      monitor='val_loss', mode='min', verbose=1, patience=5, min_delta=0.0001)\n",
    "\n",
    "  # Create classification model\n",
    "  classification_model = get_model()\n",
    "\n",
    "  # Compile the classification model\n",
    "  optimizer = optimizers.Adam(learning_rate=LEARNING_RATE)\n",
    "  classification_model.compile(\n",
    "      optimizer, loss=losses.BinaryCrossentropy(), metrics=[\"accuracy\"])\n",
    "\n",
    "  # Train the classification model\n",
    "  history = classification_model.fit(\n",
    "      x=training_generator,\n",
    "      validation_data=validation_generator,\n",
    "      epochs=EPHOCS,\n",
    "      callbacks=[model_checkpoint_callback, model_es_callback])\n",
    "\n",
    "  # Load the best saved \n",
    "  classification_model = tf.keras.models.load_model(checkpoint_filepath)\n",
    "\n",
    "  # Evalute the classification model on test set\n",
    "  test_eval = classification_model.evaluate(x=test_generator)\n",
    "\n",
    "  # Clean model for next iteration\n",
    "  classification_model = None"
   ]
  },
  {
   "cell_type": "markdown",
   "id": "8526fece",
   "metadata": {},
   "source": [
    "### ***LOOCV predictions:***\n",
    "\n",
    "Next, let\"s get predictions for each LOOCV for evaluation:"
   ]
  },
  {
   "cell_type": "code",
   "execution_count": 11,
   "id": "eafba22d",
   "metadata": {},
   "outputs": [
    {
     "name": "stderr",
     "output_type": "stream",
     "text": [
      "100%|██████████| 22/22 [01:14<00:00,  3.40s/it]\n"
     ]
    }
   ],
   "source": [
    "# Define dict for saving predictions and true labels\n",
    "predictions = {}\n",
    "true_labels = {}\n",
    "\n",
    "# Loop over each sample number\n",
    "for exclude_sample in tqdm(np.unique(sample_numbers)):\n",
    "  # Clear graph\n",
    "  K.clear_session()\n",
    "  gc.collect()\n",
    "  \n",
    "  # Create filter for training data\n",
    "  train_filter = (sample_numbers != exclude_sample)\n",
    "\n",
    "  # Get indexes of all data\n",
    "  indexes = np.arange(len(sample_numbers))\n",
    "\n",
    "  # Create test data generator\n",
    "  test_generator = create_ds(indexes[~train_filter], BATCH_SIZE)\n",
    "\n",
    "  # Get saved model path\n",
    "  model_path = os.path.join(MODELS_PATH, f\"excluded_{exclude_sample}/\")\n",
    "\n",
    "  # Load model\n",
    "  classification_model = tf.keras.models.load_model(model_path)\n",
    "\n",
    "  # Get predictions\n",
    "  predictions[exclude_sample] = classification_model.predict(x=test_generator)\n",
    "  \n",
    "  # Get corresponding true labels\n",
    "  true_labels[exclude_sample] = (who_grades[~train_filter] > 2).astype(int)\n",
    "\n",
    "  # Clean model for next iteration\n",
    "  classification_model = None"
   ]
  },
  {
   "cell_type": "markdown",
   "id": "7e1f24c1",
   "metadata": {},
   "source": [
    "### ***Roc curve:***\n",
    "\n",
    "Next, let\"s plot LOOCV roc curve:"
   ]
  },
  {
   "cell_type": "code",
   "execution_count": 12,
   "id": "2e714ba7",
   "metadata": {},
   "outputs": [
    {
     "data": {
      "image/png": "[encoded data removed]",
      "text/plain": [
       "<Figure size 720x720 with 1 Axes>"
      ]
     },
     "metadata": {
      "needs_background": "light"
     },
     "output_type": "display_data"
    }
   ],
   "source": [
    "fpr, tpr, thresholds = metrics.roc_curve(\n",
    "  np.concatenate(list(true_labels.values())),\n",
    "  np.concatenate(list(predictions.values())))\n",
    "roc_auc = metrics.auc(fpr, tpr)\n",
    "\n",
    "plt.figure(figsize=(10,10))\n",
    "plt.plot(fpr, tpr, \"b\", label = f\"AUC = {roc_auc:.3f}\")\n",
    "plt.legend(loc = \"lower right\")\n",
    "plt.plot([0, 1], [0, 1],\"r--\")\n",
    "plt.xlim([-0.05, 1.05])\n",
    "plt.ylim([-0.05, 1.05])\n",
    "plt.ylabel(\"True Positive Rate\")\n",
    "plt.xlabel(\"False Positive Rate\")\n",
    "plt.title(\"Receiver Operating Characteristic\")\n",
    "plt.show()"
   ]
  },
  {
   "cell_type": "markdown",
   "id": "0d7b822b",
   "metadata": {},
   "source": [
    "### ***MSI parsers closing:***\n",
    "\n",
    "Next, let\"s close MSI parsers:"
   ]
  },
  {
   "cell_type": "code",
   "execution_count": 13,
   "id": "5c5bdfc8-4b31-4968-ae11-f271467cbec3",
   "metadata": {},
   "outputs": [],
   "source": [
    "# Closing parsers\n",
    "for reader in parsers.values():\n",
    "  if reader.m:\n",
    "    reader.m.close()"
   ]
  }
 ],
 "metadata": {
  "interpreter": {
   "hash": "5c73559c04fc51cf6f25e380b3ded5183311c605494f1c18f4c2cfbf285cb958"
  },
  "kernelspec": {
   "display_name": "Python 3.9.12 ('tf_gpu_jup')",
   "language": "python",
   "name": "python3"
  },
  "language_info": {
   "codemirror_mode": {
    "name": "ipython",
    "version": 3
   },
   "file_extension": ".py",
   "mimetype": "text/x-python",
   "name": "python",
   "nbconvert_exporter": "python",
   "pygments_lexer": "ipython3",
   "version": "3.9.12"
  },
  "widgets": {
   "application/vnd.jupyter.widget-state+json": {
    "state": {},
    "version_major": 2,
    "version_minor": 0
   }
  }
 },
 "nbformat": 4,
 "nbformat_minor": 5
}
