{
 "cells": [
  {
   "cell_type": "markdown",
   "id": "4c0592ec-ae9e-4c19-95e8-59d2b5878fff",
   "metadata": {},
   "source": [
    "# ***DESI Human Glioma Preprocessed Dataset Treshoulding***\n",
    "\n",
    "This notebook shows the treshoulding of the DESI Human Glioma preprocessed dataset. We apply treshoulding\n",
    "to an MSI in order to find tissue spectras from all spectras."
   ]
  },
  {
   "cell_type": "markdown",
   "id": "8c0246fc-f270-4e39-ac2c-2514a8bde084",
   "metadata": {},
   "source": [
    "### ***Import packages***\n",
    "\n",
    "Before we begin, let's import all the necessary packages for this notebook:"
   ]
  },
  {
   "cell_type": "code",
   "execution_count": 1,
   "id": "f9743aa7-8e4d-470c-94d6-e3ae674783c8",
   "metadata": {},
   "outputs": [],
   "source": [
    "import os\n",
    "import numpy as np\n",
    "from skimage import (filters)\n",
    "from pyimzml.ImzMLParser import ImzMLParser, getionimage\n",
    "from matplotlib import pyplot as plt\n",
    "from tqdm.notebook import tqdm\n",
    "from typing import Tuple\n",
    "\n",
    "%matplotlib inline"
   ]
  },
  {
   "cell_type": "markdown",
   "id": "7de6ca9d-735c-4f0c-bfa9-af118f723ee8",
   "metadata": {},
   "source": [
    "### ***Constants definitions***\n",
    "\n",
    "Next, let's define some constant variables for this notebook:"
   ]
  },
  {
   "cell_type": "code",
   "execution_count": 2,
   "id": "758b3050-3ad5-4e31-bddb-d59be132651e",
   "metadata": {},
   "outputs": [],
   "source": [
    "# Define folder that contains the preprocessed dhg dataset\n",
    "DHG_IN_PATH = \"/sise/assafzar-group/assafzar/Leor/DHG/Preprocessed\"\n",
    "# Define plot full brightness percentage threshold\n",
    "PLOT_TRESH = 95"
   ]
  },
  {
   "cell_type": "markdown",
   "id": "89c82786-7494-4331-89e1-056ce3efa893",
   "metadata": {},
   "source": [
    "### ***Define function to try all treshould methods***\n",
    "\n",
    "Next, let's define a function to try all treshould methods on given image:"
   ]
  },
  {
   "cell_type": "code",
   "execution_count": 3,
   "id": "8da45005-cb7a-41d0-a416-84e106d9f469",
   "metadata": {},
   "outputs": [],
   "source": [
    "def try_all_threshold(img: np.ndarray, figsize: Tuple[int, int], blur:bool) -> Tuple[plt.Figure, np.ndarray]:\n",
    "  \"\"\" Function to return a figure comparing the outputs of different\n",
    "  thresholding methods.\n",
    "  \n",
    "  Args:\n",
    "    img (np.ndarray): Grayscale input image.\n",
    "    figsize (Tuple[int, int]): Figure size (in inches).\n",
    "    blur (bool): Boolean to indicate whether to apply \n",
    "      smoothing\\bluring to image before thresholding.\n",
    "    \n",
    "  Returns:\n",
    "    [Tuple[plt.Figure, np.ndarray]]: Matplotlib figure and axes.\n",
    "  \n",
    "  \"\"\"\n",
    "  # create subplot\n",
    "  fig, axes = plt.subplots(ncols=9, sharex=True, sharey=True,\n",
    "                           figsize=figsize)\n",
    "  \n",
    "  # apply gaussian blur to image\n",
    "  smooth = filters.gaussian(img, sigma=1.5) if blur else img\n",
    "  \n",
    "  \n",
    "  # threshold\n",
    "  thresh_isodata = filters.threshold_isodata(smooth)\n",
    "  thresh_li = filters.threshold_li(smooth)\n",
    "  thresh_mean = filters.threshold_mean(smooth)\n",
    "  thresh_min = filters.threshold_minimum(smooth)\n",
    "  thresh_otsu = filters.threshold_otsu(smooth)\n",
    "  thresh_triangle = filters.threshold_triangle(smooth)\n",
    "  thresh_yen = filters.threshold_yen(smooth)\n",
    "  tresh_median = np.median(smooth)\n",
    "  \n",
    "  # add each subplot\n",
    "  axes[0].imshow(img, vmin=img.min(), vmax=np.percentile(img, PLOT_TRESH),\n",
    "                 cmap='viridis')\n",
    "  axes[0].set_title('Original')\n",
    "  \n",
    "  axes[1].imshow(smooth > thresh_isodata, cmap=plt.cm.gray)\n",
    "  axes[1].set_title('Isodata')\n",
    "\n",
    "  axes[2].imshow(smooth > thresh_li, cmap=plt.cm.gray)\n",
    "  axes[2].set_title('Li')\n",
    "  \n",
    "  axes[3].imshow(smooth > thresh_mean, cmap=plt.cm.gray)\n",
    "  axes[3].set_title('Mean')\n",
    "  \n",
    "  axes[4].imshow(smooth > thresh_min, cmap=plt.cm.gray)\n",
    "  axes[4].set_title('Minimum')\n",
    "  \n",
    "  axes[5].imshow(smooth > thresh_otsu, cmap=plt.cm.gray)\n",
    "  axes[5].set_title('Otsu')\n",
    "  \n",
    "  axes[6].imshow(smooth > thresh_triangle, cmap=plt.cm.gray)\n",
    "  axes[6].set_title('Triangle')\n",
    "  \n",
    "  axes[7].imshow(smooth > thresh_yen, cmap=plt.cm.gray)\n",
    "  axes[7].set_title('Yen')\n",
    "  \n",
    "  axes[8].imshow(smooth > tresh_median, cmap=plt.cm.gray)\n",
    "  axes[8].set_title('Median')\n",
    "\n",
    "  # remove axis from each subplot\n",
    "  for ax in axes:\n",
    "      ax.axis('off')\n",
    "  \n",
    "  # return plot\n",
    "  return fig, axes"
   ]
  },
  {
   "cell_type": "markdown",
   "id": "704f5aae-90ff-4d89-921f-4f4ce486513a",
   "metadata": {},
   "source": [
    "### ***Get all MSI names:***\n",
    "\n",
    "Next, let's get all the MSI names from DHG_IN_PATH:"
   ]
  },
  {
   "cell_type": "code",
   "execution_count": 4,
   "id": "0e778d83-f72a-48c8-8969-c42b1cd78f1f",
   "metadata": {
    "jupyter": {
     "source_hidden": true
    },
    "tags": []
   },
   "outputs": [],
   "source": [
    "# Get all MSI names\n",
    "msi_names = np.asarray([f for f in os.listdir(DHG_IN_PATH) if f.endswith('.imzML')])"
   ]
  },
  {
   "cell_type": "markdown",
   "id": "d67eaf7f-8e4c-4a78-8308-77e639a3e03a",
   "metadata": {},
   "source": [
    "### ***Trehsould each MSI:***\n",
    "\n",
    "Next, let's treshould each MSI to see what technique is best:"
   ]
  },
  {
   "cell_type": "code",
   "execution_count": 5,
   "id": "9fc8c921-e403-4ed0-8aad-675dc0b7789c",
   "metadata": {},
   "outputs": [
    {
     "ename": "KeyboardInterrupt",
     "evalue": "",
     "output_type": "error",
     "traceback": [
      "\u001b[0;31m---------------------------------------------------------------------------\u001b[0m",
      "\u001b[0;31mKeyboardInterrupt\u001b[0m                         Traceback (most recent call last)",
      "Input \u001b[0;32mIn [5]\u001b[0m, in \u001b[0;36m<cell line: 2>\u001b[0;34m()\u001b[0m\n\u001b[1;32m      2\u001b[0m \u001b[38;5;28;01mfor\u001b[39;00m msi_name \u001b[38;5;129;01min\u001b[39;00m msi_names:\n\u001b[1;32m      3\u001b[0m   \u001b[38;5;66;03m# Parse the MSI file \u001b[39;00m\n\u001b[1;32m      4\u001b[0m   \u001b[38;5;28;01mwith\u001b[39;00m ImzMLParser(os\u001b[38;5;241m.\u001b[39mpath\u001b[38;5;241m.\u001b[39mjoin(DHG_IN_PATH, msi_name)) \u001b[38;5;28;01mas\u001b[39;00m reader:\n\u001b[1;32m      5\u001b[0m     \u001b[38;5;66;03m# Get local TIC image of msi in mz region [600, 900]\u001b[39;00m\n\u001b[0;32m----> 6\u001b[0m     local_tic_img \u001b[38;5;241m=\u001b[39m \u001b[43mgetionimage\u001b[49m\u001b[43m(\u001b[49m\u001b[43mreader\u001b[49m\u001b[43m,\u001b[49m\u001b[43m \u001b[49m\u001b[38;5;241;43m750\u001b[39;49m\u001b[43m,\u001b[49m\u001b[43m \u001b[49m\u001b[43mtol\u001b[49m\u001b[38;5;241;43m=\u001b[39;49m\u001b[38;5;241;43m150\u001b[39;49m\u001b[43m)\u001b[49m\n\u001b[1;32m      8\u001b[0m     \u001b[38;5;66;03m# Get all thresholding algorithms outputs\u001b[39;00m\n\u001b[1;32m      9\u001b[0m     fig, ax \u001b[38;5;241m=\u001b[39m try_all_threshold(local_tic_img, figsize\u001b[38;5;241m=\u001b[39m(\u001b[38;5;241m20\u001b[39m, \u001b[38;5;241m3\u001b[39m), blur\u001b[38;5;241m=\u001b[39m\u001b[38;5;28;01mTrue\u001b[39;00m)\n",
      "File \u001b[0;32m~/.conda/envs/tfgpu_jup/lib/python3.8/site-packages/pyimzml/ImzMLParser.py:445\u001b[0m, in \u001b[0;36mgetionimage\u001b[0;34m(p, mz_value, tol, z, reduce_func)\u001b[0m\n\u001b[1;32m    443\u001b[0m     \u001b[38;5;167;01mUserWarning\u001b[39;00m(\u001b[38;5;124m\"\u001b[39m\u001b[38;5;124mz coordinate = 0 present, if you\u001b[39m\u001b[38;5;124m'\u001b[39m\u001b[38;5;124mre getting blank images set getionimage(.., .., z=0)\u001b[39m\u001b[38;5;124m\"\u001b[39m)\n\u001b[1;32m    444\u001b[0m \u001b[38;5;28;01mif\u001b[39;00m z_ \u001b[38;5;241m==\u001b[39m z:\n\u001b[0;32m--> 445\u001b[0m     mzs, ints \u001b[38;5;241m=\u001b[39m \u001b[38;5;28mmap\u001b[39m(\u001b[38;5;28;01mlambda\u001b[39;00m x: np\u001b[38;5;241m.\u001b[39masarray(x), \u001b[43mp\u001b[49m\u001b[38;5;241;43m.\u001b[39;49m\u001b[43mgetspectrum\u001b[49m\u001b[43m(\u001b[49m\u001b[43mi\u001b[49m\u001b[43m)\u001b[49m)\n\u001b[1;32m    446\u001b[0m     min_i, max_i \u001b[38;5;241m=\u001b[39m _bisect_spectrum(mzs, mz_value, tol)\n\u001b[1;32m    447\u001b[0m     im[y \u001b[38;5;241m-\u001b[39m \u001b[38;5;241m1\u001b[39m, x \u001b[38;5;241m-\u001b[39m \u001b[38;5;241m1\u001b[39m] \u001b[38;5;241m=\u001b[39m reduce_func(ints[min_i:max_i\u001b[38;5;241m+\u001b[39m\u001b[38;5;241m1\u001b[39m])\n",
      "File \u001b[0;32m~/.conda/envs/tfgpu_jup/lib/python3.8/site-packages/pyimzml/ImzMLParser.py:368\u001b[0m, in \u001b[0;36mImzMLParser.getspectrum\u001b[0;34m(self, index)\u001b[0m\n\u001b[1;32m    353\u001b[0m \u001b[38;5;28;01mdef\u001b[39;00m \u001b[38;5;21mgetspectrum\u001b[39m(\u001b[38;5;28mself\u001b[39m, index):\n\u001b[1;32m    354\u001b[0m     \u001b[38;5;124;03m\"\"\"\u001b[39;00m\n\u001b[1;32m    355\u001b[0m \u001b[38;5;124;03m    Reads the spectrum at specified index from the .ibd file.\u001b[39;00m\n\u001b[1;32m    356\u001b[0m \n\u001b[0;32m   (...)\u001b[0m\n\u001b[1;32m    366\u001b[0m \u001b[38;5;124;03m        Sequence of intensity values corresponding to mz_array\u001b[39;00m\n\u001b[1;32m    367\u001b[0m \u001b[38;5;124;03m    \"\"\"\u001b[39;00m\n\u001b[0;32m--> 368\u001b[0m     mz_bytes, intensity_bytes \u001b[38;5;241m=\u001b[39m \u001b[38;5;28;43mself\u001b[39;49m\u001b[38;5;241;43m.\u001b[39;49m\u001b[43mget_spectrum_as_string\u001b[49m\u001b[43m(\u001b[49m\u001b[43mindex\u001b[49m\u001b[43m)\u001b[49m\n\u001b[1;32m    369\u001b[0m     mz_array \u001b[38;5;241m=\u001b[39m np\u001b[38;5;241m.\u001b[39mfrombuffer(mz_bytes, dtype\u001b[38;5;241m=\u001b[39m\u001b[38;5;28mself\u001b[39m\u001b[38;5;241m.\u001b[39mmzPrecision)\n\u001b[1;32m    370\u001b[0m     intensity_array \u001b[38;5;241m=\u001b[39m np\u001b[38;5;241m.\u001b[39mfrombuffer(intensity_bytes, dtype\u001b[38;5;241m=\u001b[39m\u001b[38;5;28mself\u001b[39m\u001b[38;5;241m.\u001b[39mintensityPrecision)\n",
      "File \u001b[0;32m~/.conda/envs/tfgpu_jup/lib/python3.8/site-packages/pyimzml/ImzMLParser.py:399\u001b[0m, in \u001b[0;36mImzMLParser.get_spectrum_as_string\u001b[0;34m(self, index)\u001b[0m\n\u001b[1;32m    397\u001b[0m mz_string \u001b[38;5;241m=\u001b[39m \u001b[38;5;28mself\u001b[39m\u001b[38;5;241m.\u001b[39mm\u001b[38;5;241m.\u001b[39mread(lengths[\u001b[38;5;241m0\u001b[39m])\n\u001b[1;32m    398\u001b[0m \u001b[38;5;28mself\u001b[39m\u001b[38;5;241m.\u001b[39mm\u001b[38;5;241m.\u001b[39mseek(offsets[\u001b[38;5;241m1\u001b[39m])\n\u001b[0;32m--> 399\u001b[0m intensity_string \u001b[38;5;241m=\u001b[39m \u001b[38;5;28;43mself\u001b[39;49m\u001b[38;5;241;43m.\u001b[39;49m\u001b[43mm\u001b[49m\u001b[38;5;241;43m.\u001b[39;49m\u001b[43mread\u001b[49m\u001b[43m(\u001b[49m\u001b[43mlengths\u001b[49m\u001b[43m[\u001b[49m\u001b[38;5;241;43m1\u001b[39;49m\u001b[43m]\u001b[49m\u001b[43m)\u001b[49m\n\u001b[1;32m    400\u001b[0m \u001b[38;5;28;01mreturn\u001b[39;00m mz_string, intensity_string\n",
      "\u001b[0;31mKeyboardInterrupt\u001b[0m: "
     ]
    }
   ],
   "source": [
    "# Loop over each MSI name\n",
    "for msi_name in msi_names:\n",
    "  # Parse the MSI file \n",
    "  with ImzMLParser(os.path.join(DHG_IN_PATH, msi_name)) as reader:\n",
    "    # Get local TIC image of msi in mz region [600, 900]\n",
    "    local_tic_img = getionimage(reader, 750, tol=150)\n",
    "    \n",
    "    # Get all thresholding algorithms outputs\n",
    "    fig, ax = try_all_threshold(local_tic_img, figsize=(20, 3), blur=True)\n",
    "\n",
    "    # plot thresholding algorithms outputs\n",
    "    fig.suptitle(f\"MSI Sample {msi_name.split('.')[0]} Thresholding\")\n",
    "    plt.tight_layout()\n",
    "    plt.show()"
   ]
  },
  {
   "cell_type": "code",
   "execution_count": null,
   "id": "31945fac-2b87-408c-8295-686713234134",
   "metadata": {},
   "outputs": [],
   "source": [
    "with ImzMLParser(os.path.join(DHG_IN_PATH, msi_name)) as reader:\n",
    "  # Get local TIC image of msi in mz region [600, 900]\n",
    "  local_tic_img = getionimage(reader, 750, tol=150)"
   ]
  },
  {
   "cell_type": "code",
   "execution_count": null,
   "id": "9c8bf1b1-c25f-4582-b718-5281e88bd2e8",
   "metadata": {},
   "outputs": [],
   "source": []
  }
 ],
 "metadata": {
  "kernelspec": {
   "display_name": "tfgpu_jup",
   "language": "python",
   "name": "tfgpu_jup"
  },
  "language_info": {
   "codemirror_mode": {
    "name": "ipython",
    "version": 3
   },
   "file_extension": ".py",
   "mimetype": "text/x-python",
   "name": "python",
   "nbconvert_exporter": "python",
   "pygments_lexer": "ipython3",
   "version": "3.8.13"
  },
  "widgets": {
   "application/vnd.jupyter.widget-state+json": {
    "state": {
     "00a15b74834f41259d39520bb869de4b": {
      "model_module": "@jupyter-widgets/controls",
      "model_module_version": "1.5.0",
      "model_name": "DescriptionStyleModel",
      "state": {
       "description_width": ""
      }
     },
     "01c81ce0a15d4a50a94dce6f8da9d638": {
      "model_module": "@jupyter-widgets/base",
      "model_module_version": "1.2.0",
      "model_name": "LayoutModel",
      "state": {}
     },
     "026c8d143f3049f6a4a205106c379748": {
      "model_module": "@jupyter-widgets/controls",
      "model_module_version": "1.5.0",
      "model_name": "DescriptionStyleModel",
      "state": {
       "description_width": ""
      }
     },
     "02cb49c9e1dd4e15886e307bf1a1fa90": {
      "model_module": "@jupyter-widgets/controls",
      "model_module_version": "1.5.0",
      "model_name": "ProgressStyleModel",
      "state": {
       "description_width": ""
      }
     },
     "0567d93c4e254cefac3a6841685ece69": {
      "model_module": "@jupyter-widgets/base",
      "model_module_version": "1.2.0",
      "model_name": "LayoutModel",
      "state": {}
     },
     "0795e5c174fd41188e51c9713c68ca42": {
      "model_module": "@jupyter-widgets/controls",
      "model_module_version": "1.5.0",
      "model_name": "HTMLModel",
      "state": {
       "layout": "IPY_MODEL_da2753e823154aea829ec92559af46ee",
       "style": "IPY_MODEL_8b97501f823948238f1ff4c4feb3152d",
       "value": " 10220/10220 [04:17&lt;00:00, 51.63it/s]"
      }
     },
     "0f413874cc144b879cd7f77c5991ac85": {
      "model_module": "@jupyter-widgets/controls",
      "model_module_version": "1.5.0",
      "model_name": "HTMLModel",
      "state": {
       "layout": "IPY_MODEL_ba0d533a23644ff68d1dda42d1e7c2f1",
       "style": "IPY_MODEL_b66856d6f20747cc8b81da39192a9c74",
       "value": "100%"
      }
     },
     "1314fc6304444a1ba363e9741e4ef28c": {
      "model_module": "@jupyter-widgets/controls",
      "model_module_version": "1.5.0",
      "model_name": "HBoxModel",
      "state": {
       "children": [
        "IPY_MODEL_a6141139b8f24f3b8c2a033df83a1a62",
        "IPY_MODEL_d096bfc49ab54ce7801b27e6df2dd8b7",
        "IPY_MODEL_912c5fb9ca24468189f14c3427c03e23"
       ],
       "layout": "IPY_MODEL_1c3f8b86c2e04f0fb9f41b633afa3bd9"
      }
     },
     "1a9a5b3e0681477d8fdd8b69e2868aad": {
      "model_module": "@jupyter-widgets/controls",
      "model_module_version": "1.5.0",
      "model_name": "DescriptionStyleModel",
      "state": {
       "description_width": ""
      }
     },
     "1c3f8b86c2e04f0fb9f41b633afa3bd9": {
      "model_module": "@jupyter-widgets/base",
      "model_module_version": "1.2.0",
      "model_name": "LayoutModel",
      "state": {}
     },
     "1e4135ddaebf47d8b7fb222157680814": {
      "model_module": "@jupyter-widgets/base",
      "model_module_version": "1.2.0",
      "model_name": "LayoutModel",
      "state": {}
     },
     "22c752f7cd054385a358260a3d7c3b50": {
      "model_module": "@jupyter-widgets/controls",
      "model_module_version": "1.5.0",
      "model_name": "HTMLModel",
      "state": {
       "layout": "IPY_MODEL_707238f1615d4961abfaf96949894243",
       "style": "IPY_MODEL_dd2bc35250134290b2aa06c66e41bfb8",
       "value": "100%"
      }
     },
     "24727054d6bc4e6d8969ac1027d3bc91": {
      "model_module": "@jupyter-widgets/base",
      "model_module_version": "1.2.0",
      "model_name": "LayoutModel",
      "state": {}
     },
     "24e2fa66fd9d4f388b2f263d562c6b7c": {
      "model_module": "@jupyter-widgets/controls",
      "model_module_version": "1.5.0",
      "model_name": "HBoxModel",
      "state": {
       "children": [
        "IPY_MODEL_badb40a4f11d4b359f54bf95f5ee867d",
        "IPY_MODEL_d0eb1934908849cfb28aff5a29b7c70b",
        "IPY_MODEL_57b499fb4f264b84b92280e1d8b14a3d"
       ],
       "layout": "IPY_MODEL_dd132849ced844fd8839257ae36cfeec"
      }
     },
     "270e5bfe3217425789c70a20f1a51be8": {
      "model_module": "@jupyter-widgets/controls",
      "model_module_version": "1.5.0",
      "model_name": "DescriptionStyleModel",
      "state": {
       "description_width": ""
      }
     },
     "2a02dbadff04496395c7c6b34e5dd48b": {
      "model_module": "@jupyter-widgets/controls",
      "model_module_version": "1.5.0",
      "model_name": "HTMLModel",
      "state": {
       "layout": "IPY_MODEL_967bd95f63bb4cde9545bf1a61e0d01f",
       "style": "IPY_MODEL_00a15b74834f41259d39520bb869de4b",
       "value": "100%"
      }
     },
     "2b748c06bb2b4ef0b7d770f43020efdf": {
      "model_module": "@jupyter-widgets/base",
      "model_module_version": "1.2.0",
      "model_name": "LayoutModel",
      "state": {}
     },
     "2cbb0574a5874b589be269728e29e247": {
      "model_module": "@jupyter-widgets/base",
      "model_module_version": "1.2.0",
      "model_name": "LayoutModel",
      "state": {}
     },
     "2d8e6e204a4c4866aa92b636a686b115": {
      "model_module": "@jupyter-widgets/controls",
      "model_module_version": "1.5.0",
      "model_name": "HTMLModel",
      "state": {
       "layout": "IPY_MODEL_e60efcdd9fef4128b643dd8cbcd26a43",
       "style": "IPY_MODEL_66fd8c6d257644149762ad98bbbe07b9",
       "value": " 7482/7482 [01:53&lt;00:00, 102.37it/s]"
      }
     },
     "400ab8397545437386ad60bb91948efe": {
      "model_module": "@jupyter-widgets/base",
      "model_module_version": "1.2.0",
      "model_name": "LayoutModel",
      "state": {}
     },
     "40f608505d4b468991f7581e4531820d": {
      "model_module": "@jupyter-widgets/controls",
      "model_module_version": "1.5.0",
      "model_name": "ProgressStyleModel",
      "state": {
       "description_width": ""
      }
     },
     "474e4fd7a5f845c3a8d1dbdf498401bf": {
      "model_module": "@jupyter-widgets/controls",
      "model_module_version": "1.5.0",
      "model_name": "ProgressStyleModel",
      "state": {
       "description_width": ""
      }
     },
     "4dadc2f00dbb4040ad30769534786780": {
      "model_module": "@jupyter-widgets/controls",
      "model_module_version": "1.5.0",
      "model_name": "HBoxModel",
      "state": {
       "children": [
        "IPY_MODEL_e773588024ba4630bf0e3dbc9a8ce03c",
        "IPY_MODEL_98a3f54ac0a144f6b078eaeb02029495",
        "IPY_MODEL_0795e5c174fd41188e51c9713c68ca42"
       ],
       "layout": "IPY_MODEL_63fc81e92ad74e5cb038a56a36989cff"
      }
     },
     "4db1e13cb44348dba559cd820f1e63a4": {
      "model_module": "@jupyter-widgets/base",
      "model_module_version": "1.2.0",
      "model_name": "LayoutModel",
      "state": {}
     },
     "50809c5fd0ce4af29bc0c2fed8f470eb": {
      "model_module": "@jupyter-widgets/base",
      "model_module_version": "1.2.0",
      "model_name": "LayoutModel",
      "state": {}
     },
     "53450995cbac4ca9a27e3ec34eebb71d": {
      "model_module": "@jupyter-widgets/controls",
      "model_module_version": "1.5.0",
      "model_name": "FloatProgressModel",
      "state": {
       "bar_style": "success",
       "layout": "IPY_MODEL_5f4f48669a4e431d8b299cfd789f996d",
       "max": 7938,
       "style": "IPY_MODEL_dc11461ad4334edaa624da0eb7307cb6",
       "value": 7938
      }
     },
     "55bc56f8be13451193a38c3b16bf769c": {
      "model_module": "@jupyter-widgets/controls",
      "model_module_version": "1.5.0",
      "model_name": "HTMLModel",
      "state": {
       "layout": "IPY_MODEL_94bc939a390a4feab9231fe5058f3ca6",
       "style": "IPY_MODEL_7d3bc84aefc94820becbf003c6ffd734",
       "value": "100%"
      }
     },
     "57b499fb4f264b84b92280e1d8b14a3d": {
      "model_module": "@jupyter-widgets/controls",
      "model_module_version": "1.5.0",
      "model_name": "HTMLModel",
      "state": {
       "layout": "IPY_MODEL_dfdfbe0625444612930f6bdf2b2933e8",
       "style": "IPY_MODEL_5abbb495998f456e8ad70437a1c68df0",
       "value": " 14022/14022 [04:44&lt;00:00, 64.21it/s]"
      }
     },
     "5a7d373812d14fd697cfd1c93b221341": {
      "model_module": "@jupyter-widgets/base",
      "model_module_version": "1.2.0",
      "model_name": "LayoutModel",
      "state": {}
     },
     "5abbb495998f456e8ad70437a1c68df0": {
      "model_module": "@jupyter-widgets/controls",
      "model_module_version": "1.5.0",
      "model_name": "DescriptionStyleModel",
      "state": {
       "description_width": ""
      }
     },
     "5abcfebbe5d34268a8c92dd4e524da5d": {
      "model_module": "@jupyter-widgets/controls",
      "model_module_version": "1.5.0",
      "model_name": "ProgressStyleModel",
      "state": {
       "description_width": ""
      }
     },
     "5d28bb6881484730bb5b264997ed578b": {
      "model_module": "@jupyter-widgets/base",
      "model_module_version": "1.2.0",
      "model_name": "LayoutModel",
      "state": {}
     },
     "5f4f48669a4e431d8b299cfd789f996d": {
      "model_module": "@jupyter-widgets/base",
      "model_module_version": "1.2.0",
      "model_name": "LayoutModel",
      "state": {}
     },
     "63fc81e92ad74e5cb038a56a36989cff": {
      "model_module": "@jupyter-widgets/base",
      "model_module_version": "1.2.0",
      "model_name": "LayoutModel",
      "state": {}
     },
     "66fd8c6d257644149762ad98bbbe07b9": {
      "model_module": "@jupyter-widgets/controls",
      "model_module_version": "1.5.0",
      "model_name": "DescriptionStyleModel",
      "state": {
       "description_width": ""
      }
     },
     "6a2504e6381b45d59708c02de8aab966": {
      "model_module": "@jupyter-widgets/controls",
      "model_module_version": "1.5.0",
      "model_name": "HTMLModel",
      "state": {
       "layout": "IPY_MODEL_83963c9b100b4105a76804b82ede5b2a",
       "style": "IPY_MODEL_026c8d143f3049f6a4a205106c379748",
       "value": "100%"
      }
     },
     "6e40698e2c24416bbe0bc035589d83f0": {
      "model_module": "@jupyter-widgets/controls",
      "model_module_version": "1.5.0",
      "model_name": "FloatProgressModel",
      "state": {
       "bar_style": "success",
       "layout": "IPY_MODEL_9f623f9b69a044bca3a55004966d419b",
       "max": 7482,
       "style": "IPY_MODEL_ef9c27c3dba54456a088e6c1b415d3e7",
       "value": 7482
      }
     },
     "6eedfe35b41c456aaca7c17d4542021a": {
      "model_module": "@jupyter-widgets/controls",
      "model_module_version": "1.5.0",
      "model_name": "FloatProgressModel",
      "state": {
       "bar_style": "danger",
       "layout": "IPY_MODEL_e943017da85145698abc438b450c0514",
       "max": 7482,
       "style": "IPY_MODEL_b05bf9d471654bfc930e1cbde394e998",
       "value": 959
      }
     },
     "707238f1615d4961abfaf96949894243": {
      "model_module": "@jupyter-widgets/base",
      "model_module_version": "1.2.0",
      "model_name": "LayoutModel",
      "state": {}
     },
     "7b17625149e94c1299f7718438405a96": {
      "model_module": "@jupyter-widgets/controls",
      "model_module_version": "1.5.0",
      "model_name": "DescriptionStyleModel",
      "state": {
       "description_width": ""
      }
     },
     "7c0623fb421449e69159a27a55bd3cea": {
      "model_module": "@jupyter-widgets/controls",
      "model_module_version": "1.5.0",
      "model_name": "HBoxModel",
      "state": {
       "children": [
        "IPY_MODEL_836fa5535bc4493baf3177ea58865247",
        "IPY_MODEL_6eedfe35b41c456aaca7c17d4542021a",
        "IPY_MODEL_82b8e47ee02f4bd98c8736de2652f1cd"
       ],
       "layout": "IPY_MODEL_c59bd1ada6c446d58ba67a44187c40c1"
      }
     },
     "7d3bc84aefc94820becbf003c6ffd734": {
      "model_module": "@jupyter-widgets/controls",
      "model_module_version": "1.5.0",
      "model_name": "DescriptionStyleModel",
      "state": {
       "description_width": ""
      }
     },
     "80ae0a6eca77488fb765c9936e1ba2bb": {
      "model_module": "@jupyter-widgets/controls",
      "model_module_version": "1.5.0",
      "model_name": "DescriptionStyleModel",
      "state": {
       "description_width": ""
      }
     },
     "820c49d78c374886a2dc86ed2b76cd26": {
      "model_module": "@jupyter-widgets/controls",
      "model_module_version": "1.5.0",
      "model_name": "HTMLModel",
      "state": {
       "layout": "IPY_MODEL_90db6429db234f438206d0168c15f4ce",
       "style": "IPY_MODEL_e1f27f6985bb474f9bb85f68d87d769c",
       "value": " 27876/27876 [06:25&lt;00:00, 151.06it/s]"
      }
     },
     "82b8e47ee02f4bd98c8736de2652f1cd": {
      "model_module": "@jupyter-widgets/controls",
      "model_module_version": "1.5.0",
      "model_name": "HTMLModel",
      "state": {
       "layout": "IPY_MODEL_beb39a5ea0c649d9a8aef1ec61cfe88d",
       "style": "IPY_MODEL_8d73d57b3da74c8bb8803bbcc26691a7",
       "value": " 959/7482 [00:24&lt;02:50, 38.36it/s]"
      }
     },
     "836fa5535bc4493baf3177ea58865247": {
      "model_module": "@jupyter-widgets/controls",
      "model_module_version": "1.5.0",
      "model_name": "HTMLModel",
      "state": {
       "layout": "IPY_MODEL_a46fc6dca00649f0a551ac920abdab5d",
       "style": "IPY_MODEL_ae974d00ea6d430f826712713598000a",
       "value": " 13%"
      }
     },
     "83963c9b100b4105a76804b82ede5b2a": {
      "model_module": "@jupyter-widgets/base",
      "model_module_version": "1.2.0",
      "model_name": "LayoutModel",
      "state": {}
     },
     "88d30f1ab755448ca60e1c8bbfb36321": {
      "model_module": "@jupyter-widgets/controls",
      "model_module_version": "1.5.0",
      "model_name": "DescriptionStyleModel",
      "state": {
       "description_width": ""
      }
     },
     "89d87e582d3b46eab2222e49b867eadf": {
      "model_module": "@jupyter-widgets/controls",
      "model_module_version": "1.5.0",
      "model_name": "HTMLModel",
      "state": {
       "layout": "IPY_MODEL_01c81ce0a15d4a50a94dce6f8da9d638",
       "style": "IPY_MODEL_98d818adb8534e20812a1630bd280da3",
       "value": " 12920/12920 [04:41&lt;00:00, 67.48it/s]"
      }
     },
     "89d9e56018ee49c3b5e522ed18a02518": {
      "model_module": "@jupyter-widgets/controls",
      "model_module_version": "1.5.0",
      "model_name": "ProgressStyleModel",
      "state": {
       "description_width": ""
      }
     },
     "8b97501f823948238f1ff4c4feb3152d": {
      "model_module": "@jupyter-widgets/controls",
      "model_module_version": "1.5.0",
      "model_name": "DescriptionStyleModel",
      "state": {
       "description_width": ""
      }
     },
     "8d73d57b3da74c8bb8803bbcc26691a7": {
      "model_module": "@jupyter-widgets/controls",
      "model_module_version": "1.5.0",
      "model_name": "DescriptionStyleModel",
      "state": {
       "description_width": ""
      }
     },
     "90db6429db234f438206d0168c15f4ce": {
      "model_module": "@jupyter-widgets/base",
      "model_module_version": "1.2.0",
      "model_name": "LayoutModel",
      "state": {}
     },
     "912c5fb9ca24468189f14c3427c03e23": {
      "model_module": "@jupyter-widgets/controls",
      "model_module_version": "1.5.0",
      "model_name": "HTMLModel",
      "state": {
       "layout": "IPY_MODEL_24727054d6bc4e6d8969ac1027d3bc91",
       "style": "IPY_MODEL_7b17625149e94c1299f7718438405a96",
       "value": " 6095/6095 [01:49&lt;00:00, 52.18it/s]"
      }
     },
     "935bfacc99f3488aa4077b0478496aea": {
      "model_module": "@jupyter-widgets/controls",
      "model_module_version": "1.5.0",
      "model_name": "HBoxModel",
      "state": {
       "children": [
        "IPY_MODEL_ae94cf1fb2fc452a9b08386b1bf2b6c9",
        "IPY_MODEL_9b69f3564ea64e1994c390ba80becd57",
        "IPY_MODEL_b55e481d320d46a0aeb6f9cccad59000"
       ],
       "layout": "IPY_MODEL_0567d93c4e254cefac3a6841685ece69"
      }
     },
     "94bc939a390a4feab9231fe5058f3ca6": {
      "model_module": "@jupyter-widgets/base",
      "model_module_version": "1.2.0",
      "model_name": "LayoutModel",
      "state": {}
     },
     "9639897aeab94ce691ad6f102596aeca": {
      "model_module": "@jupyter-widgets/controls",
      "model_module_version": "1.5.0",
      "model_name": "FloatProgressModel",
      "state": {
       "bar_style": "success",
       "layout": "IPY_MODEL_2cbb0574a5874b589be269728e29e247",
       "max": 24024,
       "style": "IPY_MODEL_89d9e56018ee49c3b5e522ed18a02518",
       "value": 24024
      }
     },
     "967bd95f63bb4cde9545bf1a61e0d01f": {
      "model_module": "@jupyter-widgets/base",
      "model_module_version": "1.2.0",
      "model_name": "LayoutModel",
      "state": {}
     },
     "97bc25bcbd144f6698e9a58f869d7ca1": {
      "model_module": "@jupyter-widgets/base",
      "model_module_version": "1.2.0",
      "model_name": "LayoutModel",
      "state": {}
     },
     "982a28962463469a99520c2af92c2327": {
      "model_module": "@jupyter-widgets/controls",
      "model_module_version": "1.5.0",
      "model_name": "FloatProgressModel",
      "state": {
       "bar_style": "success",
       "layout": "IPY_MODEL_f62ab8c80c0b4e2ca0ef73675fd20289",
       "max": 12920,
       "style": "IPY_MODEL_5abcfebbe5d34268a8c92dd4e524da5d",
       "value": 12920
      }
     },
     "98a3f54ac0a144f6b078eaeb02029495": {
      "model_module": "@jupyter-widgets/controls",
      "model_module_version": "1.5.0",
      "model_name": "FloatProgressModel",
      "state": {
       "bar_style": "success",
       "layout": "IPY_MODEL_97bc25bcbd144f6698e9a58f869d7ca1",
       "max": 10220,
       "style": "IPY_MODEL_474e4fd7a5f845c3a8d1dbdf498401bf",
       "value": 10220
      }
     },
     "98d818adb8534e20812a1630bd280da3": {
      "model_module": "@jupyter-widgets/controls",
      "model_module_version": "1.5.0",
      "model_name": "DescriptionStyleModel",
      "state": {
       "description_width": ""
      }
     },
     "9a5ed03a07d246749541bc67138ec760": {
      "model_module": "@jupyter-widgets/controls",
      "model_module_version": "1.5.0",
      "model_name": "DescriptionStyleModel",
      "state": {
       "description_width": ""
      }
     },
     "9b69f3564ea64e1994c390ba80becd57": {
      "model_module": "@jupyter-widgets/controls",
      "model_module_version": "1.5.0",
      "model_name": "FloatProgressModel",
      "state": {
       "bar_style": "success",
       "layout": "IPY_MODEL_bb7e0e9ae5224cbc9ccfbf87110d56df",
       "max": 14196,
       "style": "IPY_MODEL_e15ffd8d6922498caf4e5125c90ccd02",
       "value": 14196
      }
     },
     "9f623f9b69a044bca3a55004966d419b": {
      "model_module": "@jupyter-widgets/base",
      "model_module_version": "1.2.0",
      "model_name": "LayoutModel",
      "state": {}
     },
     "a011165e32634711b95eb2783b189845": {
      "model_module": "@jupyter-widgets/controls",
      "model_module_version": "1.5.0",
      "model_name": "HTMLModel",
      "state": {
       "layout": "IPY_MODEL_d0746b9a5f014b81a3d7f26788a705ee",
       "style": "IPY_MODEL_9a5ed03a07d246749541bc67138ec760",
       "value": " 24024/24024 [08:21&lt;00:00, 83.13it/s]"
      }
     },
     "a46fc6dca00649f0a551ac920abdab5d": {
      "model_module": "@jupyter-widgets/base",
      "model_module_version": "1.2.0",
      "model_name": "LayoutModel",
      "state": {}
     },
     "a6141139b8f24f3b8c2a033df83a1a62": {
      "model_module": "@jupyter-widgets/controls",
      "model_module_version": "1.5.0",
      "model_name": "HTMLModel",
      "state": {
       "layout": "IPY_MODEL_c9b9fb2f322c4dc4a0c0aabfa0643399",
       "style": "IPY_MODEL_88d30f1ab755448ca60e1c8bbfb36321",
       "value": "100%"
      }
     },
     "aac7a1ecb2bc449ba72f4811d306c038": {
      "model_module": "@jupyter-widgets/base",
      "model_module_version": "1.2.0",
      "model_name": "LayoutModel",
      "state": {}
     },
     "ad6114abb86e48fdbef45078b7ecab80": {
      "model_module": "@jupyter-widgets/controls",
      "model_module_version": "1.5.0",
      "model_name": "DescriptionStyleModel",
      "state": {
       "description_width": ""
      }
     },
     "ae94cf1fb2fc452a9b08386b1bf2b6c9": {
      "model_module": "@jupyter-widgets/controls",
      "model_module_version": "1.5.0",
      "model_name": "HTMLModel",
      "state": {
       "layout": "IPY_MODEL_dd359df183ed46f6980f05c85bb0e3d6",
       "style": "IPY_MODEL_270e5bfe3217425789c70a20f1a51be8",
       "value": "100%"
      }
     },
     "ae974d00ea6d430f826712713598000a": {
      "model_module": "@jupyter-widgets/controls",
      "model_module_version": "1.5.0",
      "model_name": "DescriptionStyleModel",
      "state": {
       "description_width": ""
      }
     },
     "b05bf9d471654bfc930e1cbde394e998": {
      "model_module": "@jupyter-widgets/controls",
      "model_module_version": "1.5.0",
      "model_name": "ProgressStyleModel",
      "state": {
       "description_width": ""
      }
     },
     "b55e481d320d46a0aeb6f9cccad59000": {
      "model_module": "@jupyter-widgets/controls",
      "model_module_version": "1.5.0",
      "model_name": "HTMLModel",
      "state": {
       "layout": "IPY_MODEL_2b748c06bb2b4ef0b7d770f43020efdf",
       "style": "IPY_MODEL_ad6114abb86e48fdbef45078b7ecab80",
       "value": " 14196/14196 [05:17&lt;00:00, 56.09it/s]"
      }
     },
     "b5b10d6ee10e4c55b5c259720861cdf3": {
      "model_module": "@jupyter-widgets/base",
      "model_module_version": "1.2.0",
      "model_name": "LayoutModel",
      "state": {}
     },
     "b66856d6f20747cc8b81da39192a9c74": {
      "model_module": "@jupyter-widgets/controls",
      "model_module_version": "1.5.0",
      "model_name": "DescriptionStyleModel",
      "state": {
       "description_width": ""
      }
     },
     "b739fd645da848ddbee7885cf38900b2": {
      "model_module": "@jupyter-widgets/controls",
      "model_module_version": "1.5.0",
      "model_name": "HBoxModel",
      "state": {
       "children": [
        "IPY_MODEL_22c752f7cd054385a358260a3d7c3b50",
        "IPY_MODEL_9639897aeab94ce691ad6f102596aeca",
        "IPY_MODEL_a011165e32634711b95eb2783b189845"
       ],
       "layout": "IPY_MODEL_d33280fb17c349f18a25fb789f2271ce"
      }
     },
     "ba0d533a23644ff68d1dda42d1e7c2f1": {
      "model_module": "@jupyter-widgets/base",
      "model_module_version": "1.2.0",
      "model_name": "LayoutModel",
      "state": {}
     },
     "badb40a4f11d4b359f54bf95f5ee867d": {
      "model_module": "@jupyter-widgets/controls",
      "model_module_version": "1.5.0",
      "model_name": "HTMLModel",
      "state": {
       "layout": "IPY_MODEL_b5b10d6ee10e4c55b5c259720861cdf3",
       "style": "IPY_MODEL_f9637ccc3b724ca88714037beb4d1258",
       "value": "100%"
      }
     },
     "bb7e0e9ae5224cbc9ccfbf87110d56df": {
      "model_module": "@jupyter-widgets/base",
      "model_module_version": "1.2.0",
      "model_name": "LayoutModel",
      "state": {}
     },
     "bca98b0904444e379ff917ca71e03ce1": {
      "model_module": "@jupyter-widgets/controls",
      "model_module_version": "1.5.0",
      "model_name": "ProgressStyleModel",
      "state": {
       "description_width": ""
      }
     },
     "be646e60cf5646b2be89db16b76d8185": {
      "model_module": "@jupyter-widgets/controls",
      "model_module_version": "1.5.0",
      "model_name": "HBoxModel",
      "state": {
       "children": [
        "IPY_MODEL_6a2504e6381b45d59708c02de8aab966",
        "IPY_MODEL_53450995cbac4ca9a27e3ec34eebb71d",
        "IPY_MODEL_ca88f748e3ab4506bfec66c2d66e0246"
       ],
       "layout": "IPY_MODEL_400ab8397545437386ad60bb91948efe"
      }
     },
     "beb39a5ea0c649d9a8aef1ec61cfe88d": {
      "model_module": "@jupyter-widgets/base",
      "model_module_version": "1.2.0",
      "model_name": "LayoutModel",
      "state": {}
     },
     "bf279351c1934bcba70063de6eaf4cb0": {
      "model_module": "@jupyter-widgets/controls",
      "model_module_version": "1.5.0",
      "model_name": "HBoxModel",
      "state": {
       "children": [
        "IPY_MODEL_2a02dbadff04496395c7c6b34e5dd48b",
        "IPY_MODEL_6e40698e2c24416bbe0bc035589d83f0",
        "IPY_MODEL_2d8e6e204a4c4866aa92b636a686b115"
       ],
       "layout": "IPY_MODEL_4db1e13cb44348dba559cd820f1e63a4"
      }
     },
     "c59bd1ada6c446d58ba67a44187c40c1": {
      "model_module": "@jupyter-widgets/base",
      "model_module_version": "1.2.0",
      "model_name": "LayoutModel",
      "state": {}
     },
     "c9b9fb2f322c4dc4a0c0aabfa0643399": {
      "model_module": "@jupyter-widgets/base",
      "model_module_version": "1.2.0",
      "model_name": "LayoutModel",
      "state": {}
     },
     "ca88f748e3ab4506bfec66c2d66e0246": {
      "model_module": "@jupyter-widgets/controls",
      "model_module_version": "1.5.0",
      "model_name": "HTMLModel",
      "state": {
       "layout": "IPY_MODEL_1e4135ddaebf47d8b7fb222157680814",
       "style": "IPY_MODEL_1a9a5b3e0681477d8fdd8b69e2868aad",
       "value": " 7938/7938 [03:30&lt;00:00, 129.35it/s]"
      }
     },
     "caa53a4320534e3fb0f8bdc5a887b209": {
      "model_module": "@jupyter-widgets/base",
      "model_module_version": "1.2.0",
      "model_name": "LayoutModel",
      "state": {}
     },
     "cf2c6fcb699143fc84e18513eaf146d5": {
      "model_module": "@jupyter-widgets/controls",
      "model_module_version": "1.5.0",
      "model_name": "HBoxModel",
      "state": {
       "children": [
        "IPY_MODEL_0f413874cc144b879cd7f77c5991ac85",
        "IPY_MODEL_ee9f4e53228c493d97ad795a9ea2afd0",
        "IPY_MODEL_820c49d78c374886a2dc86ed2b76cd26"
       ],
       "layout": "IPY_MODEL_5a7d373812d14fd697cfd1c93b221341"
      }
     },
     "d0746b9a5f014b81a3d7f26788a705ee": {
      "model_module": "@jupyter-widgets/base",
      "model_module_version": "1.2.0",
      "model_name": "LayoutModel",
      "state": {}
     },
     "d096bfc49ab54ce7801b27e6df2dd8b7": {
      "model_module": "@jupyter-widgets/controls",
      "model_module_version": "1.5.0",
      "model_name": "FloatProgressModel",
      "state": {
       "bar_style": "success",
       "layout": "IPY_MODEL_50809c5fd0ce4af29bc0c2fed8f470eb",
       "max": 6095,
       "style": "IPY_MODEL_bca98b0904444e379ff917ca71e03ce1",
       "value": 6095
      }
     },
     "d0eb1934908849cfb28aff5a29b7c70b": {
      "model_module": "@jupyter-widgets/controls",
      "model_module_version": "1.5.0",
      "model_name": "FloatProgressModel",
      "state": {
       "bar_style": "success",
       "layout": "IPY_MODEL_e62f69c2cd8d460d85df676d93a4109d",
       "max": 14022,
       "style": "IPY_MODEL_02cb49c9e1dd4e15886e307bf1a1fa90",
       "value": 14022
      }
     },
     "d33280fb17c349f18a25fb789f2271ce": {
      "model_module": "@jupyter-widgets/base",
      "model_module_version": "1.2.0",
      "model_name": "LayoutModel",
      "state": {}
     },
     "d7d1a1b2cbeb46f1a844c386e3b81c83": {
      "model_module": "@jupyter-widgets/controls",
      "model_module_version": "1.5.0",
      "model_name": "HBoxModel",
      "state": {
       "children": [
        "IPY_MODEL_55bc56f8be13451193a38c3b16bf769c",
        "IPY_MODEL_982a28962463469a99520c2af92c2327",
        "IPY_MODEL_89d87e582d3b46eab2222e49b867eadf"
       ],
       "layout": "IPY_MODEL_5d28bb6881484730bb5b264997ed578b"
      }
     },
     "da2753e823154aea829ec92559af46ee": {
      "model_module": "@jupyter-widgets/base",
      "model_module_version": "1.2.0",
      "model_name": "LayoutModel",
      "state": {}
     },
     "dc11461ad4334edaa624da0eb7307cb6": {
      "model_module": "@jupyter-widgets/controls",
      "model_module_version": "1.5.0",
      "model_name": "ProgressStyleModel",
      "state": {
       "description_width": ""
      }
     },
     "dd132849ced844fd8839257ae36cfeec": {
      "model_module": "@jupyter-widgets/base",
      "model_module_version": "1.2.0",
      "model_name": "LayoutModel",
      "state": {}
     },
     "dd2bc35250134290b2aa06c66e41bfb8": {
      "model_module": "@jupyter-widgets/controls",
      "model_module_version": "1.5.0",
      "model_name": "DescriptionStyleModel",
      "state": {
       "description_width": ""
      }
     },
     "dd359df183ed46f6980f05c85bb0e3d6": {
      "model_module": "@jupyter-widgets/base",
      "model_module_version": "1.2.0",
      "model_name": "LayoutModel",
      "state": {}
     },
     "dfdfbe0625444612930f6bdf2b2933e8": {
      "model_module": "@jupyter-widgets/base",
      "model_module_version": "1.2.0",
      "model_name": "LayoutModel",
      "state": {}
     },
     "e15ffd8d6922498caf4e5125c90ccd02": {
      "model_module": "@jupyter-widgets/controls",
      "model_module_version": "1.5.0",
      "model_name": "ProgressStyleModel",
      "state": {
       "description_width": ""
      }
     },
     "e1f27f6985bb474f9bb85f68d87d769c": {
      "model_module": "@jupyter-widgets/controls",
      "model_module_version": "1.5.0",
      "model_name": "DescriptionStyleModel",
      "state": {
       "description_width": ""
      }
     },
     "e60efcdd9fef4128b643dd8cbcd26a43": {
      "model_module": "@jupyter-widgets/base",
      "model_module_version": "1.2.0",
      "model_name": "LayoutModel",
      "state": {}
     },
     "e62f69c2cd8d460d85df676d93a4109d": {
      "model_module": "@jupyter-widgets/base",
      "model_module_version": "1.2.0",
      "model_name": "LayoutModel",
      "state": {}
     },
     "e773588024ba4630bf0e3dbc9a8ce03c": {
      "model_module": "@jupyter-widgets/controls",
      "model_module_version": "1.5.0",
      "model_name": "HTMLModel",
      "state": {
       "layout": "IPY_MODEL_aac7a1ecb2bc449ba72f4811d306c038",
       "style": "IPY_MODEL_80ae0a6eca77488fb765c9936e1ba2bb",
       "value": "100%"
      }
     },
     "e943017da85145698abc438b450c0514": {
      "model_module": "@jupyter-widgets/base",
      "model_module_version": "1.2.0",
      "model_name": "LayoutModel",
      "state": {}
     },
     "ee9f4e53228c493d97ad795a9ea2afd0": {
      "model_module": "@jupyter-widgets/controls",
      "model_module_version": "1.5.0",
      "model_name": "FloatProgressModel",
      "state": {
       "bar_style": "success",
       "layout": "IPY_MODEL_caa53a4320534e3fb0f8bdc5a887b209",
       "max": 27876,
       "style": "IPY_MODEL_40f608505d4b468991f7581e4531820d",
       "value": 27876
      }
     },
     "ef9c27c3dba54456a088e6c1b415d3e7": {
      "model_module": "@jupyter-widgets/controls",
      "model_module_version": "1.5.0",
      "model_name": "ProgressStyleModel",
      "state": {
       "description_width": ""
      }
     },
     "f62ab8c80c0b4e2ca0ef73675fd20289": {
      "model_module": "@jupyter-widgets/base",
      "model_module_version": "1.2.0",
      "model_name": "LayoutModel",
      "state": {}
     },
     "f9637ccc3b724ca88714037beb4d1258": {
      "model_module": "@jupyter-widgets/controls",
      "model_module_version": "1.5.0",
      "model_name": "DescriptionStyleModel",
      "state": {
       "description_width": ""
      }
     }
    },
    "version_major": 2,
    "version_minor": 0
   }
  }
 },
 "nbformat": 4,
 "nbformat_minor": 5
}
