{
 "cells": [
  {
   "cell_type": "markdown",
   "id": "856494bd-971b-4d53-92b6-a772f5934df5",
   "metadata": {},
   "source": [
    "# ***DESI Human Glioma Preprocessed Dataset Tissue Spectra Metadata export***\n",
    "\n",
    "This notebook shows the process creating a metadata csv of all tissue spectra for later use of the DESI Human Glioma preprocessed dataset."
   ]
  },
  {
   "cell_type": "markdown",
   "id": "49c22880-c902-4dd1-89ec-6f46f8017fa9",
   "metadata": {},
   "source": [
    "### ***Import packages***\n",
    "\n",
    "Before we begin, let's import all the necessary packages for this notebook:"
   ]
  },
  {
   "cell_type": "code",
   "execution_count": 1,
   "id": "01b61342-ee57-4299-a9ce-a8993f8727fd",
   "metadata": {},
   "outputs": [],
   "source": [
    "import os\n",
    "import numpy as np\n",
    "import pandas as pd\n",
    "from skimage import (filters)\n",
    "from pyimzml.ImzMLParser import ImzMLParser, getionimage\n",
    "from tqdm.notebook import tqdm\n",
    "\n",
    "%matplotlib inline"
   ]
  },
  {
   "cell_type": "markdown",
   "id": "87eebf16-66a7-4b26-8a4b-145d09cbe643",
   "metadata": {},
   "source": [
    "### ***Constants definitions***\n",
    "\n",
    "Next, let's define some constant variables for this notebook:"
   ]
  },
  {
   "cell_type": "code",
   "execution_count": 2,
   "id": "37a05c91-3223-4591-92cc-1ae0d83e8604",
   "metadata": {},
   "outputs": [],
   "source": [
    "# Define folder that contains the preprocessed dhg dataset\n",
    "DHG_IN_PATH = \"/sise/assafzar-group/assafzar/Leor/DHG/Preprocessed\"\n",
    "# Define file that contains clinical state anotations\n",
    "LABELS_PATH = \"/sise/assafzar-group/assafzar/Leor/DHG/Clinical_state_anotations.csv\"\n",
    "# Define file to export\n",
    "DHG_OUT_PATH = \"/sise/assafzar-group/assafzar/Leor/DHG/Preprocessed/Metadata.csv\""
   ]
  },
  {
   "cell_type": "markdown",
   "id": "55c71392-9354-46f8-93d3-d1298fab3820",
   "metadata": {
    "tags": []
   },
   "source": [
    "### ***Reading MSI clinical state anotations***\n",
    "\n",
    "Next, lets read the clinical state anotations for each MSI:"
   ]
  },
  {
   "cell_type": "code",
   "execution_count": 3,
   "id": "33f91fd0-b6c6-4965-ad0c-180fbd1c74bc",
   "metadata": {
    "tags": []
   },
   "outputs": [],
   "source": [
    "# Read clinical state anotations csv\n",
    "labels_df = pd.read_csv(LABELS_PATH)"
   ]
  },
  {
   "cell_type": "markdown",
   "id": "7b293bee-e70a-456b-8a75-c703e2ee0f15",
   "metadata": {},
   "source": [
    "### ***Export all tissue spectra metadata from all MSI:***\n",
    "\n",
    "Next, let's export all tissue spectra metadata from all MSI:"
   ]
  },
  {
   "cell_type": "code",
   "execution_count": 4,
   "id": "6aa78851-8993-4315-9e39-0095303a8735",
   "metadata": {},
   "outputs": [
    {
     "data": {
      "application/vnd.jupyter.widget-view+json": {
       "model_id": "b8cdc48cea084de6b5dc0b4ccda2501a",
       "version_major": 2,
       "version_minor": 0
      },
      "text/plain": [
       "MSI Loop:   0%|          | 0/48 [00:00<?, ?it/s]"
      ]
     },
     "metadata": {},
     "output_type": "display_data"
    }
   ],
   "source": [
    "# Create empty list to store loop dataframes\n",
    "dfs = []\n",
    "\n",
    "# Loop over each MSI\n",
    "for index, msi_row in tqdm(labels_df.iterrows(), total=labels_df.shape[0], desc=\"MSI Loop\"):\n",
    "  # Parse the MSI file \n",
    "  with ImzMLParser(os.path.join(DHG_IN_PATH, f\"{msi_row.file_name}.imzML\")) as reader:\n",
    "    # Get local TIC image of msi in mz region [600, 900]\n",
    "    local_tic_img = getionimage(reader, 750, tol=150)\n",
    "\n",
    "    # Threshold image to seperate tissue spectra from background\n",
    "    smooth = filters.gaussian(local_tic_img, sigma=1.5)\n",
    "    thresh_mean = filters.threshold_mean(smooth)\n",
    "    thresh_img = local_tic_img > thresh_mean\n",
    "    \n",
    "    # Get tissue coordinates\n",
    "    tissue_coordinates = np.argwhere(thresh_img == True)\n",
    "    # Create dataframe of tissue coordinates\n",
    "    loop_df = pd.DataFrame({\"y\": tissue_coordinates[:, 0], \"x\": tissue_coordinates[:, 1]})\n",
    "    # Add sample type to each row\n",
    "    loop_df[\"sample_type\"] = msi_row.sample_type\n",
    "    # Add file name to each row\n",
    "    loop_df[\"file_name\"] = msi_row.file_name\n",
    "    # Add who_grade to each row\n",
    "    loop_df[\"who_grade\"] = msi_row.who_grade\n",
    "    # Add histology to each row\n",
    "    loop_df[\"histology\"] = msi_row.histology\n",
    "    # add idx to each row\n",
    "    idxs = {(x[0], x[1]): idx for idx, x in enumerate(reader.coordinates)}\n",
    "    loop_df[\"idx\"] = loop_df.apply(lambda row: idxs[(row[\"x\"] + 1, row[\"y\"] + 1)], axis=1)\n",
    "    \n",
    "    # Append loop dataframe to dataframe list\n",
    "    dfs.append(loop_df)\n",
    "\n",
    "# Create one dataframe from list\n",
    "df = pd.concat(dfs, ignore_index=True)\n",
    "# Change type to ste for one hot encoding\n",
    "df['who_grade'] = df['who_grade'].astype(str)\n",
    "# One hot encode categorical columns and save csv\n",
    "pd.get_dummies(df, columns=[\"who_grade\",\"histology\"]).to_csv(DHG_OUT_PATH, index=False)"
   ]
  }
 ],
 "metadata": {
  "kernelspec": {
   "display_name": "jupyter_env",
   "language": "python",
   "name": "jupyter_env"
  },
  "language_info": {
   "codemirror_mode": {
    "name": "ipython",
    "version": 3
   },
   "file_extension": ".py",
   "mimetype": "text/x-python",
   "name": "python",
   "nbconvert_exporter": "python",
   "pygments_lexer": "ipython3",
   "version": "3.8.13"
  }
 },
 "nbformat": 4,
 "nbformat_minor": 5
}
