{
 "cells": [
  {
   "cell_type": "code",
   "execution_count": 1,
   "id": "43f7422d-b624-4457-8d43-7ef3e252696c",
   "metadata": {},
   "outputs": [],
   "source": [
    "import os\n",
    "import numpy as np\n",
    "import pandas as pd\n",
    "from matplotlib import pyplot as plt\n",
    "from pyimzml.ImzMLParser import ImzMLParser\n",
    "from tqdm import tqdm\n",
    "from tensorflow import keras\n",
    "from tensorflow.keras import layers\n",
    "from sklearn.model_selection import train_test_split\n",
    "from datetime import datetime\n",
    "import gc"
   ]
  },
  {
   "cell_type": "code",
   "execution_count": 2,
   "id": "e0530da0-8fd5-43d0-8dbd-01dacc2a3c63",
   "metadata": {},
   "outputs": [],
   "source": [
    "# Define folder that contains the preprocessed dhg dataset\n",
    "DHG_IN_PATH = \"/sise/assafzar-group/assafzar/Leor/DHG/Preprocessed\"\n",
    "# Define file to export\n",
    "META_DATA_PATH = \"/sise/assafzar-group/assafzar/Leor/DHG/Preprocessed/Metadata.csv\""
   ]
  },
  {
   "cell_type": "code",
   "execution_count": 3,
   "id": "cad1d0b1-702e-4cec-b87d-034e47347178",
   "metadata": {},
   "outputs": [],
   "source": [
    "# \n",
    "meta_data = pd.read_csv(META_DATA_PATH)\n",
    "# \n",
    "meta_data = meta_data[meta_data.file_name.str.contains('r')]\n",
    "# \n",
    "meta_data[\"label\"] = (meta_data.who_grade > 2).astype(int)"
   ]
  },
  {
   "cell_type": "code",
   "execution_count": 4,
   "id": "733693d6-ce7b-459c-ba3d-ef4a58d17a80",
   "metadata": {},
   "outputs": [],
   "source": [
    "#\n",
    "parsers = { file_name: ImzMLParser(os.path.join(DHG_IN_PATH, f\"{file_name}.imzML\")) for file_name in meta_data.file_name.unique()}"
   ]
  },
  {
   "cell_type": "code",
   "execution_count": 5,
   "id": "2d75531a-6f36-400e-8bf1-512f5ac4f234",
   "metadata": {},
   "outputs": [],
   "source": [
    "class DataGenerator(keras.utils.Sequence):\n",
    "  'Generates data for Keras'\n",
    "  def __init__(self, df, parsers, batch_size=32,\n",
    "               dim=(92000,), shuffle=True):\n",
    "    'Initialization'\n",
    "    self.dim = dim\n",
    "    self.batch_size = batch_size\n",
    "    self.df = df\n",
    "    self.parsers = parsers\n",
    "    self.shuffle = shuffle\n",
    "    self.on_epoch_end()\n",
    "\n",
    "  def __len__(self):\n",
    "    'Denotes the number of batches per epoch'\n",
    "    return max(1, int(np.floor(len(self.df) / self.batch_size)))\n",
    "\n",
    "  def __getitem__(self, index):\n",
    "    'Generate one batch of data'\n",
    "    # Generate indexes of the batch\n",
    "    batch_df = self.df[index*self.batch_size:(index+1)*self.batch_size]\n",
    "    # Generate data\n",
    "    X, y = self.__data_generation(batch_df)\n",
    "    return X, y\n",
    "\n",
    "  def on_epoch_end(self):\n",
    "    'Updates indexes after each epoch'\n",
    "    if self.shuffle == True:\n",
    "        self.df = self.df.sample(frac=1).reset_index(drop=True)\n",
    "\n",
    "  def __data_generation(self, batch_df):\n",
    "    'Generates data containing batch_size samples' # X : (n_samples, *dim, n_channels)\n",
    "    # Initialization\n",
    "    X = np.empty((self.batch_size, *self.dim))\n",
    "    y = np.empty((self.batch_size), dtype=int)\n",
    "    # Generate data\n",
    "    for i, (_, row) in enumerate(batch_df.iterrows()):\n",
    "      # get spectra\n",
    "      _, spectra = self.parsers[row.file_name].getspectrum(row.idx)\n",
    "      # Store sample\n",
    "      X[i,] = spectra\n",
    "      # Store class\n",
    "      y[i] = row.label\n",
    "    return X, y"
   ]
  },
  {
   "cell_type": "code",
   "execution_count": 6,
   "id": "5737a386-394d-4d26-9613-b928c525618b",
   "metadata": {},
   "outputs": [
    {
     "name": "stderr",
     "output_type": "stream",
     "text": [
      "  0%|          | 0/24 [00:00<?, ?it/s]2022-04-24 21:23:00.359591: W tensorflow/stream_executor/platform/default/dso_loader.cc:64] Could not load dynamic library 'libcuda.so.1'; dlerror: libcuda.so.1: cannot open shared object file: No such file or directory\n",
      "2022-04-24 21:23:00.359626: W tensorflow/stream_executor/cuda/cuda_driver.cc:269] failed call to cuInit: UNKNOWN ERROR (303)\n",
      "2022-04-24 21:23:00.359652: I tensorflow/stream_executor/cuda/cuda_diagnostics.cc:156] kernel driver does not appear to be running on this host (cs-cpu-01): /proc/driver/nvidia/version does not exist\n",
      "2022-04-24 21:23:00.398812: I tensorflow/core/platform/cpu_feature_guard.cc:142] This TensorFlow binary is optimized with oneAPI Deep Neural Network Library (oneDNN) to use the following CPU instructions in performance-critical operations:  SSE4.1 SSE4.2 AVX AVX2 FMA\n",
      "To enable them in other operations, rebuild TensorFlow with the appropriate compiler flags.\n",
      "2022-04-24 21:23:06.601960: I tensorflow/compiler/mlir/mlir_graph_optimization_pass.cc:185] None of the MLIR Optimization Passes are enabled (registered 2)\n"
     ]
    },
    {
     "name": "stdout",
     "output_type": "stream",
     "text": [
      "Epoch 1/10\n",
      "32/32 [==============================] - 259s 8s/step - loss: 0.6867 - accuracy: 0.5466 - val_loss: 0.6697 - val_accuracy: 0.5598\n",
      "Epoch 2/10\n",
      "32/32 [==============================] - 251s 8s/step - loss: 0.4995 - accuracy: 0.7667 - val_loss: 0.3098 - val_accuracy: 0.9329\n",
      "Epoch 3/10\n",
      "32/32 [==============================] - 249s 8s/step - loss: 0.2235 - accuracy: 0.9353 - val_loss: 0.1831 - val_accuracy: 0.9426\n",
      "Epoch 4/10\n",
      "32/32 [==============================] - 244s 8s/step - loss: 0.1748 - accuracy: 0.9446 - val_loss: 0.1780 - val_accuracy: 0.9437\n",
      "Epoch 5/10\n",
      "32/32 [==============================] - 244s 8s/step - loss: 0.1657 - accuracy: 0.9456 - val_loss: 0.1584 - val_accuracy: 0.9437\n",
      "Epoch 6/10\n",
      "32/32 [==============================] - 242s 8s/step - loss: 0.1015 - accuracy: 0.9458 - val_loss: 0.0585 - val_accuracy: 0.9438\n",
      "Epoch 7/10\n",
      "32/32 [==============================] - 245s 8s/step - loss: 0.0350 - accuracy: 0.9877 - val_loss: 0.0203 - val_accuracy: 0.9961\n",
      "Epoch 8/10\n",
      "32/32 [==============================] - 252s 8s/step - loss: 0.0042 - accuracy: 0.9989 - val_loss: 0.0097 - val_accuracy: 0.9987\n",
      "Epoch 9/10\n",
      "32/32 [==============================] - 252s 8s/step - loss: 3.6238e-04 - accuracy: 0.9999 - val_loss: 0.0093 - val_accuracy: 0.9988\n",
      "Epoch 10/10\n",
      "32/32 [==============================] - 248s 8s/step - loss: 9.0732e-05 - accuracy: 1.0000 - val_loss: 0.0094 - val_accuracy: 0.9989\n",
      "2/2 [==============================] - 6s 3s/step - loss: 1.2120e-10 - accuracy: 1.0000\n"
     ]
    },
    {
     "name": "stderr",
     "output_type": "stream",
     "text": [
      "  4%|▍         | 1/24 [41:43<15:59:40, 2503.51s/it]"
     ]
    },
    {
     "name": "stdout",
     "output_type": "stream",
     "text": [
      "Epoch 1/10\n",
      "33/33 [==============================] - 270s 8s/step - loss: 0.6792 - accuracy: 0.5642 - val_loss: 0.6180 - val_accuracy: 0.5782\n",
      "Epoch 2/10\n",
      "33/33 [==============================] - 265s 8s/step - loss: 0.3962 - accuracy: 0.8513 - val_loss: 0.2178 - val_accuracy: 0.9401\n",
      "Epoch 3/10\n",
      "33/33 [==============================] - 267s 8s/step - loss: 0.2101 - accuracy: 0.9322 - val_loss: 0.1877 - val_accuracy: 0.9381\n",
      "Epoch 4/10\n",
      "33/33 [==============================] - 254s 8s/step - loss: 0.1715 - accuracy: 0.9442 - val_loss: 0.1718 - val_accuracy: 0.9424\n",
      "Epoch 5/10\n",
      "33/33 [==============================] - 258s 8s/step - loss: 0.1505 - accuracy: 0.9474 - val_loss: 0.1387 - val_accuracy: 0.9449\n",
      "Epoch 6/10\n",
      "33/33 [==============================] - 259s 8s/step - loss: 0.1050 - accuracy: 0.9475 - val_loss: 0.0789 - val_accuracy: 0.9442\n",
      "Epoch 7/10\n",
      "33/33 [==============================] - 257s 8s/step - loss: 0.0526 - accuracy: 0.9681 - val_loss: 0.0508 - val_accuracy: 0.9899\n",
      "Epoch 8/10\n",
      "33/33 [==============================] - 256s 8s/step - loss: 0.0313 - accuracy: 0.9941 - val_loss: 0.0243 - val_accuracy: 0.9952\n",
      "Epoch 9/10\n",
      "33/33 [==============================] - 256s 8s/step - loss: 0.0082 - accuracy: 0.9982 - val_loss: 0.0158 - val_accuracy: 0.9966\n",
      "Epoch 10/10\n",
      "33/33 [==============================] - 254s 8s/step - loss: 0.0015 - accuracy: 0.9997 - val_loss: 0.0073 - val_accuracy: 0.9987\n",
      "1/1 [==============================] - 2s 2s/step - loss: 1.1777 - accuracy: 0.7881\n"
     ]
    },
    {
     "name": "stderr",
     "output_type": "stream",
     "text": [
      "  8%|▊         | 2/24 [1:25:13<15:29:39, 2535.44s/it]"
     ]
    },
    {
     "name": "stdout",
     "output_type": "stream",
     "text": [
      "Epoch 1/10\n",
      "32/32 [==============================] - 247s 8s/step - loss: 0.6854 - accuracy: 0.5604 - val_loss: 0.6812 - val_accuracy: 0.5597\n",
      "Epoch 2/10\n",
      "32/32 [==============================] - 248s 8s/step - loss: 0.5640 - accuracy: 0.6818 - val_loss: 0.3648 - val_accuracy: 0.9305\n",
      "Epoch 3/10\n",
      "32/32 [==============================] - 248s 8s/step - loss: 0.2924 - accuracy: 0.9149 - val_loss: 0.1890 - val_accuracy: 0.9402\n",
      "Epoch 4/10\n",
      "32/32 [==============================] - 249s 8s/step - loss: 0.1778 - accuracy: 0.9438 - val_loss: 0.1772 - val_accuracy: 0.9447\n",
      "Epoch 5/10\n",
      "32/32 [==============================] - 263s 8s/step - loss: 0.1717 - accuracy: 0.9454 - val_loss: 0.1727 - val_accuracy: 0.9460\n",
      "Epoch 6/10\n",
      "32/32 [==============================] - 262s 8s/step - loss: 0.1670 - accuracy: 0.9467 - val_loss: 0.1727 - val_accuracy: 0.9440\n",
      "Epoch 7/10\n",
      "32/32 [==============================] - 262s 8s/step - loss: 0.1474 - accuracy: 0.9470 - val_loss: 0.1204 - val_accuracy: 0.9463\n",
      "Epoch 8/10\n",
      "32/32 [==============================] - 252s 8s/step - loss: 0.0719 - accuracy: 0.9482 - val_loss: 0.0567 - val_accuracy: 0.9885\n",
      "Epoch 9/10\n",
      "32/32 [==============================] - 255s 8s/step - loss: 0.0261 - accuracy: 0.9946 - val_loss: 0.0211 - val_accuracy: 0.9950\n",
      "Epoch 10/10\n",
      "32/32 [==============================] - 255s 8s/step - loss: 0.0027 - accuracy: 0.9992 - val_loss: 0.0121 - val_accuracy: 0.9980\n",
      "1/1 [==============================] - 2s 2s/step - loss: 3.4396e-18 - accuracy: 1.0000\n"
     ]
    },
    {
     "name": "stderr",
     "output_type": "stream",
     "text": [
      " 12%|█▎        | 3/24 [2:07:52<14:49:52, 2542.51s/it]"
     ]
    },
    {
     "name": "stdout",
     "output_type": "stream",
     "text": [
      "Epoch 1/10\n",
      "31/31 [==============================] - 241s 8s/step - loss: 0.6867 - accuracy: 0.5455 - val_loss: 0.6631 - val_accuracy: 0.5479\n",
      "Epoch 2/10\n",
      "31/31 [==============================] - 243s 8s/step - loss: 0.4748 - accuracy: 0.7821 - val_loss: 0.2387 - val_accuracy: 0.9270\n",
      "Epoch 3/10\n",
      "31/31 [==============================] - 240s 8s/step - loss: 0.1959 - accuracy: 0.9377 - val_loss: 0.1710 - val_accuracy: 0.9466\n",
      "Epoch 4/10\n",
      "31/31 [==============================] - 238s 8s/step - loss: 0.1628 - accuracy: 0.9427 - val_loss: 0.1314 - val_accuracy: 0.9453\n",
      "Epoch 5/10\n",
      "31/31 [==============================] - 240s 8s/step - loss: 0.0869 - accuracy: 0.9436 - val_loss: 0.0518 - val_accuracy: 0.9455\n",
      "Epoch 6/10\n",
      "31/31 [==============================] - 242s 8s/step - loss: 0.0378 - accuracy: 0.9892 - val_loss: 0.0204 - val_accuracy: 0.9960\n",
      "Epoch 7/10\n",
      "31/31 [==============================] - 242s 8s/step - loss: 0.0070 - accuracy: 0.9983 - val_loss: 0.0038 - val_accuracy: 0.9993\n",
      "Epoch 8/10\n",
      "31/31 [==============================] - 251s 8s/step - loss: 6.2937e-04 - accuracy: 0.9999 - val_loss: 0.0051 - val_accuracy: 0.9992\n",
      "Epoch 9/10\n",
      "31/31 [==============================] - 272s 9s/step - loss: 1.8773e-04 - accuracy: 1.0000 - val_loss: 0.0041 - val_accuracy: 0.9990\n",
      "Epoch 10/10\n",
      "31/31 [==============================] - 301s 10s/step - loss: 8.8634e-05 - accuracy: 1.0000 - val_loss: 0.0028 - val_accuracy: 0.9993\n",
      "2/2 [==============================] - 7s 5s/step - loss: 0.1865 - accuracy: 0.9590\n"
     ]
    },
    {
     "name": "stderr",
     "output_type": "stream",
     "text": [
      " 17%|█▋        | 4/24 [2:50:07<14:06:48, 2540.40s/it]"
     ]
    },
    {
     "name": "stdout",
     "output_type": "stream",
     "text": [
      "Epoch 1/10\n",
      "31/31 [==============================] - 293s 10s/step - loss: 0.6880 - accuracy: 0.5438 - val_loss: 0.6768 - val_accuracy: 0.5573\n",
      "Epoch 2/10\n",
      "31/31 [==============================] - 299s 10s/step - loss: 0.5008 - accuracy: 0.7510 - val_loss: 0.2725 - val_accuracy: 0.9216\n",
      "Epoch 3/10\n",
      "31/31 [==============================] - 289s 9s/step - loss: 0.1980 - accuracy: 0.9383 - val_loss: 0.1714 - val_accuracy: 0.9452\n",
      "Epoch 4/10\n",
      "31/31 [==============================] - 278s 9s/step - loss: 0.1543 - accuracy: 0.9450 - val_loss: 0.1226 - val_accuracy: 0.9449\n",
      "Epoch 5/10\n",
      "31/31 [==============================] - 270s 9s/step - loss: 0.0817 - accuracy: 0.9454 - val_loss: 0.0564 - val_accuracy: 0.9448\n",
      "Epoch 6/10\n",
      "31/31 [==============================] - 267s 9s/step - loss: 0.0367 - accuracy: 0.9825 - val_loss: 0.0178 - val_accuracy: 0.9960\n",
      "Epoch 7/10\n",
      "31/31 [==============================] - 265s 9s/step - loss: 0.0043 - accuracy: 0.9988 - val_loss: 0.0096 - val_accuracy: 0.9987\n",
      "Epoch 8/10\n",
      "31/31 [==============================] - 265s 9s/step - loss: 5.2035e-04 - accuracy: 1.0000 - val_loss: 0.0097 - val_accuracy: 0.9987\n",
      "Epoch 9/10\n",
      "31/31 [==============================] - 294s 9s/step - loss: 1.4858e-04 - accuracy: 1.0000 - val_loss: 0.0070 - val_accuracy: 0.9989\n",
      "Epoch 10/10\n",
      "31/31 [==============================] - 300s 10s/step - loss: 6.1166e-05 - accuracy: 1.0000 - val_loss: 0.0096 - val_accuracy: 0.9986\n",
      "2/2 [==============================] - 8s 5s/step - loss: 0.1236 - accuracy: 0.9561\n"
     ]
    },
    {
     "name": "stderr",
     "output_type": "stream",
     "text": [
      " 21%|██        | 5/24 [3:37:35<13:53:35, 2632.41s/it]"
     ]
    },
    {
     "name": "stdout",
     "output_type": "stream",
     "text": [
      "Epoch 1/10\n",
      "32/32 [==============================] - 297s 9s/step - loss: 0.6854 - accuracy: 0.5573 - val_loss: 0.6747 - val_accuracy: 0.5613\n",
      "Epoch 2/10\n",
      "32/32 [==============================] - 316s 10s/step - loss: 0.5030 - accuracy: 0.7512 - val_loss: 0.3027 - val_accuracy: 0.9397\n",
      "Epoch 3/10\n",
      "32/32 [==============================] - 290s 9s/step - loss: 0.3210 - accuracy: 0.8905 - val_loss: 0.1854 - val_accuracy: 0.9423\n",
      "Epoch 4/10\n",
      "32/32 [==============================] - 312s 10s/step - loss: 0.2016 - accuracy: 0.9352 - val_loss: 0.1729 - val_accuracy: 0.9451\n",
      "Epoch 5/10\n",
      "32/32 [==============================] - 298s 9s/step - loss: 0.1729 - accuracy: 0.9453 - val_loss: 0.1707 - val_accuracy: 0.9459\n",
      "Epoch 6/10\n",
      "32/32 [==============================] - 301s 9s/step - loss: 0.1706 - accuracy: 0.9460 - val_loss: 0.1701 - val_accuracy: 0.9459\n",
      "Epoch 7/10\n",
      "32/32 [==============================] - 301s 9s/step - loss: 0.1686 - accuracy: 0.9464 - val_loss: 0.1683 - val_accuracy: 0.9459\n",
      "Epoch 8/10\n",
      "32/32 [==============================] - 289s 9s/step - loss: 0.1631 - accuracy: 0.9464 - val_loss: 0.1546 - val_accuracy: 0.9462\n",
      "Epoch 9/10\n",
      "32/32 [==============================] - 271s 8s/step - loss: 0.1205 - accuracy: 0.9466 - val_loss: 0.0678 - val_accuracy: 0.9470\n",
      "Epoch 10/10\n",
      "32/32 [==============================] - 265s 8s/step - loss: 0.0342 - accuracy: 0.9832 - val_loss: 0.0198 - val_accuracy: 0.9935\n",
      "1/1 [==============================] - 2s 2s/step - loss: 5.1006 - accuracy: 0.0449\n"
     ]
    },
    {
     "name": "stderr",
     "output_type": "stream",
     "text": [
      " 25%|██▌       | 6/24 [4:26:53<13:39:04, 2730.24s/it]"
     ]
    },
    {
     "name": "stdout",
     "output_type": "stream",
     "text": [
      "Epoch 1/10\n",
      "32/32 [==============================] - 266s 8s/step - loss: 0.6745 - accuracy: 0.5948 - val_loss: 0.6529 - val_accuracy: 0.6034\n",
      "Epoch 2/10\n",
      "32/32 [==============================] - 265s 8s/step - loss: 0.4825 - accuracy: 0.7630 - val_loss: 0.2976 - val_accuracy: 0.9200\n",
      "Epoch 3/10\n",
      "32/32 [==============================] - 263s 8s/step - loss: 0.2100 - accuracy: 0.9390 - val_loss: 0.1712 - val_accuracy: 0.9446\n",
      "Epoch 4/10\n",
      "32/32 [==============================] - 266s 8s/step - loss: 0.1647 - accuracy: 0.9464 - val_loss: 0.1647 - val_accuracy: 0.9447\n",
      "Epoch 5/10\n",
      "32/32 [==============================] - 271s 8s/step - loss: 0.1454 - accuracy: 0.9468 - val_loss: 0.1195 - val_accuracy: 0.9454\n",
      "Epoch 6/10\n",
      "32/32 [==============================] - 272s 9s/step - loss: 0.0790 - accuracy: 0.9467 - val_loss: 0.0582 - val_accuracy: 0.9458\n",
      "Epoch 7/10\n",
      "32/32 [==============================] - 265s 8s/step - loss: 0.0466 - accuracy: 0.9466 - val_loss: 0.0452 - val_accuracy: 0.9453\n",
      "Epoch 8/10\n",
      "32/32 [==============================] - 259s 8s/step - loss: 0.0343 - accuracy: 0.9964 - val_loss: 0.0281 - val_accuracy: 0.9988\n",
      "Epoch 9/10\n",
      "32/32 [==============================] - 260s 8s/step - loss: 0.0078 - accuracy: 0.9998 - val_loss: 0.0065 - val_accuracy: 0.9989\n",
      "Epoch 10/10\n",
      "32/32 [==============================] - 255s 8s/step - loss: 4.7923e-04 - accuracy: 0.9999 - val_loss: 0.0057 - val_accuracy: 0.9995\n",
      "1/1 [==============================] - 2s 2s/step - loss: 17.4099 - accuracy: 0.0127\n"
     ]
    },
    {
     "name": "stderr",
     "output_type": "stream",
     "text": [
      " 29%|██▉       | 7/24 [5:11:13<12:47:35, 2709.14s/it]"
     ]
    },
    {
     "name": "stdout",
     "output_type": "stream",
     "text": [
      "Epoch 1/10\n",
      "32/32 [==============================] - 254s 8s/step - loss: 0.6718 - accuracy: 0.6009 - val_loss: 0.6616 - val_accuracy: 0.6069\n",
      "Epoch 2/10\n",
      "32/32 [==============================] - 276s 9s/step - loss: 0.5067 - accuracy: 0.7142 - val_loss: 0.3653 - val_accuracy: 0.9048\n",
      "Epoch 3/10\n",
      "32/32 [==============================] - 277s 9s/step - loss: 0.2367 - accuracy: 0.9342 - val_loss: 0.1780 - val_accuracy: 0.9430\n",
      "Epoch 4/10\n",
      "32/32 [==============================] - 280s 9s/step - loss: 0.1694 - accuracy: 0.9448 - val_loss: 0.1690 - val_accuracy: 0.9446\n",
      "Epoch 5/10\n",
      "32/32 [==============================] - 299s 9s/step - loss: 0.1652 - accuracy: 0.9454 - val_loss: 0.1645 - val_accuracy: 0.9449\n",
      "Epoch 6/10\n",
      "32/32 [==============================] - 288s 9s/step - loss: 0.1463 - accuracy: 0.9456 - val_loss: 0.1132 - val_accuracy: 0.9440\n",
      "Epoch 7/10\n",
      "32/32 [==============================] - 286s 9s/step - loss: 0.0634 - accuracy: 0.9623 - val_loss: 0.0420 - val_accuracy: 0.9950\n",
      "Epoch 8/10\n",
      "32/32 [==============================] - 292s 9s/step - loss: 0.0221 - accuracy: 0.9966 - val_loss: 0.0109 - val_accuracy: 0.9987\n",
      "Epoch 9/10\n",
      "32/32 [==============================] - 290s 9s/step - loss: 0.0022 - accuracy: 0.9996 - val_loss: 0.0063 - val_accuracy: 0.9988\n",
      "Epoch 10/10\n",
      "32/32 [==============================] - 288s 9s/step - loss: 3.9529e-04 - accuracy: 0.9999 - val_loss: 0.0059 - val_accuracy: 0.9991\n",
      "2/2 [==============================] - 9s 7s/step - loss: 0.1096 - accuracy: 0.9951\n"
     ]
    },
    {
     "name": "stderr",
     "output_type": "stream",
     "text": [
      " 33%|███▎      | 8/24 [5:58:50<12:14:15, 2753.50s/it]"
     ]
    },
    {
     "name": "stdout",
     "output_type": "stream",
     "text": [
      "Epoch 1/10\n",
      "31/31 [==============================] - 263s 8s/step - loss: 0.6723 - accuracy: 0.6104 - val_loss: 0.6640 - val_accuracy: 0.6124\n",
      "Epoch 2/10\n",
      "31/31 [==============================] - 266s 9s/step - loss: 0.5805 - accuracy: 0.6407 - val_loss: 0.4113 - val_accuracy: 0.8122\n",
      "Epoch 3/10\n",
      "31/31 [==============================] - 248s 8s/step - loss: 0.2720 - accuracy: 0.9267 - val_loss: 0.1764 - val_accuracy: 0.9436\n",
      "Epoch 4/10\n",
      "31/31 [==============================] - 248s 8s/step - loss: 0.1719 - accuracy: 0.9438 - val_loss: 0.1751 - val_accuracy: 0.9428\n",
      "Epoch 5/10\n",
      "31/31 [==============================] - 235s 8s/step - loss: 0.1622 - accuracy: 0.9446 - val_loss: 0.1537 - val_accuracy: 0.9460\n",
      "Epoch 6/10\n",
      "31/31 [==============================] - 237s 8s/step - loss: 0.1088 - accuracy: 0.9447 - val_loss: 0.0655 - val_accuracy: 0.9453\n",
      "Epoch 7/10\n",
      "31/31 [==============================] - 235s 8s/step - loss: 0.0394 - accuracy: 0.9842 - val_loss: 0.0339 - val_accuracy: 0.9943\n",
      "Epoch 8/10\n",
      "31/31 [==============================] - 232s 7s/step - loss: 0.6264 - accuracy: 0.8132 - val_loss: 0.1481 - val_accuracy: 0.9404\n",
      "Epoch 9/10\n",
      "31/31 [==============================] - 235s 8s/step - loss: 0.1510 - accuracy: 0.9506 - val_loss: 0.0593 - val_accuracy: 0.9914\n",
      "Epoch 10/10\n",
      "31/31 [==============================] - 241s 8s/step - loss: 0.0393 - accuracy: 0.9970 - val_loss: 0.0370 - val_accuracy: 0.9957\n",
      "2/2 [==============================] - 6s 4s/step - loss: 0.1489 - accuracy: 0.9531\n"
     ]
    },
    {
     "name": "stderr",
     "output_type": "stream",
     "text": [
      " 38%|███▊      | 9/24 [6:39:51<11:06:28, 2665.87s/it]"
     ]
    },
    {
     "name": "stdout",
     "output_type": "stream",
     "text": [
      "Epoch 1/10\n",
      "32/32 [==============================] - 254s 8s/step - loss: 0.6776 - accuracy: 0.5928 - val_loss: 0.6683 - val_accuracy: 0.5955\n",
      "Epoch 2/10\n",
      "32/32 [==============================] - 259s 8s/step - loss: 0.5360 - accuracy: 0.7134 - val_loss: 0.3103 - val_accuracy: 0.9320\n",
      "Epoch 3/10\n",
      "32/32 [==============================] - 266s 8s/step - loss: 0.2149 - accuracy: 0.9401 - val_loss: 0.1718 - val_accuracy: 0.9446\n",
      "Epoch 4/10\n",
      "32/32 [==============================] - 251s 8s/step - loss: 0.1688 - accuracy: 0.9437 - val_loss: 0.1543 - val_accuracy: 0.9480\n",
      "Epoch 5/10\n",
      "32/32 [==============================] - 250s 8s/step - loss: 0.1286 - accuracy: 0.9464 - val_loss: 0.0866 - val_accuracy: 0.9479\n",
      "Epoch 6/10\n",
      "32/32 [==============================] - 251s 8s/step - loss: 0.0607 - accuracy: 0.9463 - val_loss: 0.0477 - val_accuracy: 0.9481\n",
      "Epoch 7/10\n",
      "32/32 [==============================] - 249s 8s/step - loss: 0.0392 - accuracy: 0.9865 - val_loss: 0.0356 - val_accuracy: 0.9963\n",
      "Epoch 8/10\n",
      "32/32 [==============================] - 251s 8s/step - loss: 0.0217 - accuracy: 0.9991 - val_loss: 0.0164 - val_accuracy: 0.9985\n",
      "Epoch 9/10\n",
      "32/32 [==============================] - 254s 8s/step - loss: 0.0044 - accuracy: 0.9998 - val_loss: 0.0077 - val_accuracy: 0.9987\n",
      "Epoch 10/10\n",
      "32/32 [==============================] - 249s 8s/step - loss: 5.7047e-04 - accuracy: 1.0000 - val_loss: 0.0065 - val_accuracy: 0.9989\n",
      "1/1 [==============================] - 2s 2s/step - loss: 6.3232e-09 - accuracy: 1.0000\n"
     ]
    },
    {
     "name": "stderr",
     "output_type": "stream",
     "text": [
      " 42%|████▏     | 10/24 [7:22:21<10:13:52, 2630.86s/it]"
     ]
    },
    {
     "name": "stdout",
     "output_type": "stream",
     "text": [
      "Epoch 1/10\n",
      "31/31 [==============================] - 236s 8s/step - loss: 0.6688 - accuracy: 0.6071 - val_loss: 0.6472 - val_accuracy: 0.6189\n",
      "Epoch 2/10\n",
      "31/31 [==============================] - 238s 8s/step - loss: 0.4597 - accuracy: 0.7718 - val_loss: 0.2766 - val_accuracy: 0.9701\n",
      "Epoch 3/10\n",
      "31/31 [==============================] - 237s 8s/step - loss: 0.1316 - accuracy: 0.9888 - val_loss: 0.0182 - val_accuracy: 0.9941\n",
      "Epoch 4/10\n",
      "31/31 [==============================] - 237s 8s/step - loss: 0.0329 - accuracy: 0.9889 - val_loss: 0.0190 - val_accuracy: 0.9953\n",
      "Epoch 5/10\n",
      "31/31 [==============================] - 234s 8s/step - loss: 0.0104 - accuracy: 0.9968 - val_loss: 0.0108 - val_accuracy: 0.9971\n",
      "Epoch 6/10\n",
      "31/31 [==============================] - 248s 8s/step - loss: 0.0025 - accuracy: 0.9993 - val_loss: 0.0128 - val_accuracy: 0.9971\n",
      "Epoch 7/10\n",
      "31/31 [==============================] - 247s 8s/step - loss: 9.1491e-04 - accuracy: 0.9998 - val_loss: 0.0083 - val_accuracy: 0.9982\n",
      "Epoch 8/10\n",
      "31/31 [==============================] - 244s 8s/step - loss: 0.0011 - accuracy: 0.9997 - val_loss: 0.0099 - val_accuracy: 0.9982\n",
      "Epoch 9/10\n",
      "31/31 [==============================] - 235s 8s/step - loss: 6.8221e-04 - accuracy: 0.9999 - val_loss: 0.0086 - val_accuracy: 0.9982\n",
      "Epoch 10/10\n",
      "31/31 [==============================] - 234s 8s/step - loss: 5.2022e-04 - accuracy: 1.0000 - val_loss: 0.0094 - val_accuracy: 0.9980\n",
      "2/2 [==============================] - 6s 4s/step - loss: 15.6298 - accuracy: 0.0000e+00\n"
     ]
    },
    {
     "name": "stderr",
     "output_type": "stream",
     "text": [
      " 46%|████▌     | 11/24 [8:02:56<9:17:17, 2572.09s/it] "
     ]
    },
    {
     "name": "stdout",
     "output_type": "stream",
     "text": [
      "Epoch 1/10\n",
      "32/32 [==============================] - 247s 8s/step - loss: 0.6746 - accuracy: 0.5966 - val_loss: 0.6631 - val_accuracy: 0.6068\n",
      "Epoch 2/10\n",
      "32/32 [==============================] - 247s 8s/step - loss: 0.5549 - accuracy: 0.6857 - val_loss: 0.3236 - val_accuracy: 0.9265\n",
      "Epoch 3/10\n",
      "32/32 [==============================] - 248s 8s/step - loss: 0.2427 - accuracy: 0.9270 - val_loss: 0.1780 - val_accuracy: 0.9417\n",
      "Epoch 4/10\n",
      "32/32 [==============================] - 251s 8s/step - loss: 0.1708 - accuracy: 0.9440 - val_loss: 0.1666 - val_accuracy: 0.9460\n",
      "Epoch 5/10\n",
      "32/32 [==============================] - 245s 8s/step - loss: 0.1672 - accuracy: 0.9452 - val_loss: 0.1630 - val_accuracy: 0.9475\n",
      "Epoch 6/10\n",
      "32/32 [==============================] - 246s 8s/step - loss: 0.1644 - accuracy: 0.9452 - val_loss: 0.1587 - val_accuracy: 0.9467\n",
      "Epoch 7/10\n",
      "32/32 [==============================] - 246s 8s/step - loss: 0.1385 - accuracy: 0.9452 - val_loss: 0.0932 - val_accuracy: 0.9464\n",
      "Epoch 8/10\n",
      "32/32 [==============================] - 247s 8s/step - loss: 0.0548 - accuracy: 0.9699 - val_loss: 0.0385 - val_accuracy: 0.9938\n",
      "Epoch 9/10\n",
      "32/32 [==============================] - 271s 8s/step - loss: 0.0180 - accuracy: 0.9968 - val_loss: 0.0119 - val_accuracy: 0.9978\n",
      "Epoch 10/10\n",
      "32/32 [==============================] - 256s 8s/step - loss: 0.0014 - accuracy: 0.9998 - val_loss: 0.0083 - val_accuracy: 0.9990\n",
      "1/1 [==============================] - 3s 3s/step - loss: 0.0265 - accuracy: 0.9883\n"
     ]
    },
    {
     "name": "stderr",
     "output_type": "stream",
     "text": [
      " 50%|█████     | 12/24 [8:44:56<8:31:21, 2556.75s/it]"
     ]
    },
    {
     "name": "stdout",
     "output_type": "stream",
     "text": [
      "Epoch 1/10\n",
      "32/32 [==============================] - 258s 8s/step - loss: 0.6858 - accuracy: 0.5539 - val_loss: 0.6692 - val_accuracy: 0.5465\n",
      "Epoch 2/10\n",
      "32/32 [==============================] - 260s 8s/step - loss: 0.4473 - accuracy: 0.8088 - val_loss: 0.2502 - val_accuracy: 0.9708\n",
      "Epoch 3/10\n",
      "32/32 [==============================] - 248s 8s/step - loss: 0.0603 - accuracy: 0.9928 - val_loss: 0.0129 - val_accuracy: 0.9965\n",
      "Epoch 4/10\n",
      "32/32 [==============================] - 243s 8s/step - loss: 0.3118 - accuracy: 0.9317 - val_loss: 0.0169 - val_accuracy: 0.9952\n",
      "Epoch 5/10\n",
      "32/32 [==============================] - 246s 8s/step - loss: 0.0182 - accuracy: 0.9939 - val_loss: 0.0115 - val_accuracy: 0.9972\n",
      "Epoch 6/10\n",
      "32/32 [==============================] - 253s 8s/step - loss: 0.0044 - accuracy: 0.9993 - val_loss: 0.0084 - val_accuracy: 0.9983\n",
      "Epoch 7/10\n",
      "32/32 [==============================] - 244s 8s/step - loss: 0.0029 - accuracy: 0.9995 - val_loss: 0.0071 - val_accuracy: 0.9988\n",
      "Epoch 8/10\n",
      "32/32 [==============================] - 248s 8s/step - loss: 0.0021 - accuracy: 0.9996 - val_loss: 0.0069 - val_accuracy: 0.9984\n",
      "Epoch 9/10\n",
      "32/32 [==============================] - 244s 8s/step - loss: 0.0015 - accuracy: 0.9997 - val_loss: 0.0061 - val_accuracy: 0.9988\n",
      "Epoch 10/10\n",
      "32/32 [==============================] - 244s 8s/step - loss: 0.0010 - accuracy: 0.9998 - val_loss: 0.0059 - val_accuracy: 0.9988\n",
      "2/2 [==============================] - 6s 3s/step - loss: 10.1831 - accuracy: 0.0000e+00\n"
     ]
    },
    {
     "name": "stderr",
     "output_type": "stream",
     "text": [
      " 54%|█████▍    | 13/24 [9:27:00<7:46:53, 2546.66s/it]"
     ]
    },
    {
     "name": "stdout",
     "output_type": "stream",
     "text": [
      "Epoch 1/10\n",
      "32/32 [==============================] - 243s 8s/step - loss: 0.6759 - accuracy: 0.5887 - val_loss: 0.6609 - val_accuracy: 0.6023\n",
      "Epoch 2/10\n",
      "32/32 [==============================] - 243s 8s/step - loss: 0.5229 - accuracy: 0.7220 - val_loss: 0.3161 - val_accuracy: 0.9233\n",
      "Epoch 3/10\n",
      "32/32 [==============================] - 244s 8s/step - loss: 0.2577 - accuracy: 0.9246 - val_loss: 0.1888 - val_accuracy: 0.9362\n",
      "Epoch 4/10\n",
      "32/32 [==============================] - 251s 8s/step - loss: 0.1731 - accuracy: 0.9438 - val_loss: 0.1766 - val_accuracy: 0.9408\n",
      "Epoch 5/10\n",
      "32/32 [==============================] - 264s 8s/step - loss: 0.1652 - accuracy: 0.9467 - val_loss: 0.1710 - val_accuracy: 0.9431\n",
      "Epoch 6/10\n",
      "32/32 [==============================] - 262s 8s/step - loss: 0.1631 - accuracy: 0.9472 - val_loss: 0.1695 - val_accuracy: 0.9427\n",
      "Epoch 7/10\n",
      "32/32 [==============================] - 248s 8s/step - loss: 0.1525 - accuracy: 0.9473 - val_loss: 0.1373 - val_accuracy: 0.9427\n",
      "Epoch 8/10\n",
      "32/32 [==============================] - 248s 8s/step - loss: 0.0720 - accuracy: 0.9602 - val_loss: 0.0360 - val_accuracy: 0.9974\n",
      "Epoch 9/10\n",
      "32/32 [==============================] - 249s 8s/step - loss: 0.0153 - accuracy: 0.9990 - val_loss: 0.0067 - val_accuracy: 0.9989\n",
      "Epoch 10/10\n",
      "32/32 [==============================] - 245s 8s/step - loss: 0.0028 - accuracy: 0.9995 - val_loss: 0.0054 - val_accuracy: 0.9990\n",
      "1/1 [==============================] - 2s 2s/step - loss: 0.7206 - accuracy: 0.8174\n"
     ]
    },
    {
     "name": "stderr",
     "output_type": "stream",
     "text": [
      " 58%|█████▊    | 14/24 [10:08:53<7:02:45, 2536.55s/it]"
     ]
    },
    {
     "name": "stdout",
     "output_type": "stream",
     "text": [
      "Epoch 1/10\n",
      "32/32 [==============================] - 244s 8s/step - loss: 0.6730 - accuracy: 0.5976 - val_loss: 0.6601 - val_accuracy: 0.6042\n",
      "Epoch 2/10\n",
      "32/32 [==============================] - 244s 8s/step - loss: 0.5200 - accuracy: 0.7234 - val_loss: 0.3542 - val_accuracy: 0.8636\n",
      "Epoch 3/10\n",
      "32/32 [==============================] - 247s 8s/step - loss: 0.2394 - accuracy: 0.9332 - val_loss: 0.1842 - val_accuracy: 0.9399\n",
      "Epoch 4/10\n",
      "32/32 [==============================] - 243s 8s/step - loss: 0.1684 - accuracy: 0.9453 - val_loss: 0.1739 - val_accuracy: 0.9429\n",
      "Epoch 5/10\n",
      "32/32 [==============================] - 243s 8s/step - loss: 0.1599 - accuracy: 0.9466 - val_loss: 0.1592 - val_accuracy: 0.9423\n",
      "Epoch 6/10\n",
      "32/32 [==============================] - 248s 8s/step - loss: 0.0963 - accuracy: 0.9524 - val_loss: 0.0502 - val_accuracy: 0.9901\n",
      "Epoch 7/10\n",
      "32/32 [==============================] - 243s 8s/step - loss: 0.0227 - accuracy: 0.9934 - val_loss: 0.0131 - val_accuracy: 0.9967\n",
      "Epoch 8/10\n",
      "32/32 [==============================] - 250s 8s/step - loss: 0.0029 - accuracy: 0.9995 - val_loss: 0.0048 - val_accuracy: 0.9988\n",
      "Epoch 9/10\n",
      "32/32 [==============================] - 257s 8s/step - loss: 0.0010 - accuracy: 0.9998 - val_loss: 0.0087 - val_accuracy: 0.9979\n",
      "Epoch 10/10\n",
      "32/32 [==============================] - 259s 8s/step - loss: 1.3430e-04 - accuracy: 1.0000 - val_loss: 0.0048 - val_accuracy: 0.9993\n",
      "1/1 [==============================] - 3s 3s/step - loss: 0.0107 - accuracy: 0.9990\n"
     ]
    },
    {
     "name": "stderr",
     "output_type": "stream",
     "text": [
      " 62%|██████▎   | 15/24 [10:50:26<6:18:33, 2523.70s/it]"
     ]
    },
    {
     "name": "stdout",
     "output_type": "stream",
     "text": [
      "Epoch 1/10\n",
      "31/31 [==============================] - 238s 8s/step - loss: 0.6701 - accuracy: 0.6043 - val_loss: 0.6568 - val_accuracy: 0.6182\n",
      "Epoch 2/10\n",
      "31/31 [==============================] - 234s 8s/step - loss: 0.5486 - accuracy: 0.6889 - val_loss: 0.3284 - val_accuracy: 0.9120\n",
      "Epoch 3/10\n",
      "31/31 [==============================] - 234s 8s/step - loss: 0.2531 - accuracy: 0.9346 - val_loss: 0.1698 - val_accuracy: 0.9457\n",
      "Epoch 4/10\n",
      "31/31 [==============================] - 233s 7s/step - loss: 0.1700 - accuracy: 0.9440 - val_loss: 0.1634 - val_accuracy: 0.9456\n",
      "Epoch 5/10\n",
      "31/31 [==============================] - 272s 9s/step - loss: 0.1461 - accuracy: 0.9447 - val_loss: 0.1097 - val_accuracy: 0.9449\n",
      "Epoch 6/10\n",
      "31/31 [==============================] - 236s 8s/step - loss: 0.1460 - accuracy: 0.9195 - val_loss: 0.0707 - val_accuracy: 0.9421\n",
      "Epoch 7/10\n",
      "31/31 [==============================] - 233s 8s/step - loss: 0.0527 - accuracy: 0.9820 - val_loss: 0.0407 - val_accuracy: 0.9888\n",
      "Epoch 8/10\n",
      "31/31 [==============================] - 231s 7s/step - loss: 0.0239 - accuracy: 0.9951 - val_loss: 0.0242 - val_accuracy: 0.9926\n",
      "Epoch 9/10\n",
      "31/31 [==============================] - 231s 7s/step - loss: 0.0112 - accuracy: 0.9974 - val_loss: 0.0149 - val_accuracy: 0.9965\n",
      "Epoch 10/10\n",
      "31/31 [==============================] - 229s 7s/step - loss: 0.0046 - accuracy: 0.9990 - val_loss: 0.0109 - val_accuracy: 0.9972\n",
      "2/2 [==============================] - 6s 4s/step - loss: 0.0038 - accuracy: 0.9995\n"
     ]
    },
    {
     "name": "stderr",
     "output_type": "stream",
     "text": [
      " 67%|██████▋   | 16/24 [11:30:18<5:31:12, 2484.05s/it]"
     ]
    },
    {
     "name": "stdout",
     "output_type": "stream",
     "text": [
      "Epoch 1/10\n",
      "31/31 [==============================] - 231s 7s/step - loss: 0.6885 - accuracy: 0.5422 - val_loss: 0.6758 - val_accuracy: 0.5488\n",
      "Epoch 2/10\n",
      "31/31 [==============================] - 228s 7s/step - loss: 0.5241 - accuracy: 0.7388 - val_loss: 0.3357 - val_accuracy: 0.8902\n",
      "Epoch 3/10\n",
      "31/31 [==============================] - 228s 7s/step - loss: 0.2572 - accuracy: 0.9140 - val_loss: 0.1816 - val_accuracy: 0.9439\n",
      "Epoch 4/10\n",
      "31/31 [==============================] - 244s 8s/step - loss: 0.1812 - accuracy: 0.9424 - val_loss: 0.1736 - val_accuracy: 0.9459\n",
      "Epoch 5/10\n",
      "31/31 [==============================] - 243s 8s/step - loss: 0.1762 - accuracy: 0.9435 - val_loss: 0.1697 - val_accuracy: 0.9464\n",
      "Epoch 6/10\n",
      "31/31 [==============================] - 238s 8s/step - loss: 0.1650 - accuracy: 0.9440 - val_loss: 0.1429 - val_accuracy: 0.9463\n",
      "Epoch 7/10\n",
      "31/31 [==============================] - 270s 9s/step - loss: 0.0974 - accuracy: 0.9437 - val_loss: 0.0541 - val_accuracy: 0.9844\n",
      "Epoch 8/10\n",
      "31/31 [==============================] - 230s 7s/step - loss: 0.0279 - accuracy: 0.9934 - val_loss: 0.0159 - val_accuracy: 0.9967\n",
      "Epoch 9/10\n",
      "31/31 [==============================] - 230s 7s/step - loss: 0.0033 - accuracy: 0.9991 - val_loss: 0.0092 - val_accuracy: 0.9990\n",
      "Epoch 10/10\n",
      "31/31 [==============================] - 231s 7s/step - loss: 3.1754e-04 - accuracy: 1.0000 - val_loss: 0.0106 - val_accuracy: 0.9989\n",
      "2/2 [==============================] - 7s 5s/step - loss: 6.1449 - accuracy: 0.0459\n"
     ]
    },
    {
     "name": "stderr",
     "output_type": "stream",
     "text": [
      " 71%|███████   | 17/24 [12:10:13<4:46:41, 2457.34s/it]"
     ]
    },
    {
     "name": "stdout",
     "output_type": "stream",
     "text": [
      "Epoch 1/10\n",
      "33/33 [==============================] - 250s 8s/step - loss: 0.6837 - accuracy: 0.5688 - val_loss: 0.6731 - val_accuracy: 0.5697\n",
      "Epoch 2/10\n",
      "33/33 [==============================] - 252s 8s/step - loss: 0.5061 - accuracy: 0.7504 - val_loss: 0.2837 - val_accuracy: 0.9371\n",
      "Epoch 3/10\n",
      "33/33 [==============================] - 250s 8s/step - loss: 0.1954 - accuracy: 0.9413 - val_loss: 0.1680 - val_accuracy: 0.9471\n",
      "Epoch 4/10\n",
      "33/33 [==============================] - 251s 8s/step - loss: 0.1573 - accuracy: 0.9465 - val_loss: 0.1301 - val_accuracy: 0.9475\n",
      "Epoch 5/10\n",
      "33/33 [==============================] - 260s 8s/step - loss: 0.0773 - accuracy: 0.9542 - val_loss: 0.0456 - val_accuracy: 0.9916\n",
      "Epoch 6/10\n",
      "33/33 [==============================] - 258s 8s/step - loss: 0.0272 - accuracy: 0.9960 - val_loss: 0.0166 - val_accuracy: 0.9974\n",
      "Epoch 7/10\n",
      "33/33 [==============================] - 253s 8s/step - loss: 0.0039 - accuracy: 0.9994 - val_loss: 0.0083 - val_accuracy: 0.9985\n",
      "Epoch 8/10\n",
      "33/33 [==============================] - 260s 8s/step - loss: 4.0188e-04 - accuracy: 1.0000 - val_loss: 0.0056 - val_accuracy: 0.9989\n",
      "Epoch 9/10\n",
      "33/33 [==============================] - 264s 8s/step - loss: 1.1749e-04 - accuracy: 1.0000 - val_loss: 0.0058 - val_accuracy: 0.9988\n",
      "Epoch 10/10\n",
      "33/33 [==============================] - 269s 8s/step - loss: 5.6081e-05 - accuracy: 1.0000 - val_loss: 0.0063 - val_accuracy: 0.9988\n",
      "1/1 [==============================] - 2s 2s/step - loss: 2.3024 - accuracy: 0.8086\n"
     ]
    },
    {
     "name": "stderr",
     "output_type": "stream",
     "text": [
      " 75%|███████▌  | 18/24 [12:53:14<4:09:26, 2494.41s/it]"
     ]
    },
    {
     "name": "stdout",
     "output_type": "stream",
     "text": [
      "Epoch 1/10\n",
      "32/32 [==============================] - 250s 8s/step - loss: 0.6850 - accuracy: 0.5644 - val_loss: 0.6763 - val_accuracy: 0.5615\n",
      "Epoch 2/10\n",
      "32/32 [==============================] - 249s 8s/step - loss: 0.5047 - accuracy: 0.7477 - val_loss: 0.2770 - val_accuracy: 0.9270\n",
      "Epoch 3/10\n",
      "32/32 [==============================] - 252s 8s/step - loss: 0.2121 - accuracy: 0.9327 - val_loss: 0.2062 - val_accuracy: 0.9296\n",
      "Epoch 4/10\n",
      "32/32 [==============================] - 251s 8s/step - loss: 0.1690 - accuracy: 0.9460 - val_loss: 0.1797 - val_accuracy: 0.9401\n",
      "Epoch 5/10\n",
      "32/32 [==============================] - 250s 8s/step - loss: 0.1554 - accuracy: 0.9476 - val_loss: 0.1533 - val_accuracy: 0.9407\n",
      "Epoch 6/10\n",
      "32/32 [==============================] - 283s 9s/step - loss: 0.0975 - accuracy: 0.9499 - val_loss: 0.0576 - val_accuracy: 0.9835\n",
      "Epoch 7/10\n",
      "32/32 [==============================] - 250s 8s/step - loss: 0.0305 - accuracy: 0.9923 - val_loss: 0.0167 - val_accuracy: 0.9954\n",
      "Epoch 8/10\n",
      "32/32 [==============================] - 278s 9s/step - loss: 0.0063 - accuracy: 0.9982 - val_loss: 0.0053 - val_accuracy: 0.9987\n",
      "Epoch 9/10\n",
      "32/32 [==============================] - 247s 8s/step - loss: 7.8354e-04 - accuracy: 0.9999 - val_loss: 0.0041 - val_accuracy: 0.9985\n",
      "Epoch 10/10\n",
      "32/32 [==============================] - 245s 8s/step - loss: 3.4183e-04 - accuracy: 1.0000 - val_loss: 0.0040 - val_accuracy: 0.9988\n",
      "1/1 [==============================] - 2s 2s/step - loss: 1.1815e-07 - accuracy: 1.0000\n"
     ]
    },
    {
     "name": "stderr",
     "output_type": "stream",
     "text": [
      " 79%|███████▉  | 19/24 [13:36:02<3:29:43, 2516.71s/it]"
     ]
    },
    {
     "name": "stdout",
     "output_type": "stream",
     "text": [
      "Epoch 1/10\n",
      "33/33 [==============================] - 254s 8s/step - loss: 0.6835 - accuracy: 0.5637 - val_loss: 0.6702 - val_accuracy: 0.5698\n",
      "Epoch 2/10\n",
      "33/33 [==============================] - 261s 8s/step - loss: 0.4960 - accuracy: 0.7594 - val_loss: 0.2874 - val_accuracy: 0.9359\n",
      "Epoch 3/10\n",
      "33/33 [==============================] - 269s 8s/step - loss: 0.2220 - accuracy: 0.9339 - val_loss: 0.1839 - val_accuracy: 0.9399\n",
      "Epoch 4/10\n",
      "33/33 [==============================] - 270s 8s/step - loss: 0.1687 - accuracy: 0.9460 - val_loss: 0.1655 - val_accuracy: 0.9465\n",
      "Epoch 5/10\n",
      "33/33 [==============================] - 254s 8s/step - loss: 0.1543 - accuracy: 0.9474 - val_loss: 0.1364 - val_accuracy: 0.9470\n",
      "Epoch 6/10\n",
      "33/33 [==============================] - 252s 8s/step - loss: 0.0890 - accuracy: 0.9541 - val_loss: 0.0497 - val_accuracy: 0.9868\n",
      "Epoch 7/10\n",
      "33/33 [==============================] - 251s 8s/step - loss: 0.0325 - accuracy: 0.9931 - val_loss: 0.0187 - val_accuracy: 0.9957\n",
      "Epoch 8/10\n",
      "33/33 [==============================] - 253s 8s/step - loss: 0.0083 - accuracy: 0.9984 - val_loss: 0.0129 - val_accuracy: 0.9965\n",
      "Epoch 9/10\n",
      "33/33 [==============================] - 256s 8s/step - loss: 0.0024 - accuracy: 0.9995 - val_loss: 0.0043 - val_accuracy: 0.9985\n",
      "Epoch 10/10\n",
      "33/33 [==============================] - 258s 8s/step - loss: 6.3030e-04 - accuracy: 0.9999 - val_loss: 0.0043 - val_accuracy: 0.9988\n",
      "1/1 [==============================] - 2s 2s/step - loss: 1.2590 - accuracy: 0.8438\n"
     ]
    },
    {
     "name": "stderr",
     "output_type": "stream",
     "text": [
      " 83%|████████▎ | 20/24 [14:19:14<2:49:16, 2539.11s/it]"
     ]
    },
    {
     "name": "stdout",
     "output_type": "stream",
     "text": [
      "Epoch 1/10\n",
      "33/33 [==============================] - 280s 8s/step - loss: 0.6815 - accuracy: 0.5694 - val_loss: 0.6607 - val_accuracy: 0.5720\n",
      "Epoch 2/10\n",
      "33/33 [==============================] - 254s 8s/step - loss: 0.4737 - accuracy: 0.7883 - val_loss: 0.2854 - val_accuracy: 0.9316\n",
      "Epoch 3/10\n",
      "33/33 [==============================] - 256s 8s/step - loss: 0.2031 - accuracy: 0.9413 - val_loss: 0.1862 - val_accuracy: 0.9418\n",
      "Epoch 4/10\n",
      "33/33 [==============================] - 262s 8s/step - loss: 0.1673 - accuracy: 0.9474 - val_loss: 0.1805 - val_accuracy: 0.9414\n",
      "Epoch 5/10\n",
      "33/33 [==============================] - 266s 8s/step - loss: 0.1566 - accuracy: 0.9482 - val_loss: 0.1564 - val_accuracy: 0.9421\n",
      "Epoch 6/10\n",
      "33/33 [==============================] - 283s 9s/step - loss: 0.0946 - accuracy: 0.9496 - val_loss: 0.0568 - val_accuracy: 0.9871\n",
      "Epoch 7/10\n",
      "33/33 [==============================] - 278s 8s/step - loss: 0.0293 - accuracy: 0.9939 - val_loss: 0.0222 - val_accuracy: 0.9952\n",
      "Epoch 8/10\n",
      "33/33 [==============================] - 276s 8s/step - loss: 0.7560 - accuracy: 0.9137 - val_loss: 2.0708 - val_accuracy: 0.5657\n",
      "Epoch 9/10\n",
      "33/33 [==============================] - 264s 8s/step - loss: 0.9285 - accuracy: 0.5692 - val_loss: 0.6857 - val_accuracy: 0.5702\n",
      "Epoch 10/10\n",
      "33/33 [==============================] - 264s 8s/step - loss: 0.6853 - accuracy: 0.5694 - val_loss: 0.6844 - val_accuracy: 0.5676\n",
      "1/1 [==============================] - 2s 2s/step - loss: -106571298393554944.0000 - accuracy: 0.5732\n"
     ]
    },
    {
     "name": "stderr",
     "output_type": "stream",
     "text": [
      " 88%|████████▊ | 21/24 [15:04:14<2:09:21, 2587.28s/it]"
     ]
    },
    {
     "name": "stdout",
     "output_type": "stream",
     "text": [
      "Epoch 1/10\n",
      "32/32 [==============================] - 253s 8s/step - loss: 0.6837 - accuracy: 0.5620 - val_loss: 0.6767 - val_accuracy: 0.5593\n",
      "Epoch 2/10\n",
      "32/32 [==============================] - 253s 8s/step - loss: 0.5226 - accuracy: 0.7373 - val_loss: 0.3101 - val_accuracy: 0.9314\n",
      "Epoch 3/10\n",
      "32/32 [==============================] - 250s 8s/step - loss: 0.2195 - accuracy: 0.9358 - val_loss: 0.1882 - val_accuracy: 0.9388\n",
      "Epoch 4/10\n",
      "32/32 [==============================] - 250s 8s/step - loss: 0.1740 - accuracy: 0.9444 - val_loss: 0.1674 - val_accuracy: 0.9469\n",
      "Epoch 5/10\n",
      "32/32 [==============================] - 254s 8s/step - loss: 0.1649 - accuracy: 0.9464 - val_loss: 0.1601 - val_accuracy: 0.9464\n",
      "Epoch 6/10\n",
      "32/32 [==============================] - 256s 8s/step - loss: 0.1320 - accuracy: 0.9468 - val_loss: 0.0933 - val_accuracy: 0.9457\n",
      "Epoch 7/10\n",
      "32/32 [==============================] - 258s 8s/step - loss: 0.0595 - accuracy: 0.9569 - val_loss: 0.0460 - val_accuracy: 0.9918\n",
      "Epoch 8/10\n",
      "32/32 [==============================] - 265s 8s/step - loss: 0.0265 - accuracy: 0.9953 - val_loss: 0.0124 - val_accuracy: 0.9963\n",
      "Epoch 9/10\n",
      "32/32 [==============================] - 268s 8s/step - loss: 0.0025 - accuracy: 0.9995 - val_loss: 0.0067 - val_accuracy: 0.9985\n",
      "Epoch 10/10\n",
      "32/32 [==============================] - 269s 8s/step - loss: 4.5712e-04 - accuracy: 0.9999 - val_loss: 0.0049 - val_accuracy: 0.9988\n",
      "1/1 [==============================] - 2s 2s/step - loss: 1.1971e-04 - accuracy: 1.0000\n"
     ]
    },
    {
     "name": "stderr",
     "output_type": "stream",
     "text": [
      " 92%|█████████▏| 22/24 [15:47:25<1:26:16, 2588.47s/it]"
     ]
    },
    {
     "name": "stdout",
     "output_type": "stream",
     "text": [
      "Epoch 1/10\n",
      "31/31 [==============================] - 249s 8s/step - loss: 0.6885 - accuracy: 0.5425 - val_loss: 0.6768 - val_accuracy: 0.5516\n",
      "Epoch 2/10\n",
      "31/31 [==============================] - 246s 8s/step - loss: 0.5078 - accuracy: 0.7498 - val_loss: 0.3319 - val_accuracy: 0.9314\n",
      "Epoch 3/10\n",
      "31/31 [==============================] - 236s 8s/step - loss: 0.2265 - accuracy: 0.9412 - val_loss: 0.1980 - val_accuracy: 0.9371\n",
      "Epoch 4/10\n",
      "31/31 [==============================] - 278s 9s/step - loss: 0.1747 - accuracy: 0.9451 - val_loss: 0.1909 - val_accuracy: 0.9361\n",
      "Epoch 5/10\n",
      "31/31 [==============================] - 236s 8s/step - loss: 0.1626 - accuracy: 0.9451 - val_loss: 0.1513 - val_accuracy: 0.9382\n",
      "Epoch 6/10\n",
      "31/31 [==============================] - 234s 8s/step - loss: 0.0945 - accuracy: 0.9452 - val_loss: 0.0695 - val_accuracy: 0.9408\n",
      "Epoch 7/10\n",
      "31/31 [==============================] - 247s 8s/step - loss: 0.0408 - accuracy: 0.9705 - val_loss: 0.0172 - val_accuracy: 0.9957\n",
      "Epoch 8/10\n",
      "31/31 [==============================] - 242s 8s/step - loss: 0.0048 - accuracy: 0.9987 - val_loss: 0.0233 - val_accuracy: 0.9914\n",
      "Epoch 9/10\n",
      "31/31 [==============================] - 248s 8s/step - loss: 0.0031 - accuracy: 0.9990 - val_loss: 0.0068 - val_accuracy: 0.9985\n",
      "Epoch 10/10\n",
      "31/31 [==============================] - 232s 7s/step - loss: 7.4353e-05 - accuracy: 1.0000 - val_loss: 0.0061 - val_accuracy: 0.9986\n",
      "2/2 [==============================] - 7s 4s/step - loss: 0.0368 - accuracy: 0.9893\n"
     ]
    },
    {
     "name": "stderr",
     "output_type": "stream",
     "text": [
      " 96%|█████████▌| 23/24 [16:28:32<42:32, 2552.17s/it]  "
     ]
    },
    {
     "name": "stdout",
     "output_type": "stream",
     "text": [
      "Epoch 1/10\n",
      "32/32 [==============================] - 236s 7s/step - loss: 0.6859 - accuracy: 0.5556 - val_loss: 0.6761 - val_accuracy: 0.5631\n",
      "Epoch 2/10\n",
      "32/32 [==============================] - 239s 7s/step - loss: 0.5344 - accuracy: 0.7289 - val_loss: 0.3591 - val_accuracy: 0.9285\n",
      "Epoch 3/10\n",
      "32/32 [==============================] - 244s 8s/step - loss: 0.2466 - accuracy: 0.9352 - val_loss: 0.1854 - val_accuracy: 0.9435\n",
      "Epoch 4/10\n",
      "32/32 [==============================] - 246s 8s/step - loss: 0.1733 - accuracy: 0.9457 - val_loss: 0.1761 - val_accuracy: 0.9443\n",
      "Epoch 5/10\n",
      "32/32 [==============================] - 251s 8s/step - loss: 0.1661 - accuracy: 0.9465 - val_loss: 0.1675 - val_accuracy: 0.9437\n",
      "Epoch 6/10\n",
      "32/32 [==============================] - 255s 8s/step - loss: 0.1261 - accuracy: 0.9466 - val_loss: 0.0755 - val_accuracy: 0.9443\n",
      "Epoch 7/10\n",
      "32/32 [==============================] - 247s 8s/step - loss: 0.0415 - accuracy: 0.9778 - val_loss: 0.0248 - val_accuracy: 0.9940\n",
      "Epoch 8/10\n",
      "32/32 [==============================] - 246s 8s/step - loss: 0.0074 - accuracy: 0.9978 - val_loss: 0.0091 - val_accuracy: 0.9983\n",
      "Epoch 9/10\n",
      "32/32 [==============================] - 250s 8s/step - loss: 7.7821e-04 - accuracy: 0.9999 - val_loss: 0.0059 - val_accuracy: 0.9990\n",
      "Epoch 10/10\n",
      "32/32 [==============================] - 250s 8s/step - loss: 1.9372e-04 - accuracy: 1.0000 - val_loss: 0.0062 - val_accuracy: 0.9989\n",
      "1/1 [==============================] - 2s 2s/step - loss: 2.0727e-11 - accuracy: 1.0000\n"
     ]
    },
    {
     "name": "stderr",
     "output_type": "stream",
     "text": [
      "100%|██████████| 24/24 [17:09:52<00:00, 2530.43s/it]\n"
     ]
    }
   ],
   "source": [
    "#\n",
    "now = datetime.now()\n",
    "#\n",
    "with open(f\"/sise/assafzar-group/assafzar/Leor/log {now.strftime('%d-%m-%Y-%H-%M-%S')}.txt\", \"w\") as file:\n",
    "  #\n",
    "  for exclude_sample in tqdm(meta_data.file_name.unique()):\n",
    "    #\n",
    "    gc.collect()\n",
    "    # \n",
    "    meta_data_train, meta_data_val = train_test_split(\n",
    "      meta_data[meta_data.file_name != exclude_sample], test_size=0.2)\n",
    "    # \n",
    "    meta_data_test = meta_data[meta_data.file_name == exclude_sample]\n",
    "\n",
    "    # Parameters\n",
    "    params = {\"dim\": (92000,), \"batch_size\": 1024,\n",
    "              \"shuffle\": True, \"parsers\": parsers}\n",
    "\n",
    "    # Generators\n",
    "    training_generator = DataGenerator(meta_data_train, **params)\n",
    "    validation_generator = DataGenerator(meta_data_val, **params)\n",
    "    testing_generator = DataGenerator(meta_data_test, **params)\n",
    "\n",
    "    #\n",
    "    model = keras.Sequential(\n",
    "        [\n",
    "          keras.Input(shape=(92000,)),\n",
    "          layers.Dense(512, activation='relu'),\n",
    "          layers.Dense(512, activation='relu'),\n",
    "          layers.Dense(256, activation='relu'),\n",
    "          layers.Dense(256, activation='relu'),\n",
    "          layers.Dense(128, activation='relu'),\n",
    "          layers.Dense(1, activation='sigmoid')\n",
    "        ]\n",
    "    )\n",
    "    # \n",
    "    model.compile(optimizer='adam', loss='binary_crossentropy', metrics=['accuracy'])\n",
    "    # \n",
    "    history = model.fit(x=training_generator, validation_data=validation_generator, epochs=10)\n",
    "    # \n",
    "    test_eval = model.evaluate(testing_generator)\n",
    "    \n",
    "    #\n",
    "    file.write(f\"Excluded: {exclude_sample}\\n\")\n",
    "    file.write(f\"Train loss: {history.history['loss']}\\n\")\n",
    "    file.write(f\"Train accuracy: {history.history['accuracy']}\\n\")\n",
    "    file.write(f\"Validation loss: {history.history['val_loss']}\\n\")\n",
    "    file.write(f\"Validation accuracy: {history.history['val_accuracy']}\\n\")\n",
    "    file.write(f\"Test loss: {test_eval[0]}\\n\")\n",
    "    file.write(f\"Test accuracy: {test_eval[1]}\\n\\n\")"
   ]
  },
  {
   "cell_type": "code",
   "execution_count": 14,
   "id": "9a464310-3e92-4a88-86be-61ac26eb903d",
   "metadata": {},
   "outputs": [
    {
     "name": "stderr",
     "output_type": "stream",
     "text": [
      "100%|██████████| 24/24 [00:00<00:00, 26262.27it/s]\n"
     ]
    }
   ],
   "source": [
    "output = []\n",
    "\n",
    "with open(f\"/sise/assafzar-group/assafzar/Leor/log {now.strftime('%d-%m-%Y-%H-%M-%S')}.txt\", \"r\") as file:\n",
    "  for _ in tqdm(meta_data.file_name.unique()):\n",
    "    exclude_sample = file.readline().replace(\"Excluded: \", \"\").replace(\"\\n\",\"\")\n",
    "    train_loss = list(file.readline().replace(\"Train loss: \", \"\").replace(\"[\", \"\").replace(\"]\", \"\").replace(\"\\n\",\"\").split(\",\"))[-1]\n",
    "    train_accuracy = list(file.readline().replace(\"Train accuracy: \", \"\").replace(\"[\", \"\").replace(\"]\", \"\").replace(\"\\n\",\"\").split(\",\"))[-1]\n",
    "    val_loss = list(file.readline().replace(\"Validation  loss: \", \"\").replace(\"[\", \"\").replace(\"]\", \"\").replace(\"\\n\",\"\").split(\",\"))[-1]\n",
    "    val_accuracy = list(file.readline().replace(\"Validation accuracy: \", \"\").replace(\"[\", \"\").replace(\"]\", \"\").replace(\"\\n\",\"\").split(\",\"))[-1]\n",
    "    test_loss = file.readline().replace(\"Test loss: \", \"\").replace(\"\\n\",\"\")\n",
    "    test_accuracy = file.readline().replace(\"Test accuracy: \", \"\").replace(\"\\n\",\"\")\n",
    "    _ = file.readline()\n",
    "    output.append([exclude_sample, float(train_loss), float(train_accuracy), float(val_loss), float(val_accuracy), float(test_loss), float(test_accuracy)])\n",
    "    \n",
    "new_df = pd.DataFrame(columns=[\"exclude_sample\", \"train_loss\", \"train_accuracy\", \"val_loss\", \"val_accuracy\", \"test_loss\", \"test_accuracy\"], data=output)"
   ]
  },
  {
   "cell_type": "code",
   "execution_count": 15,
   "id": "353d6e83-155b-4c2e-895c-3f099502c1d1",
   "metadata": {},
   "outputs": [
    {
     "data": {
      "text/plain": [
       "train_accuracy    98.109323\n",
       "val_accuracy      98.044840\n",
       "test_accuracy     74.058024\n",
       "dtype: float64"
      ]
     },
     "execution_count": 15,
     "metadata": {},
     "output_type": "execute_result"
    }
   ],
   "source": [
    "new_df[[\"train_accuracy\", \"val_accuracy\", \"test_accuracy\"]].mean() * 100"
   ]
  },
  {
   "cell_type": "code",
   "execution_count": 17,
   "id": "1f08be5b-523e-408c-baa4-b8e52924c6b5",
   "metadata": {},
   "outputs": [
    {
     "data": {
      "text/plain": [
       "train_accuracy    1.791221\n",
       "val_accuracy      1.795072\n",
       "test_accuracy     7.973695\n",
       "dtype: float64"
      ]
     },
     "execution_count": 17,
     "metadata": {},
     "output_type": "execute_result"
    }
   ],
   "source": [
    "new_df[[\"train_accuracy\", \"val_accuracy\", \"test_accuracy\"]].sem() * 100"
   ]
  },
  {
   "cell_type": "code",
   "execution_count": 18,
   "id": "50ef3d3a-cd06-4127-851d-ea897b3e5e28",
   "metadata": {},
   "outputs": [
    {
     "name": "stderr",
     "output_type": "stream",
     "text": [
      "100%|██████████| 24/24 [00:06<00:00,  3.51it/s]\n"
     ]
    }
   ],
   "source": [
    "from sklearn.dummy import DummyClassifier\n",
    "\n",
    "output2 = []\n",
    "\n",
    "for exclude_sample in tqdm(meta_data.file_name.unique()):\n",
    "    #\n",
    "    gc.collect()\n",
    "    # \n",
    "    meta_data_train, meta_data_val = train_test_split(\n",
    "      meta_data[meta_data.file_name != exclude_sample], test_size=0.2)\n",
    "    # \n",
    "    meta_data_test = meta_data[meta_data.file_name == exclude_sample]\n",
    "    \n",
    "    #\n",
    "    X_train = meta_data_train.drop([\"label\", \"histology\", \"who_grade\"], axis=1)\n",
    "    Y_train = meta_data_train[\"label\"]\n",
    "    \n",
    "    #\n",
    "    X_test = meta_data_test.drop([\"label\", \"histology\", \"who_grade\"], axis=1)\n",
    "    Y_test = meta_data_test[\"label\"]\n",
    "    \n",
    "    # \n",
    "    dummy_clf = DummyClassifier(strategy=\"most_frequent\")\n",
    "    \n",
    "    # \n",
    "    dummy_clf.fit(X_train, Y_train)\n",
    "    \n",
    "    #\n",
    "    output2.append([dummy_clf.score(X_train, Y_train), dummy_clf.score(X_test, Y_test)])"
   ]
  },
  {
   "cell_type": "code",
   "execution_count": 19,
   "id": "a4753229-151c-420f-8078-a7f603c051f4",
   "metadata": {},
   "outputs": [],
   "source": [
    "new_df_2 = pd.DataFrame(columns=[\"dummy_train_accuracy\", \"dummy_test_accuracy\"], data=output2)"
   ]
  },
  {
   "cell_type": "code",
   "execution_count": 20,
   "id": "745caa65-9efe-4b6b-8a8d-444b0db6a759",
   "metadata": {},
   "outputs": [
    {
     "data": {
      "text/plain": [
       "dummy_train_accuracy    57.55302\n",
       "dummy_test_accuracy     62.50000\n",
       "dtype: float64"
      ]
     },
     "execution_count": 20,
     "metadata": {},
     "output_type": "execute_result"
    }
   ],
   "source": [
    "new_df_2[[\"dummy_train_accuracy\", \"dummy_test_accuracy\"]].mean() * 100"
   ]
  },
  {
   "cell_type": "code",
   "execution_count": 21,
   "id": "018d98f8-c412-4306-a45a-9c03b9bb9abd",
   "metadata": {},
   "outputs": [
    {
     "data": {
      "text/plain": [
       "dummy_train_accuracy     0.488037\n",
       "dummy_test_accuracy     10.094661\n",
       "dtype: float64"
      ]
     },
     "execution_count": 21,
     "metadata": {},
     "output_type": "execute_result"
    }
   ],
   "source": [
    "new_df_2[[\"dummy_train_accuracy\", \"dummy_test_accuracy\"]].sem() * 100"
   ]
  }
 ],
 "metadata": {
  "kernelspec": {
   "display_name": "tf-gpu-jupyter",
   "language": "python",
   "name": "tf-gpu-jupyter"
  },
  "language_info": {
   "codemirror_mode": {
    "name": "ipython",
    "version": 3
   },
   "file_extension": ".py",
   "mimetype": "text/x-python",
   "name": "python",
   "nbconvert_exporter": "python",
   "pygments_lexer": "ipython3",
   "version": "3.9.12"
  }
 },
 "nbformat": 4,
 "nbformat_minor": 5
}
