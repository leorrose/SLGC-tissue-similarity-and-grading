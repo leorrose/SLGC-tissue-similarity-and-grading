{
 "cells": [
  {
   "cell_type": "markdown",
   "id": "dd1b4a0c-ea8e-49dd-bfca-165f027d16a7",
   "metadata": {},
   "source": [
    "# ***Dataset Preprocessing***\n",
    "\n",
    "This notebook shows the preprocessing of the dataset."
   ]
  },
  {
   "cell_type": "markdown",
   "id": "38d1dfa3-20c8-4f8a-b745-5259d5769518",
   "metadata": {},
   "source": [
    "### ***Import packages***\n",
    "\n",
    "Before we begin, let's import all the necessary packages for this notebook.\n",
    "First we add the directory which has our python files:"
   ]
  },
  {
   "cell_type": "code",
   "execution_count": 1,
   "id": "d4379386-f99b-4900-8a05-b5c23e878875",
   "metadata": {},
   "outputs": [],
   "source": [
    "import sys\n",
    "sys.path.insert(0, \"../..\")"
   ]
  },
  {
   "cell_type": "markdown",
   "id": "dd92a05a-8b1c-460d-ba0f-f0ed61a6b07c",
   "metadata": {},
   "source": [
    "Next we import all the necessary packages for this notebook:"
   ]
  },
  {
   "cell_type": "code",
   "execution_count": 2,
   "id": "861403b3-e294-4e80-b7bd-eb06029addd4",
   "metadata": {},
   "outputs": [],
   "source": [
    "import pandas as pd\n",
    "from os.path import join\n",
    "from pathlib import Path\n",
    "from pyimzml.ImzMLParser import ImzMLParser\n",
    "from pyimzml.ImzMLWriter import ImzMLWriter\n",
    "from tqdm.notebook import tqdm\n",
    "from nnbiopsy.spectra_utils.normalization import TICNormalizer\n",
    "from nnbiopsy.spectra_utils.binning import EqualWidthBinning"
   ]
  },
  {
   "cell_type": "markdown",
   "id": "84646953-1645-4c9c-bc46-a043a81b69b1",
   "metadata": {},
   "source": [
    "### ***Constants definitions***\n",
    "\n",
    "Next, let's define some constant variables for this notebook:"
   ]
  },
  {
   "cell_type": "code",
   "execution_count": 3,
   "id": "8ecb1dfb-0a5b-44b7-b982-3127909b6d00",
   "metadata": {},
   "outputs": [],
   "source": [
    "# Define folder that contains the dhg dataset\n",
    "DHG_PATH = \"./../../../DHG/\"\n",
    "# Define folder that contains the original dataset\n",
    "DATA_IN_PATH = f\"{DHG_PATH}/raw\"\n",
    "# Define folder to save preprocessed dataset\n",
    "DATA_OUT_PATH = f\"{DHG_PATH}/preprocessed\"\n",
    "# Define file that contains dhg metadata\n",
    "METADATA_PATH = f\"{DHG_PATH}/metadata.csv\"\n",
    "# Define mass range start value\n",
    "MZ_START = 50\n",
    "# Define mass range end value\n",
    "MZ_END = 1200\n",
    "# Define mass resolution of the data\n",
    "MASS_RESOLUTION = 0.025"
   ]
  },
  {
   "cell_type": "markdown",
   "id": "90a81749-fe0d-4f7e-93ad-6efed71067e1",
   "metadata": {},
   "source": [
    "### ***Creating output folder***\n",
    "\n",
    "Next, let's create the output folder:"
   ]
  },
  {
   "cell_type": "code",
   "execution_count": 4,
   "id": "6dd4c79d-a5b9-41ac-a1b1-ebe0d3ac40dd",
   "metadata": {},
   "outputs": [],
   "source": [
    "# Create output folder if doesn't exist\n",
    "Path(DATA_OUT_PATH).mkdir(parents=True, exist_ok=True)"
   ]
  },
  {
   "cell_type": "markdown",
   "id": "dc88cdfc-3d38-47b7-9894-bfbe73c3f0bb",
   "metadata": {
    "tags": []
   },
   "source": [
    "### ***Reading MSI metadata***\n",
    "\n",
    "Next, lets read the metadata file:"
   ]
  },
  {
   "cell_type": "code",
   "execution_count": 5,
   "id": "667fa007-a807-4e36-a3ed-9ab527ddca04",
   "metadata": {
    "tags": []
   },
   "outputs": [],
   "source": [
    "# read ROI's csv\n",
    "metadata_df = pd.read_csv(METADATA_PATH)"
   ]
  },
  {
   "cell_type": "markdown",
   "id": "348388d4-28dc-4b77-9cf2-74976f688b27",
   "metadata": {
    "tags": []
   },
   "source": [
    "### ***Creating spectra preprocess pipeline***\n",
    "\n",
    "Next, lets create the preprocess pipeline for each spectra in the image:"
   ]
  },
  {
   "cell_type": "code",
   "execution_count": 6,
   "id": "3132413d-ee30-4c15-9846-18b6658fa02a",
   "metadata": {},
   "outputs": [],
   "source": [
    "# Get normalizer object\n",
    "normalizer = TICNormalizer()\n",
    "# Get binning object\n",
    "binning = EqualWidthBinning(MZ_START, MZ_END, MASS_RESOLUTION / 2)\n",
    "# Create preprocess pipe\n",
    "pre_process_pipe = (lambda mzs, intensities: (binning.bin(\n",
    "    normalizer.normalize((mzs, intensities)))))"
   ]
  },
  {
   "cell_type": "markdown",
   "id": "11cfe56b-a4e4-485d-92cb-3d8b22e78804",
   "metadata": {},
   "source": [
    "### ***Preprocess each MSI***\n",
    "\n",
    "Next, let's preprocess each MSI spectra. For each sample (ROI) we extract the sample from the MSI, and for each ROI we preprocess all spectra's using spectra preprocess pipeline:"
   ]
  },
  {
   "cell_type": "code",
   "execution_count": 7,
   "id": "49c9fc15-3717-4b9c-8eb5-09d0f59bd0ff",
   "metadata": {},
   "outputs": [
    {
     "data": {
      "application/vnd.jupyter.widget-view+json": {
       "model_id": "530ccea9392947a189f8216b2f2d7ce1",
       "version_major": 2,
       "version_minor": 0
      },
      "text/plain": [
       "ROIs Loop:   0%|          | 0/48 [00:00<?, ?it/s]"
      ]
     },
     "metadata": {},
     "output_type": "display_data"
    },
    {
     "data": {
      "application/vnd.jupyter.widget-view+json": {
       "model_id": "934dfddaec96402daa8ee2b4dad13414",
       "version_major": 2,
       "version_minor": 0
      },
      "text/plain": [
       "Spectra Loop:   0%|          | 0/14022 [00:00<?, ?it/s]"
      ]
     },
     "metadata": {},
     "output_type": "display_data"
    },
    {
     "data": {
      "application/vnd.jupyter.widget-view+json": {
       "model_id": "4921348a755149bc9393d60768ecde82",
       "version_major": 2,
       "version_minor": 0
      },
      "text/plain": [
       "Spectra Loop:   0%|          | 0/14022 [00:00<?, ?it/s]"
      ]
     },
     "metadata": {},
     "output_type": "display_data"
    },
    {
     "data": {
      "application/vnd.jupyter.widget-view+json": {
       "model_id": "e027b015fb0349078da96710bcd9fc75",
       "version_major": 2,
       "version_minor": 0
      },
      "text/plain": [
       "Spectra Loop:   0%|          | 0/14022 [00:00<?, ?it/s]"
      ]
     },
     "metadata": {},
     "output_type": "display_data"
    },
    {
     "data": {
      "application/vnd.jupyter.widget-view+json": {
       "model_id": "4974796e5234420db3b17412a9afc98e",
       "version_major": 2,
       "version_minor": 0
      },
      "text/plain": [
       "Spectra Loop:   0%|          | 0/7482 [00:00<?, ?it/s]"
      ]
     },
     "metadata": {},
     "output_type": "display_data"
    },
    {
     "data": {
      "application/vnd.jupyter.widget-view+json": {
       "model_id": "0c50f7833c324fe8b67916b9504e2673",
       "version_major": 2,
       "version_minor": 0
      },
      "text/plain": [
       "Spectra Loop:   0%|          | 0/7482 [00:00<?, ?it/s]"
      ]
     },
     "metadata": {},
     "output_type": "display_data"
    },
    {
     "data": {
      "application/vnd.jupyter.widget-view+json": {
       "model_id": "c29d482df2e24730b01f86b7f6431b8c",
       "version_major": 2,
       "version_minor": 0
      },
      "text/plain": [
       "Spectra Loop:   0%|          | 0/14196 [00:00<?, ?it/s]"
      ]
     },
     "metadata": {},
     "output_type": "display_data"
    },
    {
     "data": {
      "application/vnd.jupyter.widget-view+json": {
       "model_id": "0692146b1d4c489cb045942b0235613c",
       "version_major": 2,
       "version_minor": 0
      },
      "text/plain": [
       "Spectra Loop:   0%|          | 0/14196 [00:00<?, ?it/s]"
      ]
     },
     "metadata": {},
     "output_type": "display_data"
    },
    {
     "data": {
      "application/vnd.jupyter.widget-view+json": {
       "model_id": "16346e2c14864ee9ad4ebc850e42ea22",
       "version_major": 2,
       "version_minor": 0
      },
      "text/plain": [
       "Spectra Loop:   0%|          | 0/7938 [00:00<?, ?it/s]"
      ]
     },
     "metadata": {},
     "output_type": "display_data"
    },
    {
     "data": {
      "application/vnd.jupyter.widget-view+json": {
       "model_id": "62ddcead823645bb917b44ef811d379d",
       "version_major": 2,
       "version_minor": 0
      },
      "text/plain": [
       "Spectra Loop:   0%|          | 0/7938 [00:00<?, ?it/s]"
      ]
     },
     "metadata": {},
     "output_type": "display_data"
    },
    {
     "data": {
      "application/vnd.jupyter.widget-view+json": {
       "model_id": "145c898c573345e8a6b648f4e9948021",
       "version_major": 2,
       "version_minor": 0
      },
      "text/plain": [
       "Spectra Loop:   0%|          | 0/12920 [00:00<?, ?it/s]"
      ]
     },
     "metadata": {},
     "output_type": "display_data"
    },
    {
     "data": {
      "application/vnd.jupyter.widget-view+json": {
       "model_id": "4d4be8ae924f49d29d85d74f2ae45001",
       "version_major": 2,
       "version_minor": 0
      },
      "text/plain": [
       "Spectra Loop:   0%|          | 0/12920 [00:00<?, ?it/s]"
      ]
     },
     "metadata": {},
     "output_type": "display_data"
    },
    {
     "data": {
      "application/vnd.jupyter.widget-view+json": {
       "model_id": "184db28eddab4da6bc8bf9a1f088232b",
       "version_major": 2,
       "version_minor": 0
      },
      "text/plain": [
       "Spectra Loop:   0%|          | 0/10220 [00:00<?, ?it/s]"
      ]
     },
     "metadata": {},
     "output_type": "display_data"
    },
    {
     "data": {
      "application/vnd.jupyter.widget-view+json": {
       "model_id": "30cd0efd649548feb74c7f0ec24293c2",
       "version_major": 2,
       "version_minor": 0
      },
      "text/plain": [
       "Spectra Loop:   0%|          | 0/10220 [00:00<?, ?it/s]"
      ]
     },
     "metadata": {},
     "output_type": "display_data"
    },
    {
     "data": {
      "application/vnd.jupyter.widget-view+json": {
       "model_id": "d1d20867fd044b1684e488b3f719adff",
       "version_major": 2,
       "version_minor": 0
      },
      "text/plain": [
       "Spectra Loop:   0%|          | 0/24024 [00:00<?, ?it/s]"
      ]
     },
     "metadata": {},
     "output_type": "display_data"
    },
    {
     "data": {
      "application/vnd.jupyter.widget-view+json": {
       "model_id": "d5534ed5037e42f2af47a454a6798f5c",
       "version_major": 2,
       "version_minor": 0
      },
      "text/plain": [
       "Spectra Loop:   0%|          | 0/24024 [00:00<?, ?it/s]"
      ]
     },
     "metadata": {},
     "output_type": "display_data"
    },
    {
     "data": {
      "application/vnd.jupyter.widget-view+json": {
       "model_id": "9f30d0da7dbf4a52a197c8a422ab798b",
       "version_major": 2,
       "version_minor": 0
      },
      "text/plain": [
       "Spectra Loop:   0%|          | 0/24024 [00:00<?, ?it/s]"
      ]
     },
     "metadata": {},
     "output_type": "display_data"
    },
    {
     "data": {
      "application/vnd.jupyter.widget-view+json": {
       "model_id": "462d98ff7eaf4d019d89186072d942d4",
       "version_major": 2,
       "version_minor": 0
      },
      "text/plain": [
       "Spectra Loop:   0%|          | 0/6095 [00:00<?, ?it/s]"
      ]
     },
     "metadata": {},
     "output_type": "display_data"
    },
    {
     "data": {
      "application/vnd.jupyter.widget-view+json": {
       "model_id": "651adc429f634dab8a9a7da3ddbee368",
       "version_major": 2,
       "version_minor": 0
      },
      "text/plain": [
       "Spectra Loop:   0%|          | 0/6095 [00:00<?, ?it/s]"
      ]
     },
     "metadata": {},
     "output_type": "display_data"
    },
    {
     "data": {
      "application/vnd.jupyter.widget-view+json": {
       "model_id": "d2b97a393a334bfcb34eca2cc2543808",
       "version_major": 2,
       "version_minor": 0
      },
      "text/plain": [
       "Spectra Loop:   0%|          | 0/27876 [00:00<?, ?it/s]"
      ]
     },
     "metadata": {},
     "output_type": "display_data"
    },
    {
     "data": {
      "application/vnd.jupyter.widget-view+json": {
       "model_id": "df1bb30a5f324f8da9a75db6b5f68d58",
       "version_major": 2,
       "version_minor": 0
      },
      "text/plain": [
       "Spectra Loop:   0%|          | 0/27876 [00:00<?, ?it/s]"
      ]
     },
     "metadata": {},
     "output_type": "display_data"
    },
    {
     "data": {
      "application/vnd.jupyter.widget-view+json": {
       "model_id": "26ca5c56ab244737b33a60a2b09d9f40",
       "version_major": 2,
       "version_minor": 0
      },
      "text/plain": [
       "Spectra Loop:   0%|          | 0/27876 [00:00<?, ?it/s]"
      ]
     },
     "metadata": {},
     "output_type": "display_data"
    },
    {
     "data": {
      "application/vnd.jupyter.widget-view+json": {
       "model_id": "859279e32c3d4b839a615b49be360209",
       "version_major": 2,
       "version_minor": 0
      },
      "text/plain": [
       "Spectra Loop:   0%|          | 0/27876 [00:00<?, ?it/s]"
      ]
     },
     "metadata": {},
     "output_type": "display_data"
    },
    {
     "data": {
      "application/vnd.jupyter.widget-view+json": {
       "model_id": "deda13dad3a044fdaeeb358d8faaa4ad",
       "version_major": 2,
       "version_minor": 0
      },
      "text/plain": [
       "Spectra Loop:   0%|          | 0/27876 [00:00<?, ?it/s]"
      ]
     },
     "metadata": {},
     "output_type": "display_data"
    },
    {
     "data": {
      "application/vnd.jupyter.widget-view+json": {
       "model_id": "e0eedd7bd1ed463fbb95b43fd2483c90",
       "version_major": 2,
       "version_minor": 0
      },
      "text/plain": [
       "Spectra Loop:   0%|          | 0/23718 [00:00<?, ?it/s]"
      ]
     },
     "metadata": {},
     "output_type": "display_data"
    },
    {
     "data": {
      "application/vnd.jupyter.widget-view+json": {
       "model_id": "913a7b497bc84767bf4cf87c2c5d81df",
       "version_major": 2,
       "version_minor": 0
      },
      "text/plain": [
       "Spectra Loop:   0%|          | 0/23718 [00:00<?, ?it/s]"
      ]
     },
     "metadata": {},
     "output_type": "display_data"
    },
    {
     "data": {
      "application/vnd.jupyter.widget-view+json": {
       "model_id": "55614dd9fa524e79b716389bf42c24eb",
       "version_major": 2,
       "version_minor": 0
      },
      "text/plain": [
       "Spectra Loop:   0%|          | 0/23718 [00:00<?, ?it/s]"
      ]
     },
     "metadata": {},
     "output_type": "display_data"
    },
    {
     "data": {
      "application/vnd.jupyter.widget-view+json": {
       "model_id": "94c644029e6b4da2b36930e62d7621cf",
       "version_major": 2,
       "version_minor": 0
      },
      "text/plain": [
       "Spectra Loop:   0%|          | 0/23718 [00:00<?, ?it/s]"
      ]
     },
     "metadata": {},
     "output_type": "display_data"
    },
    {
     "data": {
      "application/vnd.jupyter.widget-view+json": {
       "model_id": "12c49b7318a14e62abe72ea774de6aa9",
       "version_major": 2,
       "version_minor": 0
      },
      "text/plain": [
       "Spectra Loop:   0%|          | 0/23718 [00:00<?, ?it/s]"
      ]
     },
     "metadata": {},
     "output_type": "display_data"
    },
    {
     "data": {
      "application/vnd.jupyter.widget-view+json": {
       "model_id": "251c3a2d008f478fbd622266b0986162",
       "version_major": 2,
       "version_minor": 0
      },
      "text/plain": [
       "Spectra Loop:   0%|          | 0/10570 [00:00<?, ?it/s]"
      ]
     },
     "metadata": {},
     "output_type": "display_data"
    },
    {
     "data": {
      "application/vnd.jupyter.widget-view+json": {
       "model_id": "a3a2cffaddb34975af35238b77f0bd44",
       "version_major": 2,
       "version_minor": 0
      },
      "text/plain": [
       "Spectra Loop:   0%|          | 0/10570 [00:00<?, ?it/s]"
      ]
     },
     "metadata": {},
     "output_type": "display_data"
    },
    {
     "data": {
      "application/vnd.jupyter.widget-view+json": {
       "model_id": "1d54d89e9dea49289a52e441bed605be",
       "version_major": 2,
       "version_minor": 0
      },
      "text/plain": [
       "Spectra Loop:   0%|          | 0/10570 [00:00<?, ?it/s]"
      ]
     },
     "metadata": {},
     "output_type": "display_data"
    },
    {
     "data": {
      "application/vnd.jupyter.widget-view+json": {
       "model_id": "9114e3e68686420193ae8c1c3d2f997d",
       "version_major": 2,
       "version_minor": 0
      },
      "text/plain": [
       "Spectra Loop:   0%|          | 0/5265 [00:00<?, ?it/s]"
      ]
     },
     "metadata": {},
     "output_type": "display_data"
    },
    {
     "data": {
      "application/vnd.jupyter.widget-view+json": {
       "model_id": "933a889f52d3491bbb50eb7c3f107355",
       "version_major": 2,
       "version_minor": 0
      },
      "text/plain": [
       "Spectra Loop:   0%|          | 0/5265 [00:00<?, ?it/s]"
      ]
     },
     "metadata": {},
     "output_type": "display_data"
    },
    {
     "data": {
      "application/vnd.jupyter.widget-view+json": {
       "model_id": "fa2337e40f124603b61f632b3d963eaf",
       "version_major": 2,
       "version_minor": 0
      },
      "text/plain": [
       "Spectra Loop:   0%|          | 0/26207 [00:00<?, ?it/s]"
      ]
     },
     "metadata": {},
     "output_type": "display_data"
    },
    {
     "data": {
      "application/vnd.jupyter.widget-view+json": {
       "model_id": "d86121b5cce24e3e81e4e1ad7b7d3341",
       "version_major": 2,
       "version_minor": 0
      },
      "text/plain": [
       "Spectra Loop:   0%|          | 0/26207 [00:00<?, ?it/s]"
      ]
     },
     "metadata": {},
     "output_type": "display_data"
    },
    {
     "data": {
      "application/vnd.jupyter.widget-view+json": {
       "model_id": "aa4580af4aed47a1b693c93c56cdde27",
       "version_major": 2,
       "version_minor": 0
      },
      "text/plain": [
       "Spectra Loop:   0%|          | 0/26207 [00:00<?, ?it/s]"
      ]
     },
     "metadata": {},
     "output_type": "display_data"
    },
    {
     "data": {
      "application/vnd.jupyter.widget-view+json": {
       "model_id": "01fe2ed22f2a410e909b29f1dc9d3cd1",
       "version_major": 2,
       "version_minor": 0
      },
      "text/plain": [
       "Spectra Loop:   0%|          | 0/26207 [00:00<?, ?it/s]"
      ]
     },
     "metadata": {},
     "output_type": "display_data"
    },
    {
     "data": {
      "application/vnd.jupyter.widget-view+json": {
       "model_id": "24181e248dc8416998fe527abf94b9d5",
       "version_major": 2,
       "version_minor": 0
      },
      "text/plain": [
       "Spectra Loop:   0%|          | 0/26207 [00:00<?, ?it/s]"
      ]
     },
     "metadata": {},
     "output_type": "display_data"
    },
    {
     "data": {
      "application/vnd.jupyter.widget-view+json": {
       "model_id": "aabb6c5fad204cd4942c03d205e8c75d",
       "version_major": 2,
       "version_minor": 0
      },
      "text/plain": [
       "Spectra Loop:   0%|          | 0/26207 [00:00<?, ?it/s]"
      ]
     },
     "metadata": {},
     "output_type": "display_data"
    },
    {
     "data": {
      "application/vnd.jupyter.widget-view+json": {
       "model_id": "4fa25986d1144eb1a213a827f9fe7534",
       "version_major": 2,
       "version_minor": 0
      },
      "text/plain": [
       "Spectra Loop:   0%|          | 0/28584 [00:00<?, ?it/s]"
      ]
     },
     "metadata": {},
     "output_type": "display_data"
    },
    {
     "data": {
      "application/vnd.jupyter.widget-view+json": {
       "model_id": "946a41e909bf4c1092f33343ac554c61",
       "version_major": 2,
       "version_minor": 0
      },
      "text/plain": [
       "Spectra Loop:   0%|          | 0/28584 [00:00<?, ?it/s]"
      ]
     },
     "metadata": {},
     "output_type": "display_data"
    },
    {
     "data": {
      "application/vnd.jupyter.widget-view+json": {
       "model_id": "cbc2723f887c4eb99b01aa70b1cbbc02",
       "version_major": 2,
       "version_minor": 0
      },
      "text/plain": [
       "Spectra Loop:   0%|          | 0/28584 [00:00<?, ?it/s]"
      ]
     },
     "metadata": {},
     "output_type": "display_data"
    },
    {
     "data": {
      "application/vnd.jupyter.widget-view+json": {
       "model_id": "fdf820056e724389aae461f4b54c2fb3",
       "version_major": 2,
       "version_minor": 0
      },
      "text/plain": [
       "Spectra Loop:   0%|          | 0/28584 [00:00<?, ?it/s]"
      ]
     },
     "metadata": {},
     "output_type": "display_data"
    },
    {
     "data": {
      "application/vnd.jupyter.widget-view+json": {
       "model_id": "3bec3c1749e94c11ae646050cc9816f7",
       "version_major": 2,
       "version_minor": 0
      },
      "text/plain": [
       "Spectra Loop:   0%|          | 0/28584 [00:00<?, ?it/s]"
      ]
     },
     "metadata": {},
     "output_type": "display_data"
    },
    {
     "data": {
      "application/vnd.jupyter.widget-view+json": {
       "model_id": "b804a5b6eb964d508e4aaefd2726b5d4",
       "version_major": 2,
       "version_minor": 0
      },
      "text/plain": [
       "Spectra Loop:   0%|          | 0/15045 [00:00<?, ?it/s]"
      ]
     },
     "metadata": {},
     "output_type": "display_data"
    },
    {
     "data": {
      "application/vnd.jupyter.widget-view+json": {
       "model_id": "30a56673ed1b47fcb685f171f1785a0b",
       "version_major": 2,
       "version_minor": 0
      },
      "text/plain": [
       "Spectra Loop:   0%|          | 0/15045 [00:00<?, ?it/s]"
      ]
     },
     "metadata": {},
     "output_type": "display_data"
    },
    {
     "data": {
      "application/vnd.jupyter.widget-view+json": {
       "model_id": "97acbc3ff4fe4d19b85be8aeedab5d23",
       "version_major": 2,
       "version_minor": 0
      },
      "text/plain": [
       "Spectra Loop:   0%|          | 0/6000 [00:00<?, ?it/s]"
      ]
     },
     "metadata": {},
     "output_type": "display_data"
    },
    {
     "data": {
      "application/vnd.jupyter.widget-view+json": {
       "model_id": "9aebe49a3d1e43a28f629e07477a4839",
       "version_major": 2,
       "version_minor": 0
      },
      "text/plain": [
       "Spectra Loop:   0%|          | 0/6000 [00:00<?, ?it/s]"
      ]
     },
     "metadata": {},
     "output_type": "display_data"
    }
   ],
   "source": [
    "# loop over each ROI in dataframe\n",
    "for index, roi in tqdm(metadata_df.iterrows(),\n",
    "                       total=metadata_df.shape[0],\n",
    "                       desc=\"ROIs Loop\"):\n",
    "  # Parse the MSI file containing ROI\n",
    "  with ImzMLParser(join(DATA_IN_PATH, f\"{roi.file_name}.imzML\")) as reader:\n",
    "    # Create a new MSI for ROI. because we apply binning\n",
    "    # we can use mode=\"continuous\"\n",
    "    with ImzMLWriter(join(DATA_OUT_PATH,\n",
    "                          f\"{roi.sample_file_name}.imzML\"),\n",
    "                     mode=\"continuous\") as writer:\n",
    "      # Loop over each spectra in MSI\n",
    "      for idx, (x, y, z) in tqdm(enumerate(reader.coordinates),\n",
    "                                 total=len(reader.coordinates),\n",
    "                                 desc=\"Spectra Loop\"):\n",
    "        # Check if spectra is in ROI boundaries\n",
    "        if ((roi.x_min <= x) & (roi.x_max >= x) & (roi.y_min <= y) &\n",
    "            (roi.y_max >= y)):\n",
    "          # Read spectra from MSI\n",
    "          raw_mzs, raw_intensities = reader.getspectrum(idx)\n",
    "          # Apply preprocessing pipe\n",
    "          preprocessed_mzs, preprocessed_intensities = pre_process_pipe(\n",
    "              raw_mzs, raw_intensities)\n",
    "          # Write spectra to ROI MSI but by ROIs coordinates\n",
    "          writer.addSpectrum(preprocessed_mzs, preprocessed_intensities,\n",
    "                             (x - roi.x_min + 1, y - roi.y_min + 1, z))"
   ]
  }
 ],
 "metadata": {
  "interpreter": {
   "hash": "5c73559c04fc51cf6f25e380b3ded5183311c605494f1c18f4c2cfbf285cb958"
  },
  "kernelspec": {
   "display_name": "Python 3.9.12 ('tf_gpu_jup')",
   "language": "python",
   "name": "python3"
  },
  "language_info": {
   "codemirror_mode": {
    "name": "ipython",
    "version": 3
   },
   "file_extension": ".py",
   "mimetype": "text/x-python",
   "name": "python",
   "nbconvert_exporter": "python",
   "pygments_lexer": "ipython3",
   "version": "3.9.12"
  },
  "widgets": {
   "application/vnd.jupyter.widget-state+json": {
    "state": {},
    "version_major": 2,
    "version_minor": 0
   }
  }
 },
 "nbformat": 4,
 "nbformat_minor": 5
}
