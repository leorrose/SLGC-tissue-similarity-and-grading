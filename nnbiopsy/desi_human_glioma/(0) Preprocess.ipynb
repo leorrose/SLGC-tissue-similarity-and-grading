{
 "cells": [
  {
   "cell_type": "markdown",
   "id": "dd1b4a0c-ea8e-49dd-bfca-165f027d16a7",
   "metadata": {},
   "source": [
    "# ***Dataset Preprocessing***\n",
    "\n",
    "This notebook shows the preprocessing of the dataset."
   ]
  },
  {
   "cell_type": "markdown",
   "id": "38d1dfa3-20c8-4f8a-b745-5259d5769518",
   "metadata": {},
   "source": [
    "### ***Import packages***\n",
    "\n",
    "Before we begin, let's import all the necessary packages for this notebook.\n",
    "First we add the directory which has our python files:"
   ]
  },
  {
   "cell_type": "code",
   "execution_count": 1,
   "id": "d4379386-f99b-4900-8a05-b5c23e878875",
   "metadata": {},
   "outputs": [],
   "source": [
    "import sys\n",
    "sys.path.insert(0, \"../..\")"
   ]
  },
  {
   "cell_type": "markdown",
   "id": "dd92a05a-8b1c-460d-ba0f-f0ed61a6b07c",
   "metadata": {},
   "source": [
    "Next we import all the necessary packages for this notebook:"
   ]
  },
  {
   "cell_type": "code",
   "execution_count": 2,
   "id": "861403b3-e294-4e80-b7bd-eb06029addd4",
   "metadata": {},
   "outputs": [],
   "source": [
    "import pandas as pd\n",
    "from os.path import join\n",
    "from pathlib import Path\n",
    "from matplotlib import pyplot as plt\n",
    "from pyimzml.ImzMLParser import ImzMLParser\n",
    "from pyimzml.ImzMLWriter import ImzMLWriter\n",
    "from tqdm.notebook import tqdm\n",
    "from nnbiopsy.spectra_utils.normalization import TICNormalizer\n",
    "from nnbiopsy.spectra_utils.binning import EqualWidthBinning"
   ]
  },
  {
   "cell_type": "markdown",
   "id": "84646953-1645-4c9c-bc46-a043a81b69b1",
   "metadata": {},
   "source": [
    "### ***Constants definitions***\n",
    "\n",
    "Next, let's define some constant variables for this notebook:"
   ]
  },
  {
   "cell_type": "code",
   "execution_count": 3,
   "id": "8ecb1dfb-0a5b-44b7-b982-3127909b6d00",
   "metadata": {},
   "outputs": [],
   "source": [
    "# Define folder that contains the dhg dataset\n",
    "DHG_PATH = \"./../../../DHG/\"\n",
    "# Define folder that contains the original dataset\n",
    "DATA_IN_PATH = f\"{DHG_PATH}/raw\"\n",
    "# Define folder to save preprocessed dataset\n",
    "DATA_OUT_PATH = f\"{DHG_PATH}/preprocessed\"\n",
    "# Define path to save plots\n",
    "PLOTS_OUT_PATH = \"preprocess\"\n",
    "# Define file that contains dhg metadata\n",
    "METADATA_PATH = f\"{DHG_PATH}/metadata.csv\"\n",
    "# Define mass range start value\n",
    "MZ_START = 50\n",
    "# Define mass range end value\n",
    "MZ_END = 1200\n",
    "# Define mass resolution of the data\n",
    "MASS_RESOLUTION = 0.025"
   ]
  },
  {
   "cell_type": "markdown",
   "id": "90a81749-fe0d-4f7e-93ad-6efed71067e1",
   "metadata": {},
   "source": [
    "### ***Creating output folder***\n",
    "\n",
    "Next, let's create the output folder:"
   ]
  },
  {
   "cell_type": "code",
   "execution_count": 4,
   "id": "6dd4c79d-a5b9-41ac-a1b1-ebe0d3ac40dd",
   "metadata": {},
   "outputs": [],
   "source": [
    "# Create output folder if doesn't exist\n",
    "Path(DATA_OUT_PATH).mkdir(parents=True, exist_ok=True)\n",
    "Path(PLOTS_OUT_PATH).mkdir(parents=True, exist_ok=True)"
   ]
  },
  {
   "cell_type": "markdown",
   "id": "dc88cdfc-3d38-47b7-9894-bfbe73c3f0bb",
   "metadata": {
    "tags": []
   },
   "source": [
    "### ***Reading MSI metadata***\n",
    "\n",
    "Next, lets read the metadata file:"
   ]
  },
  {
   "cell_type": "code",
   "execution_count": 5,
   "id": "667fa007-a807-4e36-a3ed-9ab527ddca04",
   "metadata": {
    "tags": []
   },
   "outputs": [],
   "source": [
    "# read metadata csv\n",
    "metadata_df = pd.read_csv(METADATA_PATH)"
   ]
  },
  {
   "cell_type": "markdown",
   "id": "348388d4-28dc-4b77-9cf2-74976f688b27",
   "metadata": {
    "tags": []
   },
   "source": [
    "### ***Creating spectra preprocess pipeline***\n",
    "\n",
    "Next, lets create the preprocess pipeline for each spectra in the image:"
   ]
  },
  {
   "cell_type": "code",
   "execution_count": 6,
   "id": "3132413d-ee30-4c15-9846-18b6658fa02a",
   "metadata": {},
   "outputs": [],
   "source": [
    "# Get normalizer object\n",
    "normalizer = TICNormalizer()\n",
    "# Get binning object\n",
    "binning = EqualWidthBinning(MZ_START, MZ_END, MASS_RESOLUTION / 2)\n",
    "# Create preprocess pipe\n",
    "pre_process_pipe = (lambda mzs, intensities: (binning.bin(\n",
    "    normalizer.normalize((mzs, intensities)))))"
   ]
  },
  {
   "cell_type": "markdown",
   "id": "11cfe56b-a4e4-485d-92cb-3d8b22e78804",
   "metadata": {},
   "source": [
    "### ***Preprocess each MSI***\n",
    "\n",
    "Next, let's preprocess each MSI spectra. For each sample (ROI) we extract the sample from the MSI, and for each ROI we preprocess all spectra's using spectra preprocess pipeline:"
   ]
  },
  {
   "cell_type": "code",
   "execution_count": 7,
   "id": "49c9fc15-3717-4b9c-8eb5-09d0f59bd0ff",
   "metadata": {},
   "outputs": [
    {
     "data": {
      "application/vnd.jupyter.widget-view+json": {
       "model_id": "e9237e67fc5a46c68722faa6b237abd8",
       "version_major": 2,
       "version_minor": 0
      },
      "text/plain": [
       "ROIs Loop:   0%|          | 0/48 [00:00<?, ?it/s]"
      ]
     },
     "metadata": {},
     "output_type": "display_data"
    },
    {
     "data": {
      "application/vnd.jupyter.widget-view+json": {
       "model_id": "df013ec6b0a24792b9fb8b6bd14f2c02",
       "version_major": 2,
       "version_minor": 0
      },
      "text/plain": [
       "Spectra Loop:   0%|          | 0/14022 [00:00<?, ?it/s]"
      ]
     },
     "metadata": {},
     "output_type": "display_data"
    },
    {
     "data": {
      "application/vnd.jupyter.widget-view+json": {
       "model_id": "7a457d8f52824671921141df1df64a9e",
       "version_major": 2,
       "version_minor": 0
      },
      "text/plain": [
       "Spectra Loop:   0%|          | 0/14022 [00:00<?, ?it/s]"
      ]
     },
     "metadata": {},
     "output_type": "display_data"
    },
    {
     "data": {
      "application/vnd.jupyter.widget-view+json": {
       "model_id": "32264a8ca2a5430c8867b265cb087c87",
       "version_major": 2,
       "version_minor": 0
      },
      "text/plain": [
       "Spectra Loop:   0%|          | 0/14022 [00:00<?, ?it/s]"
      ]
     },
     "metadata": {},
     "output_type": "display_data"
    },
    {
     "data": {
      "application/vnd.jupyter.widget-view+json": {
       "model_id": "f667495596794897aba3508864677a1e",
       "version_major": 2,
       "version_minor": 0
      },
      "text/plain": [
       "Spectra Loop:   0%|          | 0/7482 [00:00<?, ?it/s]"
      ]
     },
     "metadata": {},
     "output_type": "display_data"
    },
    {
     "data": {
      "application/vnd.jupyter.widget-view+json": {
       "model_id": "b6d8317ea8374b7faed6ed8e5398677b",
       "version_major": 2,
       "version_minor": 0
      },
      "text/plain": [
       "Spectra Loop:   0%|          | 0/7482 [00:00<?, ?it/s]"
      ]
     },
     "metadata": {},
     "output_type": "display_data"
    },
    {
     "data": {
      "application/vnd.jupyter.widget-view+json": {
       "model_id": "3461a3b5bf714b708e1e58d26cd1b1e9",
       "version_major": 2,
       "version_minor": 0
      },
      "text/plain": [
       "Spectra Loop:   0%|          | 0/14196 [00:00<?, ?it/s]"
      ]
     },
     "metadata": {},
     "output_type": "display_data"
    },
    {
     "data": {
      "application/vnd.jupyter.widget-view+json": {
       "model_id": "b85ed1c558b8424cb661ab7ac61f80f0",
       "version_major": 2,
       "version_minor": 0
      },
      "text/plain": [
       "Spectra Loop:   0%|          | 0/14196 [00:00<?, ?it/s]"
      ]
     },
     "metadata": {},
     "output_type": "display_data"
    },
    {
     "data": {
      "application/vnd.jupyter.widget-view+json": {
       "model_id": "3ec3c2216ad444269c175a756beacf5d",
       "version_major": 2,
       "version_minor": 0
      },
      "text/plain": [
       "Spectra Loop:   0%|          | 0/7938 [00:00<?, ?it/s]"
      ]
     },
     "metadata": {},
     "output_type": "display_data"
    },
    {
     "data": {
      "application/vnd.jupyter.widget-view+json": {
       "model_id": "16e8cafb1da74d8c876066454bab60bc",
       "version_major": 2,
       "version_minor": 0
      },
      "text/plain": [
       "Spectra Loop:   0%|          | 0/7938 [00:00<?, ?it/s]"
      ]
     },
     "metadata": {},
     "output_type": "display_data"
    },
    {
     "data": {
      "application/vnd.jupyter.widget-view+json": {
       "model_id": "49469f3c52134cf68a33759eb1c62f70",
       "version_major": 2,
       "version_minor": 0
      },
      "text/plain": [
       "Spectra Loop:   0%|          | 0/12920 [00:00<?, ?it/s]"
      ]
     },
     "metadata": {},
     "output_type": "display_data"
    },
    {
     "data": {
      "application/vnd.jupyter.widget-view+json": {
       "model_id": "9e7801a5862d4e7f8a6e686585f72ec1",
       "version_major": 2,
       "version_minor": 0
      },
      "text/plain": [
       "Spectra Loop:   0%|          | 0/12920 [00:00<?, ?it/s]"
      ]
     },
     "metadata": {},
     "output_type": "display_data"
    },
    {
     "data": {
      "application/vnd.jupyter.widget-view+json": {
       "model_id": "506fb37d8fba42f1a1631f7416fa52e5",
       "version_major": 2,
       "version_minor": 0
      },
      "text/plain": [
       "Spectra Loop:   0%|          | 0/10220 [00:00<?, ?it/s]"
      ]
     },
     "metadata": {},
     "output_type": "display_data"
    },
    {
     "data": {
      "application/vnd.jupyter.widget-view+json": {
       "model_id": "ea2e70f0940242598bb2992c1c5c0be8",
       "version_major": 2,
       "version_minor": 0
      },
      "text/plain": [
       "Spectra Loop:   0%|          | 0/10220 [00:00<?, ?it/s]"
      ]
     },
     "metadata": {},
     "output_type": "display_data"
    },
    {
     "data": {
      "application/vnd.jupyter.widget-view+json": {
       "model_id": "71cd41624d394f75a479ba8858323452",
       "version_major": 2,
       "version_minor": 0
      },
      "text/plain": [
       "Spectra Loop:   0%|          | 0/24024 [00:00<?, ?it/s]"
      ]
     },
     "metadata": {},
     "output_type": "display_data"
    },
    {
     "data": {
      "application/vnd.jupyter.widget-view+json": {
       "model_id": "2070b5912abf43fdb28fb1e75ade4328",
       "version_major": 2,
       "version_minor": 0
      },
      "text/plain": [
       "Spectra Loop:   0%|          | 0/24024 [00:00<?, ?it/s]"
      ]
     },
     "metadata": {},
     "output_type": "display_data"
    },
    {
     "data": {
      "application/vnd.jupyter.widget-view+json": {
       "model_id": "2d58765ad42f491285c9d9826fb06011",
       "version_major": 2,
       "version_minor": 0
      },
      "text/plain": [
       "Spectra Loop:   0%|          | 0/24024 [00:00<?, ?it/s]"
      ]
     },
     "metadata": {},
     "output_type": "display_data"
    },
    {
     "data": {
      "application/vnd.jupyter.widget-view+json": {
       "model_id": "4c70079f965d42788dd8cd8d9d7332d9",
       "version_major": 2,
       "version_minor": 0
      },
      "text/plain": [
       "Spectra Loop:   0%|          | 0/6095 [00:00<?, ?it/s]"
      ]
     },
     "metadata": {},
     "output_type": "display_data"
    },
    {
     "data": {
      "application/vnd.jupyter.widget-view+json": {
       "model_id": "eb3fa31bc25c451c8b6a93b9fbebc9ef",
       "version_major": 2,
       "version_minor": 0
      },
      "text/plain": [
       "Spectra Loop:   0%|          | 0/6095 [00:00<?, ?it/s]"
      ]
     },
     "metadata": {},
     "output_type": "display_data"
    },
    {
     "data": {
      "application/vnd.jupyter.widget-view+json": {
       "model_id": "e04483a94e4b44249cb36df4d622f286",
       "version_major": 2,
       "version_minor": 0
      },
      "text/plain": [
       "Spectra Loop:   0%|          | 0/27876 [00:00<?, ?it/s]"
      ]
     },
     "metadata": {},
     "output_type": "display_data"
    },
    {
     "data": {
      "application/vnd.jupyter.widget-view+json": {
       "model_id": "18c3739c3f53485a8eda5078668070cd",
       "version_major": 2,
       "version_minor": 0
      },
      "text/plain": [
       "Spectra Loop:   0%|          | 0/27876 [00:00<?, ?it/s]"
      ]
     },
     "metadata": {},
     "output_type": "display_data"
    },
    {
     "data": {
      "application/vnd.jupyter.widget-view+json": {
       "model_id": "9f3177f406de491c90b7c683fa066b31",
       "version_major": 2,
       "version_minor": 0
      },
      "text/plain": [
       "Spectra Loop:   0%|          | 0/27876 [00:00<?, ?it/s]"
      ]
     },
     "metadata": {},
     "output_type": "display_data"
    },
    {
     "data": {
      "application/vnd.jupyter.widget-view+json": {
       "model_id": "8023b6b3ece942ef8657407f8f05f1e8",
       "version_major": 2,
       "version_minor": 0
      },
      "text/plain": [
       "Spectra Loop:   0%|          | 0/27876 [00:00<?, ?it/s]"
      ]
     },
     "metadata": {},
     "output_type": "display_data"
    },
    {
     "data": {
      "application/vnd.jupyter.widget-view+json": {
       "model_id": "811ecba361a145d18a8672fe0be3b06f",
       "version_major": 2,
       "version_minor": 0
      },
      "text/plain": [
       "Spectra Loop:   0%|          | 0/27876 [00:00<?, ?it/s]"
      ]
     },
     "metadata": {},
     "output_type": "display_data"
    },
    {
     "data": {
      "application/vnd.jupyter.widget-view+json": {
       "model_id": "a960c70d77a04b6eab1a43c396774396",
       "version_major": 2,
       "version_minor": 0
      },
      "text/plain": [
       "Spectra Loop:   0%|          | 0/23718 [00:00<?, ?it/s]"
      ]
     },
     "metadata": {},
     "output_type": "display_data"
    },
    {
     "data": {
      "application/vnd.jupyter.widget-view+json": {
       "model_id": "dce1bb736f884bc7ac826ad5072e5c30",
       "version_major": 2,
       "version_minor": 0
      },
      "text/plain": [
       "Spectra Loop:   0%|          | 0/23718 [00:00<?, ?it/s]"
      ]
     },
     "metadata": {},
     "output_type": "display_data"
    },
    {
     "data": {
      "application/vnd.jupyter.widget-view+json": {
       "model_id": "d5e3d6ff18b24b4abdbfdbf38372d6e8",
       "version_major": 2,
       "version_minor": 0
      },
      "text/plain": [
       "Spectra Loop:   0%|          | 0/23718 [00:00<?, ?it/s]"
      ]
     },
     "metadata": {},
     "output_type": "display_data"
    },
    {
     "data": {
      "application/vnd.jupyter.widget-view+json": {
       "model_id": "121f5fe0d51645668d18f9667d348cad",
       "version_major": 2,
       "version_minor": 0
      },
      "text/plain": [
       "Spectra Loop:   0%|          | 0/23718 [00:00<?, ?it/s]"
      ]
     },
     "metadata": {},
     "output_type": "display_data"
    },
    {
     "data": {
      "application/vnd.jupyter.widget-view+json": {
       "model_id": "ba88438e214e4e27996e1e922ef80582",
       "version_major": 2,
       "version_minor": 0
      },
      "text/plain": [
       "Spectra Loop:   0%|          | 0/23718 [00:00<?, ?it/s]"
      ]
     },
     "metadata": {},
     "output_type": "display_data"
    },
    {
     "data": {
      "application/vnd.jupyter.widget-view+json": {
       "model_id": "ba8459b1c5bf4a3b8b4f9796e5cac9ac",
       "version_major": 2,
       "version_minor": 0
      },
      "text/plain": [
       "Spectra Loop:   0%|          | 0/10570 [00:00<?, ?it/s]"
      ]
     },
     "metadata": {},
     "output_type": "display_data"
    },
    {
     "data": {
      "application/vnd.jupyter.widget-view+json": {
       "model_id": "c8b9e9a4327647c9857bb5d4b60a11f4",
       "version_major": 2,
       "version_minor": 0
      },
      "text/plain": [
       "Spectra Loop:   0%|          | 0/10570 [00:00<?, ?it/s]"
      ]
     },
     "metadata": {},
     "output_type": "display_data"
    },
    {
     "data": {
      "application/vnd.jupyter.widget-view+json": {
       "model_id": "f68d65dcdcfc49a2bef9075fe3c7f293",
       "version_major": 2,
       "version_minor": 0
      },
      "text/plain": [
       "Spectra Loop:   0%|          | 0/10570 [00:00<?, ?it/s]"
      ]
     },
     "metadata": {},
     "output_type": "display_data"
    },
    {
     "data": {
      "application/vnd.jupyter.widget-view+json": {
       "model_id": "9545880ca4bf4c90bb20b6b130ab4994",
       "version_major": 2,
       "version_minor": 0
      },
      "text/plain": [
       "Spectra Loop:   0%|          | 0/5265 [00:00<?, ?it/s]"
      ]
     },
     "metadata": {},
     "output_type": "display_data"
    },
    {
     "data": {
      "application/vnd.jupyter.widget-view+json": {
       "model_id": "fcb4a34015b34492a7facd7bff119f93",
       "version_major": 2,
       "version_minor": 0
      },
      "text/plain": [
       "Spectra Loop:   0%|          | 0/5265 [00:00<?, ?it/s]"
      ]
     },
     "metadata": {},
     "output_type": "display_data"
    },
    {
     "data": {
      "application/vnd.jupyter.widget-view+json": {
       "model_id": "75c0ed3cebd14e78ba360e16ba8ffad3",
       "version_major": 2,
       "version_minor": 0
      },
      "text/plain": [
       "Spectra Loop:   0%|          | 0/26207 [00:00<?, ?it/s]"
      ]
     },
     "metadata": {},
     "output_type": "display_data"
    },
    {
     "data": {
      "application/vnd.jupyter.widget-view+json": {
       "model_id": "e30539d95be84c8287ffdc51d99e6e80",
       "version_major": 2,
       "version_minor": 0
      },
      "text/plain": [
       "Spectra Loop:   0%|          | 0/26207 [00:00<?, ?it/s]"
      ]
     },
     "metadata": {},
     "output_type": "display_data"
    },
    {
     "data": {
      "application/vnd.jupyter.widget-view+json": {
       "model_id": "a9ac8f49d37c4e908a17bc84d09458b6",
       "version_major": 2,
       "version_minor": 0
      },
      "text/plain": [
       "Spectra Loop:   0%|          | 0/26207 [00:00<?, ?it/s]"
      ]
     },
     "metadata": {},
     "output_type": "display_data"
    },
    {
     "data": {
      "application/vnd.jupyter.widget-view+json": {
       "model_id": "8586fc2b57ad41fd9a225001bac31389",
       "version_major": 2,
       "version_minor": 0
      },
      "text/plain": [
       "Spectra Loop:   0%|          | 0/26207 [00:00<?, ?it/s]"
      ]
     },
     "metadata": {},
     "output_type": "display_data"
    },
    {
     "data": {
      "application/vnd.jupyter.widget-view+json": {
       "model_id": "29aa7b74e50b447cb373f6834824f8a7",
       "version_major": 2,
       "version_minor": 0
      },
      "text/plain": [
       "Spectra Loop:   0%|          | 0/26207 [00:00<?, ?it/s]"
      ]
     },
     "metadata": {},
     "output_type": "display_data"
    },
    {
     "data": {
      "application/vnd.jupyter.widget-view+json": {
       "model_id": "9cb624e9370f49cc942847be7c6f0cd9",
       "version_major": 2,
       "version_minor": 0
      },
      "text/plain": [
       "Spectra Loop:   0%|          | 0/26207 [00:00<?, ?it/s]"
      ]
     },
     "metadata": {},
     "output_type": "display_data"
    },
    {
     "data": {
      "application/vnd.jupyter.widget-view+json": {
       "model_id": "69f4c1d93eca478c964e579fd4efba98",
       "version_major": 2,
       "version_minor": 0
      },
      "text/plain": [
       "Spectra Loop:   0%|          | 0/28584 [00:00<?, ?it/s]"
      ]
     },
     "metadata": {},
     "output_type": "display_data"
    },
    {
     "data": {
      "application/vnd.jupyter.widget-view+json": {
       "model_id": "00ed7867c50845b09eae0670ddf16a63",
       "version_major": 2,
       "version_minor": 0
      },
      "text/plain": [
       "Spectra Loop:   0%|          | 0/28584 [00:00<?, ?it/s]"
      ]
     },
     "metadata": {},
     "output_type": "display_data"
    },
    {
     "data": {
      "application/vnd.jupyter.widget-view+json": {
       "model_id": "84e0b75444134acda2dad24033e9a8c1",
       "version_major": 2,
       "version_minor": 0
      },
      "text/plain": [
       "Spectra Loop:   0%|          | 0/28584 [00:00<?, ?it/s]"
      ]
     },
     "metadata": {},
     "output_type": "display_data"
    },
    {
     "data": {
      "application/vnd.jupyter.widget-view+json": {
       "model_id": "f20c9009674446cc9c928573138efc17",
       "version_major": 2,
       "version_minor": 0
      },
      "text/plain": [
       "Spectra Loop:   0%|          | 0/28584 [00:00<?, ?it/s]"
      ]
     },
     "metadata": {},
     "output_type": "display_data"
    },
    {
     "data": {
      "application/vnd.jupyter.widget-view+json": {
       "model_id": "315f07577e4940078f2e81609f61b1e3",
       "version_major": 2,
       "version_minor": 0
      },
      "text/plain": [
       "Spectra Loop:   0%|          | 0/28584 [00:00<?, ?it/s]"
      ]
     },
     "metadata": {},
     "output_type": "display_data"
    },
    {
     "data": {
      "application/vnd.jupyter.widget-view+json": {
       "model_id": "a067d55b431a456e934593b469c46b0e",
       "version_major": 2,
       "version_minor": 0
      },
      "text/plain": [
       "Spectra Loop:   0%|          | 0/15045 [00:00<?, ?it/s]"
      ]
     },
     "metadata": {},
     "output_type": "display_data"
    },
    {
     "data": {
      "application/vnd.jupyter.widget-view+json": {
       "model_id": "56c73216682f4959ba3d5adaec956d07",
       "version_major": 2,
       "version_minor": 0
      },
      "text/plain": [
       "Spectra Loop:   0%|          | 0/15045 [00:00<?, ?it/s]"
      ]
     },
     "metadata": {},
     "output_type": "display_data"
    },
    {
     "data": {
      "application/vnd.jupyter.widget-view+json": {
       "model_id": "9d2fb701ee7b401aaa5249df69c57dcf",
       "version_major": 2,
       "version_minor": 0
      },
      "text/plain": [
       "Spectra Loop:   0%|          | 0/6000 [00:00<?, ?it/s]"
      ]
     },
     "metadata": {},
     "output_type": "display_data"
    },
    {
     "data": {
      "application/vnd.jupyter.widget-view+json": {
       "model_id": "2b7baf0192ee44f7a113b89a0be77c50",
       "version_major": 2,
       "version_minor": 0
      },
      "text/plain": [
       "Spectra Loop:   0%|          | 0/6000 [00:00<?, ?it/s]"
      ]
     },
     "metadata": {},
     "output_type": "display_data"
    }
   ],
   "source": [
    "# loop over each ROI in dataframe\n",
    "for index, roi in tqdm(metadata_df.iterrows(),\n",
    "                       total=metadata_df.shape[0],\n",
    "                       desc=\"ROIs Loop\"):\n",
    "  # Parse the MSI file containing ROI\n",
    "  with ImzMLParser(join(DATA_IN_PATH, f\"{roi.file_name}.imzML\")) as reader:\n",
    "    # Create a new MSI for ROI. because we apply binning\n",
    "    # we can use mode=\"continuous\"\n",
    "    with ImzMLWriter(join(DATA_OUT_PATH,\n",
    "                          f\"{roi.sample_file_name}.imzML\"),\n",
    "                     mode=\"continuous\") as writer:\n",
    "      # Loop over each spectra in MSI\n",
    "      for idx, (x, y, z) in tqdm(enumerate(reader.coordinates),\n",
    "                                 total=len(reader.coordinates),\n",
    "                                 desc=\"Spectra Loop\"):\n",
    "        # Check if spectra is in ROI boundaries\n",
    "        if ((roi.x_min <= x) & (roi.x_max >= x) & (roi.y_min <= y) &\n",
    "            (roi.y_max >= y)):\n",
    "          # Read spectra from MSI\n",
    "          raw_mzs, raw_intensities = reader.getspectrum(idx)\n",
    "          # Apply preprocessing pipe\n",
    "          preprocessed_mzs, preprocessed_intensities = pre_process_pipe(\n",
    "              raw_mzs, raw_intensities)\n",
    "          # Write spectra to ROI MSI but by ROIs coordinates\n",
    "          writer.addSpectrum(preprocessed_mzs, preprocessed_intensities,\n",
    "                             (x - roi.x_min + 1, y - roi.y_min + 1, z))"
   ]
  },
  {
   "cell_type": "markdown",
   "id": "b56a7430",
   "metadata": {},
   "source": [
    "### ***Visualizing preprocess on single spectra***\n",
    "\n",
    "Next, lets visualize the preprocess pipeline for a single spectra:"
   ]
  },
  {
   "cell_type": "code",
   "execution_count": 8,
   "id": "73b7ea7a",
   "metadata": {},
   "outputs": [
    {
     "data": {
      "image/png": "[encoded data removed]",
      "text/plain": [
       "<Figure size 1440x720 with 6 Axes>"
      ]
     },
     "metadata": {
      "needs_background": "light"
     },
     "output_type": "display_data"
    }
   ],
   "source": [
    "plt.rcParams.update({'font.size': 12})\n",
    "\n",
    "with ImzMLParser(\n",
    "    join(DATA_IN_PATH, f\"{metadata_df.file_name[3]}.imzML\")\n",
    ") as reader:\n",
    "  # Get single spectra\n",
    "  raw_mzs, raw_intensities = reader.getspectrum(2999)\n",
    "\n",
    "  # Preprocess spectrum\n",
    "  preprocessed_mzs, preprocessed_intensities = pre_process_pipe(\n",
    "      raw_mzs, raw_intensities\n",
    "  )\n",
    "\n",
    "  # Create plot\n",
    "  fig = plt.figure(figsize=(20, 10))\n",
    "\n",
    "  # Define colors for lines\n",
    "  color_raw = \"tab:red\"\n",
    "  color_preprocessed = \"tab:blue\"\n",
    "\n",
    "  # Get zoom in area for top left plot\n",
    "  lower_1 = 794\n",
    "  upper_1 = 795\n",
    "  idx_1_1 = (raw_mzs >= lower_1) & (raw_mzs <= upper_1)\n",
    "  idx_1_2 = (preprocessed_mzs >= lower_1) & (preprocessed_mzs <= upper_1)\n",
    "\n",
    "  # Get zoom in area for top right plot\n",
    "  lower_2 = 885\n",
    "  upper_2 = 886\n",
    "  idx_2_1 = (raw_mzs >= lower_2) & (raw_mzs <= upper_2)\n",
    "  idx_2_2 = (preprocessed_mzs >= lower_2) & (preprocessed_mzs <= upper_2)\n",
    "\n",
    "  # Top Plot\n",
    "  sub1_1 = fig.add_subplot(2, 2, (1, 2))\n",
    "  sub1_1.plot(raw_mzs, raw_intensities, color=color_raw)\n",
    "  sub1_1.tick_params(axis=\"y\", labelcolor=color_raw)\n",
    "  sub1_1.set_xlabel(\"M/Z\", fontsize=16)\n",
    "  sub1_1.set_ylabel(\"Raw intensity\", color=color_raw, labelpad=15, fontsize=16)\n",
    "\n",
    "  sub1_2 = sub1_1.twinx()\n",
    "  sub1_2.plot(\n",
    "      preprocessed_mzs, preprocessed_intensities, color=color_preprocessed\n",
    "  )\n",
    "  sub1_2.tick_params(axis=\"y\", labelcolor=color_preprocessed)\n",
    "  sub1_2.set_ylabel(\n",
    "      \"Preprocessed intensity\", color=color_preprocessed, labelpad=15,\n",
    "      fontsize=16\n",
    "  )\n",
    "\n",
    "  # Bottom left plot\n",
    "  sub2_1 = fig.add_subplot(2, 2, 3)\n",
    "  sub2_1.plot(raw_mzs[idx_1_1], raw_intensities[idx_1_1], color=color_raw)\n",
    "  sub2_1.tick_params(axis=\"y\", labelcolor=color_raw)\n",
    "  sub2_1.set_xlabel(\"M/Z\", fontsize=16)\n",
    "  sub2_1.set_ylabel(\"Raw intensity\", color=color_raw, labelpad=15, fontsize=16)\n",
    "\n",
    "  sub2_2 = sub2_1.twinx()\n",
    "  sub2_2.plot(\n",
    "      preprocessed_mzs[idx_1_2], preprocessed_intensities[idx_1_2],\n",
    "      color=color_preprocessed\n",
    "  )\n",
    "  sub2_2.tick_params(axis=\"y\", labelcolor=color_preprocessed)\n",
    "  sub2_2.set_ylabel(\n",
    "      \"Preprocessed intensity\", color=color_preprocessed, labelpad=15,\n",
    "      fontsize=16\n",
    "  )\n",
    "\n",
    "  # Bottom right plot\n",
    "  sub3_1 = fig.add_subplot(2, 2, 4)\n",
    "  sub3_1.plot(raw_mzs[idx_2_1], raw_intensities[idx_2_1], color=color_raw)\n",
    "  sub3_1.tick_params(axis=\"y\", labelcolor=color_raw)\n",
    "  sub3_1.set_xlabel(\"M/Z\", fontsize=16)\n",
    "  sub3_1.set_ylabel(\"Raw intensity\", color=color_raw, labelpad=15, fontsize=16)\n",
    "\n",
    "  sub3_2 = sub3_1.twinx()\n",
    "  sub3_2.plot(\n",
    "      preprocessed_mzs[idx_2_2], preprocessed_intensities[idx_2_2],\n",
    "      color=color_preprocessed\n",
    "  )\n",
    "  sub3_2.tick_params(axis=\"y\", labelcolor=color_preprocessed)\n",
    "  sub3_2.set_ylabel(\n",
    "      \"Preprocessed intensity\", color=color_preprocessed, labelpad=15,\n",
    "      fontsize=16\n",
    "  )\n",
    "\n",
    "  # Plots titles\n",
    "  sub1_1.set_title(\"Single spectra preprocess\", pad=10, fontsize=16)\n",
    "  sub2_1.set_title(f\"Zoom in [{lower_1}, {upper_1}]\", fontsize=16)\n",
    "  sub3_1.set_title(f\"Zoom in [{lower_2}, {upper_2}]\", fontsize=16)\n",
    "  sub3_1.tick_params(pad=15)\n",
    "\n",
    "  # Show plot\n",
    "  plt.tight_layout()\n",
    "  plt.savefig(\n",
    "      f\"{PLOTS_OUT_PATH}/single_spectra_preprocess.png\", transparent=True\n",
    "  )\n",
    "  plt.show()\n",
    "\n",
    "  # Save data for plot creation\n",
    "  pd.Series(raw_intensities, index=raw_mzs\n",
    "           ).to_csv(f\"{PLOTS_OUT_PATH}/raw_spectra.csv\", header=False)\n",
    "  pd.Series(preprocessed_intensities, index=preprocessed_mzs\n",
    "           ).to_csv(f\"{PLOTS_OUT_PATH}/preprocessed_spectra.csv\", header=False)"
   ]
  }
 ],
 "metadata": {
  "interpreter": {
   "hash": "5c73559c04fc51cf6f25e380b3ded5183311c605494f1c18f4c2cfbf285cb958"
  },
  "kernelspec": {
   "display_name": "Python 3.9.12 ('tf_gpu_jup')",
   "language": "python",
   "name": "python3"
  },
  "language_info": {
   "codemirror_mode": {
    "name": "ipython",
    "version": 3
   },
   "file_extension": ".py",
   "mimetype": "text/x-python",
   "name": "python",
   "nbconvert_exporter": "python",
   "pygments_lexer": "ipython3",
   "version": "3.9.12"
  },
  "widgets": {
   "application/vnd.jupyter.widget-state+json": {
    "state": {},
    "version_major": 2,
    "version_minor": 0
   }
  }
 },
 "nbformat": 4,
 "nbformat_minor": 5
}
