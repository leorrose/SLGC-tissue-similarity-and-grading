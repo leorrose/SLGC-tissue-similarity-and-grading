{
 "cells": [
  {
   "cell_type": "markdown",
   "metadata": {},
   "source": [
    "# ***EDA On The imzML-DESI Dataset***\n",
    "\n",
    "This notebook shows EDA on the imzML-DESI Dataset.\n",
    "\n"
   ]
  },
  {
   "cell_type": "markdown",
   "metadata": {},
   "source": [
    "### ***Import Packages:***"
   ]
  },
  {
   "cell_type": "code",
   "execution_count": 1,
   "metadata": {},
   "outputs": [],
   "source": [
    "import os\n",
    "import numpy as np\n",
    "import pandas as pd\n",
    "import seaborn as sns\n",
    "from matplotlib import pyplot as plt\n",
    "from pyimzml.ImzMLParser import ImzMLParser, getionimage\n",
    "from tqdm import tqdm\n",
    "from typing import Tuple\n",
    "\n",
    "sns.set_style(\"white\")\n",
    "%matplotlib inline"
   ]
  },
  {
   "cell_type": "markdown",
   "metadata": {},
   "source": [
    "### ***Define Global Variables***"
   ]
  },
  {
   "cell_type": "code",
   "execution_count": 3,
   "metadata": {},
   "outputs": [],
   "source": [
    "# path to folder containing the imzML files\n",
    "imzml_folder = 'imzml-DESI'\n",
    "# define the suffix of imzML files\n",
    "suffix = '.imzML'\n",
    "# define names of all imzML files\n",
    "files = ['HG 11-11-12-s', 'HG 12-11-r', 'HG 14-13-r', 'HG 14-13-s',\n",
    "         'HG 16-15-r', 'HG 16-15-s', 'HG 18-19-18-r', 'HG 19-18-s',\n",
    "         'HG 29-25-23-21-20-r', 'HG 29-25-23-21-20-s', 'HG 6-6-7-r',\n",
    "         'HG 6-7-s', 'HG 8-12-5-4-3-2-s', 'HG 8-5-4-3-2-r',\n",
    "         'HG 9-10-r', 'HG 9-10-s']"
   ]
  },
  {
   "cell_type": "markdown",
   "metadata": {},
   "source": [
    "### ***EDA***"
   ]
  },
  {
   "cell_type": "markdown",
   "metadata": {},
   "source": [
    "***Let's get the amount of pixels in all the dataset:***"
   ]
  },
  {
   "cell_type": "code",
   "execution_count": 4,
   "metadata": {},
   "outputs": [
    {
     "name": "stderr",
     "output_type": "stream",
     "text": [
      "100%|██████████| 16/16 [00:47<00:00,  2.96s/it]"
     ]
    },
    {
     "name": "stdout",
     "output_type": "stream",
     "text": [
      "Total number of pixels in the dataset 240162\n"
     ]
    },
    {
     "name": "stderr",
     "output_type": "stream",
     "text": [
      "\n"
     ]
    },
    {
     "data": {
      "text/html": [
       "<div>\n",
       "<style scoped>\n",
       "    .dataframe tbody tr th:only-of-type {\n",
       "        vertical-align: middle;\n",
       "    }\n",
       "\n",
       "    .dataframe tbody tr th {\n",
       "        vertical-align: top;\n",
       "    }\n",
       "\n",
       "    .dataframe thead th {\n",
       "        text-align: right;\n",
       "    }\n",
       "</style>\n",
       "<table border=\"1\" class=\"dataframe\">\n",
       "  <thead>\n",
       "    <tr style=\"text-align: right;\">\n",
       "      <th></th>\n",
       "      <th>pixel_count</th>\n",
       "    </tr>\n",
       "  </thead>\n",
       "  <tbody>\n",
       "    <tr>\n",
       "      <th>HG 6-7-s</th>\n",
       "      <td>5265</td>\n",
       "    </tr>\n",
       "    <tr>\n",
       "      <th>HG 9-10-s</th>\n",
       "      <td>6000</td>\n",
       "    </tr>\n",
       "    <tr>\n",
       "      <th>HG 19-18-s</th>\n",
       "      <td>6095</td>\n",
       "    </tr>\n",
       "    <tr>\n",
       "      <th>HG 12-11-r</th>\n",
       "      <td>7482</td>\n",
       "    </tr>\n",
       "    <tr>\n",
       "      <th>HG 14-13-s</th>\n",
       "      <td>7938</td>\n",
       "    </tr>\n",
       "    <tr>\n",
       "      <th>HG 16-15-s</th>\n",
       "      <td>10220</td>\n",
       "    </tr>\n",
       "    <tr>\n",
       "      <th>HG 6-6-7-r</th>\n",
       "      <td>10570</td>\n",
       "    </tr>\n",
       "    <tr>\n",
       "      <th>HG 16-15-r</th>\n",
       "      <td>12920</td>\n",
       "    </tr>\n",
       "    <tr>\n",
       "      <th>HG 11-11-12-s</th>\n",
       "      <td>14022</td>\n",
       "    </tr>\n",
       "    <tr>\n",
       "      <th>HG 14-13-r</th>\n",
       "      <td>14196</td>\n",
       "    </tr>\n",
       "    <tr>\n",
       "      <th>HG 9-10-r</th>\n",
       "      <td>15045</td>\n",
       "    </tr>\n",
       "    <tr>\n",
       "      <th>HG 29-25-23-21-20-s</th>\n",
       "      <td>23718</td>\n",
       "    </tr>\n",
       "    <tr>\n",
       "      <th>HG 18-19-18-r</th>\n",
       "      <td>24024</td>\n",
       "    </tr>\n",
       "    <tr>\n",
       "      <th>HG 8-12-5-4-3-2-s</th>\n",
       "      <td>26207</td>\n",
       "    </tr>\n",
       "    <tr>\n",
       "      <th>HG 29-25-23-21-20-r</th>\n",
       "      <td>27876</td>\n",
       "    </tr>\n",
       "    <tr>\n",
       "      <th>HG 8-5-4-3-2-r</th>\n",
       "      <td>28584</td>\n",
       "    </tr>\n",
       "  </tbody>\n",
       "</table>\n",
       "</div>"
      ],
      "text/plain": [
       "                     pixel_count\n",
       "HG 6-7-s                    5265\n",
       "HG 9-10-s                   6000\n",
       "HG 19-18-s                  6095\n",
       "HG 12-11-r                  7482\n",
       "HG 14-13-s                  7938\n",
       "HG 16-15-s                 10220\n",
       "HG 6-6-7-r                 10570\n",
       "HG 16-15-r                 12920\n",
       "HG 11-11-12-s              14022\n",
       "HG 14-13-r                 14196\n",
       "HG 9-10-r                  15045\n",
       "HG 29-25-23-21-20-s        23718\n",
       "HG 18-19-18-r              24024\n",
       "HG 8-12-5-4-3-2-s          26207\n",
       "HG 29-25-23-21-20-r        27876\n",
       "HG 8-5-4-3-2-r             28584"
      ]
     },
     "execution_count": 4,
     "metadata": {},
     "output_type": "execute_result"
    }
   ],
   "source": [
    "# list to store amount of pixels in replica\n",
    "pixel_count = []\n",
    "\n",
    "# loop over each imzML file\n",
    "for file in tqdm(files):\n",
    "    # read the imzML file\n",
    "    p = ImzMLParser(os.path.join(imzml_folder, file + suffix))\n",
    "    # add amount of pixels to list\n",
    "    pixel_count.append(len(p.coordinates))\n",
    "\n",
    "# create dataframe of file names and amount of pixels sorted ascending\n",
    "pixel_count_df = pd.DataFrame({'pixel_count': pixel_count}, index=files)\n",
    "\n",
    "# print number of total pixels in the dataset\n",
    "print(\"Total number of pixels in the dataset \"\n",
    "      f\"{pixel_count_df['pixel_count'].sum()}\")\n",
    "\n",
    "# print dataframe\n",
    "pixel_count_df.sort_values(by='pixel_count', ascending=True)"
   ]
  },
  {
   "cell_type": "markdown",
   "metadata": {},
   "source": [
    "***Let's get the amount of pixels in the section samples:***"
   ]
  },
  {
   "cell_type": "code",
   "execution_count": 5,
   "metadata": {},
   "outputs": [
    {
     "name": "stdout",
     "output_type": "stream",
     "text": [
      "Total number of pixels in section samples 99465\n"
     ]
    },
    {
     "data": {
      "text/html": [
       "<div>\n",
       "<style scoped>\n",
       "    .dataframe tbody tr th:only-of-type {\n",
       "        vertical-align: middle;\n",
       "    }\n",
       "\n",
       "    .dataframe tbody tr th {\n",
       "        vertical-align: top;\n",
       "    }\n",
       "\n",
       "    .dataframe thead th {\n",
       "        text-align: right;\n",
       "    }\n",
       "</style>\n",
       "<table border=\"1\" class=\"dataframe\">\n",
       "  <thead>\n",
       "    <tr style=\"text-align: right;\">\n",
       "      <th></th>\n",
       "      <th>pixel_count</th>\n",
       "    </tr>\n",
       "  </thead>\n",
       "  <tbody>\n",
       "    <tr>\n",
       "      <th>HG 11-11-12-s</th>\n",
       "      <td>14022</td>\n",
       "    </tr>\n",
       "    <tr>\n",
       "      <th>HG 14-13-s</th>\n",
       "      <td>7938</td>\n",
       "    </tr>\n",
       "    <tr>\n",
       "      <th>HG 16-15-s</th>\n",
       "      <td>10220</td>\n",
       "    </tr>\n",
       "    <tr>\n",
       "      <th>HG 19-18-s</th>\n",
       "      <td>6095</td>\n",
       "    </tr>\n",
       "    <tr>\n",
       "      <th>HG 29-25-23-21-20-s</th>\n",
       "      <td>23718</td>\n",
       "    </tr>\n",
       "    <tr>\n",
       "      <th>HG 6-7-s</th>\n",
       "      <td>5265</td>\n",
       "    </tr>\n",
       "    <tr>\n",
       "      <th>HG 8-12-5-4-3-2-s</th>\n",
       "      <td>26207</td>\n",
       "    </tr>\n",
       "    <tr>\n",
       "      <th>HG 9-10-s</th>\n",
       "      <td>6000</td>\n",
       "    </tr>\n",
       "  </tbody>\n",
       "</table>\n",
       "</div>"
      ],
      "text/plain": [
       "                     pixel_count\n",
       "HG 11-11-12-s              14022\n",
       "HG 14-13-s                  7938\n",
       "HG 16-15-s                 10220\n",
       "HG 19-18-s                  6095\n",
       "HG 29-25-23-21-20-s        23718\n",
       "HG 6-7-s                    5265\n",
       "HG 8-12-5-4-3-2-s          26207\n",
       "HG 9-10-s                   6000"
      ]
     },
     "execution_count": 5,
     "metadata": {},
     "output_type": "execute_result"
    }
   ],
   "source": [
    "# filter the section samples\n",
    "pixel_count_df_s = pixel_count_df.loc[pixel_count_df.index.str.contains('s')]\n",
    "\n",
    "# print number of total pixels in section files\n",
    "print(\"Total number of pixels in section samples \"\n",
    "      f\"{pixel_count_df_s['pixel_count'].sum()}\")\n",
    "\n",
    "# print dataframe\n",
    "pixel_count_df_s"
   ]
  },
  {
   "cell_type": "markdown",
   "metadata": {},
   "source": [
    "***Let's get the amount of pixels in the replica samples:***"
   ]
  },
  {
   "cell_type": "code",
   "execution_count": 6,
   "metadata": {},
   "outputs": [
    {
     "name": "stdout",
     "output_type": "stream",
     "text": [
      "Total number of pixels in replica samples 140697\n"
     ]
    },
    {
     "data": {
      "text/html": [
       "<div>\n",
       "<style scoped>\n",
       "    .dataframe tbody tr th:only-of-type {\n",
       "        vertical-align: middle;\n",
       "    }\n",
       "\n",
       "    .dataframe tbody tr th {\n",
       "        vertical-align: top;\n",
       "    }\n",
       "\n",
       "    .dataframe thead th {\n",
       "        text-align: right;\n",
       "    }\n",
       "</style>\n",
       "<table border=\"1\" class=\"dataframe\">\n",
       "  <thead>\n",
       "    <tr style=\"text-align: right;\">\n",
       "      <th></th>\n",
       "      <th>pixel_count</th>\n",
       "    </tr>\n",
       "  </thead>\n",
       "  <tbody>\n",
       "    <tr>\n",
       "      <th>HG 12-11-r</th>\n",
       "      <td>7482</td>\n",
       "    </tr>\n",
       "    <tr>\n",
       "      <th>HG 14-13-r</th>\n",
       "      <td>14196</td>\n",
       "    </tr>\n",
       "    <tr>\n",
       "      <th>HG 16-15-r</th>\n",
       "      <td>12920</td>\n",
       "    </tr>\n",
       "    <tr>\n",
       "      <th>HG 18-19-18-r</th>\n",
       "      <td>24024</td>\n",
       "    </tr>\n",
       "    <tr>\n",
       "      <th>HG 29-25-23-21-20-r</th>\n",
       "      <td>27876</td>\n",
       "    </tr>\n",
       "    <tr>\n",
       "      <th>HG 6-6-7-r</th>\n",
       "      <td>10570</td>\n",
       "    </tr>\n",
       "    <tr>\n",
       "      <th>HG 8-5-4-3-2-r</th>\n",
       "      <td>28584</td>\n",
       "    </tr>\n",
       "    <tr>\n",
       "      <th>HG 9-10-r</th>\n",
       "      <td>15045</td>\n",
       "    </tr>\n",
       "  </tbody>\n",
       "</table>\n",
       "</div>"
      ],
      "text/plain": [
       "                     pixel_count\n",
       "HG 12-11-r                  7482\n",
       "HG 14-13-r                 14196\n",
       "HG 16-15-r                 12920\n",
       "HG 18-19-18-r              24024\n",
       "HG 29-25-23-21-20-r        27876\n",
       "HG 6-6-7-r                 10570\n",
       "HG 8-5-4-3-2-r             28584\n",
       "HG 9-10-r                  15045"
      ]
     },
     "execution_count": 6,
     "metadata": {},
     "output_type": "execute_result"
    }
   ],
   "source": [
    "# filter the section samples\n",
    "pixel_count_df_s = pixel_count_df.loc[pixel_count_df.index.str.contains('r')]\n",
    "\n",
    "# print number of total pixels in replica files\n",
    "print(\"Total number of pixels in replica samples \"\n",
    "      f\"{pixel_count_df_s['pixel_count'].sum()}\")\n",
    "\n",
    "# print dataframe\n",
    "pixel_count_df_s"
   ]
  },
  {
   "cell_type": "markdown",
   "metadata": {},
   "source": [
    "***Let's define a method to get info from a single imzML file:***"
   ]
  },
  {
   "cell_type": "code",
   "execution_count": 7,
   "metadata": {},
   "outputs": [],
   "source": [
    "def imzml_info(file) -> Tuple[pd.DataFrame, np.ndarray]:\n",
    "    \"\"\"\n",
    "    Function to get information about a single imzML file.\n",
    "    The info is a dataframe containing for each pixel the following: \n",
    "        [x coordinate, y coordinate, mz max value, mz max value,\n",
    "        mz number of values, mz number of non zero values]\n",
    "    And an array containing unique values from all pixels mz array.\n",
    "\n",
    "    Args:\n",
    "        file (str): file name located in imzml_folder without suffix\n",
    "\n",
    "    Returns:\n",
    "        pd.DataFrame: all the info on the specific imzML file\n",
    "    \"\"\"\n",
    "    # read the imzML file\n",
    "    p = ImzMLParser(os.path.join(imzml_folder, file + suffix))\n",
    "    # list to store pixels x-value\n",
    "    xs = []\n",
    "    # list to store pixels y-value\n",
    "    ys = []\n",
    "    # list to store pixels max mz value\n",
    "    mzs_max = []\n",
    "    # list to store pixels min mz value\n",
    "    mzs_min = []\n",
    "    # list to store pixels mz number of values\n",
    "    mzs_len = []\n",
    "    # list to store pixels mz number of non zero values\n",
    "    non_zero_mzs = []\n",
    "    # array to store unique values from all pixels mz array\n",
    "    mzs_unique_values = np.asarray([])\n",
    "\n",
    "    # loop over each coordinate in image\n",
    "    for idx, (x, y, _) in enumerate(p.coordinates):\n",
    "        # get pixel mz and intensity\n",
    "        mzs, intensities = p.getspectrum(idx)\n",
    "        # add pixel x-value\n",
    "        xs.append(x)\n",
    "        # add pixel y-value\n",
    "        ys.append(y)\n",
    "        # add pixel max mz value\n",
    "        mzs_max.append(mzs.max())\n",
    "        # add pixel min mz value\n",
    "        mzs_min.append(mzs.min())\n",
    "        # add pixel mz number of values\n",
    "        mzs_len.append(mzs.shape[0])\n",
    "        # add pixel mz number of non zero values\n",
    "        non_zero_mzs.append(np.count_nonzero(intensities))\n",
    "        # update unique values\n",
    "        mzs_unique_values = np.unique(np.concatenate((mzs_unique_values, mzs),0))\n",
    "\n",
    "    # create dataframe\n",
    "    df = pd.DataFrame({'x': xs, 'y': ys, 'mz_max': mzs_max,\n",
    "                       'mz_min': mzs_min, 'mz_values_number': mzs_len,\n",
    "                       'mz_non_zero_values_number': non_zero_mzs,\n",
    "                       })\n",
    "    return (df, mzs_unique_values)\n"
   ]
  },
  {
   "cell_type": "markdown",
   "metadata": {},
   "source": [
    "***Let's get info from every imzML file:***"
   ]
  },
  {
   "cell_type": "code",
   "execution_count": 8,
   "metadata": {},
   "outputs": [
    {
     "name": "stderr",
     "output_type": "stream",
     "text": [
      "100%|██████████| 16/16 [1:02:38<00:00, 234.90s/it]\n"
     ]
    }
   ],
   "source": [
    "# list to store each imzML file info dataframe\n",
    "dataframes = []\n",
    "# list to store each imzML file unique mz values\n",
    "mz_values = []\n",
    "\n",
    "# loop over each imzML file\n",
    "for file in tqdm(files):\n",
    "    # get imzML file info\n",
    "    info = imzml_info(file)\n",
    "    # add file name to each imzml info dataframe\n",
    "    info[0]['file'] = file\n",
    "    # add the imzML file info dataframe\n",
    "    dataframes.append(info[0])\n",
    "    # add the imzML file unique mz values\n",
    "    mz_values.append(info[1])\n",
    "\n",
    "\n",
    "# create a combine imzml info dataframe\n",
    "combined_df = pd.concat(dataframes, ignore_index=True)\n",
    "\n",
    "# get the unique mz values from all files\n",
    "unique_mz_values = np.unique(np.asarray(mz_values).flatten())"
   ]
  },
  {
   "cell_type": "markdown",
   "metadata": {},
   "source": [
    "***Let's see if all pixels have tha same mz range (min and max mz value):***"
   ]
  },
  {
   "cell_type": "code",
   "execution_count": 9,
   "metadata": {},
   "outputs": [
    {
     "name": "stdout",
     "output_type": "stream",
     "text": [
      "[1200.12402344]\n",
      "[49.94447708]\n"
     ]
    }
   ],
   "source": [
    "print(combined_df['mz_max'].unique())\n",
    "print(combined_df['mz_min'].unique())"
   ]
  },
  {
   "cell_type": "markdown",
   "metadata": {},
   "source": [
    "***Let's see if all pixels have tha same number of mz values:***"
   ]
  },
  {
   "cell_type": "code",
   "execution_count": 10,
   "metadata": {},
   "outputs": [
    {
     "name": "stdout",
     "output_type": "stream",
     "text": [
      "[205411 197502 208580 ... 241798 244807 246555]\n"
     ]
    }
   ],
   "source": [
    "print(combined_df['mz_values_number'].unique())"
   ]
  },
  {
   "cell_type": "markdown",
   "metadata": {},
   "source": [
    "***Let's see what is the number of mz values range (min and max number of mz values):***"
   ]
  },
  {
   "cell_type": "code",
   "execution_count": 11,
   "metadata": {},
   "outputs": [
    {
     "name": "stdout",
     "output_type": "stream",
     "text": [
      "262484\n",
      "2\n"
     ]
    }
   ],
   "source": [
    "print(combined_df['mz_values_number'].max())\n",
    "print(combined_df['mz_values_number'].min())"
   ]
  },
  {
   "cell_type": "markdown",
   "metadata": {},
   "source": [
    "***Let's see if all pixels have tha same number of non zero mz values:***"
   ]
  },
  {
   "cell_type": "code",
   "execution_count": 12,
   "metadata": {},
   "outputs": [
    {
     "name": "stdout",
     "output_type": "stream",
     "text": [
      "[151048 140775 153589 ... 205916 207759 205398]\n"
     ]
    }
   ],
   "source": [
    "print(combined_df['mz_non_zero_values_number'].unique())"
   ]
  },
  {
   "cell_type": "markdown",
   "metadata": {},
   "source": [
    "***Let's s check how many unique mz values we have:***"
   ]
  },
  {
   "cell_type": "code",
   "execution_count": 13,
   "metadata": {},
   "outputs": [
    {
     "data": {
      "text/plain": [
       "(269261,)"
      ]
     },
     "execution_count": 13,
     "metadata": {},
     "output_type": "execute_result"
    }
   ],
   "source": [
    "unique_mz_values.shape"
   ]
  }
 ],
 "metadata": {
  "interpreter": {
   "hash": "40356727b1b224ccfec7ec7fed03620f3274a82d75c1e743ef0b920cb4e4207a"
  },
  "kernelspec": {
   "display_name": "Python 3 (ipykernel)",
   "language": "python",
   "name": "python3"
  },
  "language_info": {
   "codemirror_mode": {
    "name": "ipython",
    "version": 3
   },
   "file_extension": ".py",
   "mimetype": "text/x-python",
   "name": "python",
   "nbconvert_exporter": "python",
   "pygments_lexer": "ipython3",
   "version": "3.7.11"
  }
 },
 "nbformat": 4,
 "nbformat_minor": 4
}
