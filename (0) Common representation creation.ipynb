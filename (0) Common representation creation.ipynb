{
 "cells": [
  {
   "cell_type": "markdown",
   "id": "dd1b4a0c-ea8e-49dd-bfca-165f027d16a7",
   "metadata": {},
   "source": [
    "# ***Common representation creation***\n",
    "\n",
    "This notebook shows the preprocess of creating a common representation of each spectra."
   ]
  },
  {
   "cell_type": "markdown",
   "id": "38d1dfa3-20c8-4f8a-b745-5259d5769518",
   "metadata": {},
   "source": [
    "### ***Import packages***\n",
    "\n",
    "Before we begin, let's import all the necessary packages for this notebook:"
   ]
  },
  {
   "cell_type": "code",
   "execution_count": 1,
   "id": "861403b3-e294-4e80-b7bd-eb06029addd4",
   "metadata": {},
   "outputs": [],
   "source": [
    "import numpy as np\n",
    "import pandas as pd\n",
    "import seaborn as sns\n",
    "from typing import Tuple\n",
    "from os.path import join\n",
    "from pathlib import Path\n",
    "from matplotlib import pyplot as plt\n",
    "from pyimzml.ImzMLParser import ImzMLParser\n",
    "from pyimzml.ImzMLWriter import ImzMLWriter\n",
    "from tqdm.notebook import tqdm\n",
    "\n",
    "# Define figure defaults\n",
    "sns.set_style(\"white\")\n",
    "sns.set_context(\"paper\")"
   ]
  },
  {
   "cell_type": "markdown",
   "id": "84646953-1645-4c9c-bc46-a043a81b69b1",
   "metadata": {},
   "source": [
    "### ***Constants definitions***\n",
    "\n",
    "Next, let's define some constant variables for this notebook:"
   ]
  },
  {
   "cell_type": "code",
   "execution_count": 2,
   "id": "8ecb1dfb-0a5b-44b7-b982-3127909b6d00",
   "metadata": {},
   "outputs": [],
   "source": [
    "# Define folder that contains the dhg dataset\n",
    "DHG_PATH = \"./DHG/\"\n",
    "# Define folder that contains level 0 data\n",
    "LEVEL_0_PATH = f\"{DHG_PATH}/level_0\"\n",
    "# Define folder to save level 1 data\n",
    "LEVEL_1_PATH = f\"{DHG_PATH}/level_1\"\n",
    "# Define file that contains dhg metadata\n",
    "METADATA_PATH = f\"{DHG_PATH}/metadata.csv\"\n",
    "# Define path to save figures\n",
    "FIGURES_PATH = \"./figures/common_representation_creation\"\n",
    "# Define mass range start value\n",
    "MZ_START = 50\n",
    "# Define mass range end value\n",
    "MZ_END = 1200\n",
    "# Define mass resolution of the data\n",
    "MASS_RESOLUTION = 0.025"
   ]
  },
  {
   "cell_type": "markdown",
   "id": "90a81749-fe0d-4f7e-93ad-6efed71067e1",
   "metadata": {},
   "source": [
    "### ***Creating output folder***\n",
    "\n",
    "Next, let's create the output folders:"
   ]
  },
  {
   "cell_type": "code",
   "execution_count": 3,
   "id": "6dd4c79d-a5b9-41ac-a1b1-ebe0d3ac40dd",
   "metadata": {},
   "outputs": [],
   "source": [
    "# Create output folder if doesn't exist\n",
    "Path(LEVEL_1_PATH).mkdir(parents=True, exist_ok=True)\n",
    "Path(FIGURES_PATH).mkdir(parents=True, exist_ok=True)"
   ]
  },
  {
   "cell_type": "markdown",
   "id": "dc88cdfc-3d38-47b7-9894-bfbe73c3f0bb",
   "metadata": {
    "tags": []
   },
   "source": [
    "### ***Reading MSI metadata***\n",
    "\n",
    "Next, lets read the metadata file:"
   ]
  },
  {
   "cell_type": "code",
   "execution_count": 4,
   "id": "667fa007-a807-4e36-a3ed-9ab527ddca04",
   "metadata": {
    "tags": []
   },
   "outputs": [],
   "source": [
    "# Read metadata csv\n",
    "metadata_df = pd.read_csv(METADATA_PATH)"
   ]
  },
  {
   "cell_type": "markdown",
   "id": "09256232",
   "metadata": {},
   "source": [
    "### ***Creating spectra binning class***\n",
    "\n",
    "Next, lets create the class for binning a spectra:"
   ]
  },
  {
   "cell_type": "code",
   "execution_count": 5,
   "id": "c8cca85b",
   "metadata": {},
   "outputs": [],
   "source": [
    "class EqualWidthBinning():\n",
    "  \"\"\"Equal width spectra binning.\n",
    "\n",
    "  \"\"\"\n",
    "\n",
    "  def __init__(self, mz_start: float, mz_end: float, bin_width: float) -> None:\n",
    "    \"\"\"__init__ method.\n",
    "\n",
    "    Args:\n",
    "        mz_start (float): Mz spectra range start.\n",
    "        mz_end (float): Mz spectra range end.\n",
    "        bin_width (float): Binning bin width.\n",
    "\n",
    "    \"\"\"\n",
    "    super().__init__()\n",
    "\n",
    "    # Calculate number of bins\n",
    "    num_bins = int((mz_end - mz_start) / bin_width)\n",
    "    # Create bin edges array of equal width bins from mz_start to\n",
    "    # mz_end with bin_width\n",
    "    self.bin_edges = np.around(np.linspace(mz_start, mz_end, num_bins + 1), 5)\n",
    "    # Create bin centers array of equal width bins from mz_start to\n",
    "    # mz_end with bin_width\n",
    "    self.bin_centers = 0.5 * (self.bin_edges[1:] + self.bin_edges[:-1])\n",
    "\n",
    "  def bin(\n",
    "      self, spectra: Tuple[np.ndarray, np.ndarray]\n",
    "  ) -> Tuple[np.ndarray, np.ndarray]:\n",
    "    \"\"\"Method to bin spectra\n",
    "\n",
    "    Args:\n",
    "        spectra (Tuple[np.ndarray, np.ndarray]): First element is mz values\n",
    "        array of spectra and second element is the intensity values array\n",
    "        of spectra.\n",
    "\n",
    "    Returns:\n",
    "        Tuple[np.ndarray, np.ndarray]: First element is mz values array of\n",
    "        spectra and second element is normalized intensity values array\n",
    "        of spectra.\n",
    "\n",
    "    \"\"\"\n",
    "    # Unpack spectra\n",
    "    mzs, intensities = np.copy(spectra)\n",
    "\n",
    "    # If no mz values\n",
    "    if np.array_equal(mzs, []):\n",
    "      return self.bin_centers, np.zeros(self.bin_centers.shape)\n",
    "\n",
    "    # Assign each mz value to its corresponding bin index\n",
    "    bin_index = np.digitize(mzs, self.bin_edges)\n",
    "\n",
    "    # Make sure index of spectra shape appears in bin_index\n",
    "    # for shape consistency\n",
    "    bin_index = np.append(bin_index, self.bin_centers.shape[0])\n",
    "    intensities = np.append(intensities, 0)\n",
    "\n",
    "    # Assign values beyond the bounds of bins to first and last bin\n",
    "    # if they are smaller\\larger than bounds respectively\n",
    "    bin_index[bin_index == 0] = 1\n",
    "    bin_index[bin_index == len(self.bin_edges)] = len(self.bin_edges) - 1\n",
    "\n",
    "    # 0 index\n",
    "    bin_index -= 1\n",
    "\n",
    "    # Sum value of each bins\n",
    "    bin_sums = np.bincount(bin_index, weights=intensities)\n",
    "\n",
    "    return self.bin_centers, bin_sums"
   ]
  },
  {
   "cell_type": "markdown",
   "id": "e0baade9",
   "metadata": {},
   "source": [
    "### ***Creating spectra normalization class***\n",
    "\n",
    "Next, lets create the class for normalizing a spectra:"
   ]
  },
  {
   "cell_type": "code",
   "execution_count": 6,
   "id": "a830da9d",
   "metadata": {},
   "outputs": [],
   "source": [
    "class TICNormalizer():\n",
    "  \"\"\"Total Ion Count normalizer.\n",
    "\n",
    "  \"\"\"\n",
    "\n",
    "  @classmethod\n",
    "  def normalize(\n",
    "      cls, spectra: Tuple[np.ndarray, np.ndarray], epsilon: float = 0.001\n",
    "  ) -> Tuple[np.ndarray, np.ndarray]:\n",
    "    \"\"\"Method to normalize a spectra\n",
    "\n",
    "    Args:\n",
    "        spectra (Tuple[np.ndarray, np.ndarray]): First element is the mz values\n",
    "        array of spectra and second element is the intensity values array\n",
    "        of spectra.\n",
    "        epsilon (float): Small float added to denominator to avoid zero\n",
    "        division.\n",
    "\n",
    "    Returns:\n",
    "        Tuple[np.ndarray, np.ndarray]: First element is the mz values array of\n",
    "        spectra and second element is the normalized intensity values array\n",
    "        of spectra.\n",
    "\n",
    "    \"\"\"\n",
    "    # Unpack spectra\n",
    "    mzs, intensities = np.copy(spectra)\n",
    "    # Return tic normalized\n",
    "    return (mzs, intensities / (intensities.sum() + epsilon))"
   ]
  },
  {
   "cell_type": "markdown",
   "id": "348388d4-28dc-4b77-9cf2-74976f688b27",
   "metadata": {
    "tags": []
   },
   "source": [
    "### ***Creating spectra process pipeline***\n",
    "\n",
    "Next, lets create the process pipeline for each spectra in the image:"
   ]
  },
  {
   "cell_type": "code",
   "execution_count": 7,
   "id": "3132413d-ee30-4c15-9846-18b6658fa02a",
   "metadata": {},
   "outputs": [],
   "source": [
    "# Get normalizer object\n",
    "normalizer = TICNormalizer()\n",
    "# Get binning object\n",
    "binning = EqualWidthBinning(MZ_START, MZ_END, MASS_RESOLUTION / 2)\n",
    "# Create process pipe\n",
    "process_pipe = (\n",
    "    lambda mzs, intensities:\n",
    "    (binning.bin(normalizer.normalize((mzs, intensities))))\n",
    ")"
   ]
  },
  {
   "cell_type": "markdown",
   "id": "11cfe56b-a4e4-485d-92cb-3d8b22e78804",
   "metadata": {},
   "source": [
    "### ***Preprocess each MSI***\n",
    "\n",
    "Next, let's process each MSI spectra. For each sample (ROI) we extract the sample from the MSI, and for each ROI we preprocess all spectra's using spectra preprocess pipeline:"
   ]
  },
  {
   "cell_type": "code",
   "execution_count": 8,
   "id": "49c9fc15-3717-4b9c-8eb5-09d0f59bd0ff",
   "metadata": {},
   "outputs": [
    {
     "data": {
      "application/vnd.jupyter.widget-view+json": {
       "model_id": "37129b5d1b1a4cd1bf367bb52b5ae915",
       "version_major": 2,
       "version_minor": 0
      },
      "text/plain": [
       "ROIs Loop:   0%|          | 0/50 [00:00<?, ?it/s]"
      ]
     },
     "metadata": {},
     "output_type": "display_data"
    },
    {
     "data": {
      "application/vnd.jupyter.widget-view+json": {
       "model_id": "3e0cf1036bba421a9af988fd14f06632",
       "version_major": 2,
       "version_minor": 0
      },
      "text/plain": [
       "Spectra Loop:   0%|          | 0/14022 [00:00<?, ?it/s]"
      ]
     },
     "metadata": {},
     "output_type": "display_data"
    },
    {
     "data": {
      "application/vnd.jupyter.widget-view+json": {
       "model_id": "7b363712719b44a59e74e0d8bbcf7f35",
       "version_major": 2,
       "version_minor": 0
      },
      "text/plain": [
       "Spectra Loop:   0%|          | 0/14022 [00:00<?, ?it/s]"
      ]
     },
     "metadata": {},
     "output_type": "display_data"
    },
    {
     "data": {
      "application/vnd.jupyter.widget-view+json": {
       "model_id": "8783c98affe54fe390cdb32721cc4c99",
       "version_major": 2,
       "version_minor": 0
      },
      "text/plain": [
       "Spectra Loop:   0%|          | 0/14022 [00:00<?, ?it/s]"
      ]
     },
     "metadata": {},
     "output_type": "display_data"
    },
    {
     "data": {
      "application/vnd.jupyter.widget-view+json": {
       "model_id": "a57524c476b044329515314b55eded1c",
       "version_major": 2,
       "version_minor": 0
      },
      "text/plain": [
       "Spectra Loop:   0%|          | 0/7482 [00:00<?, ?it/s]"
      ]
     },
     "metadata": {},
     "output_type": "display_data"
    },
    {
     "data": {
      "application/vnd.jupyter.widget-view+json": {
       "model_id": "b60baff352de4f9eae951bc7da44b312",
       "version_major": 2,
       "version_minor": 0
      },
      "text/plain": [
       "Spectra Loop:   0%|          | 0/7482 [00:00<?, ?it/s]"
      ]
     },
     "metadata": {},
     "output_type": "display_data"
    },
    {
     "data": {
      "application/vnd.jupyter.widget-view+json": {
       "model_id": "4c03ba5cd3fd4694a6f31efa63af3a38",
       "version_major": 2,
       "version_minor": 0
      },
      "text/plain": [
       "Spectra Loop:   0%|          | 0/14196 [00:00<?, ?it/s]"
      ]
     },
     "metadata": {},
     "output_type": "display_data"
    },
    {
     "data": {
      "application/vnd.jupyter.widget-view+json": {
       "model_id": "d4f0c60d3f234126bf5c96b749013f60",
       "version_major": 2,
       "version_minor": 0
      },
      "text/plain": [
       "Spectra Loop:   0%|          | 0/14196 [00:00<?, ?it/s]"
      ]
     },
     "metadata": {},
     "output_type": "display_data"
    },
    {
     "data": {
      "application/vnd.jupyter.widget-view+json": {
       "model_id": "debd7820bc6e45f28570f5c6fe45f20f",
       "version_major": 2,
       "version_minor": 0
      },
      "text/plain": [
       "Spectra Loop:   0%|          | 0/7938 [00:00<?, ?it/s]"
      ]
     },
     "metadata": {},
     "output_type": "display_data"
    },
    {
     "data": {
      "application/vnd.jupyter.widget-view+json": {
       "model_id": "235b2444d30c496a90b43136278546d8",
       "version_major": 2,
       "version_minor": 0
      },
      "text/plain": [
       "Spectra Loop:   0%|          | 0/7938 [00:00<?, ?it/s]"
      ]
     },
     "metadata": {},
     "output_type": "display_data"
    },
    {
     "data": {
      "application/vnd.jupyter.widget-view+json": {
       "model_id": "a31be4e805834c5193762fcc6dc41331",
       "version_major": 2,
       "version_minor": 0
      },
      "text/plain": [
       "Spectra Loop:   0%|          | 0/12920 [00:00<?, ?it/s]"
      ]
     },
     "metadata": {},
     "output_type": "display_data"
    },
    {
     "data": {
      "application/vnd.jupyter.widget-view+json": {
       "model_id": "09c94112c5a94b02a5d22d3fe4d3aab7",
       "version_major": 2,
       "version_minor": 0
      },
      "text/plain": [
       "Spectra Loop:   0%|          | 0/12920 [00:00<?, ?it/s]"
      ]
     },
     "metadata": {},
     "output_type": "display_data"
    },
    {
     "data": {
      "application/vnd.jupyter.widget-view+json": {
       "model_id": "e6ae326fb50f44cab63d69fa0567e7a5",
       "version_major": 2,
       "version_minor": 0
      },
      "text/plain": [
       "Spectra Loop:   0%|          | 0/10220 [00:00<?, ?it/s]"
      ]
     },
     "metadata": {},
     "output_type": "display_data"
    },
    {
     "data": {
      "application/vnd.jupyter.widget-view+json": {
       "model_id": "9d42d4d5a45e435e83bb9ac9616fb331",
       "version_major": 2,
       "version_minor": 0
      },
      "text/plain": [
       "Spectra Loop:   0%|          | 0/10220 [00:00<?, ?it/s]"
      ]
     },
     "metadata": {},
     "output_type": "display_data"
    },
    {
     "data": {
      "application/vnd.jupyter.widget-view+json": {
       "model_id": "5d3788c9f4a545f09f9597cca2941248",
       "version_major": 2,
       "version_minor": 0
      },
      "text/plain": [
       "Spectra Loop:   0%|          | 0/24024 [00:00<?, ?it/s]"
      ]
     },
     "metadata": {},
     "output_type": "display_data"
    },
    {
     "data": {
      "application/vnd.jupyter.widget-view+json": {
       "model_id": "a869e830a5ea4475bad807c8fac3693c",
       "version_major": 2,
       "version_minor": 0
      },
      "text/plain": [
       "Spectra Loop:   0%|          | 0/24024 [00:00<?, ?it/s]"
      ]
     },
     "metadata": {},
     "output_type": "display_data"
    },
    {
     "data": {
      "application/vnd.jupyter.widget-view+json": {
       "model_id": "bb538f20767d48e681f915d63ef973bc",
       "version_major": 2,
       "version_minor": 0
      },
      "text/plain": [
       "Spectra Loop:   0%|          | 0/24024 [00:00<?, ?it/s]"
      ]
     },
     "metadata": {},
     "output_type": "display_data"
    },
    {
     "data": {
      "application/vnd.jupyter.widget-view+json": {
       "model_id": "3d587e2712ad4bc886ca4ed12770d902",
       "version_major": 2,
       "version_minor": 0
      },
      "text/plain": [
       "Spectra Loop:   0%|          | 0/6095 [00:00<?, ?it/s]"
      ]
     },
     "metadata": {},
     "output_type": "display_data"
    },
    {
     "data": {
      "application/vnd.jupyter.widget-view+json": {
       "model_id": "f4f6e5dc7dac4fe580bdd09b7f2e66e4",
       "version_major": 2,
       "version_minor": 0
      },
      "text/plain": [
       "Spectra Loop:   0%|          | 0/6095 [00:00<?, ?it/s]"
      ]
     },
     "metadata": {},
     "output_type": "display_data"
    },
    {
     "data": {
      "application/vnd.jupyter.widget-view+json": {
       "model_id": "6edf674e76704b4a8b73b6ecadeddc04",
       "version_major": 2,
       "version_minor": 0
      },
      "text/plain": [
       "Spectra Loop:   0%|          | 0/27876 [00:00<?, ?it/s]"
      ]
     },
     "metadata": {},
     "output_type": "display_data"
    },
    {
     "data": {
      "application/vnd.jupyter.widget-view+json": {
       "model_id": "a6707e8949b643ebb29bdb61089c3190",
       "version_major": 2,
       "version_minor": 0
      },
      "text/plain": [
       "Spectra Loop:   0%|          | 0/27876 [00:00<?, ?it/s]"
      ]
     },
     "metadata": {},
     "output_type": "display_data"
    },
    {
     "data": {
      "application/vnd.jupyter.widget-view+json": {
       "model_id": "25d7b0bf50724c9da24347ddfab61b48",
       "version_major": 2,
       "version_minor": 0
      },
      "text/plain": [
       "Spectra Loop:   0%|          | 0/27876 [00:00<?, ?it/s]"
      ]
     },
     "metadata": {},
     "output_type": "display_data"
    },
    {
     "data": {
      "application/vnd.jupyter.widget-view+json": {
       "model_id": "5b75d42950ce43e68671ccd9d68085cf",
       "version_major": 2,
       "version_minor": 0
      },
      "text/plain": [
       "Spectra Loop:   0%|          | 0/27876 [00:00<?, ?it/s]"
      ]
     },
     "metadata": {},
     "output_type": "display_data"
    },
    {
     "data": {
      "application/vnd.jupyter.widget-view+json": {
       "model_id": "b060205b061c42f2b6e7b014bb78ef5e",
       "version_major": 2,
       "version_minor": 0
      },
      "text/plain": [
       "Spectra Loop:   0%|          | 0/27876 [00:00<?, ?it/s]"
      ]
     },
     "metadata": {},
     "output_type": "display_data"
    },
    {
     "data": {
      "application/vnd.jupyter.widget-view+json": {
       "model_id": "c5f078cecbed4439bccb1b66f8cc7234",
       "version_major": 2,
       "version_minor": 0
      },
      "text/plain": [
       "Spectra Loop:   0%|          | 0/23718 [00:00<?, ?it/s]"
      ]
     },
     "metadata": {},
     "output_type": "display_data"
    },
    {
     "data": {
      "application/vnd.jupyter.widget-view+json": {
       "model_id": "18a61df2f3f847c68d75a1b32570989d",
       "version_major": 2,
       "version_minor": 0
      },
      "text/plain": [
       "Spectra Loop:   0%|          | 0/23718 [00:00<?, ?it/s]"
      ]
     },
     "metadata": {},
     "output_type": "display_data"
    },
    {
     "data": {
      "application/vnd.jupyter.widget-view+json": {
       "model_id": "7850cfa18bf84db6b55bc025b9956418",
       "version_major": 2,
       "version_minor": 0
      },
      "text/plain": [
       "Spectra Loop:   0%|          | 0/23718 [00:00<?, ?it/s]"
      ]
     },
     "metadata": {},
     "output_type": "display_data"
    },
    {
     "data": {
      "application/vnd.jupyter.widget-view+json": {
       "model_id": "9b1f2fe2eb8c4e14b8997721d3177886",
       "version_major": 2,
       "version_minor": 0
      },
      "text/plain": [
       "Spectra Loop:   0%|          | 0/23718 [00:00<?, ?it/s]"
      ]
     },
     "metadata": {},
     "output_type": "display_data"
    },
    {
     "data": {
      "application/vnd.jupyter.widget-view+json": {
       "model_id": "b8b8ff1c620046e0bf38896869551a43",
       "version_major": 2,
       "version_minor": 0
      },
      "text/plain": [
       "Spectra Loop:   0%|          | 0/23718 [00:00<?, ?it/s]"
      ]
     },
     "metadata": {},
     "output_type": "display_data"
    },
    {
     "data": {
      "application/vnd.jupyter.widget-view+json": {
       "model_id": "00c417ba1b434e3e927ae971a1baf4c4",
       "version_major": 2,
       "version_minor": 0
      },
      "text/plain": [
       "Spectra Loop:   0%|          | 0/10570 [00:00<?, ?it/s]"
      ]
     },
     "metadata": {},
     "output_type": "display_data"
    },
    {
     "data": {
      "application/vnd.jupyter.widget-view+json": {
       "model_id": "a75a41b87c2c441daa2b5c5e65b79997",
       "version_major": 2,
       "version_minor": 0
      },
      "text/plain": [
       "Spectra Loop:   0%|          | 0/10570 [00:00<?, ?it/s]"
      ]
     },
     "metadata": {},
     "output_type": "display_data"
    },
    {
     "data": {
      "application/vnd.jupyter.widget-view+json": {
       "model_id": "23ec9d46af0c4f1f93e535a7b1a7f727",
       "version_major": 2,
       "version_minor": 0
      },
      "text/plain": [
       "Spectra Loop:   0%|          | 0/10570 [00:00<?, ?it/s]"
      ]
     },
     "metadata": {},
     "output_type": "display_data"
    },
    {
     "data": {
      "application/vnd.jupyter.widget-view+json": {
       "model_id": "35abcc678b20470484b6a99b6a3b58b2",
       "version_major": 2,
       "version_minor": 0
      },
      "text/plain": [
       "Spectra Loop:   0%|          | 0/5265 [00:00<?, ?it/s]"
      ]
     },
     "metadata": {},
     "output_type": "display_data"
    },
    {
     "data": {
      "application/vnd.jupyter.widget-view+json": {
       "model_id": "265dffd25096428b822231f9609e4bf2",
       "version_major": 2,
       "version_minor": 0
      },
      "text/plain": [
       "Spectra Loop:   0%|          | 0/5265 [00:00<?, ?it/s]"
      ]
     },
     "metadata": {},
     "output_type": "display_data"
    },
    {
     "data": {
      "application/vnd.jupyter.widget-view+json": {
       "model_id": "551e485a8f5e48469a3caf43ee8a72d0",
       "version_major": 2,
       "version_minor": 0
      },
      "text/plain": [
       "Spectra Loop:   0%|          | 0/26207 [00:00<?, ?it/s]"
      ]
     },
     "metadata": {},
     "output_type": "display_data"
    },
    {
     "data": {
      "application/vnd.jupyter.widget-view+json": {
       "model_id": "587b760c6ffa423ebfabcddf540d30e6",
       "version_major": 2,
       "version_minor": 0
      },
      "text/plain": [
       "Spectra Loop:   0%|          | 0/26207 [00:00<?, ?it/s]"
      ]
     },
     "metadata": {},
     "output_type": "display_data"
    },
    {
     "data": {
      "application/vnd.jupyter.widget-view+json": {
       "model_id": "024a43e49b5449c7b15bb0daeeb61e9a",
       "version_major": 2,
       "version_minor": 0
      },
      "text/plain": [
       "Spectra Loop:   0%|          | 0/26207 [00:00<?, ?it/s]"
      ]
     },
     "metadata": {},
     "output_type": "display_data"
    },
    {
     "data": {
      "application/vnd.jupyter.widget-view+json": {
       "model_id": "6846435efa2f4c6b95e28465732609d5",
       "version_major": 2,
       "version_minor": 0
      },
      "text/plain": [
       "Spectra Loop:   0%|          | 0/26207 [00:00<?, ?it/s]"
      ]
     },
     "metadata": {},
     "output_type": "display_data"
    },
    {
     "data": {
      "application/vnd.jupyter.widget-view+json": {
       "model_id": "4619fa7416cb49d4949aa67ab6df9fcc",
       "version_major": 2,
       "version_minor": 0
      },
      "text/plain": [
       "Spectra Loop:   0%|          | 0/26207 [00:00<?, ?it/s]"
      ]
     },
     "metadata": {},
     "output_type": "display_data"
    },
    {
     "data": {
      "application/vnd.jupyter.widget-view+json": {
       "model_id": "9aa08fdf09584b89967442f9de8830f5",
       "version_major": 2,
       "version_minor": 0
      },
      "text/plain": [
       "Spectra Loop:   0%|          | 0/26207 [00:00<?, ?it/s]"
      ]
     },
     "metadata": {},
     "output_type": "display_data"
    },
    {
     "data": {
      "application/vnd.jupyter.widget-view+json": {
       "model_id": "48d142b357144cf993f13d3d22217717",
       "version_major": 2,
       "version_minor": 0
      },
      "text/plain": [
       "Spectra Loop:   0%|          | 0/28584 [00:00<?, ?it/s]"
      ]
     },
     "metadata": {},
     "output_type": "display_data"
    },
    {
     "data": {
      "application/vnd.jupyter.widget-view+json": {
       "model_id": "9c5c6193615049f2b449d64bee423141",
       "version_major": 2,
       "version_minor": 0
      },
      "text/plain": [
       "Spectra Loop:   0%|          | 0/28584 [00:00<?, ?it/s]"
      ]
     },
     "metadata": {},
     "output_type": "display_data"
    },
    {
     "data": {
      "application/vnd.jupyter.widget-view+json": {
       "model_id": "be8674f193b646029fe156ecd135219d",
       "version_major": 2,
       "version_minor": 0
      },
      "text/plain": [
       "Spectra Loop:   0%|          | 0/28584 [00:00<?, ?it/s]"
      ]
     },
     "metadata": {},
     "output_type": "display_data"
    },
    {
     "data": {
      "application/vnd.jupyter.widget-view+json": {
       "model_id": "680f879ba6764c05a15bfa2fd1c9b4ab",
       "version_major": 2,
       "version_minor": 0
      },
      "text/plain": [
       "Spectra Loop:   0%|          | 0/28584 [00:00<?, ?it/s]"
      ]
     },
     "metadata": {},
     "output_type": "display_data"
    },
    {
     "data": {
      "application/vnd.jupyter.widget-view+json": {
       "model_id": "6d323db72db04675965ddfc9dee5dcf4",
       "version_major": 2,
       "version_minor": 0
      },
      "text/plain": [
       "Spectra Loop:   0%|          | 0/28584 [00:00<?, ?it/s]"
      ]
     },
     "metadata": {},
     "output_type": "display_data"
    },
    {
     "data": {
      "application/vnd.jupyter.widget-view+json": {
       "model_id": "2a83e5a776d5420ba570b4b922697dfc",
       "version_major": 2,
       "version_minor": 0
      },
      "text/plain": [
       "Spectra Loop:   0%|          | 0/15045 [00:00<?, ?it/s]"
      ]
     },
     "metadata": {},
     "output_type": "display_data"
    },
    {
     "data": {
      "application/vnd.jupyter.widget-view+json": {
       "model_id": "13bf39f4198145a5a6aa844fe1f65003",
       "version_major": 2,
       "version_minor": 0
      },
      "text/plain": [
       "Spectra Loop:   0%|          | 0/15045 [00:00<?, ?it/s]"
      ]
     },
     "metadata": {},
     "output_type": "display_data"
    },
    {
     "data": {
      "application/vnd.jupyter.widget-view+json": {
       "model_id": "4691781536564c14a4c5474d7b9e70e0",
       "version_major": 2,
       "version_minor": 0
      },
      "text/plain": [
       "Spectra Loop:   0%|          | 0/6000 [00:00<?, ?it/s]"
      ]
     },
     "metadata": {},
     "output_type": "display_data"
    },
    {
     "data": {
      "application/vnd.jupyter.widget-view+json": {
       "model_id": "3a85da2b86ca45d0aa53cb51c72a1984",
       "version_major": 2,
       "version_minor": 0
      },
      "text/plain": [
       "Spectra Loop:   0%|          | 0/6000 [00:00<?, ?it/s]"
      ]
     },
     "metadata": {},
     "output_type": "display_data"
    },
    {
     "name": "stderr",
     "output_type": "stream",
     "text": [
      "c:\\Users\\Leor\\anaconda3\\envs\\tf_gpu_jup\\lib\\site-packages\\pyimzml\\ontology\\ontology.py:92: UserWarning: Accession MS:1000526 found with incorrect name \"Waters raw file\". Updating name to \"Waters raw format\".\n",
      "  warn(\n",
      "c:\\Users\\Leor\\anaconda3\\envs\\tf_gpu_jup\\lib\\site-packages\\pyimzml\\ontology\\ontology.py:92: UserWarning: Accession IMS:1000042 found with incorrect name \"max count of pixel x\". Updating name to \"max count of pixels x\".\n",
      "  warn(\n",
      "c:\\Users\\Leor\\anaconda3\\envs\\tf_gpu_jup\\lib\\site-packages\\pyimzml\\ontology\\ontology.py:92: UserWarning: Accession IMS:1000043 found with incorrect name \"max count of pixel y\". Updating name to \"max count of pixels y\".\n",
      "  warn(\n",
      "c:\\Users\\Leor\\anaconda3\\envs\\tf_gpu_jup\\lib\\site-packages\\pyimzml\\ontology\\ontology.py:92: UserWarning: Accession IMS:1000046 found with incorrect name \"pixel size\". Updating name to \"pixel size (x)\".\n",
      "  warn(\n"
     ]
    },
    {
     "data": {
      "application/vnd.jupyter.widget-view+json": {
       "model_id": "1a2b482e50a942b78e6d9e978adbfa62",
       "version_major": 2,
       "version_minor": 0
      },
      "text/plain": [
       "Spectra Loop:   0%|          | 0/4128 [00:00<?, ?it/s]"
      ]
     },
     "metadata": {},
     "output_type": "display_data"
    },
    {
     "data": {
      "application/vnd.jupyter.widget-view+json": {
       "model_id": "dd0ba6dd024c4b849072f33b53f27317",
       "version_major": 2,
       "version_minor": 0
      },
      "text/plain": [
       "Spectra Loop:   0%|          | 0/4424 [00:00<?, ?it/s]"
      ]
     },
     "metadata": {},
     "output_type": "display_data"
    }
   ],
   "source": [
    "# Loop over each ROI in data frame\n",
    "for index, roi in tqdm(\n",
    "    metadata_df.iterrows(), total=metadata_df.shape[0], desc=\"ROIs Loop\"\n",
    "):\n",
    "  # Parse the MSI file containing ROI\n",
    "  with ImzMLParser(join(LEVEL_0_PATH, f\"{roi.file_name}.imzML\")) as reader:\n",
    "    # Create a new MSI for ROI. because we apply binning\n",
    "    # we can use mode=\"continuous\"\n",
    "    with ImzMLWriter(\n",
    "        join(LEVEL_1_PATH, f\"{roi.sample_file_name}.imzML\"), mode=\"continuous\"\n",
    "    ) as writer:\n",
    "      # Loop over each spectra in MSI\n",
    "      for idx, (x, y, z) in tqdm(\n",
    "          enumerate(reader.coordinates), total=len(reader.coordinates),\n",
    "          desc=\"Spectra Loop\"\n",
    "      ):\n",
    "\n",
    "        # Check if spectra is in ROI boundaries\n",
    "        if (\n",
    "            (roi.x_min <= x - 1) & (roi.x_max >= x - 1) & (roi.y_min <= y - 1) &\n",
    "            (roi.y_max >= y - 1)\n",
    "        ):\n",
    "          # Read spectra from MSI\n",
    "          raw_mzs, raw_intensities = reader.getspectrum(idx)\n",
    "          # Apply processing pipe\n",
    "          preprocessed_mzs, preprocessed_intensities = process_pipe(\n",
    "              raw_mzs, raw_intensities\n",
    "          )\n",
    "          # Write spectra to ROI MSI but by ROIs coordinates\n",
    "          writer.addSpectrum(\n",
    "              preprocessed_mzs, preprocessed_intensities,\n",
    "              (x - roi.x_min + 1, y - roi.y_min + 1, z)\n",
    "          )"
   ]
  },
  {
   "cell_type": "markdown",
   "id": "b56a7430",
   "metadata": {},
   "source": [
    "### ***Visualizing preprocess on single spectra***\n",
    "\n",
    "Next, lets visualize the preprocess pipeline for a single spectra:"
   ]
  },
  {
   "cell_type": "code",
   "execution_count": 9,
   "id": "73b7ea7a",
   "metadata": {},
   "outputs": [
    {
     "data": {
      "image/png": "[encoded data removed]",
      "text/plain": [
       "<Figure size 640x480 with 6 Axes>"
      ]
     },
     "metadata": {},
     "output_type": "display_data"
    }
   ],
   "source": [
    "# Open parser\n",
    "with ImzMLParser(\n",
    "    join(LEVEL_0_PATH, f\"{metadata_df.file_name[3]}.imzML\")\n",
    ") as reader:\n",
    "  # Get single spectra\n",
    "  raw_mzs, raw_intensities = reader.getspectrum(2999)\n",
    "\n",
    "  # Process spectrum\n",
    "  preprocessed_mzs, preprocessed_intensities = process_pipe(\n",
    "      raw_mzs, raw_intensities\n",
    "  )\n",
    "\n",
    "  # Create plot\n",
    "  fig = plt.figure()\n",
    "\n",
    "  # Define colors for lines\n",
    "  color_raw = \"tab:red\"\n",
    "  color_preprocessed = \"tab:blue\"\n",
    "\n",
    "  # Get zoom in area for top left plot\n",
    "  lower_1 = 794\n",
    "  upper_1 = 795\n",
    "  idx_1_1 = (raw_mzs >= lower_1) & (raw_mzs <= upper_1)\n",
    "  idx_1_2 = (preprocessed_mzs >= lower_1) & (preprocessed_mzs <= upper_1)\n",
    "\n",
    "  # Get zoom in area for top right plot\n",
    "  lower_2 = 885\n",
    "  upper_2 = 886\n",
    "  idx_2_1 = (raw_mzs >= lower_2) & (raw_mzs <= upper_2)\n",
    "  idx_2_2 = (preprocessed_mzs >= lower_2) & (preprocessed_mzs <= upper_2)\n",
    "\n",
    "  # Top Plot\n",
    "  sub1_1 = fig.add_subplot(2, 2, (1, 2))\n",
    "  sub1_1.plot(raw_mzs, raw_intensities, color=color_raw)\n",
    "  sub1_1.tick_params(axis=\"y\", labelcolor=color_raw)\n",
    "  sub1_1.set_xlabel(\"m/z\")\n",
    "  sub1_1.set_ylabel(\"Raw intensity\", color=color_raw)\n",
    "\n",
    "  sub1_2 = sub1_1.twinx()\n",
    "  sub1_2.plot(\n",
    "      preprocessed_mzs, preprocessed_intensities, color=color_preprocessed\n",
    "  )\n",
    "  sub1_2.tick_params(axis=\"y\", labelcolor=color_preprocessed)\n",
    "  sub1_2.set_ylabel(\"Processed intensity\", color=color_preprocessed)\n",
    "\n",
    "  # Bottom left plot\n",
    "  sub2_1 = fig.add_subplot(2, 2, 3)\n",
    "  sub2_1.plot(raw_mzs[idx_1_1], raw_intensities[idx_1_1], color=color_raw)\n",
    "  sub2_1.tick_params(axis=\"y\", labelcolor=color_raw)\n",
    "  sub2_1.set_xlabel(\"m/z\")\n",
    "  sub2_1.set_ylabel(\"Raw intensity\", color=color_raw)\n",
    "\n",
    "  sub2_2 = sub2_1.twinx()\n",
    "  sub2_2.plot(\n",
    "      preprocessed_mzs[idx_1_2], preprocessed_intensities[idx_1_2],\n",
    "      color=color_preprocessed\n",
    "  )\n",
    "  sub2_2.tick_params(axis=\"y\", labelcolor=color_preprocessed)\n",
    "  sub2_2.set_ylabel(\"Processed intensity\", color=color_preprocessed)\n",
    "\n",
    "  # Bottom right plot\n",
    "  sub3_1 = fig.add_subplot(2, 2, 4)\n",
    "  sub3_1.plot(raw_mzs[idx_2_1], raw_intensities[idx_2_1], color=color_raw)\n",
    "  sub3_1.tick_params(axis=\"y\", labelcolor=color_raw)\n",
    "  sub3_1.set_xlabel(\"m/z\")\n",
    "  sub3_1.set_ylabel(\"Raw intensity\", color=color_raw)\n",
    "\n",
    "  sub3_2 = sub3_1.twinx()\n",
    "  sub3_2.plot(\n",
    "      preprocessed_mzs[idx_2_2], preprocessed_intensities[idx_2_2],\n",
    "      color=color_preprocessed\n",
    "  )\n",
    "  sub3_2.tick_params(axis=\"y\", labelcolor=color_preprocessed)\n",
    "  sub3_2.set_ylabel(\"Processed intensity\", color=color_preprocessed)\n",
    "\n",
    "  # Plots titles\n",
    "  sub1_1.set_title(\"(a) Spectra\")\n",
    "  sub2_1.set_title(f\"(b) Zoom in [{lower_1}, {upper_1}]\")\n",
    "  sub3_1.set_title(f\"(c) Zoom in [{lower_2}, {upper_2}]\")\n",
    "\n",
    "  # Show plot\n",
    "  plt.tight_layout()\n",
    "  plt.savefig(\n",
    "      f\"{FIGURES_PATH}/single_spectra_preprocess.pdf\", transparent=True,\n",
    "      dpi=1200\n",
    "  )\n",
    "\n",
    "  # Save data for plot creation\n",
    "  pd.Series(raw_intensities, index=raw_mzs\n",
    "           ).to_csv(f\"{FIGURES_PATH}/raw_spectra.csv\", header=False)\n",
    "  pd.Series(preprocessed_intensities, index=preprocessed_mzs\n",
    "           ).to_csv(f\"{FIGURES_PATH}/preprocessed_spectra.csv\", header=False)"
   ]
  }
 ],
 "metadata": {
  "interpreter": {
   "hash": "5c73559c04fc51cf6f25e380b3ded5183311c605494f1c18f4c2cfbf285cb958"
  },
  "kernelspec": {
   "display_name": "Python 3.9.12 ('tf_gpu_jup')",
   "language": "python",
   "name": "python3"
  },
  "language_info": {
   "codemirror_mode": {
    "name": "ipython",
    "version": 3
   },
   "file_extension": ".py",
   "mimetype": "text/x-python",
   "name": "python",
   "nbconvert_exporter": "python",
   "pygments_lexer": "ipython3",
   "version": "3.9.12"
  },
  "widgets": {
   "application/vnd.jupyter.widget-state+json": {
    "state": {},
    "version_major": 2,
    "version_minor": 0
   }
  }
 },
 "nbformat": 4,
 "nbformat_minor": 5
}
