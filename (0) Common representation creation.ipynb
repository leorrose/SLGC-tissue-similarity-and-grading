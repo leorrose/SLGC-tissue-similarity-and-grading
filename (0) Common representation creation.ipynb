{
 "cells": [
  {
   "cell_type": "markdown",
   "id": "dd1b4a0c-ea8e-49dd-bfca-165f027d16a7",
   "metadata": {},
   "source": [
    "# ***Common representation creation***\n",
    "\n",
    "This notebook shows the preprocess of creating a common representation of each spectra."
   ]
  },
  {
   "cell_type": "markdown",
   "id": "38d1dfa3-20c8-4f8a-b745-5259d5769518",
   "metadata": {},
   "source": [
    "### ***Import packages***\n",
    "\n",
    "Before we begin, let's import all the necessary packages for this notebook:"
   ]
  },
  {
   "cell_type": "code",
   "execution_count": 1,
   "id": "861403b3-e294-4e80-b7bd-eb06029addd4",
   "metadata": {},
   "outputs": [],
   "source": [
    "import numpy as np\n",
    "import pandas as pd\n",
    "from typing import Tuple\n",
    "from os.path import join\n",
    "from pathlib import Path\n",
    "from matplotlib import pyplot as plt\n",
    "from pyimzml.ImzMLParser import ImzMLParser\n",
    "from pyimzml.ImzMLWriter import ImzMLWriter\n",
    "from tqdm.notebook import tqdm\n",
    "\n",
    "# Define default font size\n",
    "plt.rcParams.update({'font.size': 12})"
   ]
  },
  {
   "cell_type": "markdown",
   "id": "84646953-1645-4c9c-bc46-a043a81b69b1",
   "metadata": {},
   "source": [
    "### ***Constants definitions***\n",
    "\n",
    "Next, let's define some constant variables for this notebook:"
   ]
  },
  {
   "cell_type": "code",
   "execution_count": 2,
   "id": "8ecb1dfb-0a5b-44b7-b982-3127909b6d00",
   "metadata": {},
   "outputs": [],
   "source": [
    "# Define folder that contains the dhg dataset\n",
    "DHG_PATH = \"./DHG/\"\n",
    "# Define folder that contains level 0 data\n",
    "LEVEL_0_PATH = f\"{DHG_PATH}/level_0\"\n",
    "# Define folder to save level 1 data\n",
    "LEVEL_1_PATH = f\"{DHG_PATH}/level_1\"\n",
    "# Define file that contains dhg metadata\n",
    "METADATA_PATH = f\"{DHG_PATH}/metadata.csv\"\n",
    "# Define path to save figures\n",
    "FIGURES_PATH = \"./figures/common_representation_creation\"\n",
    "# Define mass range start value\n",
    "MZ_START = 50\n",
    "# Define mass range end value\n",
    "MZ_END = 1200\n",
    "# Define mass resolution of the data\n",
    "MASS_RESOLUTION = 0.025"
   ]
  },
  {
   "cell_type": "markdown",
   "id": "90a81749-fe0d-4f7e-93ad-6efed71067e1",
   "metadata": {},
   "source": [
    "### ***Creating output folder***\n",
    "\n",
    "Next, let's create the output folder:"
   ]
  },
  {
   "cell_type": "code",
   "execution_count": 3,
   "id": "6dd4c79d-a5b9-41ac-a1b1-ebe0d3ac40dd",
   "metadata": {},
   "outputs": [],
   "source": [
    "# Create output folder if doesn't exist\n",
    "Path(LEVEL_1_PATH).mkdir(parents=True, exist_ok=True)\n",
    "Path(FIGURES_PATH).mkdir(parents=True, exist_ok=True)"
   ]
  },
  {
   "cell_type": "markdown",
   "id": "dc88cdfc-3d38-47b7-9894-bfbe73c3f0bb",
   "metadata": {
    "tags": []
   },
   "source": [
    "### ***Reading MSI metadata***\n",
    "\n",
    "Next, lets read the metadata file:"
   ]
  },
  {
   "cell_type": "code",
   "execution_count": 4,
   "id": "667fa007-a807-4e36-a3ed-9ab527ddca04",
   "metadata": {
    "tags": []
   },
   "outputs": [],
   "source": [
    "# Read metadata csv\n",
    "metadata_df = pd.read_csv(METADATA_PATH)"
   ]
  },
  {
   "cell_type": "markdown",
   "id": "09256232",
   "metadata": {},
   "source": [
    "### ***Creating spectra binning class***\n",
    "\n",
    "Next, lets create the class for binning a spectra:"
   ]
  },
  {
   "cell_type": "code",
   "execution_count": 5,
   "id": "c8cca85b",
   "metadata": {},
   "outputs": [],
   "source": [
    "class EqualWidthBinning():\n",
    "  \"\"\"Equal width spectra binning.\n",
    "\n",
    "  \"\"\"\n",
    "\n",
    "  def __init__(self, mz_start: float, mz_end: float, bin_width: float) -> None:\n",
    "    \"\"\"__init__ method.\n",
    "\n",
    "    Args:\n",
    "        mz_start (float): Mz spectra range start.\n",
    "        mz_end (float): Mz spectra range end.\n",
    "        bin_width (float): Binning bin width.\n",
    "    \"\"\"\n",
    "    super().__init__()\n",
    "\n",
    "    # Calculate number of bins\n",
    "    num_bins = int((mz_end - mz_start) / bin_width)\n",
    "    # Create bin edges array of equal width bins from mz_start to\n",
    "    # mz_end with bin_width\n",
    "    self.bin_edges = np.around(np.linspace(mz_start, mz_end, num_bins + 1), 5)\n",
    "    # Create bin centers array of equal width bins from mz_start to\n",
    "    # mz_end with bin_width\n",
    "    self.bin_centers = 0.5 * (self.bin_edges[1:] + self.bin_edges[:-1])\n",
    "\n",
    "  def bin(\n",
    "      self, spectra: Tuple[np.ndarray, np.ndarray]\n",
    "  ) -> Tuple[np.ndarray, np.ndarray]:\n",
    "    \"\"\"Method to bin spectra\n",
    "\n",
    "    Args:\n",
    "        spectra (Tuple[np.ndarray, np.ndarray]): First element is mz values\n",
    "        array of spectra and second element is the intensity values array\n",
    "        of spectra.\n",
    "\n",
    "    Returns:\n",
    "        Tuple[np.ndarray, np.ndarray]: First element is mz values array of\n",
    "        spectra and second element is normalized intensity values array\n",
    "        of spectra.\n",
    "\n",
    "    \"\"\"\n",
    "    # Unpack spectra\n",
    "    mzs, intensities = np.copy(spectra)\n",
    "\n",
    "    # If no mz values\n",
    "    if np.array_equal(mzs, []):\n",
    "      return self.bin_centers, np.zeros(self.bin_centers.shape)\n",
    "\n",
    "    # Assign each mz value to its corresponding bin index\n",
    "    bin_index = np.digitize(mzs, self.bin_edges)\n",
    "\n",
    "    # Make sure index of spectra shape appears in bin_index\n",
    "    # for shape consistency\n",
    "    bin_index = np.append(bin_index, self.bin_centers.shape[0])\n",
    "    intensities = np.append(intensities, 0)\n",
    "\n",
    "    # Assign values beyond the bounds of bins to first and last bin\n",
    "    # if they are smaller\\larger than bounds respectively\n",
    "    bin_index[bin_index == 0] = 1\n",
    "    bin_index[bin_index == len(self.bin_edges)] = len(self.bin_edges) - 1\n",
    "\n",
    "    # 0 index\n",
    "    bin_index -= 1\n",
    "\n",
    "    # Sum value of each bins\n",
    "    bin_sums = np.bincount(bin_index, weights=intensities)\n",
    "\n",
    "    return self.bin_centers, bin_sums"
   ]
  },
  {
   "cell_type": "markdown",
   "id": "e0baade9",
   "metadata": {},
   "source": [
    "### ***Creating spectra normalization class***\n",
    "\n",
    "Next, lets create the class for normalizing a spectra:"
   ]
  },
  {
   "cell_type": "code",
   "execution_count": 6,
   "id": "a830da9d",
   "metadata": {},
   "outputs": [],
   "source": [
    "class TICNormalizer():\n",
    "  \"\"\"Total Ion Count normalizer.\n",
    "\n",
    "  \"\"\"\n",
    "\n",
    "  @classmethod\n",
    "  def normalize(\n",
    "      cls, spectra: Tuple[np.ndarray, np.ndarray], epsilon: float = 0.001\n",
    "  ) -> Tuple[np.ndarray, np.ndarray]:\n",
    "    \"\"\"Method to normalize a spectra\n",
    "\n",
    "    Args:\n",
    "        spectra (Tuple[np.ndarray, np.ndarray]): First element is the mz values\n",
    "        array of spectra and second element is the intensity values array\n",
    "        of spectra.\n",
    "        epsilon (float): Small float added to denominator to avoid zero\n",
    "        division.\n",
    "\n",
    "    Returns:\n",
    "        Tuple[np.ndarray, np.ndarray]: First element is the mz values array of\n",
    "        spectra and second element is the normalized intensity values array\n",
    "        of spectra.\n",
    "\n",
    "    \"\"\"\n",
    "    # Unpack spectra\n",
    "    mzs, intensities = np.copy(spectra)\n",
    "    # Return tic normalized\n",
    "    return (mzs, intensities / (intensities.sum() + epsilon))"
   ]
  },
  {
   "cell_type": "markdown",
   "id": "348388d4-28dc-4b77-9cf2-74976f688b27",
   "metadata": {
    "tags": []
   },
   "source": [
    "### ***Creating spectra process pipeline***\n",
    "\n",
    "Next, lets create the process pipeline for each spectra in the image:"
   ]
  },
  {
   "cell_type": "code",
   "execution_count": 7,
   "id": "3132413d-ee30-4c15-9846-18b6658fa02a",
   "metadata": {},
   "outputs": [],
   "source": [
    "# Get normalizer object\n",
    "normalizer = TICNormalizer()\n",
    "# Get binning object\n",
    "binning = EqualWidthBinning(MZ_START, MZ_END, MASS_RESOLUTION / 2)\n",
    "# Create process pipe\n",
    "process_pipe = (\n",
    "    lambda mzs, intensities:\n",
    "    (binning.bin(normalizer.normalize((mzs, intensities))))\n",
    ")"
   ]
  },
  {
   "cell_type": "markdown",
   "id": "11cfe56b-a4e4-485d-92cb-3d8b22e78804",
   "metadata": {},
   "source": [
    "### ***Preprocess each MSI***\n",
    "\n",
    "Next, let's process each MSI spectra. For each sample (ROI) we extract the sample from the MSI, and for each ROI we preprocess all spectra's using spectra preprocess pipeline:"
   ]
  },
  {
   "cell_type": "code",
   "execution_count": 8,
   "id": "49c9fc15-3717-4b9c-8eb5-09d0f59bd0ff",
   "metadata": {},
   "outputs": [
    {
     "data": {
      "application/vnd.jupyter.widget-view+json": {
       "model_id": "e529b916acb546ab99e3f9bf64994c75",
       "version_major": 2,
       "version_minor": 0
      },
      "text/plain": [
       "ROIs Loop:   0%|          | 0/50 [00:00<?, ?it/s]"
      ]
     },
     "metadata": {},
     "output_type": "display_data"
    },
    {
     "data": {
      "application/vnd.jupyter.widget-view+json": {
       "model_id": "3e904e4bd9494fcdac9889de5adbdc5e",
       "version_major": 2,
       "version_minor": 0
      },
      "text/plain": [
       "Spectra Loop:   0%|          | 0/14022 [00:00<?, ?it/s]"
      ]
     },
     "metadata": {},
     "output_type": "display_data"
    },
    {
     "data": {
      "application/vnd.jupyter.widget-view+json": {
       "model_id": "032f72ecf304406aa41e5c97fd6022d3",
       "version_major": 2,
       "version_minor": 0
      },
      "text/plain": [
       "Spectra Loop:   0%|          | 0/14022 [00:00<?, ?it/s]"
      ]
     },
     "metadata": {},
     "output_type": "display_data"
    },
    {
     "data": {
      "application/vnd.jupyter.widget-view+json": {
       "model_id": "c0ead6f0f20c4dc2805ddd2924863df4",
       "version_major": 2,
       "version_minor": 0
      },
      "text/plain": [
       "Spectra Loop:   0%|          | 0/14022 [00:00<?, ?it/s]"
      ]
     },
     "metadata": {},
     "output_type": "display_data"
    },
    {
     "data": {
      "application/vnd.jupyter.widget-view+json": {
       "model_id": "a7ea03de2e314efca375c21647c52d9a",
       "version_major": 2,
       "version_minor": 0
      },
      "text/plain": [
       "Spectra Loop:   0%|          | 0/7482 [00:00<?, ?it/s]"
      ]
     },
     "metadata": {},
     "output_type": "display_data"
    },
    {
     "data": {
      "application/vnd.jupyter.widget-view+json": {
       "model_id": "857dc674e2564b719d1ecd5464dd0eaa",
       "version_major": 2,
       "version_minor": 0
      },
      "text/plain": [
       "Spectra Loop:   0%|          | 0/7482 [00:00<?, ?it/s]"
      ]
     },
     "metadata": {},
     "output_type": "display_data"
    },
    {
     "data": {
      "application/vnd.jupyter.widget-view+json": {
       "model_id": "b0611fbd003a422ba4a14d06f64070c5",
       "version_major": 2,
       "version_minor": 0
      },
      "text/plain": [
       "Spectra Loop:   0%|          | 0/14196 [00:00<?, ?it/s]"
      ]
     },
     "metadata": {},
     "output_type": "display_data"
    },
    {
     "data": {
      "application/vnd.jupyter.widget-view+json": {
       "model_id": "f486e90993d3401e9b7163cbb73b1008",
       "version_major": 2,
       "version_minor": 0
      },
      "text/plain": [
       "Spectra Loop:   0%|          | 0/14196 [00:00<?, ?it/s]"
      ]
     },
     "metadata": {},
     "output_type": "display_data"
    },
    {
     "data": {
      "application/vnd.jupyter.widget-view+json": {
       "model_id": "b4b1dfbc15574a9a99cd197299ed2299",
       "version_major": 2,
       "version_minor": 0
      },
      "text/plain": [
       "Spectra Loop:   0%|          | 0/7938 [00:00<?, ?it/s]"
      ]
     },
     "metadata": {},
     "output_type": "display_data"
    },
    {
     "data": {
      "application/vnd.jupyter.widget-view+json": {
       "model_id": "a3bb6d06253c4a8abb8495eeb0810808",
       "version_major": 2,
       "version_minor": 0
      },
      "text/plain": [
       "Spectra Loop:   0%|          | 0/7938 [00:00<?, ?it/s]"
      ]
     },
     "metadata": {},
     "output_type": "display_data"
    },
    {
     "data": {
      "application/vnd.jupyter.widget-view+json": {
       "model_id": "391a1b00f6804a0e9528a6ddea006e7e",
       "version_major": 2,
       "version_minor": 0
      },
      "text/plain": [
       "Spectra Loop:   0%|          | 0/12920 [00:00<?, ?it/s]"
      ]
     },
     "metadata": {},
     "output_type": "display_data"
    },
    {
     "data": {
      "application/vnd.jupyter.widget-view+json": {
       "model_id": "de3f9ff02f8747ff8df1502c14941a47",
       "version_major": 2,
       "version_minor": 0
      },
      "text/plain": [
       "Spectra Loop:   0%|          | 0/12920 [00:00<?, ?it/s]"
      ]
     },
     "metadata": {},
     "output_type": "display_data"
    },
    {
     "data": {
      "application/vnd.jupyter.widget-view+json": {
       "model_id": "3eff60fe8c9f40d686ac5df454fe8aec",
       "version_major": 2,
       "version_minor": 0
      },
      "text/plain": [
       "Spectra Loop:   0%|          | 0/10220 [00:00<?, ?it/s]"
      ]
     },
     "metadata": {},
     "output_type": "display_data"
    },
    {
     "data": {
      "application/vnd.jupyter.widget-view+json": {
       "model_id": "ee273b9ffdf6412795024136b699e911",
       "version_major": 2,
       "version_minor": 0
      },
      "text/plain": [
       "Spectra Loop:   0%|          | 0/10220 [00:00<?, ?it/s]"
      ]
     },
     "metadata": {},
     "output_type": "display_data"
    },
    {
     "data": {
      "application/vnd.jupyter.widget-view+json": {
       "model_id": "1d061fe19a844af5b51771861ac1bbff",
       "version_major": 2,
       "version_minor": 0
      },
      "text/plain": [
       "Spectra Loop:   0%|          | 0/24024 [00:00<?, ?it/s]"
      ]
     },
     "metadata": {},
     "output_type": "display_data"
    },
    {
     "data": {
      "application/vnd.jupyter.widget-view+json": {
       "model_id": "78a8369e77d04860afa3926cdba97e67",
       "version_major": 2,
       "version_minor": 0
      },
      "text/plain": [
       "Spectra Loop:   0%|          | 0/24024 [00:00<?, ?it/s]"
      ]
     },
     "metadata": {},
     "output_type": "display_data"
    },
    {
     "data": {
      "application/vnd.jupyter.widget-view+json": {
       "model_id": "d327eb44caaf43258771865eaf55f1ed",
       "version_major": 2,
       "version_minor": 0
      },
      "text/plain": [
       "Spectra Loop:   0%|          | 0/24024 [00:00<?, ?it/s]"
      ]
     },
     "metadata": {},
     "output_type": "display_data"
    },
    {
     "data": {
      "application/vnd.jupyter.widget-view+json": {
       "model_id": "3531a9890dd04380b21d94ae0ce7c770",
       "version_major": 2,
       "version_minor": 0
      },
      "text/plain": [
       "Spectra Loop:   0%|          | 0/6095 [00:00<?, ?it/s]"
      ]
     },
     "metadata": {},
     "output_type": "display_data"
    },
    {
     "data": {
      "application/vnd.jupyter.widget-view+json": {
       "model_id": "78c875059c024177bb7e18c65dbfa785",
       "version_major": 2,
       "version_minor": 0
      },
      "text/plain": [
       "Spectra Loop:   0%|          | 0/6095 [00:00<?, ?it/s]"
      ]
     },
     "metadata": {},
     "output_type": "display_data"
    },
    {
     "data": {
      "application/vnd.jupyter.widget-view+json": {
       "model_id": "c260971d4e6447d1a1414b1c017a5b82",
       "version_major": 2,
       "version_minor": 0
      },
      "text/plain": [
       "Spectra Loop:   0%|          | 0/27876 [00:00<?, ?it/s]"
      ]
     },
     "metadata": {},
     "output_type": "display_data"
    },
    {
     "data": {
      "application/vnd.jupyter.widget-view+json": {
       "model_id": "1794d91a012a400b807fe47a3ffa31a3",
       "version_major": 2,
       "version_minor": 0
      },
      "text/plain": [
       "Spectra Loop:   0%|          | 0/27876 [00:00<?, ?it/s]"
      ]
     },
     "metadata": {},
     "output_type": "display_data"
    },
    {
     "data": {
      "application/vnd.jupyter.widget-view+json": {
       "model_id": "9b5c264a76364debbfb7304d4321c7ce",
       "version_major": 2,
       "version_minor": 0
      },
      "text/plain": [
       "Spectra Loop:   0%|          | 0/27876 [00:00<?, ?it/s]"
      ]
     },
     "metadata": {},
     "output_type": "display_data"
    },
    {
     "data": {
      "application/vnd.jupyter.widget-view+json": {
       "model_id": "7f1e1d45a3594e64b692bc2314649485",
       "version_major": 2,
       "version_minor": 0
      },
      "text/plain": [
       "Spectra Loop:   0%|          | 0/27876 [00:00<?, ?it/s]"
      ]
     },
     "metadata": {},
     "output_type": "display_data"
    },
    {
     "data": {
      "application/vnd.jupyter.widget-view+json": {
       "model_id": "a0b5e73ff72245c59f19ca2b56fb7587",
       "version_major": 2,
       "version_minor": 0
      },
      "text/plain": [
       "Spectra Loop:   0%|          | 0/27876 [00:00<?, ?it/s]"
      ]
     },
     "metadata": {},
     "output_type": "display_data"
    },
    {
     "data": {
      "application/vnd.jupyter.widget-view+json": {
       "model_id": "e0aa749b7b68478cb36050cf854f623f",
       "version_major": 2,
       "version_minor": 0
      },
      "text/plain": [
       "Spectra Loop:   0%|          | 0/23718 [00:00<?, ?it/s]"
      ]
     },
     "metadata": {},
     "output_type": "display_data"
    },
    {
     "data": {
      "application/vnd.jupyter.widget-view+json": {
       "model_id": "8e148655a21a4040a529b5514f9d7c1b",
       "version_major": 2,
       "version_minor": 0
      },
      "text/plain": [
       "Spectra Loop:   0%|          | 0/23718 [00:00<?, ?it/s]"
      ]
     },
     "metadata": {},
     "output_type": "display_data"
    },
    {
     "data": {
      "application/vnd.jupyter.widget-view+json": {
       "model_id": "faf19b21f29141ed90595782e253a2d5",
       "version_major": 2,
       "version_minor": 0
      },
      "text/plain": [
       "Spectra Loop:   0%|          | 0/23718 [00:00<?, ?it/s]"
      ]
     },
     "metadata": {},
     "output_type": "display_data"
    },
    {
     "data": {
      "application/vnd.jupyter.widget-view+json": {
       "model_id": "21d027a6fec346f2be4ca5d9cc1b520c",
       "version_major": 2,
       "version_minor": 0
      },
      "text/plain": [
       "Spectra Loop:   0%|          | 0/23718 [00:00<?, ?it/s]"
      ]
     },
     "metadata": {},
     "output_type": "display_data"
    },
    {
     "data": {
      "application/vnd.jupyter.widget-view+json": {
       "model_id": "a58d7f8768fc41c8a1dbaba99aa527ee",
       "version_major": 2,
       "version_minor": 0
      },
      "text/plain": [
       "Spectra Loop:   0%|          | 0/23718 [00:00<?, ?it/s]"
      ]
     },
     "metadata": {},
     "output_type": "display_data"
    },
    {
     "data": {
      "application/vnd.jupyter.widget-view+json": {
       "model_id": "46af8d06fae94907abc84e0108ae377f",
       "version_major": 2,
       "version_minor": 0
      },
      "text/plain": [
       "Spectra Loop:   0%|          | 0/10570 [00:00<?, ?it/s]"
      ]
     },
     "metadata": {},
     "output_type": "display_data"
    },
    {
     "data": {
      "application/vnd.jupyter.widget-view+json": {
       "model_id": "9fb88a47d52d45ac939cf169097c982a",
       "version_major": 2,
       "version_minor": 0
      },
      "text/plain": [
       "Spectra Loop:   0%|          | 0/10570 [00:00<?, ?it/s]"
      ]
     },
     "metadata": {},
     "output_type": "display_data"
    },
    {
     "data": {
      "application/vnd.jupyter.widget-view+json": {
       "model_id": "1088c2e9d98e40c98d262a8f704cbf1a",
       "version_major": 2,
       "version_minor": 0
      },
      "text/plain": [
       "Spectra Loop:   0%|          | 0/10570 [00:00<?, ?it/s]"
      ]
     },
     "metadata": {},
     "output_type": "display_data"
    },
    {
     "data": {
      "application/vnd.jupyter.widget-view+json": {
       "model_id": "12758093a0454daaac027cdd33650bac",
       "version_major": 2,
       "version_minor": 0
      },
      "text/plain": [
       "Spectra Loop:   0%|          | 0/5265 [00:00<?, ?it/s]"
      ]
     },
     "metadata": {},
     "output_type": "display_data"
    },
    {
     "data": {
      "application/vnd.jupyter.widget-view+json": {
       "model_id": "e39649e03ef24fc7bc47940cb88591f5",
       "version_major": 2,
       "version_minor": 0
      },
      "text/plain": [
       "Spectra Loop:   0%|          | 0/5265 [00:00<?, ?it/s]"
      ]
     },
     "metadata": {},
     "output_type": "display_data"
    },
    {
     "data": {
      "application/vnd.jupyter.widget-view+json": {
       "model_id": "e3ee4efd3d6f4981b20062327951c60d",
       "version_major": 2,
       "version_minor": 0
      },
      "text/plain": [
       "Spectra Loop:   0%|          | 0/26207 [00:00<?, ?it/s]"
      ]
     },
     "metadata": {},
     "output_type": "display_data"
    },
    {
     "data": {
      "application/vnd.jupyter.widget-view+json": {
       "model_id": "34c27c049dc84ca39636d5cac0d9914d",
       "version_major": 2,
       "version_minor": 0
      },
      "text/plain": [
       "Spectra Loop:   0%|          | 0/26207 [00:00<?, ?it/s]"
      ]
     },
     "metadata": {},
     "output_type": "display_data"
    },
    {
     "data": {
      "application/vnd.jupyter.widget-view+json": {
       "model_id": "3e2a5919d3554142a847af77a1ad3f3a",
       "version_major": 2,
       "version_minor": 0
      },
      "text/plain": [
       "Spectra Loop:   0%|          | 0/26207 [00:00<?, ?it/s]"
      ]
     },
     "metadata": {},
     "output_type": "display_data"
    },
    {
     "data": {
      "application/vnd.jupyter.widget-view+json": {
       "model_id": "9af4d9e91cf24bb7857a0c6c3edb2de2",
       "version_major": 2,
       "version_minor": 0
      },
      "text/plain": [
       "Spectra Loop:   0%|          | 0/26207 [00:00<?, ?it/s]"
      ]
     },
     "metadata": {},
     "output_type": "display_data"
    },
    {
     "data": {
      "application/vnd.jupyter.widget-view+json": {
       "model_id": "c2a4ba7431214b3e82da2aeda0b50a65",
       "version_major": 2,
       "version_minor": 0
      },
      "text/plain": [
       "Spectra Loop:   0%|          | 0/26207 [00:00<?, ?it/s]"
      ]
     },
     "metadata": {},
     "output_type": "display_data"
    },
    {
     "data": {
      "application/vnd.jupyter.widget-view+json": {
       "model_id": "6ef59966e7fd4eb3b97f867cf66641f5",
       "version_major": 2,
       "version_minor": 0
      },
      "text/plain": [
       "Spectra Loop:   0%|          | 0/26207 [00:00<?, ?it/s]"
      ]
     },
     "metadata": {},
     "output_type": "display_data"
    },
    {
     "data": {
      "application/vnd.jupyter.widget-view+json": {
       "model_id": "1224612fcdb7483cb37a02f859019611",
       "version_major": 2,
       "version_minor": 0
      },
      "text/plain": [
       "Spectra Loop:   0%|          | 0/28584 [00:00<?, ?it/s]"
      ]
     },
     "metadata": {},
     "output_type": "display_data"
    },
    {
     "data": {
      "application/vnd.jupyter.widget-view+json": {
       "model_id": "d36747a136e6497f8ffed17814086d02",
       "version_major": 2,
       "version_minor": 0
      },
      "text/plain": [
       "Spectra Loop:   0%|          | 0/28584 [00:00<?, ?it/s]"
      ]
     },
     "metadata": {},
     "output_type": "display_data"
    },
    {
     "data": {
      "application/vnd.jupyter.widget-view+json": {
       "model_id": "7affea40bf664c1c8cf654269582cac0",
       "version_major": 2,
       "version_minor": 0
      },
      "text/plain": [
       "Spectra Loop:   0%|          | 0/28584 [00:00<?, ?it/s]"
      ]
     },
     "metadata": {},
     "output_type": "display_data"
    },
    {
     "data": {
      "application/vnd.jupyter.widget-view+json": {
       "model_id": "871b789d8f6b426db84286a8084e68ec",
       "version_major": 2,
       "version_minor": 0
      },
      "text/plain": [
       "Spectra Loop:   0%|          | 0/28584 [00:00<?, ?it/s]"
      ]
     },
     "metadata": {},
     "output_type": "display_data"
    },
    {
     "data": {
      "application/vnd.jupyter.widget-view+json": {
       "model_id": "a9fc527c72ce4d1f8f42083002af77a2",
       "version_major": 2,
       "version_minor": 0
      },
      "text/plain": [
       "Spectra Loop:   0%|          | 0/28584 [00:00<?, ?it/s]"
      ]
     },
     "metadata": {},
     "output_type": "display_data"
    },
    {
     "data": {
      "application/vnd.jupyter.widget-view+json": {
       "model_id": "d90df9685c0d48069b3ec0d1f9f671b1",
       "version_major": 2,
       "version_minor": 0
      },
      "text/plain": [
       "Spectra Loop:   0%|          | 0/15045 [00:00<?, ?it/s]"
      ]
     },
     "metadata": {},
     "output_type": "display_data"
    },
    {
     "data": {
      "application/vnd.jupyter.widget-view+json": {
       "model_id": "a5eb0ef32c704134a09c8b44186a1335",
       "version_major": 2,
       "version_minor": 0
      },
      "text/plain": [
       "Spectra Loop:   0%|          | 0/15045 [00:00<?, ?it/s]"
      ]
     },
     "metadata": {},
     "output_type": "display_data"
    },
    {
     "data": {
      "application/vnd.jupyter.widget-view+json": {
       "model_id": "d2979a85959c4b59bd9026a18545915e",
       "version_major": 2,
       "version_minor": 0
      },
      "text/plain": [
       "Spectra Loop:   0%|          | 0/6000 [00:00<?, ?it/s]"
      ]
     },
     "metadata": {},
     "output_type": "display_data"
    },
    {
     "data": {
      "application/vnd.jupyter.widget-view+json": {
       "model_id": "a153c68eb99c49d39d4cf7e07c267635",
       "version_major": 2,
       "version_minor": 0
      },
      "text/plain": [
       "Spectra Loop:   0%|          | 0/6000 [00:00<?, ?it/s]"
      ]
     },
     "metadata": {},
     "output_type": "display_data"
    },
    {
     "name": "stderr",
     "output_type": "stream",
     "text": [
      "c:\\Users\\Leor\\anaconda3\\envs\\tf_gpu_jup\\lib\\site-packages\\pyimzml\\ontology\\ontology.py:92: UserWarning: Accession MS:1000526 found with incorrect name \"Waters raw file\". Updating name to \"Waters raw format\".\n",
      "  warn(\n",
      "c:\\Users\\Leor\\anaconda3\\envs\\tf_gpu_jup\\lib\\site-packages\\pyimzml\\ontology\\ontology.py:92: UserWarning: Accession IMS:1000042 found with incorrect name \"max count of pixel x\". Updating name to \"max count of pixels x\".\n",
      "  warn(\n",
      "c:\\Users\\Leor\\anaconda3\\envs\\tf_gpu_jup\\lib\\site-packages\\pyimzml\\ontology\\ontology.py:92: UserWarning: Accession IMS:1000043 found with incorrect name \"max count of pixel y\". Updating name to \"max count of pixels y\".\n",
      "  warn(\n",
      "c:\\Users\\Leor\\anaconda3\\envs\\tf_gpu_jup\\lib\\site-packages\\pyimzml\\ontology\\ontology.py:92: UserWarning: Accession IMS:1000046 found with incorrect name \"pixel size\". Updating name to \"pixel size (x)\".\n",
      "  warn(\n"
     ]
    },
    {
     "data": {
      "application/vnd.jupyter.widget-view+json": {
       "model_id": "f45e33c779964ffa90278f9637f622f3",
       "version_major": 2,
       "version_minor": 0
      },
      "text/plain": [
       "Spectra Loop:   0%|          | 0/4128 [00:00<?, ?it/s]"
      ]
     },
     "metadata": {},
     "output_type": "display_data"
    },
    {
     "data": {
      "application/vnd.jupyter.widget-view+json": {
       "model_id": "39d8acafd65744bd8cfbee90783d9001",
       "version_major": 2,
       "version_minor": 0
      },
      "text/plain": [
       "Spectra Loop:   0%|          | 0/4424 [00:00<?, ?it/s]"
      ]
     },
     "metadata": {},
     "output_type": "display_data"
    }
   ],
   "source": [
    "# Loop over each ROI in data frame\n",
    "for index, roi in tqdm(metadata_df.iterrows(),\n",
    "                       total=metadata_df.shape[0],\n",
    "                       desc=\"ROIs Loop\"):\n",
    "  # Parse the MSI file containing ROI\n",
    "  with ImzMLParser(join(LEVEL_0_PATH, f\"{roi.file_name}.imzML\")) as reader:\n",
    "    # Create a new MSI for ROI. because we apply binning\n",
    "    # we can use mode=\"continuous\"\n",
    "    with ImzMLWriter(join(LEVEL_1_PATH,\n",
    "                          f\"{roi.sample_file_name}.imzML\"),\n",
    "                     mode=\"continuous\") as writer:\n",
    "      # Loop over each spectra in MSI\n",
    "      for idx, (x, y, z) in tqdm(enumerate(reader.coordinates),\n",
    "                                 total=len(reader.coordinates),\n",
    "                                 desc=\"Spectra Loop\"):\n",
    "        \n",
    "        # Check if spectra is in ROI boundaries\n",
    "        if ((roi.x_min <= x-1) & (roi.x_max >= x-1) & (roi.y_min <= y-1) &\n",
    "            (roi.y_max >= y-1)):\n",
    "          # Read spectra from MSI\n",
    "          raw_mzs, raw_intensities = reader.getspectrum(idx)\n",
    "          # Apply processing pipe\n",
    "          preprocessed_mzs, preprocessed_intensities = process_pipe(\n",
    "              raw_mzs, raw_intensities)\n",
    "          # Write spectra to ROI MSI but by ROIs coordinates\n",
    "          writer.addSpectrum(preprocessed_mzs, preprocessed_intensities,\n",
    "                             (x - roi.x_min + 1, y - roi.y_min + 1, z))"
   ]
  },
  {
   "cell_type": "markdown",
   "id": "b56a7430",
   "metadata": {},
   "source": [
    "### ***Visualizing preprocess on single spectra***\n",
    "\n",
    "Next, lets visualize the preprocess pipeline for a single spectra:"
   ]
  },
  {
   "cell_type": "code",
   "execution_count": 9,
   "id": "73b7ea7a",
   "metadata": {},
   "outputs": [
    {
     "data": {
      "image/png": "[encoded data removed]",
      "text/plain": [
       "<Figure size 1440x720 with 6 Axes>"
      ]
     },
     "metadata": {
      "needs_background": "light"
     },
     "output_type": "display_data"
    }
   ],
   "source": [
    "# Open parser\n",
    "with ImzMLParser(\n",
    "    join(LEVEL_0_PATH, f\"{metadata_df.file_name[3]}.imzML\")\n",
    ") as reader:\n",
    "  # Get single spectra\n",
    "  raw_mzs, raw_intensities = reader.getspectrum(2999)\n",
    "\n",
    "  # Process spectrum\n",
    "  preprocessed_mzs, preprocessed_intensities = process_pipe(\n",
    "      raw_mzs, raw_intensities\n",
    "  )\n",
    "\n",
    "  # Create plot\n",
    "  fig = plt.figure(figsize=(20, 10))\n",
    "\n",
    "  # Define colors for lines\n",
    "  color_raw = \"tab:red\"\n",
    "  color_preprocessed = \"tab:blue\"\n",
    "\n",
    "  # Get zoom in area for top left plot\n",
    "  lower_1 = 794\n",
    "  upper_1 = 795\n",
    "  idx_1_1 = (raw_mzs >= lower_1) & (raw_mzs <= upper_1)\n",
    "  idx_1_2 = (preprocessed_mzs >= lower_1) & (preprocessed_mzs <= upper_1)\n",
    "\n",
    "  # Get zoom in area for top right plot\n",
    "  lower_2 = 885\n",
    "  upper_2 = 886\n",
    "  idx_2_1 = (raw_mzs >= lower_2) & (raw_mzs <= upper_2)\n",
    "  idx_2_2 = (preprocessed_mzs >= lower_2) & (preprocessed_mzs <= upper_2)\n",
    "\n",
    "  # Top Plot\n",
    "  sub1_1 = fig.add_subplot(2, 2, (1, 2))\n",
    "  sub1_1.plot(raw_mzs, raw_intensities, color=color_raw)\n",
    "  sub1_1.tick_params(axis=\"y\", labelcolor=color_raw)\n",
    "  sub1_1.set_xlabel(\"m/z\", fontsize=16)\n",
    "  sub1_1.set_ylabel(\"Raw intensity\", color=color_raw, labelpad=15, fontsize=16)\n",
    "\n",
    "  sub1_2 = sub1_1.twinx()\n",
    "  sub1_2.plot(\n",
    "      preprocessed_mzs, preprocessed_intensities, color=color_preprocessed\n",
    "  )\n",
    "  sub1_2.tick_params(axis=\"y\", labelcolor=color_preprocessed)\n",
    "  sub1_2.set_ylabel(\n",
    "      \"Processed intensity\", color=color_preprocessed, labelpad=15,\n",
    "      fontsize=16\n",
    "  )\n",
    "\n",
    "  # Bottom left plot\n",
    "  sub2_1 = fig.add_subplot(2, 2, 3)\n",
    "  sub2_1.plot(raw_mzs[idx_1_1], raw_intensities[idx_1_1], color=color_raw)\n",
    "  sub2_1.tick_params(axis=\"y\", labelcolor=color_raw)\n",
    "  sub2_1.set_xlabel(\"m/z\", fontsize=16)\n",
    "  sub2_1.set_ylabel(\"Raw intensity\", color=color_raw, labelpad=15, fontsize=16)\n",
    "\n",
    "  sub2_2 = sub2_1.twinx()\n",
    "  sub2_2.plot(\n",
    "      preprocessed_mzs[idx_1_2], preprocessed_intensities[idx_1_2],\n",
    "      color=color_preprocessed\n",
    "  )\n",
    "  sub2_2.tick_params(axis=\"y\", labelcolor=color_preprocessed)\n",
    "  sub2_2.set_ylabel(\n",
    "      \"Processed intensity\", color=color_preprocessed, labelpad=15,\n",
    "      fontsize=16\n",
    "  )\n",
    "\n",
    "  # Bottom right plot\n",
    "  sub3_1 = fig.add_subplot(2, 2, 4)\n",
    "  sub3_1.plot(raw_mzs[idx_2_1], raw_intensities[idx_2_1], color=color_raw)\n",
    "  sub3_1.tick_params(axis=\"y\", labelcolor=color_raw)\n",
    "  sub3_1.set_xlabel(\"m/z\", fontsize=16)\n",
    "  sub3_1.set_ylabel(\"Raw intensity\", color=color_raw, labelpad=15, fontsize=16)\n",
    "\n",
    "  sub3_2 = sub3_1.twinx()\n",
    "  sub3_2.plot(\n",
    "      preprocessed_mzs[idx_2_2], preprocessed_intensities[idx_2_2],\n",
    "      color=color_preprocessed\n",
    "  )\n",
    "  sub3_2.tick_params(axis=\"y\", labelcolor=color_preprocessed)\n",
    "  sub3_2.set_ylabel(\n",
    "      \"Processed intensity\", color=color_preprocessed, labelpad=15,\n",
    "      fontsize=16\n",
    "  )\n",
    "\n",
    "  # Plots titles\n",
    "  sub1_1.set_title(\"(a) Spectra\", pad=10, fontsize=16)\n",
    "  sub2_1.set_title(f\"(b) Zoom in [{lower_1}, {upper_1}]\", fontsize=16)\n",
    "  sub3_1.set_title(f\"(c) Zoom in [{lower_2}, {upper_2}]\", fontsize=16)\n",
    "  sub3_1.tick_params(pad=15)\n",
    "\n",
    "  # Show plot\n",
    "  plt.tight_layout()\n",
    "  plt.savefig(\n",
    "      f\"{FIGURES_PATH}/single_spectra_preprocess.png\", transparent=True\n",
    "  )\n",
    "  plt.show()\n",
    "\n",
    "  # Save data for plot creation\n",
    "  pd.Series(raw_intensities, index=raw_mzs\n",
    "           ).to_csv(f\"{FIGURES_PATH}/raw_spectra.csv\", header=False)\n",
    "  pd.Series(preprocessed_intensities, index=preprocessed_mzs\n",
    "           ).to_csv(f\"{FIGURES_PATH}/preprocessed_spectra.csv\", header=False)"
   ]
  }
 ],
 "metadata": {
  "interpreter": {
   "hash": "5c73559c04fc51cf6f25e380b3ded5183311c605494f1c18f4c2cfbf285cb958"
  },
  "kernelspec": {
   "display_name": "Python 3.9.12 ('tf_gpu_jup')",
   "language": "python",
   "name": "python3"
  },
  "language_info": {
   "codemirror_mode": {
    "name": "ipython",
    "version": 3
   },
   "file_extension": ".py",
   "mimetype": "text/x-python",
   "name": "python",
   "nbconvert_exporter": "python",
   "pygments_lexer": "ipython3",
   "version": "3.9.12"
  },
  "widgets": {
   "application/vnd.jupyter.widget-state+json": {
    "state": {},
    "version_major": 2,
    "version_minor": 0
   }
  }
 },
 "nbformat": 4,
 "nbformat_minor": 5
}
