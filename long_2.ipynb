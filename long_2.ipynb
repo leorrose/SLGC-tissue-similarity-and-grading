{
 "cells": [
  {
   "cell_type": "code",
   "execution_count": 1,
   "metadata": {},
   "outputs": [],
   "source": [
    "import sys\n",
    "\n",
    "sys.path.append(\".\")\n",
    "\n",
    "import os\n",
    "import joblib\n",
    "import numpy as np\n",
    "import pandas as pd\n",
    "import seaborn as sns\n",
    "from utils import read_msi\n",
    "from pathlib import Path\n",
    "from scipy import ndimage\n",
    "from matplotlib import pyplot as plt\n",
    "from matplotlib.colors import ListedColormap\n",
    "from sklearn.cluster import AgglomerativeClustering, KMeans\n",
    "from sklearn.preprocessing import MinMaxScaler\n",
    "from pyimzml.ImzMLParser import ImzMLParser\n",
    "\n",
    "# Define current folder using this file\n",
    "CWD = \".\"\n",
    "# Define folder that contains the revision chip type dataset\n",
    "BASE_PATH = Path(os.path.join(CWD, \"..\", \"data\", \"LONGITUDINAL\"))\n",
    "# Define folder that contains raw data\n",
    "RAW_DATA = BASE_PATH.joinpath(\"raw\")\n",
    "# Define folder to save aligned data\n",
    "ALIGNED_DATA = BASE_PATH.joinpath(\"aligned\")\n",
    "# Define folder to save processed data\n",
    "PROCESSED_DATA = BASE_PATH.joinpath(\"processed\")"
   ]
  },
  {
   "cell_type": "code",
   "execution_count": 2,
   "metadata": {},
   "outputs": [],
   "source": [
    "def read_image_info(folder_name):\n",
    "  msi_path = PROCESSED_DATA / folder_name / 'meaningful_signal.imzML'\n",
    "  msi_seg = np.load(PROCESSED_DATA / folder_name / \"segmentation_new.npy\")\n",
    "\n",
    "  with ImzMLParser(msi_path) as p:\n",
    "    mzs, img = read_msi(p)\n",
    "    mzs_filter = (mzs >= 600) & (mzs <= 900)\n",
    "    img_filter = img[:, :, mzs_filter]\n",
    "\n",
    "  return img_filter, mzs[mzs_filter], msi_seg\n",
    "\n",
    "\n",
    "def perform_hierarchical_clustering(pixels, n_clusters):\n",
    "  # Perform hierarchical clustering\n",
    "  clustering = AgglomerativeClustering(\n",
    "      n_clusters=n_clusters, linkage='ward', compute_distances=True\n",
    "  )\n",
    "  clustering.fit(pixels)\n",
    "  return clustering\n",
    "\n",
    "\n",
    "def plot_clusters(label_image, n_clusters=3, cbar=False):\n",
    "  #\n",
    "  tab10_cmap = plt.get_cmap('tab10')\n",
    "  selected_colors = [tab10_cmap(i) for i in range(n_clusters)]\n",
    "  colors = np.vstack(([1, 1, 1, 1], selected_colors))\n",
    "  custom_cmap = ListedColormap(colors)\n",
    "\n",
    "  #flipped_label_image = np.fliplr(label_image)\n",
    "  seg_c_map = plt.imshow(label_image, cmap=custom_cmap, vmin=0, vmax=n_clusters)\n",
    "  if cbar:\n",
    "    cbar = plt.colorbar(\n",
    "        seg_c_map, ticks=np.arange(1, n_clusters + 1),\n",
    "        boundaries=np.arange(0.5, n_clusters + 1.5)\n",
    "    )\n",
    "    cbar.set_ticklabels(range(1, n_clusters + 1))\n",
    "    cbar.set_label(\n",
    "        'Cluster', labelpad=15, fontweight='bold', fontsize=14, color='0.2'\n",
    "    )\n",
    "    cbar.outline.set_edgecolor('0.2')\n",
    "    cbar.ax.tick_params(labelsize=14, width=2.5, color='0.2')\n",
    "    for l in cbar.ax.get_yticklabels():\n",
    "      l.set_fontweight('bold')\n",
    "      l.set_color('0.2')\n",
    "  plt.axis('off')\n",
    "  plt.tight_layout()\n",
    "  plt.show()\n",
    "\n",
    "\n",
    "def get_sample_name(s):\n",
    "  if len(s.split(\"rep_\")) > 1:\n",
    "    return \"day_\" + s.split(\"day_\")[1].split(\"_\"\n",
    "                                            )[0] + \"_rep_\" + s.split(\"rep_\")[1]\n",
    "  return \"day_\" + s.split(\"day_\")[1].split(\"_\")[0]"
   ]
  },
  {
   "cell_type": "code",
   "execution_count": 3,
   "metadata": {},
   "outputs": [],
   "source": [
    "samples_groups = [\n",
    "    [\"tmz_1_tumor_brain_3_day_0_0_uM\", \"tmz_1_tumor_brain_3_day_5_0_uM_rep_1\"],\n",
    "    [\n",
    "        \"tmz_2_tumor_brain_3_day_0_1000_uM\",\n",
    "        \"tmz_2_tumor_brain_3_day_5_1000_uM_rep_2\"\n",
    "    ], [\"tmz_tumor_brain_4_day_0_0_uM\", \"tmz_tumor_brain_4_day_5_0_uM_rep_2\"],\n",
    "    [\n",
    "        \"tmz_tumor_brain_4_day_0_1000_uM\",\n",
    "        \"tmz_tumor_brain_4_day_5_1000_uM_rep_2\"\n",
    "    ], [\"tmz_tumor_brain_5_day_0_0_uM\", \"tmz_tumor_brain_5_day_5_0_uM_rep_3\"],\n",
    "    [\n",
    "        \"tmz_2_tumor_brain_5_day_0_1000_uM\",\n",
    "        \"tmz_2_tumor_brain_5_day_5_1000_uM_rep_3\"\n",
    "    ], [\"tmz_tumor_brain_6_day_0_0_uM\", \"tmz_tumor_brain_6_day_5_0_uM_rep_3\"],\n",
    "    [\n",
    "        \"tmz_tumor_brain_6_day_0_1000_uM\",\n",
    "        \"tmz_tumor_brain_6_day_5_1000_uM_rep_2\"\n",
    "    ]\n",
    "]"
   ]
  },
  {
   "cell_type": "code",
   "execution_count": 4,
   "metadata": {},
   "outputs": [],
   "source": [
    "gaussian_sigma = 1.0\n",
    "n_clusters = 4\n",
    "\n",
    "img_original_list = []\n",
    "img_list = []\n",
    "mzs_list = []\n",
    "seg_list = []\n",
    "\n",
    "for sample in np.array(samples_groups).flatten():\n",
    "  img, mzs, seg = read_image_info(sample)\n",
    "\n",
    "  img_original_list.append(img)\n",
    "  mzs_list.append(mzs)\n",
    "  seg_list.append(seg)\n",
    "\n",
    "  img[~seg] = 0\n",
    "\n",
    "  img_smoothed = ndimage.gaussian_filter(img, sigma=gaussian_sigma)\n",
    "  img_scaled = np.zeros_like(img)\n",
    "  img_scaled[seg] = MinMaxScaler(clip=True).fit_transform(img_smoothed[seg])\n",
    "  img_with_res = np.zeros_like(img)\n",
    "  for i, mz in enumerate(mzs):\n",
    "    mzs_mask = (mzs >= mz - 0.025) & (mzs <= mz + 0.025)\n",
    "    img_with_res[:, :, i] = np.sum(img_scaled[:, :, mzs_mask], axis=-1)\n",
    "  img_list.append(img_with_res)"
   ]
  },
  {
   "cell_type": "code",
   "execution_count": 5,
   "metadata": {},
   "outputs": [],
   "source": [
    "thresh = 2\n",
    "significant_lipids = []\n",
    "for img, seg in zip(img_original_list, seg_list):\n",
    "  significant_lipids.append(img[seg].mean(axis=0) >= thresh)"
   ]
  },
  {
   "cell_type": "code",
   "execution_count": 6,
   "metadata": {},
   "outputs": [],
   "source": [
    "significant_lipids_in_all_0 = True\n",
    "\n",
    "for i in range(0, len(significant_lipids), 2):\n",
    "  significant_lipids_in_all_0 &= significant_lipids[i]"
   ]
  },
  {
   "cell_type": "code",
   "execution_count": 7,
   "metadata": {},
   "outputs": [],
   "source": [
    "significant_lipids_in_all_5 = True\n",
    "for i in range(1, len(significant_lipids) + 1, 2):\n",
    "  significant_lipids_in_all_5 &= significant_lipids[i]"
   ]
  },
  {
   "cell_type": "code",
   "execution_count": 8,
   "metadata": {},
   "outputs": [],
   "source": [
    "img_original_list = None"
   ]
  },
  {
   "cell_type": "code",
   "execution_count": 9,
   "metadata": {},
   "outputs": [],
   "source": [
    "def perform_hierarchical_clustering(pixels, n_clusters):\n",
    "  # Perform hierarchical clustering\n",
    "  clustering = AgglomerativeClustering(\n",
    "      n_clusters=n_clusters, linkage='ward', compute_distances=True\n",
    "  )\n",
    "  clustering.fit(pixels)\n",
    "  return clustering\n",
    "\n",
    "\n",
    "def plot_clusters(label_image, n_clusters=3, cbar=False):\n",
    "  #\n",
    "  tab10_cmap = plt.get_cmap('tab10')\n",
    "  selected_colors = [tab10_cmap(i) for i in range(n_clusters)]\n",
    "  colors = np.vstack(([1, 1, 1, 1], selected_colors))\n",
    "  custom_cmap = ListedColormap(colors)\n",
    "\n",
    "  #flipped_label_image = np.fliplr(label_image)\n",
    "  seg_c_map = plt.imshow(label_image, cmap=custom_cmap, vmin=0, vmax=n_clusters)\n",
    "  if cbar:\n",
    "    cbar = plt.colorbar(\n",
    "        seg_c_map, ticks=np.arange(1, n_clusters + 1),\n",
    "        boundaries=np.arange(0.5, n_clusters + 1.5)\n",
    "    )\n",
    "    cbar.set_ticklabels(range(1, n_clusters + 1))\n",
    "    cbar.set_label(\n",
    "        'Cluster', labelpad=15, fontweight='bold', fontsize=14, color='0.2'\n",
    "    )\n",
    "    cbar.outline.set_edgecolor('0.2')\n",
    "    cbar.ax.tick_params(labelsize=14, width=2.5, color='0.2')\n",
    "    for l in cbar.ax.get_yticklabels():\n",
    "      l.set_fontweight('bold')\n",
    "      l.set_color('0.2')\n",
    "  plt.axis('off')\n",
    "  plt.tight_layout()\n",
    "  plt.show()\n",
    "\n",
    "\n",
    "def get_sample_name(s):\n",
    "  if len(s.split(\"rep_\")) > 1:\n",
    "    return \"day_\" + s.split(\"day_\")[1].split(\"_\"\n",
    "                                            )[0] + \"_rep_\" + s.split(\"rep_\")[1]\n",
    "  return \"day_\" + s.split(\"day_\")[1].split(\"_\")[0]"
   ]
  },
  {
   "cell_type": "code",
   "execution_count": 11,
   "metadata": {},
   "outputs": [
    {
     "name": "stdout",
     "output_type": "stream",
     "text": [
      "tmz_tumor_brain_6_day_5_1000_uM_rep_2\n"
     ]
    },
    {
     "data": {
      "image/png": "[encoded data removed]",
      "text/plain": [
       "<Figure size 640x480 with 1 Axes>"
      ]
     },
     "metadata": {},
     "output_type": "display_data"
    },
    {
     "name": "stdout",
     "output_type": "stream",
     "text": [
      "tmz_tumor_brain_6_day_5_1000_uM_rep_2\n"
     ]
    },
    {
     "data": {
      "image/png": "[encoded data removed]",
      "text/plain": [
       "<Figure size 640x480 with 1 Axes>"
      ]
     },
     "metadata": {},
     "output_type": "display_data"
    },
    {
     "name": "stdout",
     "output_type": "stream",
     "text": [
      "tmz_tumor_brain_6_day_5_1000_uM_rep_2\n"
     ]
    },
    {
     "data": {
      "image/png": "[encoded data removed]",
      "text/plain": [
       "<Figure size 640x480 with 1 Axes>"
      ]
     },
     "metadata": {},
     "output_type": "display_data"
    },
    {
     "name": "stdout",
     "output_type": "stream",
     "text": [
      "tmz_tumor_brain_6_day_5_1000_uM_rep_2\n"
     ]
    },
    {
     "data": {
      "image/png": "[encoded data removed]",
      "text/plain": [
       "<Figure size 640x480 with 1 Axes>"
      ]
     },
     "metadata": {},
     "output_type": "display_data"
    },
    {
     "name": "stdout",
     "output_type": "stream",
     "text": [
      "tmz_tumor_brain_6_day_5_1000_uM_rep_2\n"
     ]
    },
    {
     "data": {
      "image/png": "[encoded data removed]",
      "text/plain": [
       "<Figure size 640x480 with 1 Axes>"
      ]
     },
     "metadata": {},
     "output_type": "display_data"
    },
    {
     "name": "stdout",
     "output_type": "stream",
     "text": [
      "tmz_tumor_brain_6_day_5_1000_uM_rep_2\n"
     ]
    },
    {
     "data": {
      "image/png": "[encoded data removed]",
      "text/plain": [
       "<Figure size 640x480 with 1 Axes>"
      ]
     },
     "metadata": {},
     "output_type": "display_data"
    },
    {
     "name": "stdout",
     "output_type": "stream",
     "text": [
      "tmz_tumor_brain_6_day_5_1000_uM_rep_2\n"
     ]
    },
    {
     "data": {
      "image/png": "[encoded data removed]",
      "text/plain": [
       "<Figure size 640x480 with 1 Axes>"
      ]
     },
     "metadata": {},
     "output_type": "display_data"
    },
    {
     "name": "stdout",
     "output_type": "stream",
     "text": [
      "tmz_tumor_brain_6_day_5_1000_uM_rep_2\n"
     ]
    },
    {
     "data": {
      "image/png": "[encoded data removed]",
      "text/plain": [
       "<Figure size 640x480 with 1 Axes>"
      ]
     },
     "metadata": {},
     "output_type": "display_data"
    },
    {
     "name": "stdout",
     "output_type": "stream",
     "text": [
      "tmz_tumor_brain_6_day_5_1000_uM_rep_2\n"
     ]
    },
    {
     "data": {
      "image/png": "[encoded data removed]",
      "text/plain": [
       "<Figure size 640x480 with 1 Axes>"
      ]
     },
     "metadata": {},
     "output_type": "display_data"
    },
    {
     "name": "stdout",
     "output_type": "stream",
     "text": [
      "tmz_tumor_brain_6_day_5_1000_uM_rep_2\n"
     ]
    },
    {
     "data": {
      "image/png": "[encoded data removed]",
      "text/plain": [
       "<Figure size 640x480 with 1 Axes>"
      ]
     },
     "metadata": {},
     "output_type": "display_data"
    },
    {
     "name": "stdout",
     "output_type": "stream",
     "text": [
      "tmz_tumor_brain_6_day_5_1000_uM_rep_2\n"
     ]
    },
    {
     "data": {
      "image/png": "[encoded data removed]",
      "text/plain": [
       "<Figure size 640x480 with 1 Axes>"
      ]
     },
     "metadata": {},
     "output_type": "display_data"
    },
    {
     "name": "stdout",
     "output_type": "stream",
     "text": [
      "tmz_tumor_brain_6_day_5_1000_uM_rep_2\n"
     ]
    },
    {
     "data": {
      "image/png": "[encoded data removed]",
      "text/plain": [
       "<Figure size 640x480 with 1 Axes>"
      ]
     },
     "metadata": {},
     "output_type": "display_data"
    },
    {
     "name": "stdout",
     "output_type": "stream",
     "text": [
      "tmz_tumor_brain_6_day_5_1000_uM_rep_2\n"
     ]
    },
    {
     "data": {
      "image/png": "[encoded data removed]",
      "text/plain": [
       "<Figure size 640x480 with 1 Axes>"
      ]
     },
     "metadata": {},
     "output_type": "display_data"
    },
    {
     "name": "stdout",
     "output_type": "stream",
     "text": [
      "tmz_tumor_brain_6_day_5_1000_uM_rep_2\n"
     ]
    },
    {
     "data": {
      "image/png": "[encoded data removed]",
      "text/plain": [
       "<Figure size 640x480 with 1 Axes>"
      ]
     },
     "metadata": {},
     "output_type": "display_data"
    },
    {
     "name": "stdout",
     "output_type": "stream",
     "text": [
      "tmz_tumor_brain_6_day_5_1000_uM_rep_2\n"
     ]
    },
    {
     "data": {
      "image/png": "[encoded data removed]",
      "text/plain": [
       "<Figure size 640x480 with 1 Axes>"
      ]
     },
     "metadata": {},
     "output_type": "display_data"
    },
    {
     "name": "stdout",
     "output_type": "stream",
     "text": [
      "tmz_tumor_brain_6_day_5_1000_uM_rep_2\n"
     ]
    },
    {
     "data": {
      "image/png": "[encoded data removed]",
      "text/plain": [
       "<Figure size 640x480 with 1 Axes>"
      ]
     },
     "metadata": {},
     "output_type": "display_data"
    }
   ],
   "source": [
    "load_models = False\n",
    "\n",
    "save_path = Path(\"./longitudinal/hca_gaussian_new_significant/\")\n",
    "save_path.mkdir(parents=True, exist_ok=True)\n",
    "\n",
    "n_clusters = 3\n",
    "\n",
    "cluster_labels_list = []\n",
    "\n",
    "for img, mzs, seg in zip(img_list, mzs_list, seg_list):\n",
    "  img_significant = img[:,:, significant_lipids_in_all_0]\n",
    "  if load_models:\n",
    "    hca = joblib.load(save_path / f\"{sample}.pkl\")\n",
    "  else:\n",
    "    hca = perform_hierarchical_clustering(img_significant[seg], n_clusters)\n",
    "    joblib.dump(hca, save_path / f\"{sample}.pkl\")\n",
    "\n",
    "  cluster_labels = np.zeros(img.shape[:-1])\n",
    "  cluster_labels[seg] = hca.labels_ + 1\n",
    "  cluster_labels_list.append(cluster_labels)\n",
    "\n",
    "  print(sample)\n",
    "  plot_clusters(cluster_labels, n_clusters)"
   ]
  }
 ],
 "metadata": {
  "kernelspec": {
   "display_name": "tfgpu_jup",
   "language": "python",
   "name": "python3"
  },
  "language_info": {
   "codemirror_mode": {
    "name": "ipython",
    "version": 3
   },
   "file_extension": ".py",
   "mimetype": "text/x-python",
   "name": "python",
   "nbconvert_exporter": "python",
   "pygments_lexer": "ipython3",
   "version": "3.9.undefined"
  }
 },
 "nbformat": 4,
 "nbformat_minor": 2
}
